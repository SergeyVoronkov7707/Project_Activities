{
 "cells": [
  {
   "cell_type": "code",
   "execution_count": 1,
   "id": "c28cfb90",
   "metadata": {
    "execution": {
     "iopub.execute_input": "2023-10-10T15:10:41.428458Z",
     "iopub.status.busy": "2023-10-10T15:10:41.427982Z",
     "iopub.status.idle": "2023-10-10T15:10:47.738139Z",
     "shell.execute_reply": "2023-10-10T15:10:47.736763Z"
    },
    "papermill": {
     "duration": 6.320858,
     "end_time": "2023-10-10T15:10:47.740935",
     "exception": false,
     "start_time": "2023-10-10T15:10:41.420077",
     "status": "completed"
    },
    "tags": []
   },
   "outputs": [],
   "source": [
    "import pandas as pd; pd.set_option('display.max_columns', 100)\n",
    "import numpy as np\n",
    "\n",
    "from tqdm.notebook import tqdm\n",
    "\n",
    "import re\n",
    "import os\n",
    "\n",
    "from functools import partial\n",
    "from scipy.stats import mode\n",
    "\n",
    "import matplotlib.pyplot as plt; plt.style.use('ggplot')\n",
    "import seaborn as sns\n",
    "import plotly.express as px\n",
    "\n",
    "from sklearn.tree import DecisionTreeClassifier, plot_tree\n",
    "from sklearn.preprocessing import MinMaxScaler, StandardScaler, LabelEncoder, FunctionTransformer\n",
    "from sklearn.pipeline import make_pipeline, Pipeline\n",
    "from sklearn.decomposition import PCA\n",
    "from sklearn.cluster import KMeans\n",
    "from sklearn.compose import ColumnTransformer\n",
    "from sklearn.impute import KNNImputer\n",
    "from sklearn.multiclass import OneVsRestClassifier\n",
    "from sklearn.model_selection import KFold\n",
    "from sklearn.metrics import mean_absolute_error, mean_squared_error\n",
    "from sklearn.discriminant_analysis import LinearDiscriminantAnalysis, QuadraticDiscriminantAnalysis\n",
    "from sklearn.neighbors import KNeighborsClassifier\n",
    "from sklearn.feature_selection import RFE, RFECV\n",
    "from sklearn.isotonic import IsotonicRegression\n",
    "from sklearn.calibration import CalibrationDisplay\n",
    "from sklearn.inspection import PartialDependenceDisplay, permutation_importance\n",
    "from sklearn.linear_model import LogisticRegression\n",
    "from collections import Counter\n",
    "from sklearn.ensemble import RandomForestRegressor, HistGradientBoostingRegressor, GradientBoostingRegressor, ExtraTreesRegressor\n",
    "from sklearn.svm import SVC\n",
    "from lightgbm import LGBMRegressor\n",
    "from xgboost import XGBRegressor\n",
    "from catboost import CatBoostRegressor\n",
    "\n",
    "from sklearn.manifold import TSNE\n",
    "import optuna\n"
   ]
  },
  {
   "cell_type": "code",
   "execution_count": 18,
   "id": "e451685c",
   "metadata": {},
   "outputs": [],
   "source": [
    "data = pd.DataFrame(columns=['a', 'b', 'c'])\n",
    "a = {\n",
    "    \"a\":1,\n",
    "    \"b\":2,\n",
    "    \"c\":3\n",
    "}"
   ]
  },
  {
   "cell_type": "code",
   "execution_count": 21,
   "id": "95d6fe5d",
   "metadata": {},
   "outputs": [
    {
     "data": {
      "text/html": [
       "<div>\n",
       "<style scoped>\n",
       "    .dataframe tbody tr th:only-of-type {\n",
       "        vertical-align: middle;\n",
       "    }\n",
       "\n",
       "    .dataframe tbody tr th {\n",
       "        vertical-align: top;\n",
       "    }\n",
       "\n",
       "    .dataframe thead th {\n",
       "        text-align: right;\n",
       "    }\n",
       "</style>\n",
       "<table border=\"1\" class=\"dataframe\">\n",
       "  <thead>\n",
       "    <tr style=\"text-align: right;\">\n",
       "      <th></th>\n",
       "      <th>a</th>\n",
       "      <th>b</th>\n",
       "      <th>c</th>\n",
       "    </tr>\n",
       "  </thead>\n",
       "  <tbody>\n",
       "    <tr>\n",
       "      <th>0</th>\n",
       "      <td>1</td>\n",
       "      <td>2</td>\n",
       "      <td>3</td>\n",
       "    </tr>\n",
       "    <tr>\n",
       "      <th>1</th>\n",
       "      <td>1</td>\n",
       "      <td>2</td>\n",
       "      <td>3</td>\n",
       "    </tr>\n",
       "    <tr>\n",
       "      <th>2</th>\n",
       "      <td>1</td>\n",
       "      <td>2</td>\n",
       "      <td>3</td>\n",
       "    </tr>\n",
       "  </tbody>\n",
       "</table>\n",
       "</div>"
      ],
      "text/plain": [
       "   a  b  c\n",
       "0  1  2  3\n",
       "1  1  2  3\n",
       "2  1  2  3"
      ]
     },
     "execution_count": 21,
     "metadata": {},
     "output_type": "execute_result"
    }
   ],
   "source": [
    "data = data.append(a, ignore_index=True)\n",
    "data"
   ]
  },
  {
   "cell_type": "code",
   "execution_count": 13,
   "id": "b366ef6d",
   "metadata": {},
   "outputs": [
    {
     "ename": "ValueError",
     "evalue": "Cannot index with multidimensional key",
     "output_type": "error",
     "traceback": [
      "\u001b[1;31m---------------------------------------------------------------------------\u001b[0m",
      "\u001b[1;31mValueError\u001b[0m                                Traceback (most recent call last)",
      "\u001b[1;32mC:\\Temp/ipykernel_4200/3003416941.py\u001b[0m in \u001b[0;36m<module>\u001b[1;34m\u001b[0m\n\u001b[1;32m----> 1\u001b[1;33m \u001b[0mdata\u001b[0m\u001b[1;33m.\u001b[0m\u001b[0mloc\u001b[0m\u001b[1;33m[\u001b[0m\u001b[0mdata\u001b[0m\u001b[1;33m]\u001b[0m\u001b[1;33m.\u001b[0m\u001b[0mc1\u001b[0m \u001b[1;33m=\u001b[0m \u001b[1;36m4\u001b[0m\u001b[1;33m\u001b[0m\u001b[1;33m\u001b[0m\u001b[0m\n\u001b[0m\u001b[0;32m      2\u001b[0m \u001b[0mdata\u001b[0m\u001b[1;33m.\u001b[0m\u001b[0mloc\u001b[0m\u001b[1;33m[\u001b[0m\u001b[0mdata\u001b[0m\u001b[1;33m]\u001b[0m\u001b[1;33m.\u001b[0m\u001b[0mc2\u001b[0m \u001b[1;33m=\u001b[0m \u001b[1;36m5\u001b[0m\u001b[1;33m\u001b[0m\u001b[1;33m\u001b[0m\u001b[0m\n\u001b[0;32m      3\u001b[0m \u001b[0mdata\u001b[0m\u001b[1;33m.\u001b[0m\u001b[0mloc\u001b[0m\u001b[1;33m[\u001b[0m\u001b[0mdata\u001b[0m\u001b[1;33m]\u001b[0m\u001b[1;33m.\u001b[0m\u001b[0mc3\u001b[0m \u001b[1;33m=\u001b[0m \u001b[1;36m6\u001b[0m\u001b[1;33m\u001b[0m\u001b[1;33m\u001b[0m\u001b[0m\n",
      "\u001b[1;32mc:\\program files\\python37\\lib\\site-packages\\pandas\\core\\indexing.py\u001b[0m in \u001b[0;36m__getitem__\u001b[1;34m(self, key)\u001b[0m\n\u001b[0;32m    929\u001b[0m \u001b[1;33m\u001b[0m\u001b[0m\n\u001b[0;32m    930\u001b[0m             \u001b[0mmaybe_callable\u001b[0m \u001b[1;33m=\u001b[0m \u001b[0mcom\u001b[0m\u001b[1;33m.\u001b[0m\u001b[0mapply_if_callable\u001b[0m\u001b[1;33m(\u001b[0m\u001b[0mkey\u001b[0m\u001b[1;33m,\u001b[0m \u001b[0mself\u001b[0m\u001b[1;33m.\u001b[0m\u001b[0mobj\u001b[0m\u001b[1;33m)\u001b[0m\u001b[1;33m\u001b[0m\u001b[1;33m\u001b[0m\u001b[0m\n\u001b[1;32m--> 931\u001b[1;33m             \u001b[1;32mreturn\u001b[0m \u001b[0mself\u001b[0m\u001b[1;33m.\u001b[0m\u001b[0m_getitem_axis\u001b[0m\u001b[1;33m(\u001b[0m\u001b[0mmaybe_callable\u001b[0m\u001b[1;33m,\u001b[0m \u001b[0maxis\u001b[0m\u001b[1;33m=\u001b[0m\u001b[0maxis\u001b[0m\u001b[1;33m)\u001b[0m\u001b[1;33m\u001b[0m\u001b[1;33m\u001b[0m\u001b[0m\n\u001b[0m\u001b[0;32m    932\u001b[0m \u001b[1;33m\u001b[0m\u001b[0m\n\u001b[0;32m    933\u001b[0m     \u001b[1;32mdef\u001b[0m \u001b[0m_is_scalar_access\u001b[0m\u001b[1;33m(\u001b[0m\u001b[0mself\u001b[0m\u001b[1;33m,\u001b[0m \u001b[0mkey\u001b[0m\u001b[1;33m:\u001b[0m \u001b[0mtuple\u001b[0m\u001b[1;33m)\u001b[0m\u001b[1;33m:\u001b[0m\u001b[1;33m\u001b[0m\u001b[1;33m\u001b[0m\u001b[0m\n",
      "\u001b[1;32mc:\\program files\\python37\\lib\\site-packages\\pandas\\core\\indexing.py\u001b[0m in \u001b[0;36m_getitem_axis\u001b[1;34m(self, key, axis)\u001b[0m\n\u001b[0;32m   1149\u001b[0m \u001b[1;33m\u001b[0m\u001b[0m\n\u001b[0;32m   1150\u001b[0m                 \u001b[1;32mif\u001b[0m \u001b[0mhasattr\u001b[0m\u001b[1;33m(\u001b[0m\u001b[0mkey\u001b[0m\u001b[1;33m,\u001b[0m \u001b[1;34m\"ndim\"\u001b[0m\u001b[1;33m)\u001b[0m \u001b[1;32mand\u001b[0m \u001b[0mkey\u001b[0m\u001b[1;33m.\u001b[0m\u001b[0mndim\u001b[0m \u001b[1;33m>\u001b[0m \u001b[1;36m1\u001b[0m\u001b[1;33m:\u001b[0m\u001b[1;33m\u001b[0m\u001b[1;33m\u001b[0m\u001b[0m\n\u001b[1;32m-> 1151\u001b[1;33m                     \u001b[1;32mraise\u001b[0m \u001b[0mValueError\u001b[0m\u001b[1;33m(\u001b[0m\u001b[1;34m\"Cannot index with multidimensional key\"\u001b[0m\u001b[1;33m)\u001b[0m\u001b[1;33m\u001b[0m\u001b[1;33m\u001b[0m\u001b[0m\n\u001b[0m\u001b[0;32m   1152\u001b[0m \u001b[1;33m\u001b[0m\u001b[0m\n\u001b[0;32m   1153\u001b[0m                 \u001b[1;32mreturn\u001b[0m \u001b[0mself\u001b[0m\u001b[1;33m.\u001b[0m\u001b[0m_getitem_iterable\u001b[0m\u001b[1;33m(\u001b[0m\u001b[0mkey\u001b[0m\u001b[1;33m,\u001b[0m \u001b[0maxis\u001b[0m\u001b[1;33m=\u001b[0m\u001b[0maxis\u001b[0m\u001b[1;33m)\u001b[0m\u001b[1;33m\u001b[0m\u001b[1;33m\u001b[0m\u001b[0m\n",
      "\u001b[1;31mValueError\u001b[0m: Cannot index with multidimensional key"
     ]
    }
   ],
   "source": [
    "data.loc[data].c1 = 4\n",
    "data.loc[data].c2 = 5\n",
    "data.loc[data].c3 = 6"
   ]
  },
  {
   "cell_type": "markdown",
   "id": "c668d15b",
   "metadata": {
    "papermill": {
     "duration": 0.006448,
     "end_time": "2023-10-10T15:10:47.754424",
     "exception": false,
     "start_time": "2023-10-10T15:10:47.747976",
     "status": "completed"
    },
    "tags": []
   },
   "source": [
    "<a id=\"3\"></a>\n",
    "# <h1 style=\"background-color:lightgray;font-family:newtimeroman;font-size:350%;text-align:center;border-radius: 15px 50px;\">Reading Data Files</h1> "
   ]
  },
  {
   "cell_type": "code",
   "execution_count": 2,
   "id": "901adfb5",
   "metadata": {
    "execution": {
     "iopub.execute_input": "2023-10-10T15:10:47.769401Z",
     "iopub.status.busy": "2023-10-10T15:10:47.769063Z",
     "iopub.status.idle": "2023-10-10T15:10:48.479011Z",
     "shell.execute_reply": "2023-10-10T15:10:48.477850Z"
    },
    "papermill": {
     "duration": 0.721011,
     "end_time": "2023-10-10T15:10:48.482174",
     "exception": false,
     "start_time": "2023-10-10T15:10:47.761163",
     "status": "completed"
    },
    "tags": []
   },
   "outputs": [
    {
     "name": "stdout",
     "output_type": "stream",
     "text": [
      "The dimension of the train dataset is: (5237980, 17)\n",
      "The dimension of the test dataset is: (33000, 16)\n"
     ]
    }
   ],
   "source": [
    "train = pd.read_csv('data/train.csv')\n",
    "test = pd.read_csv('data/test.csv')\n",
    "sub = pd.read_csv('data/sample_submission.csv')\n",
    "\n",
    "print('The dimension of the train dataset is:', train.shape)\n",
    "print('The dimension of the test dataset is:', test.shape)"
   ]
  },
  {
   "cell_type": "code",
   "execution_count": null,
   "id": "c5df4428",
   "metadata": {},
   "outputs": [],
   "source": []
  },
  {
   "cell_type": "code",
   "execution_count": 3,
   "id": "6e88617c",
   "metadata": {
    "execution": {
     "iopub.execute_input": "2023-10-10T15:10:48.500511Z",
     "iopub.status.busy": "2023-10-10T15:10:48.499826Z",
     "iopub.status.idle": "2023-10-10T15:10:48.663954Z",
     "shell.execute_reply": "2023-10-10T15:10:48.663024Z"
    },
    "papermill": {
     "duration": 0.176491,
     "end_time": "2023-10-10T15:10:48.666464",
     "exception": false,
     "start_time": "2023-10-10T15:10:48.489973",
     "status": "completed"
    },
    "tags": []
   },
   "outputs": [
    {
     "data": {
      "text/html": [
       "<div>\n",
       "<style scoped>\n",
       "    .dataframe tbody tr th:only-of-type {\n",
       "        vertical-align: middle;\n",
       "    }\n",
       "\n",
       "    .dataframe tbody tr th {\n",
       "        vertical-align: top;\n",
       "    }\n",
       "\n",
       "    .dataframe thead th {\n",
       "        text-align: right;\n",
       "    }\n",
       "</style>\n",
       "<table border=\"1\" class=\"dataframe\">\n",
       "  <thead>\n",
       "    <tr style=\"text-align: right;\">\n",
       "      <th></th>\n",
       "      <th>stock_id</th>\n",
       "      <th>date_id</th>\n",
       "      <th>seconds_in_bucket</th>\n",
       "      <th>imbalance_size</th>\n",
       "      <th>imbalance_buy_sell_flag</th>\n",
       "      <th>reference_price</th>\n",
       "      <th>matched_size</th>\n",
       "      <th>far_price</th>\n",
       "      <th>near_price</th>\n",
       "      <th>bid_price</th>\n",
       "      <th>bid_size</th>\n",
       "      <th>ask_price</th>\n",
       "      <th>ask_size</th>\n",
       "      <th>wap</th>\n",
       "      <th>target</th>\n",
       "      <th>time_id</th>\n",
       "    </tr>\n",
       "  </thead>\n",
       "  <tbody>\n",
       "    <tr>\n",
       "      <th>count</th>\n",
       "      <td>5.237980e+06</td>\n",
       "      <td>5.237980e+06</td>\n",
       "      <td>5.237980e+06</td>\n",
       "      <td>5.237760e+06</td>\n",
       "      <td>5.237980e+06</td>\n",
       "      <td>5.237760e+06</td>\n",
       "      <td>5.237760e+06</td>\n",
       "      <td>2.343638e+06</td>\n",
       "      <td>2.380800e+06</td>\n",
       "      <td>5.237760e+06</td>\n",
       "      <td>5.237980e+06</td>\n",
       "      <td>5.237760e+06</td>\n",
       "      <td>5.237980e+06</td>\n",
       "      <td>5.237760e+06</td>\n",
       "      <td>5.237892e+06</td>\n",
       "      <td>5.237980e+06</td>\n",
       "    </tr>\n",
       "    <tr>\n",
       "      <th>mean</th>\n",
       "      <td>9.928856e+01</td>\n",
       "      <td>2.415100e+02</td>\n",
       "      <td>2.700000e+02</td>\n",
       "      <td>5.715293e+06</td>\n",
       "      <td>-1.189619e-02</td>\n",
       "      <td>9.999955e-01</td>\n",
       "      <td>4.510025e+07</td>\n",
       "      <td>1.001713e+00</td>\n",
       "      <td>9.996601e-01</td>\n",
       "      <td>9.997263e-01</td>\n",
       "      <td>5.181359e+04</td>\n",
       "      <td>1.000264e+00</td>\n",
       "      <td>5.357568e+04</td>\n",
       "      <td>9.999920e-01</td>\n",
       "      <td>-4.756125e-02</td>\n",
       "      <td>1.331005e+04</td>\n",
       "    </tr>\n",
       "    <tr>\n",
       "      <th>std</th>\n",
       "      <td>5.787176e+01</td>\n",
       "      <td>1.385319e+02</td>\n",
       "      <td>1.587451e+02</td>\n",
       "      <td>2.051591e+07</td>\n",
       "      <td>8.853374e-01</td>\n",
       "      <td>2.532497e-03</td>\n",
       "      <td>1.398413e+08</td>\n",
       "      <td>7.214705e-01</td>\n",
       "      <td>1.216920e-02</td>\n",
       "      <td>2.499345e-03</td>\n",
       "      <td>1.114214e+05</td>\n",
       "      <td>2.510042e-03</td>\n",
       "      <td>1.293554e+05</td>\n",
       "      <td>2.497509e-03</td>\n",
       "      <td>9.452860e+00</td>\n",
       "      <td>7.619271e+03</td>\n",
       "    </tr>\n",
       "    <tr>\n",
       "      <th>min</th>\n",
       "      <td>0.000000e+00</td>\n",
       "      <td>0.000000e+00</td>\n",
       "      <td>0.000000e+00</td>\n",
       "      <td>0.000000e+00</td>\n",
       "      <td>-1.000000e+00</td>\n",
       "      <td>9.352850e-01</td>\n",
       "      <td>4.316610e+03</td>\n",
       "      <td>7.700000e-05</td>\n",
       "      <td>7.869880e-01</td>\n",
       "      <td>9.349150e-01</td>\n",
       "      <td>0.000000e+00</td>\n",
       "      <td>9.398270e-01</td>\n",
       "      <td>0.000000e+00</td>\n",
       "      <td>9.380080e-01</td>\n",
       "      <td>-3.852898e+02</td>\n",
       "      <td>0.000000e+00</td>\n",
       "    </tr>\n",
       "    <tr>\n",
       "      <th>25%</th>\n",
       "      <td>4.900000e+01</td>\n",
       "      <td>1.220000e+02</td>\n",
       "      <td>1.300000e+02</td>\n",
       "      <td>8.453415e+04</td>\n",
       "      <td>-1.000000e+00</td>\n",
       "      <td>9.987630e-01</td>\n",
       "      <td>5.279575e+06</td>\n",
       "      <td>9.963320e-01</td>\n",
       "      <td>9.971000e-01</td>\n",
       "      <td>9.985290e-01</td>\n",
       "      <td>7.374720e+03</td>\n",
       "      <td>9.990290e-01</td>\n",
       "      <td>7.823700e+03</td>\n",
       "      <td>9.987810e-01</td>\n",
       "      <td>-4.559755e+00</td>\n",
       "      <td>6.729000e+03</td>\n",
       "    </tr>\n",
       "    <tr>\n",
       "      <th>50%</th>\n",
       "      <td>9.900000e+01</td>\n",
       "      <td>2.420000e+02</td>\n",
       "      <td>2.700000e+02</td>\n",
       "      <td>1.113604e+06</td>\n",
       "      <td>0.000000e+00</td>\n",
       "      <td>9.999670e-01</td>\n",
       "      <td>1.288264e+07</td>\n",
       "      <td>9.998830e-01</td>\n",
       "      <td>9.998890e-01</td>\n",
       "      <td>9.997280e-01</td>\n",
       "      <td>2.196900e+04</td>\n",
       "      <td>1.000207e+00</td>\n",
       "      <td>2.301792e+04</td>\n",
       "      <td>9.999970e-01</td>\n",
       "      <td>-6.020069e-02</td>\n",
       "      <td>1.334500e+04</td>\n",
       "    </tr>\n",
       "    <tr>\n",
       "      <th>75%</th>\n",
       "      <td>1.490000e+02</td>\n",
       "      <td>3.610000e+02</td>\n",
       "      <td>4.100000e+02</td>\n",
       "      <td>4.190951e+06</td>\n",
       "      <td>1.000000e+00</td>\n",
       "      <td>1.001174e+00</td>\n",
       "      <td>3.270013e+07</td>\n",
       "      <td>1.003318e+00</td>\n",
       "      <td>1.002590e+00</td>\n",
       "      <td>1.000905e+00</td>\n",
       "      <td>5.583168e+04</td>\n",
       "      <td>1.001414e+00</td>\n",
       "      <td>5.787841e+04</td>\n",
       "      <td>1.001149e+00</td>\n",
       "      <td>4.409552e+00</td>\n",
       "      <td>1.990700e+04</td>\n",
       "    </tr>\n",
       "    <tr>\n",
       "      <th>max</th>\n",
       "      <td>1.990000e+02</td>\n",
       "      <td>4.800000e+02</td>\n",
       "      <td>5.400000e+02</td>\n",
       "      <td>2.982028e+09</td>\n",
       "      <td>1.000000e+00</td>\n",
       "      <td>1.077488e+00</td>\n",
       "      <td>7.713682e+09</td>\n",
       "      <td>4.379531e+02</td>\n",
       "      <td>1.309732e+00</td>\n",
       "      <td>1.077488e+00</td>\n",
       "      <td>3.028784e+07</td>\n",
       "      <td>1.077836e+00</td>\n",
       "      <td>5.440500e+07</td>\n",
       "      <td>1.077675e+00</td>\n",
       "      <td>4.460704e+02</td>\n",
       "      <td>2.645400e+04</td>\n",
       "    </tr>\n",
       "  </tbody>\n",
       "</table>\n",
       "</div>"
      ],
      "text/plain": [
       "           stock_id       date_id  seconds_in_bucket  imbalance_size  \\\n",
       "count  5.237980e+06  5.237980e+06       5.237980e+06    5.237760e+06   \n",
       "mean   9.928856e+01  2.415100e+02       2.700000e+02    5.715293e+06   \n",
       "std    5.787176e+01  1.385319e+02       1.587451e+02    2.051591e+07   \n",
       "min    0.000000e+00  0.000000e+00       0.000000e+00    0.000000e+00   \n",
       "25%    4.900000e+01  1.220000e+02       1.300000e+02    8.453415e+04   \n",
       "50%    9.900000e+01  2.420000e+02       2.700000e+02    1.113604e+06   \n",
       "75%    1.490000e+02  3.610000e+02       4.100000e+02    4.190951e+06   \n",
       "max    1.990000e+02  4.800000e+02       5.400000e+02    2.982028e+09   \n",
       "\n",
       "       imbalance_buy_sell_flag  reference_price  matched_size     far_price  \\\n",
       "count             5.237980e+06     5.237760e+06  5.237760e+06  2.343638e+06   \n",
       "mean             -1.189619e-02     9.999955e-01  4.510025e+07  1.001713e+00   \n",
       "std               8.853374e-01     2.532497e-03  1.398413e+08  7.214705e-01   \n",
       "min              -1.000000e+00     9.352850e-01  4.316610e+03  7.700000e-05   \n",
       "25%              -1.000000e+00     9.987630e-01  5.279575e+06  9.963320e-01   \n",
       "50%               0.000000e+00     9.999670e-01  1.288264e+07  9.998830e-01   \n",
       "75%               1.000000e+00     1.001174e+00  3.270013e+07  1.003318e+00   \n",
       "max               1.000000e+00     1.077488e+00  7.713682e+09  4.379531e+02   \n",
       "\n",
       "         near_price     bid_price      bid_size     ask_price      ask_size  \\\n",
       "count  2.380800e+06  5.237760e+06  5.237980e+06  5.237760e+06  5.237980e+06   \n",
       "mean   9.996601e-01  9.997263e-01  5.181359e+04  1.000264e+00  5.357568e+04   \n",
       "std    1.216920e-02  2.499345e-03  1.114214e+05  2.510042e-03  1.293554e+05   \n",
       "min    7.869880e-01  9.349150e-01  0.000000e+00  9.398270e-01  0.000000e+00   \n",
       "25%    9.971000e-01  9.985290e-01  7.374720e+03  9.990290e-01  7.823700e+03   \n",
       "50%    9.998890e-01  9.997280e-01  2.196900e+04  1.000207e+00  2.301792e+04   \n",
       "75%    1.002590e+00  1.000905e+00  5.583168e+04  1.001414e+00  5.787841e+04   \n",
       "max    1.309732e+00  1.077488e+00  3.028784e+07  1.077836e+00  5.440500e+07   \n",
       "\n",
       "                wap        target       time_id  \n",
       "count  5.237760e+06  5.237892e+06  5.237980e+06  \n",
       "mean   9.999920e-01 -4.756125e-02  1.331005e+04  \n",
       "std    2.497509e-03  9.452860e+00  7.619271e+03  \n",
       "min    9.380080e-01 -3.852898e+02  0.000000e+00  \n",
       "25%    9.987810e-01 -4.559755e+00  6.729000e+03  \n",
       "50%    9.999970e-01 -6.020069e-02  1.334500e+04  \n",
       "75%    1.001149e+00  4.409552e+00  1.990700e+04  \n",
       "max    1.077675e+00  4.460704e+02  2.645400e+04  "
      ]
     },
     "execution_count": 3,
     "metadata": {},
     "output_type": "execute_result"
    }
   ],
   "source": [
    "train.describe()"
   ]
  },
  {
   "cell_type": "code",
   "execution_count": 4,
   "id": "f54906ef",
   "metadata": {
    "execution": {
     "iopub.execute_input": "2023-10-10T15:10:48.686276Z",
     "iopub.status.busy": "2023-10-10T15:10:48.684960Z",
     "iopub.status.idle": "2023-10-10T15:10:48.718159Z",
     "shell.execute_reply": "2023-10-10T15:10:48.716185Z"
    },
    "papermill": {
     "duration": 0.045286,
     "end_time": "2023-10-10T15:10:48.720931",
     "exception": false,
     "start_time": "2023-10-10T15:10:48.675645",
     "status": "completed"
    },
    "tags": []
   },
   "outputs": [
    {
     "name": "stdout",
     "output_type": "stream",
     "text": [
      "<class 'pandas.core.frame.DataFrame'>\n",
      "RangeIndex: 5237980 entries, 0 to 5237979\n",
      "Data columns (total 17 columns):\n",
      " #   Column                   Dtype  \n",
      "---  ------                   -----  \n",
      " 0   stock_id                 int64  \n",
      " 1   date_id                  int64  \n",
      " 2   seconds_in_bucket        int64  \n",
      " 3   imbalance_size           float64\n",
      " 4   imbalance_buy_sell_flag  int64  \n",
      " 5   reference_price          float64\n",
      " 6   matched_size             float64\n",
      " 7   far_price                float64\n",
      " 8   near_price               float64\n",
      " 9   bid_price                float64\n",
      " 10  bid_size                 float64\n",
      " 11  ask_price                float64\n",
      " 12  ask_size                 float64\n",
      " 13  wap                      float64\n",
      " 14  target                   float64\n",
      " 15  time_id                  int64  \n",
      " 16  row_id                   object \n",
      "dtypes: float64(11), int64(5), object(1)\n",
      "memory usage: 679.4+ MB\n"
     ]
    }
   ],
   "source": [
    "train.info()"
   ]
  },
  {
   "cell_type": "code",
   "execution_count": 5,
   "id": "bccfd3cc",
   "metadata": {
    "execution": {
     "iopub.execute_input": "2023-10-10T15:10:48.738058Z",
     "iopub.status.busy": "2023-10-10T15:10:48.737639Z",
     "iopub.status.idle": "2023-10-10T15:10:48.877374Z",
     "shell.execute_reply": "2023-10-10T15:10:48.876039Z"
    },
    "papermill": {
     "duration": 0.151227,
     "end_time": "2023-10-10T15:10:48.879810",
     "exception": false,
     "start_time": "2023-10-10T15:10:48.728583",
     "status": "completed"
    },
    "tags": []
   },
   "outputs": [
    {
     "data": {
      "text/html": [
       "<div>\n",
       "<style scoped>\n",
       "    .dataframe tbody tr th:only-of-type {\n",
       "        vertical-align: middle;\n",
       "    }\n",
       "\n",
       "    .dataframe tbody tr th {\n",
       "        vertical-align: top;\n",
       "    }\n",
       "\n",
       "    .dataframe thead th {\n",
       "        text-align: right;\n",
       "    }\n",
       "</style>\n",
       "<table border=\"1\" class=\"dataframe\">\n",
       "  <thead>\n",
       "    <tr style=\"text-align: right;\">\n",
       "      <th></th>\n",
       "      <th>stock_id</th>\n",
       "      <th>date_id</th>\n",
       "      <th>seconds_in_bucket</th>\n",
       "      <th>imbalance_size</th>\n",
       "      <th>imbalance_buy_sell_flag</th>\n",
       "      <th>reference_price</th>\n",
       "      <th>matched_size</th>\n",
       "      <th>far_price</th>\n",
       "      <th>near_price</th>\n",
       "      <th>bid_price</th>\n",
       "      <th>bid_size</th>\n",
       "      <th>ask_price</th>\n",
       "      <th>ask_size</th>\n",
       "      <th>wap</th>\n",
       "      <th>time_id</th>\n",
       "    </tr>\n",
       "  </thead>\n",
       "  <tbody>\n",
       "    <tr>\n",
       "      <th>count</th>\n",
       "      <td>33000.00000</td>\n",
       "      <td>33000.000000</td>\n",
       "      <td>33000.000000</td>\n",
       "      <td>3.300000e+04</td>\n",
       "      <td>33000.000000</td>\n",
       "      <td>33000.000000</td>\n",
       "      <td>3.300000e+04</td>\n",
       "      <td>14771.000000</td>\n",
       "      <td>15000.000000</td>\n",
       "      <td>33000.000000</td>\n",
       "      <td>3.300000e+04</td>\n",
       "      <td>33000.000000</td>\n",
       "      <td>3.300000e+04</td>\n",
       "      <td>33000.000000</td>\n",
       "      <td>33000.000000</td>\n",
       "    </tr>\n",
       "    <tr>\n",
       "      <th>mean</th>\n",
       "      <td>99.50000</td>\n",
       "      <td>479.000000</td>\n",
       "      <td>270.000000</td>\n",
       "      <td>6.636939e+06</td>\n",
       "      <td>-0.147848</td>\n",
       "      <td>1.000151</td>\n",
       "      <td>5.098897e+07</td>\n",
       "      <td>0.998230</td>\n",
       "      <td>0.998085</td>\n",
       "      <td>0.999915</td>\n",
       "      <td>6.329490e+04</td>\n",
       "      <td>1.000407</td>\n",
       "      <td>6.651253e+04</td>\n",
       "      <td>1.000154</td>\n",
       "      <td>26372.000000</td>\n",
       "    </tr>\n",
       "    <tr>\n",
       "      <th>std</th>\n",
       "      <td>57.73518</td>\n",
       "      <td>0.816509</td>\n",
       "      <td>158.747484</td>\n",
       "      <td>1.846827e+07</td>\n",
       "      <td>0.918109</td>\n",
       "      <td>0.001890</td>\n",
       "      <td>1.695105e+08</td>\n",
       "      <td>0.023915</td>\n",
       "      <td>0.014532</td>\n",
       "      <td>0.001931</td>\n",
       "      <td>1.042736e+05</td>\n",
       "      <td>0.001840</td>\n",
       "      <td>1.415073e+05</td>\n",
       "      <td>0.001838</td>\n",
       "      <td>47.631244</td>\n",
       "    </tr>\n",
       "    <tr>\n",
       "      <th>min</th>\n",
       "      <td>0.00000</td>\n",
       "      <td>478.000000</td>\n",
       "      <td>0.000000</td>\n",
       "      <td>0.000000e+00</td>\n",
       "      <td>-1.000000</td>\n",
       "      <td>0.973350</td>\n",
       "      <td>4.316610e+03</td>\n",
       "      <td>0.804124</td>\n",
       "      <td>0.892179</td>\n",
       "      <td>0.973023</td>\n",
       "      <td>2.587000e+01</td>\n",
       "      <td>0.973132</td>\n",
       "      <td>3.534000e+01</td>\n",
       "      <td>0.973025</td>\n",
       "      <td>26290.000000</td>\n",
       "    </tr>\n",
       "    <tr>\n",
       "      <th>25%</th>\n",
       "      <td>49.75000</td>\n",
       "      <td>478.000000</td>\n",
       "      <td>130.000000</td>\n",
       "      <td>3.333513e+05</td>\n",
       "      <td>-1.000000</td>\n",
       "      <td>0.999381</td>\n",
       "      <td>5.956303e+06</td>\n",
       "      <td>0.994066</td>\n",
       "      <td>0.996249</td>\n",
       "      <td>0.999206</td>\n",
       "      <td>9.993660e+03</td>\n",
       "      <td>0.999628</td>\n",
       "      <td>1.212294e+04</td>\n",
       "      <td>0.999399</td>\n",
       "      <td>26331.000000</td>\n",
       "    </tr>\n",
       "    <tr>\n",
       "      <th>50%</th>\n",
       "      <td>99.50000</td>\n",
       "      <td>479.000000</td>\n",
       "      <td>270.000000</td>\n",
       "      <td>1.652495e+06</td>\n",
       "      <td>-1.000000</td>\n",
       "      <td>1.000240</td>\n",
       "      <td>1.322711e+07</td>\n",
       "      <td>0.999833</td>\n",
       "      <td>0.999873</td>\n",
       "      <td>1.000034</td>\n",
       "      <td>2.876632e+04</td>\n",
       "      <td>1.000451</td>\n",
       "      <td>3.231484e+04</td>\n",
       "      <td>1.000229</td>\n",
       "      <td>26372.000000</td>\n",
       "    </tr>\n",
       "    <tr>\n",
       "      <th>75%</th>\n",
       "      <td>149.25000</td>\n",
       "      <td>480.000000</td>\n",
       "      <td>410.000000</td>\n",
       "      <td>5.296197e+06</td>\n",
       "      <td>1.000000</td>\n",
       "      <td>1.001080</td>\n",
       "      <td>3.477721e+07</td>\n",
       "      <td>1.003095</td>\n",
       "      <td>1.002058</td>\n",
       "      <td>1.000862</td>\n",
       "      <td>7.112338e+04</td>\n",
       "      <td>1.001297</td>\n",
       "      <td>7.512055e+04</td>\n",
       "      <td>1.001059</td>\n",
       "      <td>26413.000000</td>\n",
       "    </tr>\n",
       "    <tr>\n",
       "      <th>max</th>\n",
       "      <td>199.00000</td>\n",
       "      <td>480.000000</td>\n",
       "      <td>540.000000</td>\n",
       "      <td>4.781548e+08</td>\n",
       "      <td>1.000000</td>\n",
       "      <td>1.009317</td>\n",
       "      <td>2.834017e+09</td>\n",
       "      <td>1.364387</td>\n",
       "      <td>1.102140</td>\n",
       "      <td>1.008752</td>\n",
       "      <td>3.033798e+06</td>\n",
       "      <td>1.010889</td>\n",
       "      <td>1.309209e+07</td>\n",
       "      <td>1.009047</td>\n",
       "      <td>26454.000000</td>\n",
       "    </tr>\n",
       "  </tbody>\n",
       "</table>\n",
       "</div>"
      ],
      "text/plain": [
       "          stock_id       date_id  seconds_in_bucket  imbalance_size  \\\n",
       "count  33000.00000  33000.000000       33000.000000    3.300000e+04   \n",
       "mean      99.50000    479.000000         270.000000    6.636939e+06   \n",
       "std       57.73518      0.816509         158.747484    1.846827e+07   \n",
       "min        0.00000    478.000000           0.000000    0.000000e+00   \n",
       "25%       49.75000    478.000000         130.000000    3.333513e+05   \n",
       "50%       99.50000    479.000000         270.000000    1.652495e+06   \n",
       "75%      149.25000    480.000000         410.000000    5.296197e+06   \n",
       "max      199.00000    480.000000         540.000000    4.781548e+08   \n",
       "\n",
       "       imbalance_buy_sell_flag  reference_price  matched_size     far_price  \\\n",
       "count             33000.000000     33000.000000  3.300000e+04  14771.000000   \n",
       "mean                 -0.147848         1.000151  5.098897e+07      0.998230   \n",
       "std                   0.918109         0.001890  1.695105e+08      0.023915   \n",
       "min                  -1.000000         0.973350  4.316610e+03      0.804124   \n",
       "25%                  -1.000000         0.999381  5.956303e+06      0.994066   \n",
       "50%                  -1.000000         1.000240  1.322711e+07      0.999833   \n",
       "75%                   1.000000         1.001080  3.477721e+07      1.003095   \n",
       "max                   1.000000         1.009317  2.834017e+09      1.364387   \n",
       "\n",
       "         near_price     bid_price      bid_size     ask_price      ask_size  \\\n",
       "count  15000.000000  33000.000000  3.300000e+04  33000.000000  3.300000e+04   \n",
       "mean       0.998085      0.999915  6.329490e+04      1.000407  6.651253e+04   \n",
       "std        0.014532      0.001931  1.042736e+05      0.001840  1.415073e+05   \n",
       "min        0.892179      0.973023  2.587000e+01      0.973132  3.534000e+01   \n",
       "25%        0.996249      0.999206  9.993660e+03      0.999628  1.212294e+04   \n",
       "50%        0.999873      1.000034  2.876632e+04      1.000451  3.231484e+04   \n",
       "75%        1.002058      1.000862  7.112338e+04      1.001297  7.512055e+04   \n",
       "max        1.102140      1.008752  3.033798e+06      1.010889  1.309209e+07   \n",
       "\n",
       "                wap       time_id  \n",
       "count  33000.000000  33000.000000  \n",
       "mean       1.000154  26372.000000  \n",
       "std        0.001838     47.631244  \n",
       "min        0.973025  26290.000000  \n",
       "25%        0.999399  26331.000000  \n",
       "50%        1.000229  26372.000000  \n",
       "75%        1.001059  26413.000000  \n",
       "max        1.009047  26454.000000  "
      ]
     },
     "execution_count": 5,
     "metadata": {},
     "output_type": "execute_result"
    }
   ],
   "source": [
    "test.describe()"
   ]
  },
  {
   "cell_type": "markdown",
   "id": "af99a745",
   "metadata": {
    "papermill": {
     "duration": 0.00753,
     "end_time": "2023-10-10T15:10:48.895608",
     "exception": false,
     "start_time": "2023-10-10T15:10:48.888078",
     "status": "completed"
    },
    "tags": []
   },
   "source": [
    "* there are missing values, there are more than  of them in two columns 50%"
   ]
  },
  {
   "cell_type": "code",
   "execution_count": 6,
   "id": "38cf35f6",
   "metadata": {
    "execution": {
     "iopub.execute_input": "2023-10-10T15:10:49.305041Z",
     "iopub.status.busy": "2023-10-10T15:10:49.304722Z",
     "iopub.status.idle": "2023-10-10T15:10:49.569101Z",
     "shell.execute_reply": "2023-10-10T15:10:49.567953Z"
    },
    "papermill": {
     "duration": 0.27692,
     "end_time": "2023-10-10T15:10:49.572137",
     "exception": false,
     "start_time": "2023-10-10T15:10:49.295217",
     "status": "completed"
    },
    "tags": []
   },
   "outputs": [
    {
     "data": {
      "text/plain": [
       "(33000, 31)"
      ]
     },
     "execution_count": 6,
     "metadata": {},
     "output_type": "execute_result"
    }
   ],
   "source": [
    "# одинаковые строки\n",
    "to_check = pd.merge(train.drop(columns = ['target'], axis = 1), test, how='inner', on='row_id')\n",
    "to_check.shape"
   ]
  },
  {
   "cell_type": "code",
   "execution_count": 7,
   "id": "234f0df5",
   "metadata": {},
   "outputs": [],
   "source": [
    "train = train[~train['row_id'].isin(test['row_id'])]"
   ]
  },
  {
   "cell_type": "code",
   "execution_count": 8,
   "id": "90dce544",
   "metadata": {},
   "outputs": [
    {
     "data": {
      "text/plain": [
       "(0, 31)"
      ]
     },
     "execution_count": 8,
     "metadata": {},
     "output_type": "execute_result"
    }
   ],
   "source": [
    "to_check = pd.merge(train.drop(columns = ['target'], axis = 1), test, how='inner', on='row_id')\n",
    "to_check.shape"
   ]
  },
  {
   "cell_type": "code",
   "execution_count": 9,
   "id": "ad3d6134",
   "metadata": {},
   "outputs": [],
   "source": [
    "train = train.drop_duplicates()"
   ]
  },
  {
   "cell_type": "code",
   "execution_count": 10,
   "id": "61d68e6f",
   "metadata": {},
   "outputs": [
    {
     "data": {
      "text/plain": [
       "(5204980, 17)"
      ]
     },
     "execution_count": 10,
     "metadata": {},
     "output_type": "execute_result"
    }
   ],
   "source": [
    "train.shape"
   ]
  },
  {
   "cell_type": "code",
   "execution_count": 11,
   "id": "69f03d95",
   "metadata": {},
   "outputs": [],
   "source": [
    "train = train.drop([\"row_id\", \"stock_id\", \"date_id\"], axis=1)\n",
    "test = test.drop([\"row_id\", \"stock_id\", \"date_id\"], axis=1)"
   ]
  },
  {
   "cell_type": "markdown",
   "id": "79e946f7",
   "metadata": {},
   "source": [
    "# memory"
   ]
  },
  {
   "cell_type": "code",
   "execution_count": 12,
   "id": "0dbb5dc2",
   "metadata": {},
   "outputs": [],
   "source": [
    "def mem_usage(pandas_obj, flag=True, type_obj='int'):\n",
    "        if isinstance(pandas_obj, pd.DataFrame):\n",
    "            usage_b = pandas_obj.memory_usage(deep=True).sum()\n",
    "        else:  # исходим из предположения о том, что если это не DataFrame, то это Series\n",
    "            usage_b = pandas_obj.memory_usage(deep=True)\n",
    "        usage_mb = usage_b / 1024 ** 2  # преобразуем байты в мегабайты\n",
    "        if flag:\n",
    "            return \"До преобразования {}: {:03.2f} MB\".format(type_obj, usage_mb)\n",
    "        else:\n",
    "            return \"Послеле преобразования {}: {:03.2f} MB\".format(type_obj, usage_mb)\n",
    "\n",
    "def optim_memory(data):\n",
    "        for dtype in ['float', 'int', 'object']:\n",
    "            selected_dtype = data.select_dtypes(include=[dtype])\n",
    "            mean_usage_b = selected_dtype.memory_usage(deep=True).mean()\n",
    "            mean_usage_mb = mean_usage_b / 1024 ** 2\n",
    "            print(\"Average memory usage for {} columns: {:03.2f} MB\".format(dtype, mean_usage_mb))\n",
    "        print(\"*\" * 20)\n",
    "\n",
    "        gl_int = data.select_dtypes(include=['int'])\n",
    "        converted_int = gl_int.apply(pd.to_numeric, downcast='unsigned')\n",
    "        print(mem_usage(gl_int))\n",
    "        print(mem_usage(converted_int, flag=False))\n",
    "        print(\"*\" * 20)\n",
    "\n",
    "        gl_float = data.select_dtypes(include=['float'])\n",
    "        converted_float = gl_float.apply(pd.to_numeric, downcast='float')\n",
    "\n",
    "        print(mem_usage(gl_float, type_obj='float'))\n",
    "        print(mem_usage(converted_float, flag=False, type_obj='float'))\n",
    "        print(\"*\" * 20)\n",
    "\n",
    "        optimized_gl = data.copy()\n",
    "\n",
    "        optimized_gl[converted_int.columns] = converted_int\n",
    "        optimized_gl[converted_float.columns] = converted_float\n",
    "\n",
    "        print(mem_usage(data, type_obj='DataFrame numerical'))\n",
    "        print(mem_usage(optimized_gl, flag=False, type_obj='DataFrame numerical'))\n",
    "\n",
    "        return optimized_gl"
   ]
  },
  {
   "cell_type": "code",
   "execution_count": 13,
   "id": "4c84dd8b",
   "metadata": {},
   "outputs": [
    {
     "name": "stdout",
     "output_type": "stream",
     "text": [
      "Average memory usage for float columns: 39.71 MB\n",
      "Average memory usage for int columns: 39.71 MB\n",
      "Average memory usage for object columns: 39.71 MB\n",
      "********************\n",
      "До преобразования int: 158.84 MB\n",
      "Послеле преобразования int: 99.28 MB\n",
      "********************\n",
      "До преобразования float: 476.53 MB\n",
      "Послеле преобразования float: 258.12 MB\n",
      "********************\n",
      "До преобразования DataFrame numerical: 595.66 MB\n",
      "Послеле преобразования DataFrame numerical: 317.69 MB\n"
     ]
    }
   ],
   "source": [
    "train = optim_memory(train)"
   ]
  },
  {
   "cell_type": "code",
   "execution_count": 14,
   "id": "70fbc9c0",
   "metadata": {},
   "outputs": [
    {
     "name": "stdout",
     "output_type": "stream",
     "text": [
      "Average memory usage for float columns: 0.23 MB\n",
      "Average memory usage for int columns: 0.19 MB\n",
      "Average memory usage for object columns: 0.00 MB\n",
      "********************\n",
      "До преобразования int: 0.76 MB\n",
      "Послеле преобразования int: 0.38 MB\n",
      "********************\n",
      "До преобразования float: 2.52 MB\n",
      "Послеле преобразования float: 1.26 MB\n",
      "********************\n",
      "До преобразования DataFrame numerical: 3.27 MB\n",
      "Послеле преобразования DataFrame numerical: 1.64 MB\n"
     ]
    }
   ],
   "source": [
    "test = optim_memory(test)"
   ]
  },
  {
   "cell_type": "code",
   "execution_count": 15,
   "id": "c54d23d8",
   "metadata": {},
   "outputs": [
    {
     "name": "stdout",
     "output_type": "stream",
     "text": [
      "train\n",
      "\n",
      "seconds_in_bucket 0\n",
      "imbalance_size 220\n",
      "imbalance_buy_sell_flag 0\n",
      "reference_price 220\n",
      "matched_size 220\n",
      "far_price 2876113\n",
      "near_price 2839180\n",
      "bid_price 220\n",
      "bid_size 0\n",
      "ask_price 220\n",
      "ask_size 0\n",
      "wap 220\n",
      "target 88\n",
      "time_id 0\n",
      "\n",
      "test\n",
      "\n",
      "seconds_in_bucket 0\n",
      "imbalance_size 220\n",
      "imbalance_buy_sell_flag 0\n",
      "reference_price 220\n",
      "matched_size 220\n",
      "far_price 2876113\n",
      "near_price 2839180\n",
      "bid_price 220\n",
      "bid_size 0\n",
      "ask_price 220\n",
      "ask_size 0\n",
      "wap 220\n",
      "target 88\n",
      "time_id 0\n"
     ]
    }
   ],
   "source": [
    "print(\"train\\n\")\n",
    "for i in train.columns:\n",
    "    print(i, train[i].isna().sum())\n",
    "print(\"\\ntest\\n\")\n",
    "for i in train.columns:\n",
    "    print(i, train[i].isna().sum())"
   ]
  },
  {
   "cell_type": "code",
   "execution_count": 16,
   "id": "f5d191b2",
   "metadata": {},
   "outputs": [],
   "source": [
    "train = train.drop([\"near_price\", \"far_price\"], axis=1)\n",
    "test = test.drop([\"near_price\", \"far_price\"], axis=1)"
   ]
  },
  {
   "cell_type": "code",
   "execution_count": 17,
   "id": "6ddfda11",
   "metadata": {},
   "outputs": [],
   "source": [
    "def median_mode(data):\n",
    "        col_obj = []\n",
    "        col_num = []\n",
    "        for i in tqdm(data.columns):\n",
    "            if data[i].isna().sum() == 0:\n",
    "                continue\n",
    "            if data[i].dtype == \"O\":\n",
    "\n",
    "                col_obj.append(i)\n",
    "                data[i] = data[i].fillna(data[i].mode()[0])\n",
    "            else:\n",
    "                col_num.append(i)\n",
    "                data[i] = data[i].fillna(data[i].median())\n",
    "        print(f\"на моду заменены значения в колонках: {col_obj}\")\n",
    "        print(f\"на медиану заменены значения в колонках: {col_num}\")\n",
    "        return data"
   ]
  },
  {
   "cell_type": "code",
   "execution_count": 18,
   "id": "0d7db746",
   "metadata": {},
   "outputs": [
    {
     "data": {
      "application/vnd.jupyter.widget-view+json": {
       "model_id": "5aa0f3f1735849fbb372606850cdda94",
       "version_major": 2,
       "version_minor": 0
      },
      "text/plain": [
       "  0%|          | 0/12 [00:00<?, ?it/s]"
      ]
     },
     "metadata": {},
     "output_type": "display_data"
    },
    {
     "name": "stdout",
     "output_type": "stream",
     "text": [
      "на моду заменены значения в колонках: []\n",
      "на медиану заменены значения в колонках: ['imbalance_size', 'reference_price', 'matched_size', 'bid_price', 'ask_price', 'wap', 'target']\n"
     ]
    },
    {
     "data": {
      "application/vnd.jupyter.widget-view+json": {
       "model_id": "c9456ae6e1bf4e1880a26cae53c3a98d",
       "version_major": 2,
       "version_minor": 0
      },
      "text/plain": [
       "  0%|          | 0/11 [00:00<?, ?it/s]"
      ]
     },
     "metadata": {},
     "output_type": "display_data"
    },
    {
     "name": "stdout",
     "output_type": "stream",
     "text": [
      "на моду заменены значения в колонках: []\n",
      "на медиану заменены значения в колонках: []\n"
     ]
    }
   ],
   "source": [
    "train = median_mode(train)\n",
    "test = median_mode(test)"
   ]
  },
  {
   "cell_type": "code",
   "execution_count": 19,
   "id": "9ff2322a",
   "metadata": {
    "scrolled": false
   },
   "outputs": [
    {
     "data": {
      "application/vnd.jupyter.widget-view+json": {
       "model_id": "8b523a2e924a4ea4bb6ba5e617beb843",
       "version_major": 2,
       "version_minor": 0
      },
      "text/plain": [
       "  0%|          | 0/12 [00:00<?, ?it/s]"
      ]
     },
     "metadata": {},
     "output_type": "display_data"
    }
   ],
   "source": [
    "# замена на 99 перцентиль все значения выше, замена на 1 перцентиль все значения ниже\n",
    "data_perc = train.copy()\n",
    "for col in tqdm(data_perc.columns):\n",
    "    len_more_quant = data_perc.loc[data_perc[col] > data_perc[col].quantile(0.99)].shape[0]\n",
    "    len_less_quant = data_perc.loc[data_perc[col] < data_perc[col].quantile(0.01)].shape[0]\n",
    "    if len_more_quant > 0:\n",
    "        data_perc.loc[data_perc[col] > data_perc[col].quantile(0.99), col] = data_perc[col].quantile(0.99)\n",
    "    if len_less_quant > 0:\n",
    "        data_perc.loc[data_perc[col] < data_perc[col].quantile(0.01), col] = data_perc[col].quantile(0.01)"
   ]
  },
  {
   "cell_type": "code",
   "execution_count": 20,
   "id": "e49d34e0",
   "metadata": {},
   "outputs": [],
   "source": [
    "train = data_perc"
   ]
  },
  {
   "cell_type": "markdown",
   "id": "6a799498",
   "metadata": {},
   "source": [
    "# find anomalies"
   ]
  },
  {
   "cell_type": "code",
   "execution_count": 21,
   "id": "787290d8",
   "metadata": {},
   "outputs": [],
   "source": [
    "from sklearn.ensemble import IsolationForest"
   ]
  },
  {
   "cell_type": "code",
   "execution_count": 22,
   "id": "f9ab40d5",
   "metadata": {},
   "outputs": [
    {
     "data": {
      "text/plain": [
       "IsolationForest(max_features=11, n_jobs=-1, random_state=0)"
      ]
     },
     "execution_count": 22,
     "metadata": {},
     "output_type": "execute_result"
    }
   ],
   "source": [
    "iso_forest = IsolationForest(n_estimators=100, contamination='auto', max_features=len(train.drop(\"target\", axis=1).columns), n_jobs=-1, random_state=0)\n",
    "iso_forest.fit(train.drop(\"target\", axis=1))"
   ]
  },
  {
   "cell_type": "code",
   "execution_count": 23,
   "id": "6853e69f",
   "metadata": {},
   "outputs": [],
   "source": [
    "iso_forest_prediction = iso_forest.predict(train.drop(\"target\", axis=1))\n",
    "iso_forest_prediction_test = iso_forest.predict(test)"
   ]
  },
  {
   "cell_type": "code",
   "execution_count": 24,
   "id": "e6333cab",
   "metadata": {},
   "outputs": [
    {
     "data": {
      "text/plain": [
       "(911786, 6107)"
      ]
     },
     "execution_count": 24,
     "metadata": {},
     "output_type": "execute_result"
    }
   ],
   "source": [
    "# кол-во предполагаемых аномалий\n",
    "(iso_forest_prediction == -1).sum(), (iso_forest_prediction_test == -1).sum()"
   ]
  },
  {
   "cell_type": "code",
   "execution_count": 25,
   "id": "940e3242",
   "metadata": {},
   "outputs": [],
   "source": [
    "train['anomal'] = iso_forest_prediction\n",
    "test['anomal'] = iso_forest_prediction_test"
   ]
  },
  {
   "cell_type": "code",
   "execution_count": 26,
   "id": "9e524419",
   "metadata": {},
   "outputs": [],
   "source": [
    "# train = train.loc[train['anomal'] != -1]\n",
    "# test = test.loc[test['anomal'] != -1]\n",
    "# train.shape, test.shape"
   ]
  },
  {
   "cell_type": "code",
   "execution_count": 27,
   "id": "7d5abccb",
   "metadata": {},
   "outputs": [],
   "source": [
    "# train.columns"
   ]
  },
  {
   "cell_type": "code",
   "execution_count": null,
   "id": "e8580488",
   "metadata": {},
   "outputs": [],
   "source": []
  },
  {
   "cell_type": "code",
   "execution_count": null,
   "id": "5cbd5ae2",
   "metadata": {},
   "outputs": [],
   "source": []
  },
  {
   "cell_type": "markdown",
   "id": "626c18f3",
   "metadata": {
    "papermill": {
     "duration": 0.060087,
     "end_time": "2023-10-10T15:23:00.287159",
     "exception": false,
     "start_time": "2023-10-10T15:23:00.227072",
     "status": "completed"
    },
    "tags": []
   },
   "source": [
    "<a id=\"5\"></a>\n",
    "# <h1 style=\"background-color:lightgray;font-family:newtimeroman;font-size:350%;text-align:center;border-radius: 15px 50px;\">Baseline Modeling 1.0</h1>\n",
    "\n",
    "Во-первых, мы начинаем с создания некоторых стандартных моделей без разработки функциональных возможностей или HPO. Сначала мы определяем входные и целевые функции."
   ]
  },
  {
   "cell_type": "code",
   "execution_count": 28,
   "id": "3b17a859",
   "metadata": {
    "execution": {
     "iopub.execute_input": "2023-10-10T15:23:00.410849Z",
     "iopub.status.busy": "2023-10-10T15:23:00.410265Z",
     "iopub.status.idle": "2023-10-10T15:23:00.426543Z",
     "shell.execute_reply": "2023-10-10T15:23:00.425768Z"
    },
    "papermill": {
     "duration": 0.081332,
     "end_time": "2023-10-10T15:23:00.428837",
     "exception": false,
     "start_time": "2023-10-10T15:23:00.347505",
     "status": "completed"
    },
    "tags": []
   },
   "outputs": [],
   "source": [
    "X = train.drop(columns = ['target'], axis = 1)\n",
    "Y = train['target']\n",
    "\n",
    "test_cv = test"
   ]
  },
  {
   "cell_type": "markdown",
   "id": "de31bdf0",
   "metadata": {
    "papermill": {
     "duration": 0.060192,
     "end_time": "2023-10-10T15:23:00.550114",
     "exception": false,
     "start_time": "2023-10-10T15:23:00.489922",
     "status": "completed"
    },
    "tags": []
   },
   "source": [
    "Сначала мы определяем функцию ансамбля Хилла для прогнозирования модели ансамбля."
   ]
  },
  {
   "cell_type": "code",
   "execution_count": 32,
   "id": "22da9186",
   "metadata": {
    "execution": {
     "iopub.execute_input": "2023-10-10T15:23:00.674263Z",
     "iopub.status.busy": "2023-10-10T15:23:00.673659Z",
     "iopub.status.idle": "2023-10-10T15:23:00.684004Z",
     "shell.execute_reply": "2023-10-10T15:23:00.683228Z"
    },
    "papermill": {
     "duration": 0.074687,
     "end_time": "2023-10-10T15:23:00.686094",
     "exception": false,
     "start_time": "2023-10-10T15:23:00.611407",
     "status": "completed"
    },
    "tags": []
   },
   "outputs": [],
   "source": [
    "def hill_climbing(x, y, x_test):\n",
    "    \n",
    "    # Evaluating oof predictions\n",
    "    scores = {}\n",
    "    for col in x.columns:\n",
    "        scores[col] = mean_absolute_error(y, x[col])\n",
    "\n",
    "    # Sorting the model scores\n",
    "    scores = {k: v for k, v in sorted(scores.items(), key = lambda item: item[1], reverse = True)}\n",
    "\n",
    "    # Sort oof_df and test_preds\n",
    "    x = x[list(scores.keys())]\n",
    "    x_test = x_test[list(scores.keys())]\n",
    "\n",
    "    STOP = False\n",
    "    current_best_ensemble = x.iloc[:,0]\n",
    "    current_best_test_preds = x_test.iloc[:,0]\n",
    "    MODELS = x.iloc[:,1:]\n",
    "    weight_range = np.arange(-0.5, 0.51, 0.01) \n",
    "    history = [mean_absolute_error(y, current_best_ensemble)]\n",
    "    j = 0\n",
    "\n",
    "    while not STOP:\n",
    "        j += 1\n",
    "        potential_new_best_cv_score = mean_absolute_error(y, current_best_ensemble)\n",
    "        k_best, wgt_best = None, None\n",
    "        for k in MODELS:\n",
    "            for wgt in weight_range:\n",
    "                potential_ensemble = (1 - wgt) * current_best_ensemble + wgt * MODELS[k]\n",
    "                cv_score = mean_absolute_error(y, potential_ensemble)\n",
    "                if cv_score > potential_new_best_cv_score:\n",
    "                    potential_new_best_cv_score = cv_score\n",
    "                    k_best, wgt_best = k, wgt\n",
    "\n",
    "        if k_best is not None:\n",
    "            current_best_ensemble = (1 - wgt_best) * current_best_ensemble + wgt_best * MODELS[k_best]\n",
    "            current_best_test_preds = (1 - wgt_best) * current_best_test_preds + wgt_best * x_test[k_best]\n",
    "            MODELS.drop(k_best, axis = 1, inplace = True)\n",
    "            if MODELS.shape[1] == 0:\n",
    "                STOP = True\n",
    "            history.append(potential_new_best_cv_score)\n",
    "        else:\n",
    "            STOP = True\n",
    "        \n",
    "    hill_ens_pred_1 = current_best_ensemble\n",
    "    hill_ens_pred_2 = current_best_test_preds\n",
    "    \n",
    "    return [hill_ens_pred_1, hill_ens_pred_2]"
   ]
  },
  {
   "cell_type": "markdown",
   "id": "cfde39de",
   "metadata": {
    "papermill": {
     "duration": 0.060212,
     "end_time": "2023-10-10T15:23:00.806909",
     "exception": false,
     "start_time": "2023-10-10T15:23:00.746697",
     "status": "completed"
    },
    "tags": []
   },
   "source": [
    "Затем мы создаем несколько стандартных моделей в рамках процедуры 5-кратной перекрестной проверки."
   ]
  },
  {
   "cell_type": "code",
   "execution_count": 33,
   "id": "c72be5ac",
   "metadata": {},
   "outputs": [
    {
     "name": "stdout",
     "output_type": "stream",
     "text": [
      "----------------------------------------------------------\n",
      "randomForest fit, fold: 0\n",
      "Fold 0 ==> RF oof MAE score is ==> 5.591070736758035\n",
      "ExtraTrees fit, fold: 0\n",
      "Fold 0 ==> ET oof MAE score is ==> 5.587777620849835\n",
      "pipeline fit, fold: 0\n",
      "Fold 0 ==> Hist oof MAE score is ==> 5.577308162864549\n",
      "lgbm fit, fold: 0\n",
      "Fold 0 ==> LGBM oof MAE score is ==> 5.570430369459393\n",
      "xgb fit, fold: 0\n",
      "Fold 0 ==> XGB oof MAE score is ==> 5.549135\n",
      "CatBoost fit, fold: 0\n",
      "Fold 0 ==> CatBoost oof MAE score is ==> 5.565437882243595\n",
      "ensemble fit, fold: 0\n",
      "Fold 0 ==> Average Ensemble oof MAE score is ==> 5.567780251254094\n",
      "Hill fit, fold: 0\n",
      "Fold 0 ==> Hill Climbing Ensemble oof MAE score is ==> 6.295613555249986\n",
      "----------------------------------------------------------\n",
      "randomForest fit, fold: 1\n",
      "Fold 1 ==> RF oof MAE score is ==> 6.846640928546536\n",
      "ExtraTrees fit, fold: 1\n",
      "Fold 1 ==> ET oof MAE score is ==> 6.868780761362562\n",
      "pipeline fit, fold: 1\n",
      "Fold 1 ==> Hist oof MAE score is ==> 6.844662847390942\n",
      "lgbm fit, fold: 1\n",
      "Fold 1 ==> LGBM oof MAE score is ==> 6.834629665124733\n",
      "xgb fit, fold: 1\n",
      "Fold 1 ==> XGB oof MAE score is ==> 6.811323\n",
      "CatBoost fit, fold: 1\n",
      "Fold 1 ==> CatBoost oof MAE score is ==> 6.834926927911145\n",
      "ensemble fit, fold: 1\n",
      "Fold 1 ==> Average Ensemble oof MAE score is ==> 6.835481511149019\n",
      "Hill fit, fold: 1\n",
      "Fold 1 ==> Hill Climbing Ensemble oof MAE score is ==> 7.909507752202967\n",
      "----------------------------------------------------------\n",
      "randomForest fit, fold: 2\n",
      "Fold 2 ==> RF oof MAE score is ==> 6.218005614938659\n",
      "ExtraTrees fit, fold: 2\n",
      "Fold 2 ==> ET oof MAE score is ==> 6.224154118248254\n",
      "pipeline fit, fold: 2\n",
      "Fold 2 ==> Hist oof MAE score is ==> 6.214829202839137\n",
      "lgbm fit, fold: 2\n",
      "Fold 2 ==> LGBM oof MAE score is ==> 6.207587588445474\n",
      "xgb fit, fold: 2\n",
      "Fold 2 ==> XGB oof MAE score is ==> 6.190501\n",
      "CatBoost fit, fold: 2\n",
      "Fold 2 ==> CatBoost oof MAE score is ==> 6.204177444465383\n",
      "ensemble fit, fold: 2\n",
      "Fold 2 ==> Average Ensemble oof MAE score is ==> 6.206285909491787\n",
      "Hill fit, fold: 2\n",
      "Fold 2 ==> Hill Climbing Ensemble oof MAE score is ==> 6.901818923495363\n",
      "----------------------------------------------------------\n",
      "randomForest fit, fold: 3\n"
     ]
    },
    {
     "name": "stderr",
     "output_type": "stream",
     "text": [
      "ERROR:root:Internal Python error in the inspect module.\n",
      "Below is the traceback from this internal error.\n",
      "\n",
      "\n",
      "KeyboardInterrupt\n",
      "\n"
     ]
    }
   ],
   "source": [
    "ens_cv_scores, ens_preds = list(), list()\n",
    "hill_ens_cv_scores, hill_ens_preds =  list(), list()\n",
    "\n",
    "sk = KFold(n_splits = 5)\n",
    "for i, (train_idx, test_idx) in enumerate(sk.split(X, Y)):\n",
    "\n",
    "    X_train, X_test = X.iloc[train_idx], X.iloc[test_idx]\n",
    "    Y_train, Y_test = Y.iloc[train_idx], Y.iloc[test_idx]\n",
    "    \n",
    "    print('----------------------------------------------------------')\n",
    "    \n",
    "    ########\n",
    "    ## RF ##\n",
    "    ########\n",
    "    print(\"randomForest fit, fold: {}\".format(i))\n",
    "    RF_md = RandomForestRegressor(n_estimators = 1000, \n",
    "                                   max_depth = 8,\n",
    "                                   min_samples_split = 15,\n",
    "                                   min_samples_leaf = 10).fit(X_train, Y_train)\n",
    "    \n",
    "    RF_pred = RF_md.predict(X_test)\n",
    "    RF_score = mean_absolute_error(Y_test, RF_pred)\n",
    "\n",
    "    print('Fold', i, '==> RF oof MAE score is ==>', RF_score)\n",
    "\n",
    "    RF_pred_test = RF_md.predict(test_cv)\n",
    "    \n",
    "    #################\n",
    "    ## Extra Trees ##\n",
    "    #################\n",
    "    print(\"ExtraTrees fit, fold: {}\".format(i))\n",
    "    ET_md = ExtraTreesRegressor(n_estimators = 1000, \n",
    "                                 max_depth = 8,\n",
    "                                 min_samples_split = 15,\n",
    "                                 min_samples_leaf = 10).fit(X_train, Y_train)\n",
    "\n",
    "    ET_pred = ET_md.predict(X_test)\n",
    "    ET_score = mean_absolute_error(Y_test, ET_pred)\n",
    "\n",
    "    print('Fold', i, '==> ET oof MAE score is ==>', ET_score)\n",
    "\n",
    "    ET_pred_test = ET_md.predict(test_cv)\n",
    "\n",
    "    ##########################\n",
    "    ## HistGradientBoosting ##\n",
    "    ##########################\n",
    "    \n",
    "    print(\"pipeline fit, fold: {}\".format(i))\n",
    "    hist_md = make_pipeline(StandardScaler(),\n",
    "                           HistGradientBoostingRegressor(l2_regularization = 0.01,\n",
    "                                             early_stopping = False,\n",
    "                                             learning_rate = 0.005,\n",
    "                                             max_iter = 1000,\n",
    "                                             max_depth = 8,\n",
    "                                             max_bins = 255,\n",
    "                                             min_samples_leaf = 15,\n",
    "                                             max_leaf_nodes = 10)).fit(X_train, Y_train)\n",
    "    \n",
    "#     hist_md = HistGradientBoostingClassifier(l2_regularization = 0.01,\n",
    "#                                              early_stopping = False,\n",
    "#                                              learning_rate = 0.01,\n",
    "#                                              max_iter = 500,\n",
    "#                                              max_depth = 5,\n",
    "#                                              max_bins = 255,\n",
    "#                                              min_samples_leaf = 15,\n",
    "#                                              max_leaf_nodes = 10).fit(X_train, Y_train)\n",
    "    \n",
    "    hist_pred = hist_md.predict(X_test)\n",
    "    hist_score = mean_absolute_error(Y_test, hist_pred)\n",
    "\n",
    "    print('Fold', i, '==> Hist oof MAE score is ==>', hist_score)  \n",
    "\n",
    "    hist_pred_test = hist_md.predict(test_cv)\n",
    "\n",
    "    ##########\n",
    "    ## LGBM ##\n",
    "    ##########\n",
    "        \n",
    "    print(\"lgbm fit, fold: {}\".format(i))\n",
    "    LGBM_md = LGBMRegressor(objective = 'regression',\n",
    "                             n_estimators = 1000,\n",
    "                             max_depth = 8,\n",
    "                             learning_rate = 0.005,\n",
    "                             num_leaves = 20,\n",
    "                             reg_alpha = 3,\n",
    "                             reg_lambda = 3,\n",
    "                             subsample = 0.7,\n",
    "                             colsample_bytree = 0.7).fit(X_train, Y_train)\n",
    "\n",
    "    lgb_pred = LGBM_md.predict(X_test)\n",
    "    lgb_score = mean_absolute_error(Y_test, lgb_pred)\n",
    "\n",
    "    print('Fold', i, '==> LGBM oof MAE score is ==>', lgb_score) \n",
    "\n",
    "    lgb_pred_test = LGBM_md.predict(test_cv)\n",
    "\n",
    "    #########\n",
    "    ## XGB ##\n",
    "    #########\n",
    "    \n",
    "    print(\"xgb fit, fold: {}\".format(i))\n",
    "    XGB_md = XGBRegressor(\n",
    "#         objective = 'regression',\n",
    "                           tree_method = 'hist',\n",
    "                           colsample_bytree = 0.7, \n",
    "                           gamma = 2, \n",
    "                           learning_rate = 0.005, \n",
    "                           max_depth = 8, \n",
    "                           min_child_weight = 10, \n",
    "                           n_estimators = 1000, \n",
    "                           subsample = 0.7).fit(X_train, Y_train)\n",
    "\n",
    "    xgb_pred = XGB_md.predict(X_test)\n",
    "    xgb_score = mean_absolute_error(Y_test, xgb_pred)\n",
    "\n",
    "    print('Fold', i, '==> XGB oof MAE score is ==>', xgb_score)\n",
    "\n",
    "    xgb_pred_test = XGB_md.predict(test_cv)\n",
    "\n",
    "    ##############\n",
    "    ## CatBoost ##\n",
    "    ##############\n",
    "    \n",
    "    print(\"CatBoost fit, fold: {}\".format(i))\n",
    "    Cat_md = CatBoostRegressor(loss_function = 'MAE',\n",
    "                                iterations = 1000,\n",
    "                                learning_rate = 0.005,\n",
    "                                depth = 8,\n",
    "                                random_strength = 0.5,\n",
    "                                bagging_temperature = 0.7,\n",
    "                                border_count = 30,\n",
    "                                l2_leaf_reg = 5,\n",
    "                                verbose = False, \n",
    "                                task_type = 'CPU').fit(X_train, Y_train)\n",
    "\n",
    "    cat_pred = Cat_md.predict(X_test)\n",
    "    cat_score = mean_absolute_error(Y_test, cat_pred)\n",
    "\n",
    "    print('Fold', i, '==> CatBoost oof MAE score is ==>', cat_score)\n",
    "\n",
    "    cat_pred_test = Cat_md.predict(test_cv)\n",
    "    \n",
    "    ##############\n",
    "    ## Ensemble ##\n",
    "    ##############\n",
    "    \n",
    "    print(\"ensemble fit, fold: {}\".format(i))\n",
    "    ens_pred_1 = (RF_pred + ET_pred + hist_pred + lgb_pred + xgb_pred + cat_pred) / 6\n",
    "    ens_pred_2 = (RF_pred_test + ET_pred_test + hist_pred_test + lgb_pred_test + xgb_pred_test + cat_pred_test) / 6\n",
    "    \n",
    "    ens_score_fold = mean_absolute_error(Y_test, ens_pred_1)\n",
    "    ens_cv_scores.append(ens_score_fold)\n",
    "    ens_preds.append(ens_pred_2)\n",
    "    \n",
    "    print('Fold', i, '==> Average Ensemble oof MAE score is ==>', ens_score_fold)\n",
    "    \n",
    "    ############################\n",
    "    ## Hill Climbing Ensemble ##\n",
    "    ############################\n",
    "    \n",
    "    print(\"Hill fit, fold: {}\".format(i))\n",
    "    x = pd.DataFrame({'RF': RF_pred,\n",
    "                      'ET': ET_pred, \n",
    "                      'Hist': hist_pred, \n",
    "                      'LGBM': lgb_pred,\n",
    "                      'XGB': xgb_pred,\n",
    "                      'Cat': cat_pred})\n",
    "    y = Y_test\n",
    "        \n",
    "    x_test = pd.DataFrame({'RF': RF_pred_test,\n",
    "                           'ET': ET_pred_test, \n",
    "                           'Hist': hist_pred_test, \n",
    "                           'LGBM': lgb_pred_test,\n",
    "                           'XGB': xgb_pred_test,\n",
    "                           'Cat': cat_pred_test})\n",
    "    \n",
    "    hill_results = hill_climbing(x, y, x_test)\n",
    "    \n",
    "    hill_ens_score_fold = mean_absolute_error(y, hill_results[0])\n",
    "    hill_ens_cv_scores.append(hill_ens_score_fold)\n",
    "    hill_ens_preds.append(hill_results[1])\n",
    "\n",
    "    print('Fold', i, '==> Hill Climbing Ensemble oof MAE score is ==>', hill_ens_score_fold)"
   ]
  },
  {
   "cell_type": "code",
   "execution_count": null,
   "id": "623d2576",
   "metadata": {},
   "outputs": [],
   "source": [
    "print('Средняя совокупность оценок ROC-AUC за 10-кратный период составляет', np.mean(ens_cv_scores))\n",
    "print('Hill Climbing Ensemble ROC-AUC набрал более 10 баллов, это', np.mean(hill_ens_cv_scores))"
   ]
  },
  {
   "cell_type": "code",
   "execution_count": null,
   "id": "08e69ef0",
   "metadata": {
    "execution": {
     "iopub.execute_input": "2023-10-10T15:40:43.641563Z",
     "iopub.status.busy": "2023-10-10T15:40:43.640920Z",
     "iopub.status.idle": "2023-10-10T15:40:58.076770Z",
     "shell.execute_reply": "2023-10-10T15:40:58.075951Z"
    },
    "papermill": {
     "duration": 14.510874,
     "end_time": "2023-10-10T15:40:58.079415",
     "exception": false,
     "start_time": "2023-10-10T15:40:43.568541",
     "status": "completed"
    },
    "tags": []
   },
   "outputs": [],
   "source": [
    "ens_preds_test = pd.DataFrame(hill_ens_preds).apply(np.mean, axis = 0)\n",
    "\n",
    "sub['target'] = ens_preds_test\n",
    "submission.to_csv('submission.csv', index = False)"
   ]
  },
  {
   "cell_type": "code",
   "execution_count": null,
   "id": "8fac3e5a",
   "metadata": {},
   "outputs": [],
   "source": []
  }
 ],
 "metadata": {
  "kernelspec": {
   "display_name": "Python 3 (ipykernel)",
   "language": "python",
   "name": "python3"
  },
  "language_info": {
   "codemirror_mode": {
    "name": "ipython",
    "version": 3
   },
   "file_extension": ".py",
   "mimetype": "text/x-python",
   "name": "python",
   "nbconvert_exporter": "python",
   "pygments_lexer": "ipython3",
   "version": "3.7.9"
  },
  "papermill": {
   "default_parameters": {},
   "duration": 1821.116432,
   "end_time": "2023-10-10T15:40:59.275214",
   "environment_variables": {},
   "exception": null,
   "input_path": "__notebook__.ipynb",
   "output_path": "__notebook__.ipynb",
   "parameters": {},
   "start_time": "2023-10-10T15:10:38.158782",
   "version": "2.4.0"
  },
  "widgets": {
   "application/vnd.jupyter.widget-state+json": {
    "state": {
     "06722a2f2fda4c88816a073173175fb0": {
      "model_module": "@jupyter-widgets/controls",
      "model_module_version": "1.5.0",
      "model_name": "DescriptionStyleModel",
      "state": {
       "_model_module": "@jupyter-widgets/controls",
       "_model_module_version": "1.5.0",
       "_model_name": "DescriptionStyleModel",
       "_view_count": null,
       "_view_module": "@jupyter-widgets/base",
       "_view_module_version": "1.2.0",
       "_view_name": "StyleView",
       "description_width": ""
      }
     },
     "19c793a532664b8292a8ffc4b0c66577": {
      "model_module": "@jupyter-widgets/controls",
      "model_module_version": "1.5.0",
      "model_name": "HBoxModel",
      "state": {
       "_dom_classes": [],
       "_model_module": "@jupyter-widgets/controls",
       "_model_module_version": "1.5.0",
       "_model_name": "HBoxModel",
       "_view_count": null,
       "_view_module": "@jupyter-widgets/controls",
       "_view_module_version": "1.5.0",
       "_view_name": "HBoxView",
       "box_style": "",
       "children": [
        "IPY_MODEL_2d03a505f04d49cc90c3151bc0abb6b4",
        "IPY_MODEL_ecb7e7b9e12b43ed9a13f8d4ba14d670",
        "IPY_MODEL_64f56d53e62f43afba7e4bf2b63c7f1e"
       ],
       "layout": "IPY_MODEL_e6ec28b33c1a4207ba25d46e477ef553"
      }
     },
     "2d03a505f04d49cc90c3151bc0abb6b4": {
      "model_module": "@jupyter-widgets/controls",
      "model_module_version": "1.5.0",
      "model_name": "HTMLModel",
      "state": {
       "_dom_classes": [],
       "_model_module": "@jupyter-widgets/controls",
       "_model_module_version": "1.5.0",
       "_model_name": "HTMLModel",
       "_view_count": null,
       "_view_module": "@jupyter-widgets/controls",
       "_view_module_version": "1.5.0",
       "_view_name": "HTMLView",
       "description": "",
       "description_tooltip": null,
       "layout": "IPY_MODEL_b1ea80b22b4c4b648fc0594a770f5445",
       "placeholder": "​",
       "style": "IPY_MODEL_06722a2f2fda4c88816a073173175fb0",
       "value": "100%"
      }
     },
     "64f56d53e62f43afba7e4bf2b63c7f1e": {
      "model_module": "@jupyter-widgets/controls",
      "model_module_version": "1.5.0",
      "model_name": "HTMLModel",
      "state": {
       "_dom_classes": [],
       "_model_module": "@jupyter-widgets/controls",
       "_model_module_version": "1.5.0",
       "_model_name": "HTMLModel",
       "_view_count": null,
       "_view_module": "@jupyter-widgets/controls",
       "_view_module_version": "1.5.0",
       "_view_name": "HTMLView",
       "description": "",
       "description_tooltip": null,
       "layout": "IPY_MODEL_77584dba1fab49f2ae90ba6f7ee98637",
       "placeholder": "​",
       "style": "IPY_MODEL_e75fd037d2a64bf4867d034f5c59854b",
       "value": " 19/19 [05:21&lt;00:00, 26.61s/it]"
      }
     },
     "77584dba1fab49f2ae90ba6f7ee98637": {
      "model_module": "@jupyter-widgets/base",
      "model_module_version": "1.2.0",
      "model_name": "LayoutModel",
      "state": {
       "_model_module": "@jupyter-widgets/base",
       "_model_module_version": "1.2.0",
       "_model_name": "LayoutModel",
       "_view_count": null,
       "_view_module": "@jupyter-widgets/base",
       "_view_module_version": "1.2.0",
       "_view_name": "LayoutView",
       "align_content": null,
       "align_items": null,
       "align_self": null,
       "border": null,
       "bottom": null,
       "display": null,
       "flex": null,
       "flex_flow": null,
       "grid_area": null,
       "grid_auto_columns": null,
       "grid_auto_flow": null,
       "grid_auto_rows": null,
       "grid_column": null,
       "grid_gap": null,
       "grid_row": null,
       "grid_template_areas": null,
       "grid_template_columns": null,
       "grid_template_rows": null,
       "height": null,
       "justify_content": null,
       "justify_items": null,
       "left": null,
       "margin": null,
       "max_height": null,
       "max_width": null,
       "min_height": null,
       "min_width": null,
       "object_fit": null,
       "object_position": null,
       "order": null,
       "overflow": null,
       "overflow_x": null,
       "overflow_y": null,
       "padding": null,
       "right": null,
       "top": null,
       "visibility": null,
       "width": null
      }
     },
     "8b24b42960fa463d80c202f64c10f502": {
      "model_module": "@jupyter-widgets/controls",
      "model_module_version": "1.5.0",
      "model_name": "ProgressStyleModel",
      "state": {
       "_model_module": "@jupyter-widgets/controls",
       "_model_module_version": "1.5.0",
       "_model_name": "ProgressStyleModel",
       "_view_count": null,
       "_view_module": "@jupyter-widgets/base",
       "_view_module_version": "1.2.0",
       "_view_name": "StyleView",
       "bar_color": null,
       "description_width": ""
      }
     },
     "b1ea80b22b4c4b648fc0594a770f5445": {
      "model_module": "@jupyter-widgets/base",
      "model_module_version": "1.2.0",
      "model_name": "LayoutModel",
      "state": {
       "_model_module": "@jupyter-widgets/base",
       "_model_module_version": "1.2.0",
       "_model_name": "LayoutModel",
       "_view_count": null,
       "_view_module": "@jupyter-widgets/base",
       "_view_module_version": "1.2.0",
       "_view_name": "LayoutView",
       "align_content": null,
       "align_items": null,
       "align_self": null,
       "border": null,
       "bottom": null,
       "display": null,
       "flex": null,
       "flex_flow": null,
       "grid_area": null,
       "grid_auto_columns": null,
       "grid_auto_flow": null,
       "grid_auto_rows": null,
       "grid_column": null,
       "grid_gap": null,
       "grid_row": null,
       "grid_template_areas": null,
       "grid_template_columns": null,
       "grid_template_rows": null,
       "height": null,
       "justify_content": null,
       "justify_items": null,
       "left": null,
       "margin": null,
       "max_height": null,
       "max_width": null,
       "min_height": null,
       "min_width": null,
       "object_fit": null,
       "object_position": null,
       "order": null,
       "overflow": null,
       "overflow_x": null,
       "overflow_y": null,
       "padding": null,
       "right": null,
       "top": null,
       "visibility": null,
       "width": null
      }
     },
     "c048f4dc4e6947dfa9dca9c1874c4aa4": {
      "model_module": "@jupyter-widgets/base",
      "model_module_version": "1.2.0",
      "model_name": "LayoutModel",
      "state": {
       "_model_module": "@jupyter-widgets/base",
       "_model_module_version": "1.2.0",
       "_model_name": "LayoutModel",
       "_view_count": null,
       "_view_module": "@jupyter-widgets/base",
       "_view_module_version": "1.2.0",
       "_view_name": "LayoutView",
       "align_content": null,
       "align_items": null,
       "align_self": null,
       "border": null,
       "bottom": null,
       "display": null,
       "flex": null,
       "flex_flow": null,
       "grid_area": null,
       "grid_auto_columns": null,
       "grid_auto_flow": null,
       "grid_auto_rows": null,
       "grid_column": null,
       "grid_gap": null,
       "grid_row": null,
       "grid_template_areas": null,
       "grid_template_columns": null,
       "grid_template_rows": null,
       "height": null,
       "justify_content": null,
       "justify_items": null,
       "left": null,
       "margin": null,
       "max_height": null,
       "max_width": null,
       "min_height": null,
       "min_width": null,
       "object_fit": null,
       "object_position": null,
       "order": null,
       "overflow": null,
       "overflow_x": null,
       "overflow_y": null,
       "padding": null,
       "right": null,
       "top": null,
       "visibility": null,
       "width": null
      }
     },
     "e6ec28b33c1a4207ba25d46e477ef553": {
      "model_module": "@jupyter-widgets/base",
      "model_module_version": "1.2.0",
      "model_name": "LayoutModel",
      "state": {
       "_model_module": "@jupyter-widgets/base",
       "_model_module_version": "1.2.0",
       "_model_name": "LayoutModel",
       "_view_count": null,
       "_view_module": "@jupyter-widgets/base",
       "_view_module_version": "1.2.0",
       "_view_name": "LayoutView",
       "align_content": null,
       "align_items": null,
       "align_self": null,
       "border": null,
       "bottom": null,
       "display": null,
       "flex": null,
       "flex_flow": null,
       "grid_area": null,
       "grid_auto_columns": null,
       "grid_auto_flow": null,
       "grid_auto_rows": null,
       "grid_column": null,
       "grid_gap": null,
       "grid_row": null,
       "grid_template_areas": null,
       "grid_template_columns": null,
       "grid_template_rows": null,
       "height": null,
       "justify_content": null,
       "justify_items": null,
       "left": null,
       "margin": null,
       "max_height": null,
       "max_width": null,
       "min_height": null,
       "min_width": null,
       "object_fit": null,
       "object_position": null,
       "order": null,
       "overflow": null,
       "overflow_x": null,
       "overflow_y": null,
       "padding": null,
       "right": null,
       "top": null,
       "visibility": null,
       "width": null
      }
     },
     "e75fd037d2a64bf4867d034f5c59854b": {
      "model_module": "@jupyter-widgets/controls",
      "model_module_version": "1.5.0",
      "model_name": "DescriptionStyleModel",
      "state": {
       "_model_module": "@jupyter-widgets/controls",
       "_model_module_version": "1.5.0",
       "_model_name": "DescriptionStyleModel",
       "_view_count": null,
       "_view_module": "@jupyter-widgets/base",
       "_view_module_version": "1.2.0",
       "_view_name": "StyleView",
       "description_width": ""
      }
     },
     "ecb7e7b9e12b43ed9a13f8d4ba14d670": {
      "model_module": "@jupyter-widgets/controls",
      "model_module_version": "1.5.0",
      "model_name": "FloatProgressModel",
      "state": {
       "_dom_classes": [],
       "_model_module": "@jupyter-widgets/controls",
       "_model_module_version": "1.5.0",
       "_model_name": "FloatProgressModel",
       "_view_count": null,
       "_view_module": "@jupyter-widgets/controls",
       "_view_module_version": "1.5.0",
       "_view_name": "ProgressView",
       "bar_style": "success",
       "description": "",
       "description_tooltip": null,
       "layout": "IPY_MODEL_c048f4dc4e6947dfa9dca9c1874c4aa4",
       "max": 19,
       "min": 0,
       "orientation": "horizontal",
       "style": "IPY_MODEL_8b24b42960fa463d80c202f64c10f502",
       "value": 19
      }
     }
    },
    "version_major": 2,
    "version_minor": 0
   }
  }
 },
 "nbformat": 4,
 "nbformat_minor": 5
}
