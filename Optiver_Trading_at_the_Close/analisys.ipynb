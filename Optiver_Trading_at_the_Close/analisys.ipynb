{
 "cells": [
  {
   "cell_type": "code",
   "execution_count": 1,
   "id": "6fa67726",
   "metadata": {},
   "outputs": [],
   "source": [
    "import os\n",
    "import pandas as pd\n",
    "import numpy as np\n",
    "import matplotlib.pyplot as plt\n",
    "import seaborn as sns\n",
    "from tqdm import tqdm\n",
    "%matplotlib inline\n",
    "# import warnings\n",
    "# warnings.filterwarnings('ignore')\n",
    "import optuna\n",
    "\n",
    "from sklearn.model_selection import RepeatedStratifiedKFold, GroupKFold, KFold\n",
    "# from sklearn.model_selection import KFold, StratifiedKFold, train_test_split, GridSearchCV, \n",
    "from sklearn.metrics import mean_absolute_error, mean_squared_error\n",
    "from sklearn.ensemble import RandomForestRegressor\n",
    "import xgboost as xgb\n",
    "import catboost as cb\n",
    "\n",
    "# optuna.logging.set_verbosity(optuna.logging.WARNING)\n",
    "import warnings\n",
    "# warnings.filterwarnings('ignore')\n",
    "\n",
    "# from xgboost import *\n",
    "pd.set_option(\"display.max_columns\", None)\n",
    "\n",
    "from View import MyClass"
   ]
  },
  {
   "cell_type": "code",
   "execution_count": 2,
   "id": "740b55f3",
   "metadata": {},
   "outputs": [
    {
     "name": "stdout",
     "output_type": "stream",
     "text": [
      "Визуализация и предобработка данных\n",
      "# Первичный обзор работа с памятью\n",
      "* Метод \"view_csv\" принимает DataFrame и выводит данные о нем, переводит название столбцов в lower\n",
      "возвращает data.columns, categorical, numerical\n",
      "* Метод optim_memory оптимизирует память занимаемую данными, принимает DataFrame, возвращает DataFrame\n",
      "\n",
      "# Статистика\n",
      "* Метод \"stat_frame\" принимает DataFrame и возвращает DataFrame со статистиками\n",
      "* Метод \"corr\" принимает DataFrame и target : str\n",
      "* Метод corr_sign принимает data: DataFrame, drop_sign:List ( корреляция между признаками)\n",
      "* Метод nonlianer_comun принимает data: DataFrame, numerical: list(список числовых признаков\n",
      "target: str(по умолчанию \"class\"), num_sign: int(кол-во столбцов с нелинейной связью)\n",
      "* Метод \"percentile_99_1\" принимает data: DataFrame, data_stat : DataFrame( возвращает метод \"stat_frame\"), flag: bool(\n",
      "если флаг равен True возвращает фрейм где максимум заменен на 99 перцентиль, а минимум на 1 перцентиль)\n",
      "по умолчанию flag = False\n",
      "возвращат данные где больше 99 перцетиля и меньше 1(используется метод for, не рекомендуется где очень много столбцов)\n",
      "\n",
      "# Работа с данными\n",
      "* Метод \"object_to_freq\" меняет создает новые столбцы в данных,\n",
      "где категориальные значения заменяны на частоту их вхождения\n",
      "* Метод \"median_mode\" меняет в числовых данных пропуски на медиану, в категориальных на моду\n",
      "* Метод \"recursive_fillna_kmeans\" заполняет пропуски путем кластеризации, KMeans\n",
      "принимает data:DataFrame, Random_State:int, bad_max_iter:int(кол-во итераций без улучшения,\n",
      "name_save:str(имя сохранения data с заполнеными пропусками)\n",
      "\n",
      "# Разбиение данных\n",
      "* Метод \"train_split_dis\" - Разбиение данных с несбалансированной бинарной целевой переменной\n",
      "на train, test, valid по умолчанию test_size = 0.2, valid_size=0.2\n",
      "принимает data: DataFrame, y: str(имя целевой переменной), valid_size: float, test_size: float\n",
      "min_sign: int(значение target которых мало)\n",
      "возвращает x_train, x_valid, y_train, y_valid, x_test, y_test\n",
      "* Метод \"train_split\" - Разбиение данных на train, test, valid по умолчанию test_size = 0.2, valid_size=0.2\n",
      "принимает data: DataFrame, y: str(имя целевой переменной), valid_size: float, test_size: float\n",
      "возвращает x_train, x_valid, y_train, y_valid, x_test, y_test\n",
      "\n",
      "# Модели\n",
      "* Метод \"catboost_base\" -BaseLine принимает x:DataFrame, x_val:DataFrame, y: Series, y_val: Series,regressor = False,\n",
      "categorical: list, params:dict\n",
      "если задача регрессии нужно передать regressor = True\n",
      "categorical : None, если есть нужно передать\n",
      "параметры catboost: None, можно передать\n",
      "возвращает модель, rocauc_score\n",
      "* Метод \"xgb_base_classifier\" -BaseLine принимает x:DataFrame, x_val:DataFrame, y: Series, y_val: Series,params:dict\n",
      "параметры xgboost: None, можно передать\n",
      "возвращает модель\n",
      "* Метод \"forest_base_classifier\" -BaseLine принимает x:DataFrame, x_val:DataFrame, y: Series, y_val: Series, params:dict\n",
      "возвращает модель\n",
      "\n",
      "    \n"
     ]
    }
   ],
   "source": [
    "mc = MyClass()\n",
    "print(mc.__doc__)"
   ]
  },
  {
   "cell_type": "code",
   "execution_count": 5,
   "id": "64f48e51",
   "metadata": {},
   "outputs": [
    {
     "data": {
      "text/plain": [
       "['.ipynb_checkpoints',\n",
       " 'analisys.ipynb',\n",
       " 'baseline.ipynb',\n",
       " 'catboost_info',\n",
       " 'data',\n",
       " 'ensemble_regression.ipynb',\n",
       " 'optiver-trading-at-the-close-publicleaderboard-2023-10-30T09_57_54.csv',\n",
       " 'optiver-trading-at-the-close-publicleaderboard-2023-10-30T09_57_54.zip',\n",
       " 'optiver2023',\n",
       " 'public_timeseries_testing_util.py',\n",
       " 'sub_base.csv',\n",
       " 'sub_base1.csv',\n",
       " 'train_new.csv']"
      ]
     },
     "execution_count": 5,
     "metadata": {},
     "output_type": "execute_result"
    }
   ],
   "source": [
    "os.listdir('.')"
   ]
  },
  {
   "cell_type": "code",
   "execution_count": 6,
   "id": "8cfaa238",
   "metadata": {},
   "outputs": [],
   "source": [
    "train = pd.read_csv('data/train_new.csv')\n",
    "test = pd.read_csv('data/test.csv')\n",
    "sub = pd.read_csv('data/sample_submission.csv')\n",
    "rev_target = pd.read_csv('data/revealed_targets.csv')\n",
    "df = pd.read_csv(\"optiver-trading-at-the-close-publicleaderboard-2023-10-30T09_57_54.csv\")"
   ]
  },
  {
   "cell_type": "code",
   "execution_count": 6,
   "id": "a1c195c2",
   "metadata": {},
   "outputs": [
    {
     "data": {
      "text/plain": [
       "'1.21.5'"
      ]
     },
     "execution_count": 6,
     "metadata": {},
     "output_type": "execute_result"
    }
   ],
   "source": [
    "np.__version__"
   ]
  },
  {
   "cell_type": "code",
   "execution_count": 5,
   "id": "8b5963d0",
   "metadata": {},
   "outputs": [
    {
     "data": {
      "text/html": [
       "<div>\n",
       "<style scoped>\n",
       "    .dataframe tbody tr th:only-of-type {\n",
       "        vertical-align: middle;\n",
       "    }\n",
       "\n",
       "    .dataframe tbody tr th {\n",
       "        vertical-align: top;\n",
       "    }\n",
       "\n",
       "    .dataframe thead th {\n",
       "        text-align: right;\n",
       "    }\n",
       "</style>\n",
       "<table border=\"1\" class=\"dataframe\">\n",
       "  <thead>\n",
       "    <tr style=\"text-align: right;\">\n",
       "      <th></th>\n",
       "      <th>time_id</th>\n",
       "      <th>row_id</th>\n",
       "      <th>target</th>\n",
       "    </tr>\n",
       "  </thead>\n",
       "  <tbody>\n",
       "    <tr>\n",
       "      <th>0</th>\n",
       "      <td>26290</td>\n",
       "      <td>478_0_0</td>\n",
       "      <td>1</td>\n",
       "    </tr>\n",
       "    <tr>\n",
       "      <th>1</th>\n",
       "      <td>26290</td>\n",
       "      <td>478_0_1</td>\n",
       "      <td>1</td>\n",
       "    </tr>\n",
       "    <tr>\n",
       "      <th>2</th>\n",
       "      <td>26290</td>\n",
       "      <td>478_0_2</td>\n",
       "      <td>1</td>\n",
       "    </tr>\n",
       "    <tr>\n",
       "      <th>3</th>\n",
       "      <td>26290</td>\n",
       "      <td>478_0_3</td>\n",
       "      <td>1</td>\n",
       "    </tr>\n",
       "    <tr>\n",
       "      <th>4</th>\n",
       "      <td>26290</td>\n",
       "      <td>478_0_4</td>\n",
       "      <td>1</td>\n",
       "    </tr>\n",
       "  </tbody>\n",
       "</table>\n",
       "</div>"
      ],
      "text/plain": [
       "   time_id   row_id  target\n",
       "0    26290  478_0_0       1\n",
       "1    26290  478_0_1       1\n",
       "2    26290  478_0_2       1\n",
       "3    26290  478_0_3       1\n",
       "4    26290  478_0_4       1"
      ]
     },
     "execution_count": 5,
     "metadata": {},
     "output_type": "execute_result"
    }
   ],
   "source": [
    "sub.head()"
   ]
  },
  {
   "cell_type": "code",
   "execution_count": null,
   "id": "c402c325",
   "metadata": {},
   "outputs": [],
   "source": [
    "train.columns, categorical, numerical = mc.view_csv(train)"
   ]
  },
  {
   "cell_type": "markdown",
   "id": "75a45c7f",
   "metadata": {},
   "source": [
    "# удаление одинаковых строк"
   ]
  },
  {
   "cell_type": "code",
   "execution_count": null,
   "id": "e0a4111d",
   "metadata": {},
   "outputs": [],
   "source": [
    "# train = train.dropna(subset=['target'])"
   ]
  },
  {
   "cell_type": "code",
   "execution_count": null,
   "id": "23c94285",
   "metadata": {},
   "outputs": [],
   "source": [
    "# # одинаковые строки\n",
    "# to_check = pd.merge(train.drop(columns = ['target'], axis = 1), test, how='inner', on='row_id')\n",
    "# to_check.shape"
   ]
  },
  {
   "cell_type": "code",
   "execution_count": null,
   "id": "85105c5d",
   "metadata": {},
   "outputs": [],
   "source": [
    "# train = train[~train['row_id'].isin(test['row_id'])]"
   ]
  },
  {
   "cell_type": "code",
   "execution_count": null,
   "id": "53d91b4a",
   "metadata": {},
   "outputs": [],
   "source": [
    "# to_check = pd.merge(train.drop(columns = ['target'], axis = 1), test, how='inner', on='row_id')\n",
    "# to_check.shape"
   ]
  },
  {
   "cell_type": "code",
   "execution_count": null,
   "id": "5cc3f79b",
   "metadata": {},
   "outputs": [],
   "source": [
    "# train = train.drop_duplicates()"
   ]
  },
  {
   "cell_type": "code",
   "execution_count": null,
   "id": "6fc719c8",
   "metadata": {},
   "outputs": [],
   "source": [
    "# train.shape"
   ]
  },
  {
   "cell_type": "code",
   "execution_count": null,
   "id": "74d355f8",
   "metadata": {},
   "outputs": [],
   "source": [
    "# train.to_csv('train_new.csv', index=False)"
   ]
  },
  {
   "cell_type": "markdown",
   "id": "4bf8a2e9",
   "metadata": {},
   "source": [
    "# &&&&&&&&&&&&&&&&&&&&&&&&&&&"
   ]
  },
  {
   "cell_type": "code",
   "execution_count": null,
   "id": "b46acb6a",
   "metadata": {},
   "outputs": [],
   "source": [
    "mc.corr(train, 'target')"
   ]
  },
  {
   "cell_type": "code",
   "execution_count": null,
   "id": "bc793a6d",
   "metadata": {},
   "outputs": [],
   "source": [
    "mc.corr_sign(train, drop_sign=[])"
   ]
  },
  {
   "cell_type": "markdown",
   "id": "a5e9154d",
   "metadata": {},
   "source": [
    "* много признаков коррелирующих между собой"
   ]
  },
  {
   "cell_type": "code",
   "execution_count": null,
   "id": "3a343b75",
   "metadata": {},
   "outputs": [],
   "source": [
    "#     def nonlianer_comun(data, numerical, target=\"class\", num_sign=20) -> list:\n",
    "#         parameters = {\"max_depth\": 6, \"n_estimators\": 25, \"random_state\": 27, \"n_jobs\": 2}\n",
    "#         data = data.copy()\n",
    "#         data = data[numerical]\n",
    "#         for i in data.columns:\n",
    "#             data[i] = data[i].fillna(data[i].median())\n",
    "#         if data[target].nunique() > 10:\n",
    "#             forest = RandomForestRegressor(**parameters)\n",
    "#         else:\n",
    "#             forest = RandomForestClassifier(**parameters)\n",
    "#         forest.fit(data.drop(target, axis=1), data[target])\n",
    "\n",
    "#         # numerical original\n",
    "#         top = []\n",
    "#         n_top = num_sign\n",
    "#         importances = forest.feature_importances_\n",
    "#         idx = np.argsort(importances)[::-1][0:n_top]\n",
    "#         feature_names = data.drop(target, axis=1).columns\n",
    "\n",
    "#         plt.figure(figsize=(20, 5))\n",
    "#         sns.barplot(x=feature_names[idx], y=importances[idx], palette=\"viridis\")\n",
    "#         top.append(feature_names[idx])\n",
    "#         plt.title(f\"What {num_sign} are the top important features to start with?\", size=14)\n",
    "#         plt.xticks(rotation=90)\n",
    "#         d = {k: v for k, v in list(zip(list(top[0]), list(importances)))}\n",
    "#         print(d)\n",
    "#         return top"
   ]
  },
  {
   "cell_type": "code",
   "execution_count": null,
   "id": "c04826b9",
   "metadata": {},
   "outputs": [],
   "source": [
    "# nonlianer_comun(train, numerical, 'target')"
   ]
  },
  {
   "cell_type": "code",
   "execution_count": null,
   "id": "8758f1c0",
   "metadata": {},
   "outputs": [],
   "source": [
    "data_stat = mc.stat_frame(train)"
   ]
  },
  {
   "cell_type": "code",
   "execution_count": null,
   "id": "eee49ad1",
   "metadata": {},
   "outputs": [],
   "source": [
    "data_stat.head(train.shape[1])"
   ]
  },
  {
   "cell_type": "code",
   "execution_count": null,
   "id": "ef16215a",
   "metadata": {},
   "outputs": [],
   "source": [
    "train['target'].nunique()"
   ]
  },
  {
   "cell_type": "code",
   "execution_count": null,
   "id": "05a23a7e",
   "metadata": {},
   "outputs": [],
   "source": [
    "# замена на 99 перцентиля на макс, 1 min\n",
    "data_perc = train[numerical].copy()\n",
    "for col in tqdm(data_perc.columns):\n",
    "    len_more_quant = data_perc.loc[data_perc[col] > data_perc[col].quantile(0.99)].shape[0]\n",
    "    len_less_quant = data_perc.loc[data_perc[col] < data_perc[col].quantile(0.01)].shape[0]\n",
    "    if len_more_quant > 0:\n",
    "        data_perc.loc[data_perc[col] > data_perc[col].quantile(0.99), col] = data_perc[col].quantile(0.99)\n",
    "    if len_less_quant > 0:\n",
    "        data_perc.loc[data_perc[col] < data_perc[col].quantile(0.01), col] = data_perc[col].quantile(0.01)"
   ]
  },
  {
   "cell_type": "code",
   "execution_count": null,
   "id": "0b240cc6",
   "metadata": {},
   "outputs": [],
   "source": [
    "# train = train.dropna()"
   ]
  },
  {
   "cell_type": "code",
   "execution_count": null,
   "id": "b9a87e9a",
   "metadata": {},
   "outputs": [],
   "source": [
    "# train['target'].nunique()"
   ]
  },
  {
   "cell_type": "code",
   "execution_count": null,
   "id": "5bf940ff",
   "metadata": {},
   "outputs": [],
   "source": [
    "train.shape"
   ]
  },
  {
   "cell_type": "markdown",
   "id": "a95ca954",
   "metadata": {},
   "source": [
    "# memory"
   ]
  },
  {
   "cell_type": "code",
   "execution_count": null,
   "id": "c6d7e2c4",
   "metadata": {},
   "outputs": [],
   "source": [
    "# train = mc.optim_memory(train)"
   ]
  },
  {
   "cell_type": "code",
   "execution_count": null,
   "id": "a26daa0c",
   "metadata": {},
   "outputs": [],
   "source": [
    "# train.to_csv(\"train_new.csv\", index=False)"
   ]
  },
  {
   "cell_type": "markdown",
   "id": "4f5ca436",
   "metadata": {},
   "source": [
    "# kmeans"
   ]
  },
  {
   "cell_type": "code",
   "execution_count": null,
   "id": "5d755096",
   "metadata": {},
   "outputs": [],
   "source": [
    "from sklearn.cluster import KMeans\n",
    "from sklearn import metrics\n",
    "from scipy.spatial.distance import cdist"
   ]
  },
  {
   "cell_type": "code",
   "execution_count": null,
   "id": "934d536f",
   "metadata": {},
   "outputs": [],
   "source": [
    "train = mc.median_mode(train)"
   ]
  },
  {
   "cell_type": "code",
   "execution_count": null,
   "id": "15893c79",
   "metadata": {},
   "outputs": [],
   "source": [
    "def find_num_cluster(data):\n",
    "    distortions = []\n",
    "    inertias = []\n",
    "    mapping1 = {}\n",
    "    mapping2 = {}\n",
    "    K = range(1, 10)\n",
    "\n",
    "    for k in K:\n",
    "        print(f\"fit model, cluster: {k}\")\n",
    "        # Building and fitting the model\n",
    "        kmeanModel = KMeans(n_clusters=k).fit(data)\n",
    "    #     kmeanModel.fit(X)\n",
    "        \n",
    "        distortions.append(sum(np.min(cdist(train, kmeanModel.cluster_centers_,\n",
    "                                            'cosine'), axis=1)) / train.shape[0])\n",
    "        inertias.append(kmeanModel.inertia_)\n",
    "\n",
    "        mapping1[k] = sum(np.min(cdist(train, kmeanModel.cluster_centers_,\n",
    "                                       'cosine'), axis=1)) / train.shape[0]\n",
    "        mapping2[k] = kmeanModel.inertia_\n",
    "        \n",
    "        \n",
    "    plt.plot(K, distortions, 'bx-')\n",
    "    plt.xlabel('Values of K')\n",
    "    plt.ylabel('Distortion')\n",
    "    plt.title('The Elbow Method using Distortion')\n",
    "    plt.show()"
   ]
  },
  {
   "cell_type": "code",
   "execution_count": null,
   "id": "fea41b33",
   "metadata": {},
   "outputs": [],
   "source": [
    "plt.plot(K, distortions, 'bx-')\n",
    "plt.xlabel('Values of K')\n",
    "plt.ylabel('Distortion')\n",
    "plt.title('The Elbow Method using Distortion')\n",
    "plt.show()"
   ]
  },
  {
   "cell_type": "markdown",
   "id": "e705e157",
   "metadata": {},
   "source": [
    "# графики"
   ]
  },
  {
   "cell_type": "code",
   "execution_count": null,
   "id": "f82cddf8",
   "metadata": {},
   "outputs": [],
   "source": [
    "np.zeros(5) * [1,2,3,4,5]"
   ]
  },
  {
   "cell_type": "code",
   "execution_count": null,
   "id": "36330c1c",
   "metadata": {},
   "outputs": [],
   "source": [
    "sns.scatterplot(data=train['target'].unique())"
   ]
  },
  {
   "cell_type": "code",
   "execution_count": null,
   "id": "4d3a127a",
   "metadata": {},
   "outputs": [],
   "source": [
    "sns.scatterplot(data=train['target'].sample(10000).unique())"
   ]
  },
  {
   "cell_type": "code",
   "execution_count": null,
   "id": "a4af6124",
   "metadata": {},
   "outputs": [],
   "source": [
    "np.ones(len(train['target'].unique()))* train['target'].std()"
   ]
  },
  {
   "cell_type": "code",
   "execution_count": null,
   "id": "3b2f3cae",
   "metadata": {},
   "outputs": [],
   "source": [
    "train.columns"
   ]
  },
  {
   "cell_type": "code",
   "execution_count": null,
   "id": "62ba5e48",
   "metadata": {},
   "outputs": [],
   "source": [
    "cols = ['seconds_in_bucket', 'imbalance_size',\n",
    "       'imbalance_buy_sell_flag', 'reference_price', 'matched_size',\n",
    "       'far_price', 'near_price', 'bid_price', 'bid_size', 'ask_price',\n",
    "       'ask_size', 'wap', 'target', 'time_id']"
   ]
  },
  {
   "cell_type": "code",
   "execution_count": null,
   "id": "8ba43c2e",
   "metadata": {},
   "outputs": [],
   "source": [
    "for i, col in enumerate(train[cols]):\n",
    "    plt.figure(i)\n",
    "\n",
    "    sns.scatterplot(data=train.sample(10000), x='target', y=col, sizes=(20, 200))"
   ]
  },
  {
   "cell_type": "code",
   "execution_count": null,
   "id": "2c011a8a",
   "metadata": {},
   "outputs": [],
   "source": [
    "for i, col in enumerate(train[cols]):\n",
    "    plt.figure(i)\n",
    "    sns.countplot(x=col, data=train[cols].sample(10000))"
   ]
  }
 ],
 "metadata": {
  "kernelspec": {
   "display_name": "Python 3 (ipykernel)",
   "language": "python",
   "name": "python3"
  },
  "language_info": {
   "codemirror_mode": {
    "name": "ipython",
    "version": 3
   },
   "file_extension": ".py",
   "mimetype": "text/x-python",
   "name": "python",
   "nbconvert_exporter": "python",
   "pygments_lexer": "ipython3",
   "version": "3.7.9"
  }
 },
 "nbformat": 4,
 "nbformat_minor": 5
}
