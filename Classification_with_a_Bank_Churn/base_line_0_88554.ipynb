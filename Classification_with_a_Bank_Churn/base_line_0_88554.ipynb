{
 "cells": [
  {
   "cell_type": "code",
   "execution_count": 29,
   "id": "8455e9c6-259f-4d4f-b343-3d4f5d18d868",
   "metadata": {},
   "outputs": [],
   "source": [
    "from typing import List, Optional\n",
    "import pandas as pd; pd.set_option('display.max_columns', 100)\n",
    "from pandas.core.common import flatten\n",
    "import numpy as np\n",
    "import shap\n",
    "from datetime import datetime\n",
    "\n",
    "from tqdm.notebook import tqdm\n",
    "\n",
    "import re\n",
    "import os\n",
    "\n",
    "from functools import partial\n",
    "from scipy.stats import mode\n",
    "from scipy.spatial.distance import cdist\n",
    "\n",
    "import matplotlib.pyplot as plt; plt.style.use('ggplot')\n",
    "import seaborn as sns\n",
    "# import plotly.express as px\n",
    "\n",
    "from sklearn.tree import DecisionTreeClassifier, plot_tree\n",
    "from sklearn.preprocessing import LabelEncoder, StandardScaler, MinMaxScaler,PowerTransformer, FunctionTransformer, OneHotEncoder\n",
    "from sklearn.decomposition import TruncatedSVD\n",
    "from sklearn.pipeline import make_pipeline, Pipeline\n",
    "from sklearn.decomposition import PCA\n",
    "from sklearn.cluster import KMeans\n",
    "from sklearn.compose import ColumnTransformer\n",
    "from sklearn.impute import KNNImputer\n",
    "from sklearn.multiclass import OneVsRestClassifier\n",
    "from sklearn.model_selection import KFold, StratifiedKFold, train_test_split, GridSearchCV, RepeatedStratifiedKFold\n",
    "from sklearn.metrics import roc_auc_score, roc_curve, RocCurveDisplay, cohen_kappa_score, log_loss, f1_score\n",
    "from sklearn.discriminant_analysis import LinearDiscriminantAnalysis, QuadraticDiscriminantAnalysis\n",
    "from sklearn.neighbors import KNeighborsClassifier\n",
    "from sklearn.feature_selection import RFE, RFECV\n",
    "from sklearn.isotonic import IsotonicRegression\n",
    "from sklearn.calibration import CalibrationDisplay\n",
    "from sklearn.inspection import PartialDependenceDisplay, permutation_importance\n",
    "from sklearn.linear_model import LogisticRegression\n",
    "from collections import Counter\n",
    "from sklearn.ensemble import RandomForestClassifier, HistGradientBoostingClassifier, GradientBoostingClassifier, ExtraTreesClassifier\n",
    "from sklearn.svm import SVC\n",
    "from sklearn.base import BaseEstimator, TransformerMixin\n",
    "from sklearn.utils.validation import check_is_fitted\n",
    "from lightgbm import LGBMClassifier\n",
    "from xgboost import XGBClassifier\n",
    "from catboost import CatBoostClassifier\n",
    "\n",
    "from sklearn.manifold import TSNE\n",
    "# import optuna\n",
    "import catboost as cb\n",
    "import xgboost as xgb\n",
    "\n",
    "from View import MyClass\n",
    "mc = MyClass()\n",
    "\n",
    "import warnings\n",
    "warnings.filterwarnings('ignore')"
   ]
  },
  {
   "cell_type": "code",
   "execution_count": 30,
   "id": "6d00d384-a2ef-4689-bc40-d8bc83872654",
   "metadata": {},
   "outputs": [],
   "source": [
    "params_cb = {\n",
    "        \"n_estimators\": 1993,\n",
    "        \"learning_rate\": 0.009906548674016816,\n",
    "        \"subsample\": 0.5000411100811685,\n",
    "#         'colsample_bylevel': 0.5853177112754828,\n",
    "        \"loss_function\": \"Logloss\",\n",
    "        \"eval_metric\": \"AUC\",\n",
    "        \"task_type\": \"CPU\",\n",
    "        #\"max_bin\": 20,\n",
    "        \"verbose\": False,\n",
    "        \"max_depth\": 5,\n",
    "        \"l2_leaf_reg\": 20,\n",
    "        \"early_stopping_rounds\": 100,\n",
    "#         \"thread_count\": 6,\n",
    "        # \"random_seed\": 42,\n",
    "        \"class_weights\" : (1, 2),\n",
    "        \"random_state\": 42\n",
    "        }\n",
    "params_lgbm = {\"objective\":'binary',\n",
    "          \"n_estimators\" : 3000,\n",
    "                             \"max_depth\" : 6,\n",
    "                             \"learning_rate\" : 0.01,\n",
    "                             \"num_leaves\" : 20,\n",
    "                             \"reg_alpha\" : 4,\n",
    "                             \"reg_lambda\" : 4,\n",
    "                             \"subsample\" : 0.7,\n",
    "                             \"colsample_bytree\" : 0.7,\n",
    "                             \"verbose\" : -100,\n",
    "                              \"min_data_in_bin\": 1,\n",
    "                              \"min_data_in_leaf\" : 1\n",
    "}\n",
    "params_xgb = {\n",
    "            # \"objective\":'binary',\n",
    "            'max_delta_step': 3,\n",
    "            'min_child_weight': 2,\n",
    "            \"n_estimators\" : 2466,\n",
    "            'alpha': 2,\n",
    "             'colsample_bytree': 0.7,\n",
    "             'eta': 0.003419782719339618,\n",
    "             'gamma': 1,\n",
    "             'lambda': 1,\n",
    "             'max_depth': 8,\n",
    "             'subsample': 0.31098721316506717\n",
    "}"
   ]
  },
  {
   "cell_type": "code",
   "execution_count": 31,
   "id": "98cbebee-199c-4476-9f4c-66f30d93db18",
   "metadata": {},
   "outputs": [
    {
     "name": "stdout",
     "output_type": "stream",
     "text": [
      "Визуализация и предобработка данных\n",
      "_________________________________________________\n",
      "* Метод \"view_csv\" принимает DataFrame и выводит данные о нем\n",
      "возвращает categorical, numerical\n",
      "\n",
      "* Метод \"stat_frame\" принимает DataFrame и возвращает DataFrame со статистиками\n",
      "\n",
      "* Метод corr(data, target):\n",
      "data: DataFrame\n",
      "target : str\n",
      "\n",
      "Работа с данными\n",
      "__________________________________________________\n",
      "\n",
      "* Графики\n",
      "* Метод connect_sign(train, test, columns) Определяет похожи ли признаки в train и test\n",
      "train, test: DataFrame\n",
      "columns: list( список колонок без целевой переменной)\n",
      "\n",
      "* Метод distribution_sign(train, numerical, target_name='target', log=False): распределение признаков\n",
      "train: DataFrame\n",
      "numerical: признаки числовые\n",
      "target_name: str имя целевой переменной\n",
      "log: bool если нужно логарифмировать признаки\n",
      "\n",
      "* Метод similarity_sign(data, data_test, numericaal): похожесть признаков и вычисление p-value\n",
      "data, data_test: DataFrame\n",
      "numericaal: list числовые признаки\n",
      "\n",
      "* Метод transformer(train, test, cont_cols, target) создает новые столбцы используя математические преобразования\n",
      "log, sqrt, box_cox, Yeo-Johnson\n",
      "train, test: DataFrame\n",
      "cont_cols: list( колонки для преобразования)\n",
      "target: str\n",
      "return train_copy, test_copy\n",
      "\n",
      "* Метод encoder(data, data_t, aggs): кодирует категориальные признаки OneHot, Label, frequency\n",
      "data, data_t: DataFrame\n",
      "aggs: list ( список признаков для кодирования)\n",
      "return: data, data_test\n",
      "\n",
      "* Метод \"median_mode\" меняет в числовых данных пропуски на медиану, в категориальных на моду\n",
      "\n",
      "* Метод \"percentile_99_1\" принимает data: DataFrame, data_stat : DataFrame( возвращает метод \"stat_frame\")\n",
      "возвращат данные где больше 99 перцетиля и меньше 1(используется метод for, не рекомендуется где очень много столбцов)\n",
      "\n",
      "* метод \"shap\" (model, X_train, shap_limit=0) выводит наиболеее важные признаки\n",
      "model: model, X_train: данные на которых обучалась модель, shap_limit: порог для наихудших признаков\n",
      "возвращает признаки с важностью с порогом равным или меньше (shap_limit)\n",
      "и словарь признаков отсортированный по важности\n",
      "return bad_feature, dict_feature\n",
      "\n",
      "* метод split_group (data, features: List)\n",
      "Разбивает некоторые признаки на 5 групп\n",
      "возвращает data: DataFrame\n",
      "\n",
      "Разбиение данных\n",
      "____________________________________________________\n",
      "\n",
      "* Метод \"train_split_dis\" - Разбиение данных с несбалансированной бинарной целевой переменной\n",
      "на train, test, valid по умолчанию test_size = 0.2, valid_size=0.2\n",
      "принимает data: DataFrame, y: str(имя целевой переменной), valid_size: float, test_size: float\n",
      "min_sign: int(значение target которых мало)\n",
      "возвращает x_train, x_valid, y_train, y_valid, x_test, y_test\n",
      "\n",
      "* Метод \"train_split\" - Разбиение данных на train, test, valid по умолчанию test_size = 0.2, valid_size=0.2\n",
      "принимает data: DataFrame, y: str(имя целевой переменной), valid_size: float, test_size: float\n",
      "возвращает x_train, x_valid, y_train, y_valid, x_test, y_test\n",
      "\n",
      "Обучение Моделей\n",
      "__________________________________________________\n",
      "\n",
      "* Метод hill_climbing(x, y, x_test=None) находит лучший коэффициент для обьеденения предсказаний нескольких моделей\n",
      "пример: (oof_1 * n1 + oof_2 * n2 + oof_3 * n3) (n1+n2+n3) = 1\n",
      "x, x_test : DataFrame({model: oof,\n",
      "                       model_2: oof_2})\n",
      "y: список целевых ответов для модели X_train['target']\n",
      "x_test если нужны предсказания для тестовых данных\n",
      "\n",
      "* Метод fit_kfold (data, target, model, name_model, params=False, trh_flag=False, threshold=0.4, fold=10, best_sign=5,\n",
      "                  oof=False, eval_set=False)\n",
      "trh_flag: параметр bool, если True модель предсказывает вероятность нужно указать порог: threshold\n",
      "выше какого значения будет еденица\n",
      "best_sign: возвращает лучшие для модели признаки по умолч: 5\n",
      "eval_set: bool если True данные делятся на train, test, valid и при обучении будет следить за переобучением\n",
      "\n",
      "return Model_md, dict_fold\n",
      "\n",
      "Model_md: модель\n",
      "dict_fold: словарь с id строк на разных фолдах( можно взять тот фолд где лучший прогноз)\n",
      "\n",
      "* Метод \"catboost_base\" -BaseLine принимает x:DataFrame, x_val:DataFrame, y: Series, y_val: Series,params:dict\n",
      "параметры catboost: None, можно передать\n",
      "возвращает модель\n",
      "\n",
      "* Метод \"xgb_base\" -BaseLine принимает x:DataFrame, x_val:DataFrame, y: Series, y_val: Series,params:dict\n",
      "параметры xgboost: None, можно передать\n",
      "возвращает модель\n",
      "\n",
      "* Метод \"forest_base\" -BaseLine принимает x:DataFrame, x_val:DataFrame, y: Series, y_val: Series,\n",
      "возвращает модель\n",
      "\n",
      "    \n"
     ]
    }
   ],
   "source": [
    "print(mc.__doc__)"
   ]
  },
  {
   "cell_type": "code",
   "execution_count": 32,
   "id": "e7c93b9b-e8fb-414e-8120-3af1e8fe622b",
   "metadata": {},
   "outputs": [
    {
     "data": {
      "text/plain": [
       "['sample_submission.csv', 'test.csv', 'train.csv']"
      ]
     },
     "execution_count": 32,
     "metadata": {},
     "output_type": "execute_result"
    }
   ],
   "source": [
    "os.listdir('data')"
   ]
  },
  {
   "cell_type": "code",
   "execution_count": 33,
   "id": "393106c1-63e1-4b48-826d-02d372b4d7ce",
   "metadata": {},
   "outputs": [],
   "source": [
    "train = pd.read_csv('data/train.csv')\n",
    "test = pd.read_csv('data/test.csv')\n",
    "sub = pd.read_csv('data/sample_submission.csv')"
   ]
  },
  {
   "cell_type": "code",
   "execution_count": null,
   "id": "154d5575-ffbb-4cff-b2e1-dcd806563879",
   "metadata": {},
   "outputs": [],
   "source": []
  },
  {
   "cell_type": "code",
   "execution_count": 34,
   "id": "a2e45597-b18c-4cd4-9279-47ae0b4d1594",
   "metadata": {},
   "outputs": [
    {
     "name": "stdout",
     "output_type": "stream",
     "text": [
      "rows: 165034, cols: 14\n",
      "\n",
      "Категориальные признаки: \n",
      "Всего категориальных признаков: 3\n",
      "surname уникальных значений: 2797\n",
      "geography уникальных значений: 3, ['France' 'Spain' 'Germany']\n",
      "gender уникальных значений: 2, ['Male' 'Female']\n",
      "\n",
      "Числовые признаки: \n",
      "\n",
      "Всего числовых признаков: 11\n",
      "['exited', 'creditscore', 'balance', 'tenure', 'numofproducts', 'isactivemember', 'estimatedsalary', 'age', 'id', 'customerid', 'hascrcard']\n",
      " для проверки isna: 0\n",
      " для проверки isna: 0\n",
      " для проверки isna: 0\n",
      " для проверки isna: 0\n",
      " для проверки isna: 0\n",
      " для проверки isna: 0\n",
      " для проверки isna: 0\n",
      " для проверки isna: 0\n",
      " для проверки isna: 0\n",
      " для проверки isna: 0\n",
      " для проверки isna: 0\n",
      " для проверки isna: 0\n",
      " для проверки isna: 0\n",
      " для проверки isna: 0\n",
      "В данных пропусков нету\n",
      "rows: 110023, cols: 13\n",
      "\n",
      "Категориальные признаки: \n",
      "Всего категориальных признаков: 3\n",
      "surname уникальных значений: 2708\n",
      "geography уникальных значений: 3, ['France' 'Germany' 'Spain']\n",
      "gender уникальных значений: 2, ['Female' 'Male']\n",
      "\n",
      "Числовые признаки: \n",
      "\n",
      "Всего числовых признаков: 10\n",
      "['creditscore', 'balance', 'tenure', 'numofproducts', 'isactivemember', 'estimatedsalary', 'age', 'id', 'customerid', 'hascrcard']\n",
      " для проверки isna: 0\n",
      " для проверки isna: 0\n",
      " для проверки isna: 0\n",
      " для проверки isna: 0\n",
      " для проверки isna: 0\n",
      " для проверки isna: 0\n",
      " для проверки isna: 0\n",
      " для проверки isna: 0\n",
      " для проверки isna: 0\n",
      " для проверки isna: 0\n",
      " для проверки isna: 0\n",
      " для проверки isna: 0\n",
      " для проверки isna: 0\n",
      "В данных пропусков нету\n"
     ]
    }
   ],
   "source": [
    "cat, num = mc.view_csv(train)\n",
    "cat_t, num_t = mc.view_csv(test)"
   ]
  },
  {
   "cell_type": "code",
   "execution_count": 35,
   "id": "989dfb90-fd66-46ca-b96d-73b040b948d0",
   "metadata": {},
   "outputs": [
    {
     "data": {
      "text/plain": [
       "exited\n",
       "0    130113\n",
       "1     34921\n",
       "Name: count, dtype: int64"
      ]
     },
     "execution_count": 35,
     "metadata": {},
     "output_type": "execute_result"
    }
   ],
   "source": [
    "train['exited'].value_counts()"
   ]
  },
  {
   "cell_type": "code",
   "execution_count": 36,
   "id": "73c38f3d-05c8-4f9c-9059-f8b12ef27df4",
   "metadata": {},
   "outputs": [
    {
     "data": {
      "text/plain": [
       "3"
      ]
     },
     "execution_count": 36,
     "metadata": {},
     "output_type": "execute_result"
    }
   ],
   "source": [
    "130113//34921"
   ]
  },
  {
   "cell_type": "code",
   "execution_count": 37,
   "id": "9ce9325c-bb4c-4365-a3b4-5e2919f58f6a",
   "metadata": {},
   "outputs": [],
   "source": [
    "train = train.drop(\"surname\", axis=1)\n",
    "test = test.drop(\"surname\", axis=1)"
   ]
  },
  {
   "cell_type": "code",
   "execution_count": 38,
   "id": "68a5fb56-e2f7-4a9e-a68c-1343d24504dc",
   "metadata": {},
   "outputs": [],
   "source": [
    "aggs = ['geography', 'gender']"
   ]
  },
  {
   "cell_type": "code",
   "execution_count": 39,
   "id": "0b1280bb-7a38-40c4-bf97-086ba2ff44dc",
   "metadata": {},
   "outputs": [
    {
     "name": "stdin",
     "output_type": "stream",
     "text": [
      "тип кодирования 1: OneHot, 2: LabelEncoder, 3: frequency 1\n"
     ]
    },
    {
     "name": "stdout",
     "output_type": "stream",
     "text": [
      "Готово, размер:  (165034, 18) (110023, 17)\n"
     ]
    }
   ],
   "source": [
    "train, test = mc.encoder(train, test, aggs)"
   ]
  },
  {
   "cell_type": "code",
   "execution_count": 40,
   "id": "71de9169-c87a-4c95-bb73-354f0d11425c",
   "metadata": {},
   "outputs": [],
   "source": [
    "train = train.drop(aggs, axis=1)\n",
    "test = test.drop(aggs, axis=1)"
   ]
  },
  {
   "cell_type": "code",
   "execution_count": 41,
   "id": "6909f93d-6131-485c-859a-0418a6b85ecc",
   "metadata": {},
   "outputs": [
    {
     "name": "stdout",
     "output_type": "stream",
     "text": [
      "Fold 0 ==> catboost model ROC-AUC score is ==> 0.8916054094396608\n",
      "Fold 1 ==> catboost model ROC-AUC score is ==> 0.8876294778033774\n",
      "Fold 2 ==> catboost model ROC-AUC score is ==> 0.8907635792355211\n",
      "Fold 3 ==> catboost model ROC-AUC score is ==> 0.8878453680421\n",
      "Fold 4 ==> catboost model ROC-AUC score is ==> 0.8866894106608003\n",
      "Fold 5 ==> catboost model ROC-AUC score is ==> 0.8948137812370061\n",
      "Fold 6 ==> catboost model ROC-AUC score is ==> 0.8878077700224227\n",
      "Fold 7 ==> catboost model ROC-AUC score is ==> 0.8937882810060356\n",
      "Fold 8 ==> catboost model ROC-AUC score is ==> 0.8886974260831195\n",
      "Fold 9 ==> catboost model ROC-AUC score is ==> 0.8859956853849015\n",
      "Признаки для удаления set()\n",
      "Лучших 5  признаков: {'1', 'balance', 'numofproducts', 'isactivemember', 'age'}\n",
      "Средняя совокупность оценок ROC-AUC за 10-кратный период составляет 0.8895636188914946\n"
     ]
    }
   ],
   "source": [
    "model_cb, dict_fold_cb=  mc.fit_kfold(train, target='exited', model=cb.CatBoostClassifier ,name_model=\"catboost\",params=params_cb, trh_flag=True, threshold=0.5, fold=10, eval_set=False )"
   ]
  },
  {
   "cell_type": "code",
   "execution_count": 42,
   "id": "47b0bcbf-666e-4552-a8d9-2eeb9bc8fd42",
   "metadata": {},
   "outputs": [],
   "source": [
    "trh = 0.5\n",
    "pred = model_cb.predict_proba(test)[:,1]\n",
    "# pred = np.where(pred> trh, 1, 0)\n",
    "sub[\"Exited\"] = pred\n",
    "if os.path.exists(\"submission\") == False:\n",
    "    os.mkdir(\"submission\")\n",
    "sub.to_csv(\"submission/submissions.csv\", index=False)"
   ]
  },
  {
   "cell_type": "code",
   "execution_count": 22,
   "id": "04dfd198-b7c8-4548-8878-af9bb2120797",
   "metadata": {},
   "outputs": [
    {
     "data": {
      "text/html": [
       "<div>\n",
       "<style scoped>\n",
       "    .dataframe tbody tr th:only-of-type {\n",
       "        vertical-align: middle;\n",
       "    }\n",
       "\n",
       "    .dataframe tbody tr th {\n",
       "        vertical-align: top;\n",
       "    }\n",
       "\n",
       "    .dataframe thead th {\n",
       "        text-align: right;\n",
       "    }\n",
       "</style>\n",
       "<table border=\"1\" class=\"dataframe\">\n",
       "  <thead>\n",
       "    <tr style=\"text-align: right;\">\n",
       "      <th></th>\n",
       "      <th>id</th>\n",
       "      <th>Exited</th>\n",
       "    </tr>\n",
       "  </thead>\n",
       "  <tbody>\n",
       "    <tr>\n",
       "      <th>0</th>\n",
       "      <td>165034</td>\n",
       "      <td>0.5</td>\n",
       "    </tr>\n",
       "    <tr>\n",
       "      <th>1</th>\n",
       "      <td>165035</td>\n",
       "      <td>0.5</td>\n",
       "    </tr>\n",
       "    <tr>\n",
       "      <th>2</th>\n",
       "      <td>165036</td>\n",
       "      <td>0.5</td>\n",
       "    </tr>\n",
       "    <tr>\n",
       "      <th>3</th>\n",
       "      <td>165037</td>\n",
       "      <td>0.5</td>\n",
       "    </tr>\n",
       "    <tr>\n",
       "      <th>4</th>\n",
       "      <td>165038</td>\n",
       "      <td>0.5</td>\n",
       "    </tr>\n",
       "  </tbody>\n",
       "</table>\n",
       "</div>"
      ],
      "text/plain": [
       "       id  Exited\n",
       "0  165034     0.5\n",
       "1  165035     0.5\n",
       "2  165036     0.5\n",
       "3  165037     0.5\n",
       "4  165038     0.5"
      ]
     },
     "execution_count": 22,
     "metadata": {},
     "output_type": "execute_result"
    }
   ],
   "source": [
    "sub.head()"
   ]
  }
 ],
 "metadata": {
  "kernelspec": {
   "display_name": "Python 3 (ipykernel)",
   "language": "python",
   "name": "python3"
  },
  "language_info": {
   "codemirror_mode": {
    "name": "ipython",
    "version": 3
   },
   "file_extension": ".py",
   "mimetype": "text/x-python",
   "name": "python",
   "nbconvert_exporter": "python",
   "pygments_lexer": "ipython3",
   "version": "3.11.0"
  }
 },
 "nbformat": 4,
 "nbformat_minor": 5
}
