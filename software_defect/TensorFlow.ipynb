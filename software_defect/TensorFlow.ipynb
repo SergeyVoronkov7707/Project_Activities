{
 "cells": [
  {
   "cell_type": "code",
   "execution_count": 251,
   "id": "987e7c97",
   "metadata": {},
   "outputs": [],
   "source": [
    "import numpy as np \n",
    "import pandas as pd \n",
    "import os\n",
    "import tempfile\n",
    "\n",
    "\n",
    "import seaborn as sns\n",
    "import matplotlib as mpl\n",
    "import matplotlib.pyplot as plt\n",
    "%matplotlib inline\n",
    "\n",
    "import sklearn\n",
    "from sklearn.metrics import confusion_matrix, roc_auc_score\n",
    "from sklearn.utils.class_weight import compute_class_weight\n",
    "from sklearn.model_selection import train_test_split\n",
    "from sklearn.compose import ColumnTransformer\n",
    "from sklearn.preprocessing import StandardScaler, MinMaxScaler, RobustScaler, PowerTransformer, FunctionTransformer\n",
    "from sklearn.pipeline import Pipeline\n",
    "      \n",
    "    \n",
    "import tensorflow as tf\n",
    "from tensorflow import keras\n",
    "from tqdm.keras import TqdmCallback"
   ]
  },
  {
   "cell_type": "code",
   "execution_count": 252,
   "id": "70684470",
   "metadata": {},
   "outputs": [],
   "source": [
    "import optuna\n",
    "from optuna.visualization import plot_optimization_history,  plot_param_importances\n",
    "\n",
    "\n",
    "import warnings\n",
    "warnings.filterwarnings(\"ignore\")\n",
    "\n",
    "OPTUNA = False\n",
    "REFINE = False"
   ]
  },
  {
   "cell_type": "code",
   "execution_count": 253,
   "id": "b5b9e277",
   "metadata": {},
   "outputs": [],
   "source": [
    "train = pd.read_csv('train.csv')\n",
    "test = pd.read_csv('test.csv')\n",
    "sample_submission = pd.read_csv('sample_submission.csv')"
   ]
  },
  {
   "cell_type": "code",
   "execution_count": 254,
   "id": "d4143004",
   "metadata": {},
   "outputs": [
    {
     "data": {
      "text/html": [
       "<div>\n",
       "<style scoped>\n",
       "    .dataframe tbody tr th:only-of-type {\n",
       "        vertical-align: middle;\n",
       "    }\n",
       "\n",
       "    .dataframe tbody tr th {\n",
       "        vertical-align: top;\n",
       "    }\n",
       "\n",
       "    .dataframe thead th {\n",
       "        text-align: right;\n",
       "    }\n",
       "</style>\n",
       "<table border=\"1\" class=\"dataframe\">\n",
       "  <thead>\n",
       "    <tr style=\"text-align: right;\">\n",
       "      <th></th>\n",
       "      <th>id</th>\n",
       "      <th>loc</th>\n",
       "      <th>v(g)</th>\n",
       "      <th>ev(g)</th>\n",
       "      <th>iv(g)</th>\n",
       "      <th>n</th>\n",
       "      <th>v</th>\n",
       "      <th>l</th>\n",
       "      <th>d</th>\n",
       "      <th>i</th>\n",
       "      <th>...</th>\n",
       "      <th>lOCode</th>\n",
       "      <th>lOComment</th>\n",
       "      <th>lOBlank</th>\n",
       "      <th>locCodeAndComment</th>\n",
       "      <th>uniq_Op</th>\n",
       "      <th>uniq_Opnd</th>\n",
       "      <th>total_Op</th>\n",
       "      <th>total_Opnd</th>\n",
       "      <th>branchCount</th>\n",
       "      <th>defects</th>\n",
       "    </tr>\n",
       "  </thead>\n",
       "  <tbody>\n",
       "    <tr>\n",
       "      <th>0</th>\n",
       "      <td>0</td>\n",
       "      <td>22.0</td>\n",
       "      <td>3.0</td>\n",
       "      <td>1.0</td>\n",
       "      <td>2.0</td>\n",
       "      <td>60.0</td>\n",
       "      <td>278.63</td>\n",
       "      <td>0.06</td>\n",
       "      <td>19.56</td>\n",
       "      <td>14.25</td>\n",
       "      <td>...</td>\n",
       "      <td>17</td>\n",
       "      <td>1</td>\n",
       "      <td>1</td>\n",
       "      <td>0</td>\n",
       "      <td>16.0</td>\n",
       "      <td>9.0</td>\n",
       "      <td>38.0</td>\n",
       "      <td>22.0</td>\n",
       "      <td>5.0</td>\n",
       "      <td>False</td>\n",
       "    </tr>\n",
       "    <tr>\n",
       "      <th>1</th>\n",
       "      <td>1</td>\n",
       "      <td>14.0</td>\n",
       "      <td>2.0</td>\n",
       "      <td>1.0</td>\n",
       "      <td>2.0</td>\n",
       "      <td>32.0</td>\n",
       "      <td>151.27</td>\n",
       "      <td>0.14</td>\n",
       "      <td>7.00</td>\n",
       "      <td>21.11</td>\n",
       "      <td>...</td>\n",
       "      <td>11</td>\n",
       "      <td>0</td>\n",
       "      <td>1</td>\n",
       "      <td>0</td>\n",
       "      <td>11.0</td>\n",
       "      <td>11.0</td>\n",
       "      <td>18.0</td>\n",
       "      <td>14.0</td>\n",
       "      <td>3.0</td>\n",
       "      <td>False</td>\n",
       "    </tr>\n",
       "    <tr>\n",
       "      <th>2</th>\n",
       "      <td>2</td>\n",
       "      <td>11.0</td>\n",
       "      <td>2.0</td>\n",
       "      <td>1.0</td>\n",
       "      <td>2.0</td>\n",
       "      <td>45.0</td>\n",
       "      <td>197.65</td>\n",
       "      <td>0.11</td>\n",
       "      <td>8.05</td>\n",
       "      <td>22.76</td>\n",
       "      <td>...</td>\n",
       "      <td>8</td>\n",
       "      <td>0</td>\n",
       "      <td>1</td>\n",
       "      <td>0</td>\n",
       "      <td>12.0</td>\n",
       "      <td>11.0</td>\n",
       "      <td>28.0</td>\n",
       "      <td>17.0</td>\n",
       "      <td>3.0</td>\n",
       "      <td>False</td>\n",
       "    </tr>\n",
       "    <tr>\n",
       "      <th>3</th>\n",
       "      <td>3</td>\n",
       "      <td>8.0</td>\n",
       "      <td>1.0</td>\n",
       "      <td>1.0</td>\n",
       "      <td>1.0</td>\n",
       "      <td>23.0</td>\n",
       "      <td>94.01</td>\n",
       "      <td>0.19</td>\n",
       "      <td>5.25</td>\n",
       "      <td>17.86</td>\n",
       "      <td>...</td>\n",
       "      <td>4</td>\n",
       "      <td>0</td>\n",
       "      <td>2</td>\n",
       "      <td>0</td>\n",
       "      <td>8.0</td>\n",
       "      <td>6.0</td>\n",
       "      <td>16.0</td>\n",
       "      <td>7.0</td>\n",
       "      <td>1.0</td>\n",
       "      <td>True</td>\n",
       "    </tr>\n",
       "    <tr>\n",
       "      <th>4</th>\n",
       "      <td>4</td>\n",
       "      <td>11.0</td>\n",
       "      <td>2.0</td>\n",
       "      <td>1.0</td>\n",
       "      <td>2.0</td>\n",
       "      <td>17.0</td>\n",
       "      <td>60.94</td>\n",
       "      <td>0.18</td>\n",
       "      <td>5.63</td>\n",
       "      <td>12.44</td>\n",
       "      <td>...</td>\n",
       "      <td>7</td>\n",
       "      <td>0</td>\n",
       "      <td>2</td>\n",
       "      <td>0</td>\n",
       "      <td>7.0</td>\n",
       "      <td>6.0</td>\n",
       "      <td>10.0</td>\n",
       "      <td>10.0</td>\n",
       "      <td>3.0</td>\n",
       "      <td>False</td>\n",
       "    </tr>\n",
       "  </tbody>\n",
       "</table>\n",
       "<p>5 rows × 23 columns</p>\n",
       "</div>"
      ],
      "text/plain": [
       "   id   loc  v(g)  ev(g)  iv(g)     n       v     l      d      i  ...  \\\n",
       "0   0  22.0   3.0    1.0    2.0  60.0  278.63  0.06  19.56  14.25  ...   \n",
       "1   1  14.0   2.0    1.0    2.0  32.0  151.27  0.14   7.00  21.11  ...   \n",
       "2   2  11.0   2.0    1.0    2.0  45.0  197.65  0.11   8.05  22.76  ...   \n",
       "3   3   8.0   1.0    1.0    1.0  23.0   94.01  0.19   5.25  17.86  ...   \n",
       "4   4  11.0   2.0    1.0    2.0  17.0   60.94  0.18   5.63  12.44  ...   \n",
       "\n",
       "   lOCode  lOComment  lOBlank  locCodeAndComment  uniq_Op  uniq_Opnd  \\\n",
       "0      17          1        1                  0     16.0        9.0   \n",
       "1      11          0        1                  0     11.0       11.0   \n",
       "2       8          0        1                  0     12.0       11.0   \n",
       "3       4          0        2                  0      8.0        6.0   \n",
       "4       7          0        2                  0      7.0        6.0   \n",
       "\n",
       "   total_Op  total_Opnd  branchCount  defects  \n",
       "0      38.0        22.0          5.0    False  \n",
       "1      18.0        14.0          3.0    False  \n",
       "2      28.0        17.0          3.0    False  \n",
       "3      16.0         7.0          1.0     True  \n",
       "4      10.0        10.0          3.0    False  \n",
       "\n",
       "[5 rows x 23 columns]"
      ]
     },
     "execution_count": 254,
     "metadata": {},
     "output_type": "execute_result"
    }
   ],
   "source": [
    "train.head()"
   ]
  },
  {
   "cell_type": "code",
   "execution_count": 255,
   "id": "d693d0e7",
   "metadata": {},
   "outputs": [],
   "source": [
    "def correlation(dataset, threshold):\n",
    "    col_corr = set()  # Set of all the names of correlated columns\n",
    "    corr_matrix = dataset.corr()\n",
    "    for i in range(len(corr_matrix.columns)):\n",
    "        for j in range(i):\n",
    "            if abs(corr_matrix.iloc[i, j]) > threshold: # we are interested in absolute coeff value\n",
    "                colname = corr_matrix.columns[i]  # getting the name of column\n",
    "                col_corr.add(colname)\n",
    "    return col_corr\n",
    "\n",
    "def plot_curves(hist):\n",
    "    \n",
    "    # create subplots\n",
    "    fig, ax = plt.subplots(nrows=1, ncols=2, figsize=(15, 8))\n",
    "    \n",
    "    # plot accuracy curve\n",
    "    ax[0].plot(hist.history['auc'])\n",
    "    ax[0].plot(hist.history['val_auc'])\n",
    "    ax[0].set_title('model auc')\n",
    "    ax[0].set_xlabel('epoch')\n",
    "    ax[0].set_ylabel('auc')\n",
    "    ax[0].legend(['train', 'val'], loc='best')\n",
    "    \n",
    "    # plot loss curve\n",
    "    ax[1].plot(hist.history['loss'])\n",
    "    ax[1].plot(hist.history['val_loss'])\n",
    "    ax[1].set_title('model loss')\n",
    "    ax[1].set_xlabel('epoch')\n",
    "    ax[1].set_ylabel('loss')\n",
    "    ax[1].legend(['train', 'val'], loc='upper right')    \n",
    "    \n",
    "    plt.show()\n",
    "    \n",
    "def plot_cm(labels, predictions, p=0.5):\n",
    "    cm = confusion_matrix(labels, predictions > p)\n",
    "    plt.figure(figsize=(5,5))\n",
    "    sns.heatmap(cm, annot=True, fmt=\"d\")\n",
    "    plt.title('Confusion matrix @{:.2f}'.format(p))\n",
    "    plt.ylabel('Actual label')\n",
    "    plt.xlabel('Predicted label')\n",
    "\n",
    "    print('Legitimate Transactions Detected (True Negatives): ', cm[0][0])\n",
    "    print('Legitimate Transactions Incorrectly Detected (False Positives): ', cm[0][1])\n",
    "    print('Fraudulent Transactions Missed (False Negatives): ', cm[1][0])\n",
    "    print('Fraudulent Transactions Detected (True Positives): ', cm[1][1])\n",
    "    print('Total Fraudulent Transactions: ', np.sum(cm[1]))"
   ]
  },
  {
   "cell_type": "code",
   "execution_count": 256,
   "id": "c28490fc",
   "metadata": {},
   "outputs": [
    {
     "data": {
      "text/plain": [
       "{'branchCount', 'total_Op', 'total_Opnd'}"
      ]
     },
     "execution_count": 256,
     "metadata": {},
     "output_type": "execute_result"
    }
   ],
   "source": [
    "corr_features = correlation(train, 0.95)\n",
    "corr_features"
   ]
  },
  {
   "cell_type": "code",
   "execution_count": 257,
   "id": "bd708f8d",
   "metadata": {},
   "outputs": [],
   "source": [
    "# Split data"
   ]
  },
  {
   "cell_type": "code",
   "execution_count": 258,
   "id": "49362936",
   "metadata": {},
   "outputs": [],
   "source": [
    "X = train.drop(['id', 'defects'] \n",
    "               #+ list(corr_features)\n",
    "               , axis = 1)\n",
    "y = train['defects'].apply(int)\n",
    "\n",
    "X_train, X_valid, y_train, y_valid = train_test_split(X, y, stratify=y, test_size=0.3,random_state=42)"
   ]
  },
  {
   "cell_type": "code",
   "execution_count": 259,
   "id": "92cded34",
   "metadata": {},
   "outputs": [],
   "source": [
    "# Make Yeo-johnson transformation"
   ]
  },
  {
   "cell_type": "code",
   "execution_count": 260,
   "id": "05cf3be7",
   "metadata": {},
   "outputs": [],
   "source": [
    "pipe_prep = Pipeline(         \n",
    "    [\n",
    "   ('Yeo-johnson transformation', PowerTransformer(standardize=True))\n",
    "    ]\n",
    ")\n",
    "\n",
    "train_features = pipe_prep.fit_transform(X_train)\n",
    "val_features = pipe_prep.transform(X_valid)"
   ]
  },
  {
   "cell_type": "code",
   "execution_count": 261,
   "id": "929252e6",
   "metadata": {},
   "outputs": [],
   "source": [
    "# Set the baseline model"
   ]
  },
  {
   "cell_type": "code",
   "execution_count": 262,
   "id": "cc087c14",
   "metadata": {},
   "outputs": [
    {
     "name": "stdout",
     "output_type": "stream",
     "text": [
      "Model: \"sequential\"\n",
      "_________________________________________________________________\n",
      " Layer (type)                Output Shape              Param #   \n",
      "=================================================================\n",
      " dense (Dense)               (None, 4453)              97966     \n",
      "                                                                 \n",
      " dense_1 (Dense)             (None, 15)                66810     \n",
      "                                                                 \n",
      " dropout (Dropout)           (None, 15)                0         \n",
      "                                                                 \n",
      " dense_2 (Dense)             (None, 15)                240       \n",
      "                                                                 \n",
      " dropout_1 (Dropout)         (None, 15)                0         \n",
      "                                                                 \n",
      " dense_3 (Dense)             (None, 15)                240       \n",
      "                                                                 \n",
      " dropout_2 (Dropout)         (None, 15)                0         \n",
      "                                                                 \n",
      " dense_4 (Dense)             (None, 15)                240       \n",
      "                                                                 \n",
      " dropout_3 (Dropout)         (None, 15)                0         \n",
      "                                                                 \n",
      " dense_5 (Dense)             (None, 1)                 16        \n",
      "                                                                 \n",
      "=================================================================\n",
      "Total params: 165,512\n",
      "Trainable params: 165,512\n",
      "Non-trainable params: 0\n",
      "_________________________________________________________________\n"
     ]
    },
    {
     "name": "stderr",
     "output_type": "stream",
     "text": [
      "100%|█| 70/70 [00:17<00:00,  3.96epoch/s, loss=0.445, tp=5355.0, fp=2961.0, tn=52128.0, fn=10790.0, accuracy=0.807, pre\n"
     ]
    },
    {
     "data": {
      "image/png": "[encoded data removed]",
      "text/plain": [
       "<Figure size 1500x800 with 2 Axes>"
      ]
     },
     "metadata": {},
     "output_type": "display_data"
    }
   ],
   "source": [
    "METRICS = [\n",
    "      keras.metrics.TruePositives(name='tp'),\n",
    "      keras.metrics.FalsePositives(name='fp'),\n",
    "      keras.metrics.TrueNegatives(name='tn'),\n",
    "      keras.metrics.FalseNegatives(name='fn'), \n",
    "      keras.metrics.BinaryAccuracy(name='accuracy'),\n",
    "      keras.metrics.Precision(name='precision'),\n",
    "      keras.metrics.Recall(name='recall'),\n",
    "      keras.metrics.AUC(name='auc'),\n",
    "      keras.metrics.AUC(name='prc', curve='PR'), # precision-recall curve\n",
    "]\n",
    "\n",
    "def make_model(batch_size=None,nodes=None,input_shape=None,output_shape=None, output_bias=None):\n",
    "    \n",
    "    if output_bias is not None:\n",
    "        output_bias = tf.keras.initializers.Constant(output_bias)\n",
    "        \n",
    "    model = keras.models.Sequential()\n",
    "    model.add(keras.layers.Dense(batch_size, input_shape=(input_shape,), activation='relu'))\n",
    "    model.add(keras.layers.Dense(nodes, activation='elu'))\n",
    "    model.add(keras.layers.Dropout(0.5))\n",
    "    model.add(keras.layers.Dense(nodes, activation='elu'))\n",
    "    model.add(keras.layers.Dropout(0.5))\n",
    "    model.add(keras.layers.Dense(nodes, activation='elu'))\n",
    "    model.add(keras.layers.Dropout(0.5))\n",
    "    model.add(keras.layers.Dense(nodes, activation='elu'))\n",
    "    model.add(keras.layers.Dropout(0.5))\n",
    "    model.add(keras.layers.Dense(output_shape, activation='sigmoid'))\n",
    "    return model\n",
    "\n",
    "    return model\n",
    "\n",
    "weight_for_0, weight_for_1 = compute_class_weight(class_weight = 'balanced', classes = np.unique(y_train), y = y_train)\n",
    "\n",
    "# Params\n",
    "INPUT_SHAPE = X_train.shape[1]                                                          \n",
    "OUTPUT_SHAPE = 1                                                        \n",
    "NODES = np.ceil(2 * INPUT_SHAPE / 3 + OUTPUT_SHAPE).astype(int)                        \n",
    "BATCH_SIZE = np.ceil(len(X_train) / 16).astype(int)\n",
    "EPOCHS = 70\n",
    "TRIALS = 70\n",
    "CLASS_WEIGHT = {0: weight_for_0, 1: weight_for_1}\n",
    "\n",
    "neg, pos = np.bincount(train['defects'])\n",
    "INITIAL_BIAS = np.log([pos/neg])\n",
    "\n",
    "# set early stopping\n",
    "early_stopping = tf.keras.callbacks.EarlyStopping(\n",
    "    monitor='val_prc', \n",
    "    verbose=1,\n",
    "    patience=10,\n",
    "    mode='max',\n",
    "    restore_best_weights=True)\n",
    "\n",
    "# baseline model\n",
    "baseline_model = make_model(BATCH_SIZE,NODES,INPUT_SHAPE,OUTPUT_SHAPE, INITIAL_BIAS)\n",
    "\n",
    "# compile model\n",
    "baseline_model.compile(loss='binary_crossentropy', optimizer='adam', metrics=METRICS)\n",
    "\n",
    "# model summary\n",
    "baseline_model.summary()\n",
    "\n",
    "# clear session\n",
    "tf.keras.backend.clear_session()\n",
    "\n",
    "# train model\n",
    "baseline_hist = baseline_model.fit(train_features\n",
    "          , y_train\n",
    "          , epochs = EPOCHS\n",
    "          , batch_size=BATCH_SIZE\n",
    "          , shuffle=True\n",
    "          , validation_data=(val_features, y_valid)\n",
    "          , verbose=0\n",
    "          , callbacks=[TqdmCallback(verbose=0)]\n",
    "          , class_weight=None#class_weight\n",
    "          )\n",
    "\n",
    "\n",
    "plot_curves(baseline_hist)"
   ]
  },
  {
   "cell_type": "code",
   "execution_count": 263,
   "id": "40acc746",
   "metadata": {},
   "outputs": [],
   "source": [
    "# Utility function to create model trials"
   ]
  },
  {
   "cell_type": "code",
   "execution_count": 264,
   "id": "c1adff41",
   "metadata": {},
   "outputs": [],
   "source": [
    "def create_model(trial):\n",
    "    # We optimize the numbers of layers, their units and learning rates \n",
    "    n_layers = trial.suggest_int(\"n_layers\", 1, 10)\n",
    "    n_nodes = trial.suggest_int('n_nodes', 100, 1000)\n",
    "    learning_rate = trial.suggest_loguniform('learning_rate', 1e-5, 1e-1)\n",
    "    batch_size = trial.suggest_int('batch_size', 2000, 6000)\n",
    "    activation_func_main = trial.suggest_categorical('activation_func_main' , ['relu', 'tanh', 'sigmoid', 'gelu', 'elu', 'softplus'])\n",
    "    activation_func = trial.suggest_categorical('activation_func' , ['relu', 'tanh', 'sigmoid', 'gelu', 'elu', 'softplus'])\n",
    "    class_weight = trial.suggest_categorical('class_weight' , [CLASS_WEIGHT, None])\n",
    "    dropout = trial.suggest_loguniform('dropout', 1e-5, 5e-1)\n",
    "    dropout_first = trial.suggest_loguniform('dropout_first', 1e-5, 5e-1)\n",
    "    \n",
    "    # build model\n",
    "    model = keras.models.Sequential()\n",
    "    \n",
    "    # add input layer\n",
    "    model.add(keras.layers.Dense(batch_size, input_shape=(INPUT_SHAPE,), activation=activation_func_main))\n",
    "    \n",
    "    # add dropout layer\n",
    "    model.add(keras.layers.Dropout(dropout_first))\n",
    "    \n",
    "    # dynamically add hidden layers through trial\n",
    "    for i in range(n_layers):\n",
    "        model.add(keras.layers.Dense(n_nodes, activation = activation_func\n",
    "                                    ))\n",
    "    \n",
    "        # add hidden dropout layer\n",
    "        model.add(keras.layers.Dropout(dropout))\n",
    "        \n",
    "    # add output layer\n",
    "    model.add(keras.layers.Dense(OUTPUT_SHAPE,activation='sigmoid'))\n",
    "    \n",
    "    # compile the model\n",
    "    model.compile(loss='binary_crossentropy',\n",
    "                  optimizer=tf.keras.optimizers.Adam(learning_rate=learning_rate),\n",
    "                  metrics=METRICS)\n",
    "    \n",
    "    return model\n",
    "\n",
    "# Objective function\n",
    "def objective(trial):\n",
    "    \n",
    "    # instantiate model\n",
    "    model_opt = create_model(trial)\n",
    "    \n",
    "    # fit the model\n",
    "    model_opt.fit(  train_features\n",
    "                  , y_train\n",
    "                  , epochs = EPOCHS\n",
    "                  , batch_size=BATCH_SIZE\n",
    "                  , shuffle=True\n",
    "                  , validation_data=(val_features, y_valid)\n",
    "                  , verbose=0\n",
    "                  , callbacks=[TqdmCallback(verbose=0)]\n",
    "                 )\n",
    "                  \n",
    "    # calculate auc score\n",
    "    score = model_opt.evaluate(val_features, y_valid, verbose=0)[-2]\n",
    "    \n",
    "    return score"
   ]
  },
  {
   "cell_type": "code",
   "execution_count": 265,
   "id": "4e249a4c",
   "metadata": {},
   "outputs": [],
   "source": [
    "if OPTUNA:\n",
    "    optuna.logging.set_verbosity(optuna.logging.WARNING)\n",
    "    study = optuna.create_study(direction=\"maximize\", study_name=\"baseline model optimization\")\n",
    "    study.optimize(objective, n_trials=TRIALS, n_jobs=-1)"
   ]
  },
  {
   "cell_type": "code",
   "execution_count": 266,
   "id": "6ce4f7f7",
   "metadata": {},
   "outputs": [],
   "source": [
    "if OPTUNA:\n",
    "    # print out \n",
    "    print('*'*100)\n",
    "    print(\"Number of finished trials: \", len(study.trials))\n",
    "    print(\"Best trial:\")\n",
    "    trial = study.best_trial\n",
    "    print(\"  Value: \", trial.value)\n",
    "    print(\"Best Params:\")\n",
    "    print(study.best_params)\n",
    "    print('*'*100)"
   ]
  },
  {
   "cell_type": "code",
   "execution_count": 267,
   "id": "e170215d",
   "metadata": {},
   "outputs": [],
   "source": [
    "if OPTUNA:\n",
    "    plotly_config = {\"staticPlot\": True}\n",
    "    fig = plot_optimization_history(study)\n",
    "    fig.show(config=plotly_config)"
   ]
  },
  {
   "cell_type": "code",
   "execution_count": 268,
   "id": "6deb500a",
   "metadata": {},
   "outputs": [],
   "source": [
    "if OPTUNA:\n",
    "    fig = plot_param_importances(study)\n",
    "    fig.show(config=plotly_config)"
   ]
  },
  {
   "cell_type": "code",
   "execution_count": 269,
   "id": "ec0139ec",
   "metadata": {},
   "outputs": [],
   "source": [
    "# Get the optimized model"
   ]
  },
  {
   "cell_type": "code",
   "execution_count": 270,
   "id": "017dae0b",
   "metadata": {},
   "outputs": [],
   "source": [
    "def create_model_opt(n_layers, n_nodes, learning_rate, batch_size, activation_func_main, activation_func, dropout,dropout_first):\n",
    "    \n",
    "    # build model\n",
    "    model = keras.models.Sequential()\n",
    "    \n",
    "    # add input layer\n",
    "    model.add(keras.layers.Dense(batch_size, input_shape=(INPUT_SHAPE,), activation=activation_func_main))\n",
    "    \n",
    "    # add dropout layer\n",
    "    model.add(keras.layers.Dropout(dropout_first))\n",
    "    \n",
    "    # dynamically add hidden layers through trial\n",
    "    for i in range(n_layers):\n",
    "        model.add(keras.layers.Dense(n_nodes, activation = activation_func\n",
    "                                    ))\n",
    "    \n",
    "        # add hidden dropout layer\n",
    "        model.add(keras.layers.Dropout(dropout))\n",
    "    \n",
    "    \n",
    "    \n",
    "    # add output layer\n",
    "    model.add(keras.layers.Dense(OUTPUT_SHAPE,activation='sigmoid'))\n",
    "    \n",
    "    # compile the model\n",
    "    model.compile(loss='binary_crossentropy',\n",
    "                  optimizer=tf.keras.optimizers.Adam(learning_rate=learning_rate),\n",
    "                  metrics=METRICS)\n",
    "    \n",
    "    return model"
   ]
  },
  {
   "cell_type": "code",
   "execution_count": 271,
   "id": "9d32c7b9",
   "metadata": {},
   "outputs": [
    {
     "name": "stdout",
     "output_type": "stream",
     "text": [
      "Model: \"sequential\"\n",
      "_________________________________________________________________\n",
      " Layer (type)                Output Shape              Param #   \n",
      "=================================================================\n",
      " dense (Dense)               (None, 5151)              113322    \n",
      "                                                                 \n",
      " dropout (Dropout)           (None, 5151)              0         \n",
      "                                                                 \n",
      " dense_1 (Dense)             (None, 719)               3704288   \n",
      "                                                                 \n",
      " dropout_1 (Dropout)         (None, 719)               0         \n",
      "                                                                 \n",
      " dense_2 (Dense)             (None, 719)               517680    \n",
      "                                                                 \n",
      " dropout_2 (Dropout)         (None, 719)               0         \n",
      "                                                                 \n",
      " dense_3 (Dense)             (None, 719)               517680    \n",
      "                                                                 \n",
      " dropout_3 (Dropout)         (None, 719)               0         \n",
      "                                                                 \n",
      " dense_4 (Dense)             (None, 719)               517680    \n",
      "                                                                 \n",
      " dropout_4 (Dropout)         (None, 719)               0         \n",
      "                                                                 \n",
      " dense_5 (Dense)             (None, 719)               517680    \n",
      "                                                                 \n",
      " dropout_5 (Dropout)         (None, 719)               0         \n",
      "                                                                 \n",
      " dense_6 (Dense)             (None, 719)               517680    \n",
      "                                                                 \n",
      " dropout_6 (Dropout)         (None, 719)               0         \n",
      "                                                                 \n",
      " dense_7 (Dense)             (None, 719)               517680    \n",
      "                                                                 \n",
      " dropout_7 (Dropout)         (None, 719)               0         \n",
      "                                                                 \n",
      " dense_8 (Dense)             (None, 719)               517680    \n",
      "                                                                 \n",
      " dropout_8 (Dropout)         (None, 719)               0         \n",
      "                                                                 \n",
      " dense_9 (Dense)             (None, 719)               517680    \n",
      "                                                                 \n",
      " dropout_9 (Dropout)         (None, 719)               0         \n",
      "                                                                 \n",
      " dense_10 (Dense)            (None, 719)               517680    \n",
      "                                                                 \n",
      " dropout_10 (Dropout)        (None, 719)               0         \n",
      "                                                                 \n",
      " dense_11 (Dense)            (None, 1)                 720       \n",
      "                                                                 \n",
      "=================================================================\n",
      "Total params: 8,477,450\n",
      "Trainable params: 8,477,450\n",
      "Non-trainable params: 0\n",
      "_________________________________________________________________\n"
     ]
    }
   ],
   "source": [
    "if OPTUNA:\n",
    "    baseline_model_opt = create_model(study.best_trial)\n",
    "    \n",
    "else:\n",
    "    \n",
    "    params = {'n_layers': 10, 'n_nodes': 719, 'learning_rate': 8.329523338978406e-05, 'batch_size': 5151, 'activation_func_main': 'relu', 'activation_func': 'gelu', 'dropout': 0.3722474640092899, 'dropout_first': 0.010531629258436202}\n",
    "    baseline_model_opt = create_model_opt(**params) \n",
    "    #3151\n",
    "baseline_model_opt.summary()"
   ]
  },
  {
   "cell_type": "code",
   "execution_count": 272,
   "id": "bbbb9cb4",
   "metadata": {},
   "outputs": [
    {
     "name": "stderr",
     "output_type": "stream",
     "text": [
      "  0%|                                                                                        | 0/70 [00:00<?, ?epoch/s]"
     ]
    },
    {
     "name": "stdout",
     "output_type": "stream",
     "text": [
      "WARNING:tensorflow:Callback method `on_train_batch_end` is slow compared to the batch time (batch time: 0.0311s vs `on_train_batch_end` time: 0.0330s). Check your callbacks.\n"
     ]
    },
    {
     "name": "stderr",
     "output_type": "stream",
     "text": [
      "100%|█| 70/70 [00:49<00:00,  1.41epoch/s, loss=0.43, tp=6329.0, fp=3278.0, tn=51811.0, fn=9816.0, accuracy=0.816, preci\n"
     ]
    },
    {
     "data": {
      "image/png": "[encoded data removed]",
      "text/plain": [
       "<Figure size 1500x800 with 2 Axes>"
      ]
     },
     "metadata": {},
     "output_type": "display_data"
    }
   ],
   "source": [
    "# clear session\n",
    "tf.keras.backend.clear_session()\n",
    "\n",
    "# train model\n",
    "baseline_hist_opt = baseline_model_opt.fit(train_features\n",
    "                                          ,y_train\n",
    "                                          ,epochs = EPOCHS\n",
    "                                          ,batch_size = study.best_trial.params['batch_size'] if OPTUNA else BATCH_SIZE\n",
    "                                          ,shuffle=True\n",
    "                                          ,validation_data=(val_features, y_valid)\n",
    "                                          ,verbose=0\n",
    "                                          ,callbacks=[TqdmCallback(verbose=0)]\n",
    "                                          ,class_weight = study.best_trial.params['class_weight'] if OPTUNA else None\n",
    "                                          )\n",
    "\n",
    "# plot\n",
    "plot_curves(baseline_hist_opt)"
   ]
  },
  {
   "cell_type": "code",
   "execution_count": 273,
   "id": "0e9d2753",
   "metadata": {},
   "outputs": [],
   "source": [
    "# Prepare test data"
   ]
  },
  {
   "cell_type": "code",
   "execution_count": 274,
   "id": "55252a7c",
   "metadata": {},
   "outputs": [],
   "source": [
    "test_features = pipe_prep.transform(test.drop(['id'] #+ list(corr_features) \n",
    "                                           , axis = 1))"
   ]
  },
  {
   "cell_type": "code",
   "execution_count": 277,
   "id": "50f5c3ac",
   "metadata": {},
   "outputs": [
    {
     "data": {
      "text/plain": [
       "67842"
      ]
     },
     "execution_count": 277,
     "metadata": {},
     "output_type": "execute_result"
    }
   ],
   "source": [
    "len(test_features)"
   ]
  },
  {
   "cell_type": "code",
   "execution_count": 278,
   "id": "7d3049d5",
   "metadata": {},
   "outputs": [
    {
     "data": {
      "text/plain": [
       "0        101763\n",
       "1        101764\n",
       "2        101765\n",
       "3        101766\n",
       "4        101767\n",
       "          ...  \n",
       "67837    169600\n",
       "67838    169601\n",
       "67839    169602\n",
       "67840    169603\n",
       "67841    169604\n",
       "Name: id, Length: 67842, dtype: int64"
      ]
     },
     "execution_count": 278,
     "metadata": {},
     "output_type": "execute_result"
    }
   ],
   "source": [
    "test.id"
   ]
  },
  {
   "cell_type": "code",
   "execution_count": 246,
   "id": "fadd078d",
   "metadata": {},
   "outputs": [],
   "source": [
    "# Get predictions"
   ]
  },
  {
   "cell_type": "code",
   "execution_count": 247,
   "id": "5507e127",
   "metadata": {},
   "outputs": [
    {
     "name": "stdout",
     "output_type": "stream",
     "text": [
      "16/16 [==============================] - 1s 27ms/step\n"
     ]
    },
    {
     "data": {
      "image/png": "[encoded data removed]",
      "text/plain": [
       "<Figure size 500x500 with 1 Axes>"
      ]
     },
     "metadata": {},
     "output_type": "display_data"
    }
   ],
   "source": [
    "preds_baseline = baseline_model_opt.predict(test_features, batch_size=BATCH_SIZE).squeeze()\n",
    "submission_baseline_opt = pd.DataFrame({'id':test.id, 'defects': preds_baseline})\n",
    "plt.figure(figsize=(5,5))\n",
    "train.defects.astype(int).hist(label='train',bins=2)\n",
    "(submission_baseline_opt.defects).hist(label='test',bins=2)\n",
    "plt.legend();"
   ]
  },
  {
   "cell_type": "code",
   "execution_count": 248,
   "id": "bc5c0cc4",
   "metadata": {},
   "outputs": [
    {
     "data": {
      "text/html": [
       "<div>\n",
       "<style scoped>\n",
       "    .dataframe tbody tr th:only-of-type {\n",
       "        vertical-align: middle;\n",
       "    }\n",
       "\n",
       "    .dataframe tbody tr th {\n",
       "        vertical-align: top;\n",
       "    }\n",
       "\n",
       "    .dataframe thead th {\n",
       "        text-align: right;\n",
       "    }\n",
       "</style>\n",
       "<table border=\"1\" class=\"dataframe\">\n",
       "  <thead>\n",
       "    <tr style=\"text-align: right;\">\n",
       "      <th></th>\n",
       "      <th>id</th>\n",
       "      <th>defects</th>\n",
       "    </tr>\n",
       "  </thead>\n",
       "  <tbody>\n",
       "    <tr>\n",
       "      <th>0</th>\n",
       "      <td>101763</td>\n",
       "      <td>0.258619</td>\n",
       "    </tr>\n",
       "    <tr>\n",
       "      <th>1</th>\n",
       "      <td>101764</td>\n",
       "      <td>0.191830</td>\n",
       "    </tr>\n",
       "    <tr>\n",
       "      <th>2</th>\n",
       "      <td>101765</td>\n",
       "      <td>0.710603</td>\n",
       "    </tr>\n",
       "    <tr>\n",
       "      <th>3</th>\n",
       "      <td>101766</td>\n",
       "      <td>0.516483</td>\n",
       "    </tr>\n",
       "    <tr>\n",
       "      <th>4</th>\n",
       "      <td>101767</td>\n",
       "      <td>0.126442</td>\n",
       "    </tr>\n",
       "    <tr>\n",
       "      <th>...</th>\n",
       "      <td>...</td>\n",
       "      <td>...</td>\n",
       "    </tr>\n",
       "    <tr>\n",
       "      <th>67837</th>\n",
       "      <td>169600</td>\n",
       "      <td>0.286999</td>\n",
       "    </tr>\n",
       "    <tr>\n",
       "      <th>67838</th>\n",
       "      <td>169601</td>\n",
       "      <td>0.112372</td>\n",
       "    </tr>\n",
       "    <tr>\n",
       "      <th>67839</th>\n",
       "      <td>169602</td>\n",
       "      <td>0.194055</td>\n",
       "    </tr>\n",
       "    <tr>\n",
       "      <th>67840</th>\n",
       "      <td>169603</td>\n",
       "      <td>0.080616</td>\n",
       "    </tr>\n",
       "    <tr>\n",
       "      <th>67841</th>\n",
       "      <td>169604</td>\n",
       "      <td>0.691070</td>\n",
       "    </tr>\n",
       "  </tbody>\n",
       "</table>\n",
       "<p>67842 rows × 2 columns</p>\n",
       "</div>"
      ],
      "text/plain": [
       "           id   defects\n",
       "0      101763  0.258619\n",
       "1      101764  0.191830\n",
       "2      101765  0.710603\n",
       "3      101766  0.516483\n",
       "4      101767  0.126442\n",
       "...       ...       ...\n",
       "67837  169600  0.286999\n",
       "67838  169601  0.112372\n",
       "67839  169602  0.194055\n",
       "67840  169603  0.080616\n",
       "67841  169604  0.691070\n",
       "\n",
       "[67842 rows x 2 columns]"
      ]
     },
     "execution_count": 248,
     "metadata": {},
     "output_type": "execute_result"
    }
   ],
   "source": [
    "submission_baseline_opt"
   ]
  },
  {
   "cell_type": "code",
   "execution_count": 249,
   "id": "4bf0a862",
   "metadata": {},
   "outputs": [],
   "source": [
    "if REFINE:\n",
    "    submission_baseline_opt.defects -= min(submission_baseline_opt.defects)\n",
    "    submission_baseline_opt.defects /= max(submission_baseline_opt.defects)\n",
    "\n",
    "    plt.figure(figsize=(5,5))\n",
    "    train.defects.astype(int).hist(label='train',bins=2)\n",
    "    (submission_baseline_opt.defects).hist(label='test',bins=2)\n",
    "    plt.legend();"
   ]
  },
  {
   "cell_type": "code",
   "execution_count": 250,
   "id": "73f167f5",
   "metadata": {},
   "outputs": [],
   "source": [
    "submission_baseline_opt.to_csv('submission2.csv', index = False)"
   ]
  },
  {
   "cell_type": "code",
   "execution_count": null,
   "id": "cda2b7a2",
   "metadata": {},
   "outputs": [],
   "source": []
  }
 ],
 "metadata": {
  "kernelspec": {
   "display_name": "Python 3 (ipykernel)",
   "language": "python",
   "name": "python3"
  },
  "language_info": {
   "codemirror_mode": {
    "name": "ipython",
    "version": 3
   },
   "file_extension": ".py",
   "mimetype": "text/x-python",
   "name": "python",
   "nbconvert_exporter": "python",
   "pygments_lexer": "ipython3",
   "version": "3.7.9"
  }
 },
 "nbformat": 4,
 "nbformat_minor": 5
}
