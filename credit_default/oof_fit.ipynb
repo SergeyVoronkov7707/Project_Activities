{
 "cells": [
  {
   "cell_type": "code",
   "execution_count": 3,
   "id": "7141ce47-77f8-4024-b344-00b39b9789d2",
   "metadata": {},
   "outputs": [],
   "source": [
    "from typing import List, Optional\n",
    "import pandas as pd; pd.set_option('display.max_columns', 100)\n",
    "from pandas.core.common import flatten\n",
    "import numpy as np\n",
    "import shap\n",
    "from datetime import datetime\n",
    "\n",
    "from tqdm.notebook import tqdm\n",
    "\n",
    "import re\n",
    "import os\n",
    "\n",
    "from functools import partial\n",
    "from scipy.stats import mode\n",
    "from scipy.spatial.distance import cdist\n",
    "\n",
    "import matplotlib.pyplot as plt; plt.style.use('ggplot')\n",
    "import seaborn as sns\n",
    "# import plotly.express as px\n",
    "\n",
    "from sklearn.tree import DecisionTreeClassifier, plot_tree\n",
    "from sklearn.preprocessing import LabelEncoder, StandardScaler, MinMaxScaler,PowerTransformer, FunctionTransformer, OneHotEncoder\n",
    "from sklearn.decomposition import TruncatedSVD\n",
    "from sklearn.pipeline import make_pipeline, Pipeline\n",
    "from sklearn.decomposition import PCA\n",
    "from sklearn.cluster import KMeans\n",
    "from sklearn.compose import ColumnTransformer\n",
    "from sklearn.impute import KNNImputer\n",
    "from sklearn.multiclass import OneVsRestClassifier\n",
    "from sklearn.model_selection import KFold, StratifiedKFold, train_test_split, GridSearchCV, RepeatedStratifiedKFold\n",
    "from sklearn.metrics import roc_auc_score, roc_curve, RocCurveDisplay, cohen_kappa_score, log_loss, f1_score\n",
    "from sklearn.discriminant_analysis import LinearDiscriminantAnalysis, QuadraticDiscriminantAnalysis\n",
    "from sklearn.neighbors import KNeighborsClassifier\n",
    "from sklearn.feature_selection import RFE, RFECV\n",
    "from sklearn.isotonic import IsotonicRegression\n",
    "from sklearn.calibration import CalibrationDisplay\n",
    "from sklearn.inspection import PartialDependenceDisplay, permutation_importance\n",
    "from sklearn.linear_model import LogisticRegression\n",
    "from collections import Counter\n",
    "from sklearn.ensemble import RandomForestClassifier, HistGradientBoostingClassifier, GradientBoostingClassifier, ExtraTreesClassifier\n",
    "from sklearn.svm import SVC\n",
    "from sklearn.base import BaseEstimator, TransformerMixin\n",
    "from sklearn.utils.validation import check_is_fitted\n",
    "from lightgbm import LGBMClassifier\n",
    "from xgboost import XGBClassifier\n",
    "from catboost import CatBoostClassifier\n",
    "\n",
    "\n",
    "from sklearn.manifold import TSNE\n",
    "# import optuna\n",
    "import catboost as cb\n",
    "import xgboost as xgb\n",
    "\n",
    "from View import MyClass\n",
    "mc = MyClass()\n",
    "\n",
    "import warnings\n",
    "warnings.filterwarnings('ignore')"
   ]
  },
  {
   "cell_type": "code",
   "execution_count": 82,
   "id": "7efb827b-064a-4274-8f4e-d47db1471391",
   "metadata": {},
   "outputs": [],
   "source": [
    "train_oof = pd.read_csv('data/train_oof.csv')\n",
    "test_oof = pd.read_csv('data/test_oof.csv')\n",
    "sub = pd.read_csv('data/sample_submission.csv')\n",
    "\n",
    "train_oof = train_oof.drop('Unnamed: 0', axis=1)\n",
    "test_oof = test_oof.drop('Unnamed: 0', axis=1)"
   ]
  },
  {
   "cell_type": "code",
   "execution_count": 83,
   "id": "7b28368b-77ce-4677-9a8d-6d11de51a759",
   "metadata": {},
   "outputs": [],
   "source": [
    "param_lr = {\n",
    "    'max_iter': 1000000\n",
    "}\n",
    "std_slc = StandardScaler()\n",
    "linear = LogisticRegression(**param_lr)\n",
    "pipe = Pipeline(steps=[('std_scl', std_slc),\n",
    "                           ('linear', linear)])"
   ]
  },
  {
   "cell_type": "code",
   "execution_count": 76,
   "id": "5592064a-2187-49af-bc4b-aaeeddea19a6",
   "metadata": {},
   "outputs": [],
   "source": [
    "# train_oof = train_oof.drop(['maximum open credit', 'current loan amount', 'annual income',\n",
    "#        'term_freq', 'credit score'], axis=1)\n",
    "# test_oof = test_oof.drop(['maximum open credit', 'current loan amount', 'annual income',\n",
    "#        'term_freq', 'credit score'], axis=1)"
   ]
  },
  {
   "cell_type": "code",
   "execution_count": 84,
   "id": "1c1cfe55-5a6d-4679-8402-cb4dde5b1320",
   "metadata": {},
   "outputs": [],
   "source": [
    "# train_oof.columns"
   ]
  },
  {
   "cell_type": "code",
   "execution_count": null,
   "id": "d3b992c8-042f-4769-bd15-6826ca46c48b",
   "metadata": {},
   "outputs": [],
   "source": [
    "model_rf, dict_fold_rf=  mc.fit_kfold(train_oof, target='target', model=RandomForestClassifier ,name_model=\"forest\",params=False, trh_flag=True, threshold=0.4, fold=10, eval_set=False, pipeline=False)"
   ]
  },
  {
   "cell_type": "code",
   "execution_count": 78,
   "id": "cc803663-e6ff-4809-814a-0132122d41cc",
   "metadata": {},
   "outputs": [
    {
     "name": "stdout",
     "output_type": "stream",
     "text": [
      "Fold 0 ==> pipe_lr model ROC-AUC score is ==> 0.9595353867527192\n",
      "Fold 1 ==> pipe_lr model ROC-AUC score is ==> 0.9683106331718383\n",
      "Fold 2 ==> pipe_lr model ROC-AUC score is ==> 0.9589990239956389\n",
      "Fold 3 ==> pipe_lr model ROC-AUC score is ==> 0.954022281036499\n",
      "Fold 4 ==> pipe_lr model ROC-AUC score is ==> 0.9563084173781533\n",
      "Fold 5 ==> pipe_lr model ROC-AUC score is ==> 0.9627095991347854\n",
      "Fold 6 ==> pipe_lr model ROC-AUC score is ==> 0.9509887539677655\n",
      "Fold 7 ==> pipe_lr model ROC-AUC score is ==> 0.9683751841200814\n",
      "Fold 8 ==> pipe_lr model ROC-AUC score is ==> 0.956144350143789\n",
      "Fold 9 ==> pipe_lr model ROC-AUC score is ==> 0.7098881251315143\n",
      "Средняя совокупность оценок ROC-AUC за 10-кратный период составляет 0.9345281754832786\n"
     ]
    }
   ],
   "source": [
    "model_oof, dict_fold_oof=  mc.fit_kfold(train_oof, target='target', model=pipe ,name_model=\"pipe_lr\",params=False, trh_flag=True, threshold=0.1, fold=10, eval_set=False, pipeline=True)"
   ]
  },
  {
   "cell_type": "code",
   "execution_count": 81,
   "id": "7d9e6941-4668-40b9-87dd-f8f690ec839e",
   "metadata": {},
   "outputs": [
    {
     "data": {
      "text/plain": [
       "<matplotlib.collections.PathCollection at 0x2421c944a90>"
      ]
     },
     "execution_count": 81,
     "metadata": {},
     "output_type": "execute_result"
    },
    {
     "data": {
      "image/png": "[encoded data removed]",
      "text/plain": [
       "<Figure size 640x480 with 1 Axes>"
      ]
     },
     "metadata": {},
     "output_type": "display_data"
    }
   ],
   "source": [
    "# y = np.sin(pred)\n",
    "pred = model_oof.predict_proba(test_oof)\n",
    "plt.scatter(pred[:,0], pred[:,1])"
   ]
  },
  {
   "cell_type": "code",
   "execution_count": 70,
   "id": "5fc08f93-c27e-4598-bfa4-d91537261af4",
   "metadata": {},
   "outputs": [],
   "source": [
    "# pred = model_oof.predict(test_oof)\n",
    "pred = model_oof.predict_proba(test_oof)[:,1]\n",
    "pred = np.where(pred > 0.1, 1, 0)\n",
    "sub['Credit Default'] = pred\n",
    "sub.to_csv(f'submission/sample_submission_oof.csv', index=False)"
   ]
  },
  {
   "cell_type": "code",
   "execution_count": null,
   "id": "11a9f812-647d-4fff-b56c-6199c031b837",
   "metadata": {},
   "outputs": [],
   "source": []
  }
 ],
 "metadata": {
  "kernelspec": {
   "display_name": "Python 3 (ipykernel)",
   "language": "python",
   "name": "python3"
  },
  "language_info": {
   "codemirror_mode": {
    "name": "ipython",
    "version": 3
   },
   "file_extension": ".py",
   "mimetype": "text/x-python",
   "name": "python",
   "nbconvert_exporter": "python",
   "pygments_lexer": "ipython3",
   "version": "3.11.0"
  }
 },
 "nbformat": 4,
 "nbformat_minor": 5
}
