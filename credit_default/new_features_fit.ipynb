{
 "cells": [
  {
   "cell_type": "markdown",
   "id": "6a44d55a",
   "metadata": {},
   "source": [
    "* Home Ownership - домовладение  \n",
    "* Annual Income - годовой доход  \n",
    "* Years in current job - количество лет на текущем месте работы  \n",
    "* Tax Liens - налоговые обременения  \n",
    "* Number of Open Accounts - количество открытых счетов  \n",
    "* Years of Credit History - количество лет кредитной истории  \n",
    "* Maximum Open Credit - наибольший открытый кредит (максимальная сумма, которая когда-либо была доступна клиенту)  \n",
    "* Number of Credit Problems - количество проблем с кредитом  \n",
    "* Months since last delinquent - количество месяцев с последней просрочки платежа  \n",
    "* Bankruptcies - банкротства  \n",
    "* Purpose - цель кредита  \n",
    "* Term - срок кредита  \n",
    "* Current Loan Amount - текущая сумма кредита (сумма, которую еще предстоит выплатить клиенту)  \n",
    "* Current Credit Balance - текущий кредитный баланс (сумма, которую может тратить клиент с кредитного счета)  \n",
    "* Monthly Debt - ежемесячный долг  \n",
    "* Credit Score - баллы кредитного рейтинга  \n",
    "* Credit Default - факт невыполнения кредитных обязательств (0 - погашен вовремя, 1 - просрочка)"
   ]
  },
  {
   "cell_type": "code",
   "execution_count": 1,
   "id": "b6d00757",
   "metadata": {},
   "outputs": [],
   "source": [
    "from typing import List, Optional\n",
    "import pandas as pd; pd.set_option('display.max_columns', 100)\n",
    "import numpy as np\n",
    "import shap\n",
    "\n",
    "from tqdm.notebook import tqdm\n",
    "\n",
    "import re\n",
    "import os\n",
    "\n",
    "from functools import partial\n",
    "from scipy.stats import mode\n",
    "from scipy.spatial.distance import cdist\n",
    "\n",
    "import matplotlib.pyplot as plt; plt.style.use('ggplot')\n",
    "import seaborn as sns\n",
    "# import plotly.express as px\n",
    "\n",
    "from sklearn.tree import DecisionTreeClassifier, plot_tree\n",
    "from sklearn.preprocessing import LabelEncoder, StandardScaler, MinMaxScaler,PowerTransformer, FunctionTransformer\n",
    "from sklearn.decomposition import TruncatedSVD\n",
    "from sklearn.pipeline import make_pipeline, Pipeline\n",
    "from sklearn.decomposition import PCA\n",
    "from sklearn.cluster import KMeans\n",
    "from sklearn.compose import ColumnTransformer\n",
    "from sklearn.impute import KNNImputer\n",
    "from sklearn.multiclass import OneVsRestClassifier\n",
    "from sklearn.model_selection import KFold, StratifiedKFold, train_test_split, GridSearchCV, RepeatedStratifiedKFold\n",
    "from sklearn.metrics import roc_auc_score, roc_curve, RocCurveDisplay, cohen_kappa_score, log_loss, f1_score\n",
    "from sklearn.discriminant_analysis import LinearDiscriminantAnalysis, QuadraticDiscriminantAnalysis\n",
    "from sklearn.neighbors import KNeighborsClassifier\n",
    "from sklearn.feature_selection import RFE, RFECV\n",
    "from sklearn.isotonic import IsotonicRegression\n",
    "from sklearn.calibration import CalibrationDisplay\n",
    "from sklearn.inspection import PartialDependenceDisplay, permutation_importance\n",
    "from sklearn.linear_model import LogisticRegression\n",
    "from collections import Counter\n",
    "from sklearn.ensemble import RandomForestClassifier, HistGradientBoostingClassifier, GradientBoostingClassifier, ExtraTreesClassifier\n",
    "from sklearn.svm import SVC\n",
    "from sklearn.base import BaseEstimator, TransformerMixin\n",
    "from sklearn.utils.validation import check_is_fitted\n",
    "from lightgbm import LGBMClassifier\n",
    "from xgboost import XGBClassifier\n",
    "from catboost import CatBoostClassifier\n",
    "\n",
    "from sklearn.manifold import TSNE\n",
    "# import optuna\n",
    "import catboost as cb\n",
    "\n",
    "from View import MyClass\n",
    "mc = MyClass()"
   ]
  },
  {
   "cell_type": "code",
   "execution_count": 2,
   "id": "6c777bf4",
   "metadata": {},
   "outputs": [],
   "source": [
    "def subb(test, model):\n",
    "    pred = model.predict_proba(test)\n",
    "\n",
    "    pred = pred[:,1]\n",
    "    pred = np.where(pred>0.4, 1, 0)\n",
    "\n",
    "    sub['Credit Default'] = pred\n",
    "    sub.to_csv('submission/sample_submission.csv', index=False)"
   ]
  },
  {
   "cell_type": "code",
   "execution_count": 3,
   "id": "f3480144",
   "metadata": {},
   "outputs": [],
   "source": [
    "def shap_shap(X_train, model, shap_limit=0):\n",
    "    np.random.seed(10)\n",
    "    explainer = shap.TreeExplainer(model)\n",
    "    shap_values = explainer.shap_values(X_train)\n",
    "    \n",
    "    # Суммированная важность признаков\n",
    "#     shap.summary_plot(\n",
    "#         shap_values, X_train, plot_type=\"bar\", max_display=50)   # строит график важности признаков\n",
    "    \n",
    "    shap_values_importance = pd.DataFrame({\n",
    "    \"importance\": np.abs(shap_values).mean(axis=0),\n",
    "    \"feature\": X_train.columns\n",
    "        })\n",
    "    shap_values_importance = shap_values_importance.sort_values(\n",
    "        by=\"importance\", ascending=False\n",
    "        )\n",
    "    shap_values_importance = shap_values_importance.reset_index(drop=True) \n",
    "    \n",
    "    \n",
    "#     print(shap_values_importance)\n",
    "    # Набор топ признаков\n",
    "    best_feature = shap_values_importance.feature.to_list()\n",
    "    dict_features = dict(zip(best_feature, shap_values_importance[\"importance\"]))\n",
    "    # Набор признаков для удаления\n",
    "    features_to_drop = shap_values_importance[shap_values_importance[\"importance\"] <= shap_limit]\n",
    "    features_to_drop = features_to_drop.feature.to_list()\n",
    "    \n",
    "    return features_to_drop, dict_features"
   ]
  },
  {
   "cell_type": "code",
   "execution_count": 4,
   "id": "d7cae121",
   "metadata": {},
   "outputs": [],
   "source": [
    "def fit_kfold(data, cat_features=[], threshold = 0.4, fold = 10, best_sign=5):\n",
    "    X = data.drop(columns = ['target'], axis = 1)\n",
    "    Y = data['target']\n",
    "    cat_preds = list()\n",
    "    bad_features, best_features =  list(), list()\n",
    "    dict_fold = dict()\n",
    "\n",
    "    params = {\n",
    "        \"n_estimators\": 1993,\n",
    "        \"learning_rate\": 0.009906548674016816,\n",
    "        \"subsample\": 0.5000411100811685,\n",
    "#         'colsample_bylevel': 0.5853177112754828,\n",
    "        \"loss_function\": \"Logloss\",\n",
    "        \"eval_metric\": \"AUC\",\n",
    "        \"task_type\": \"CPU\",\n",
    "        #\"max_bin\": 20,\n",
    "        \"verbose\": False,\n",
    "        \"max_depth\": 5,\n",
    "        \"l2_leaf_reg\": 20,\n",
    "        \"early_stopping_rounds\": 100,\n",
    "#         \"thread_count\": 6,\n",
    "        \"random_seed\": 42,\n",
    "        \"class_weights\" : (1, 2),\n",
    "        \"random state\": 42\n",
    "        }\n",
    "    \n",
    "    sk = RepeatedStratifiedKFold(n_splits = fold, n_repeats = 1, random_state = 42)\n",
    "    for i, (train_idx, test_idx) in enumerate(sk.split(X, Y)):\n",
    "\n",
    "        X_train, X_test = X.iloc[train_idx], X.iloc[test_idx]\n",
    "        Y_train, Y_test = Y.iloc[train_idx], Y.iloc[test_idx]\n",
    "#         X_train, X_valid, Y_train, Y_valid = X_train[:4500], X_train[4500:], Y_train[:4500], Y_train[4500:]\n",
    "        dict_fold[f\"{i}_train\"] = [train_idx]\n",
    "        dict_fold[f\"{i}_test\"] = [test_idx]\n",
    "        \n",
    "        if len(cat_features) != 0:\n",
    "            print(\"тут\")\n",
    "            Cat_md = cb.CatBoostClassifier(**params, cat_features=cat_features)\n",
    "        else:\n",
    "            Cat_md = cb.CatBoostClassifier(**params)\n",
    "        \n",
    "#         Cat_md.fit(X_train, Y_train, eval_set=[(X_valid, Y_valid)])\n",
    "        Cat_md.fit(X_train, Y_train)\n",
    "        \n",
    "#         cat_pred = Cat_md.predict(X_test)\n",
    "        cat_pred = Cat_md.predict_proba(X_test)[:, 1]\n",
    "        cat_pred = np.where(cat_pred > threshold, 1, 0)\n",
    "        cat_score = roc_auc_score(Y_test, cat_pred)\n",
    "        cat_preds.append(cat_score)\n",
    "        print('Fold', i, '==> CatBoost oof ROC-AUC score is ==>', cat_score)\n",
    "        bad, dict_ = shap_shap(X_train, Cat_md)\n",
    "#         print(dict_)\n",
    "        bad_features.append(bad)\n",
    "        best_features.append(list(dict_.keys())[:best_sign])\n",
    "    bad_features = set(list(np.array(bad_features).flat))\n",
    "    best_features = set(list(np.array(best_features).flat))\n",
    "    print(f'Средняя совокупность оценок ROC-AUC за {fold}-кратный период составляет', np.mean(cat_preds))\n",
    "    print(f\"Признаки для удаления {bad_features}\")\n",
    "    print(f\"Лучших {best_sign}  признаков: {best_features}\")\n",
    "    return Cat_md, dict_fold"
   ]
  },
  {
   "cell_type": "code",
   "execution_count": 5,
   "id": "cb5326df",
   "metadata": {},
   "outputs": [],
   "source": [
    "def fit_score(X, cat=False):\n",
    "    x_train, x_valid, y_train, y_valid, x_test, y_test = mc.train_split_dis(X, \"target\")\n",
    "\n",
    "    params = {\n",
    "        \"n_estimators\": 1000,\n",
    "        \"learning_rate\": 0.01,\n",
    "        \"loss_function\": \"Logloss\",\n",
    "        \"eval_metric\": \"AUC\",\n",
    "        \"task_type\": \"CPU\",\n",
    "        #\"max_bin\": 20,\n",
    "        \"verbose\": 500,\n",
    "        \"max_depth\": 6,\n",
    "        \"l2_leaf_reg\": 10,\n",
    "        \"early_stopping_rounds\": 100,\n",
    "        \"thread_count\": 6,\n",
    "        \"random_seed\": 42,\n",
    "        \"class_weights\" : (1, 2)\n",
    "        }\n",
    "    if cat:\n",
    "        print(\"тут\")\n",
    "        model = cb.CatBoostClassifier(**params, cat_features=cat)\n",
    "    else:\n",
    "        model = cb.CatBoostClassifier(**params)\n",
    "    \n",
    "#     model.fit(x_train, y_train, eval_set=(x_valid, y_valid)\n",
    "#                       )\n",
    "#     model.fit(x_train, y_train\n",
    "#                       )\n",
    "    \n",
    "# #                 y_pred = model.predict(x_test)\n",
    "# #                 score = roc_auc_score(y_test, y_pred)\n",
    "# #                 print(\"roc_auc_score: \", score)\n",
    "# #                 print(\"confusion_matrix: \", confusion_matrix(y_test, y_pred))\n",
    "# #                 print(\"accuracy_score: \", accuracy_score(y_test, y_pred))\n",
    "    model, rocauc_score = mc.catboost_base(x_train, x_valid, y_train, y_valid, params=params)\n",
    "    pred = model.predict_proba(x_test)[:,1]\n",
    "    pred = np.where(pred > 0.7, 0, 1)\n",
    "    print(\"test score: \", round(roc_auc_score(pred, y_test), 5))\n",
    "    return model, x_train"
   ]
  },
  {
   "cell_type": "code",
   "execution_count": 6,
   "id": "a1fb1be2",
   "metadata": {},
   "outputs": [],
   "source": [
    "class MissedColumnsError(Exception):\n",
    "    pass\n",
    "\n",
    "class CategoricalFrequencyTransformer(BaseEstimator, TransformerMixin):\n",
    "    \"\"\"\n",
    "    Трансформер для осуществляения FrequencyEncoding, кодирование\n",
    "    признаков с помощью частотного анализа.\n",
    "\n",
    "    Parameters\n",
    "    ----------\n",
    "    use_cols: List[str]\n",
    "        Список с названием признаков, для которых нужно\n",
    "        применить преобразование.\n",
    "\n",
    "    Attributes\n",
    "    ----------\n",
    "    feature_mappers: dict\n",
    "        Словарь со словарем преобразования для каждого\n",
    "        признака, перечисленного в self.use_cols.\n",
    "\n",
    "    \"\"\"\n",
    "    def __init__(self, use_cols: List[str]) -> None:\n",
    "        self.use_cols = use_cols\n",
    "\n",
    "    def _check_data(self, X):\n",
    "        \"\"\"\n",
    "        Проверка наличия признаков в self.user_cols во\n",
    "        входящей матрице признаков. Если признак отсутствует\n",
    "        в X, то возбуждается исключение MissedColumnsError.\n",
    "\n",
    "        \"\"\"\n",
    "        missed_cols = list(set(self.use_cols) - set(X.columns))\n",
    "        if missed_cols:\n",
    "            raise MissedColumnsError(\n",
    "                f\"Missed columns: {missed_cols}\"\n",
    "            )\n",
    "\n",
    "    def fit(self, X, y=None):\n",
    "        \"\"\"\n",
    "        Вычисление частот для заданных признаков.\n",
    "\n",
    "        Parameters\n",
    "        ----------\n",
    "        X: array-like, shape = [n_samples, n_features]\n",
    "            Матрица признаков для вычисления частот.\n",
    "\n",
    "        Returns\n",
    "        -------\n",
    "        self\n",
    "\n",
    "        \"\"\"\n",
    "        self._check_data(X)\n",
    "        self.feature_mappers = {}\n",
    "\n",
    "        for feature in self.use_cols:\n",
    "            unique, counts = np.unique(X[feature], return_counts=True)\n",
    "            mapper = pd.Series(data=counts, index=unique)\n",
    "            self.feature_mappers[feature] = mapper\n",
    "\n",
    "        return self\n",
    "\n",
    "    def transform(self, X, y=None):\n",
    "        # ToDO -> расширить использование на Numpy-объекты\n",
    "        self._check_data(X)\n",
    "        check_is_fitted(self, \"feature_mappers\")\n",
    "        for feature in self.use_cols:\n",
    "            mapper = self.feature_mappers.get(feature)\n",
    "            X[feature] = X[feature].map(mapper)\n",
    "\n",
    "        return X"
   ]
  },
  {
   "cell_type": "code",
   "execution_count": 7,
   "id": "7b0ee77d",
   "metadata": {},
   "outputs": [
    {
     "name": "stdout",
     "output_type": "stream",
     "text": [
      "Визуализация и предобработка данных\n",
      "_________________________________________________\n",
      "* Метод \"view_csv\" принимает DataFrame и выводит данные о нем\n",
      "возвращает categorical, numerical\n",
      "\n",
      "* Метод \"stat_frame\" принимает DataFrame и возвращает DataFrame со статистиками\n",
      "\n",
      "* Метод \"corr\" принимает DataFrame и target : str\n",
      "\n",
      "Работа с даными\n",
      "__________________________________________________\n",
      "\n",
      "* Метод \"median_mode\" меняет в числовых данных пропуски на медиану, в категориальных на моду\n",
      "* Метод \"percentile_99_1\" принимает data: DataFrame, data_stat : DataFrame( возвращает метод \"stat_frame\")\n",
      "возвращат данные где больше 99 перцетиля и меньше 1(используется метод for, не рекомендуется где очень много столбцов)\n",
      "* метод \"shap\" (model, X_train, shap_limit=0) выводит наиболеее важные признаки\n",
      "model: model, X_train: данные на которых обучалась модель, shap_limit: порог для наихудших признаков\n",
      "возвращает признаки с важностью с порогом равным или меньше (shap_limit)\n",
      "и словарь признаков отсортированный по важности\n",
      "return bad_feature, dict_feature\n",
      "\n",
      "Разбиение данных\n",
      "____________________________________________________\n",
      "\n",
      "* Метод \"train_split_dis\" - Разбиение данных с несбалансированной бинарной целевой переменной\n",
      "на train, test, valid по умолчанию test_size = 0.2, valid_size=0.2\n",
      "принимает data: DataFrame, y: str(имя целевой переменной), valid_size: float, test_size: float\n",
      "min_sign: int(значение target которых мало)\n",
      "возвращает x_train, x_valid, y_train, y_valid, x_test, y_test\n",
      "\n",
      "* Метод \"train_split\" - Разбиение данных на train, test, valid по умолчанию test_size = 0.2, valid_size=0.2\n",
      "принимает data: DataFrame, y: str(имя целевой переменной), valid_size: float, test_size: float\n",
      "возвращает x_train, x_valid, y_train, y_valid, x_test, y_test\n",
      "\n",
      "Обучение Моделей\n",
      "__________________________________________________\n",
      "* Метод \"catboost_base\" -BaseLine принимает x:DataFrame, x_val:DataFrame, y: Series, y_val: Series,params:dict\n",
      "параметры catboost: None, можно передать\n",
      "возвращает модель\n",
      "\n",
      "* Метод \"xgb_base\" -BaseLine принимает x:DataFrame, x_val:DataFrame, y: Series, y_val: Series,params:dict\n",
      "параметры xgboost: None, можно передать\n",
      "возвращает модель\n",
      "\n",
      "* Метод \"forest_base\" -BaseLine принимает x:DataFrame, x_val:DataFrame, y: Series, y_val: Series,\n",
      "возвращает модель\n",
      "\n",
      "    \n"
     ]
    }
   ],
   "source": [
    "print(mc.__doc__)"
   ]
  },
  {
   "cell_type": "markdown",
   "id": "0838a42d-a791-4d51-ab76-20bc5a7aaa1f",
   "metadata": {},
   "source": [
    "Визуализация и предобработка данных  \r\n",
    "# Первичный обзор работа с память  ю\r\n",
    "* Метод \"view_csv\" принимает DataFrame и выводит данные о нем, переводит название столбцов в low  er\r\n",
    "возвращает data.columns, categorical, numeri  cal\r\n",
    "* Метод optim_memory оптимизирует память занимаемую данными, принимает DataFrame, возвращает DataF  r  ame\r\n",
    "\r\n",
    "# Стат  истика\r\n",
    "* Метод \"stat_frame\" принимает DataFrame и возвращает DataFrame со стати  стиками\r\n",
    "* Метод \"corr\" принимает DataFrame и targ  et : str\r\n",
    "* Метод corr_sign принимает data: DataFrame, drop_sign:List ( корреляция между пр  изнаками)\r\n",
    "* Метод nonlianer_comun принимает data: DataFrame, numerical: list(список числовых   признаков\r\n",
    "target: str(по умолчанию \"class\"), num_sign: int(кол-во столбцов с нелиней  ной связью)\r\n",
    "* Метод \"percentile_99_1\" принимает data: DataFrame, data_stat : DataFrame( возвращает метод \"stat_frame\"),   flag: bool(\r\n",
    "если флаг равен True возвращает фрейм где максимум заменен на 99 перцентиль, а минимум на   1 перцентиль)\r\n",
    "по умолчани  ю flag = False\r\n",
    "возвращат данные где больше 99 перцетиля и меньше 1(используется метод for, не рекомендуется где очень   много столбцов)\r\n",
    "* Метод shap принимает данные на которых обучалась модель, саму модель и кол-во возврата   лучших признаков\r\n",
    "возвращает для списка нулевых признаков и   лучших признаков\r\n",
    "(model, X_train, shap_limit=0) model:model, X_train:DataFrame, shap_limit:int(порог для   плохих признаков)\r\n",
    "return: признаки с порогом ниже заданного, все признаки, словарь {призн  ак: вес для модели}\r\n",
    "* Метод dist_kmeans определяет кол-во кластеров для кластеризации(к  осинусное растояние)\r\n",
    "(X, max_klaster=10), X: DataFrame, max_klas  ter: int(по умолч 10)\r\n",
    "  \r\n",
    "\r\n",
    "\r\n",
    "\r\n",
    "# Работа с данными\r\n",
    "* Метод \"object_to_freq\" меняет созд  ает новые столбцы в данных,\r\n",
    "где категориальные значения заме  няны на частоту их вхождения\r\n",
    "* Метод \"median_mode\" меняет в числовых данных пропуски на меди  ану, в категориальных на моду\r\n",
    "* Метод \"recursive_fillna_kmeans\" заполняет пропус  ки путем кластеризации, KMeans\r\n",
    "принимает data:DataFrame, Random_State:int, bad_max_iter:int  (кол-во итераций без улучшения,\r\n",
    "name_save:str(имя сохранени  я data с заполнеными пропусками)\r\n",
    "* Метод transformer применяет трансформацию к данным(log, b  ox-cox, sqrt, Yeo-Johnson, power)\r\n",
    "принимает:   (train, cols, target, test=False)\r\n",
    "(train, test) :DataFrame, cols:list(коло  нки для преобразования), target:str\r\n",
    "возв  ращает: train, (test   если test=True)\r\n",
    "\r\n",
    "# Разбиение данных\r\n",
    "* Метод \"train_split_dis\" - Разбиение данных с несбала  нсированной бинарной целевой переменной\r\n",
    "на train, test, valid по у  молчанию test_size = 0.2, valid_size=0.2\r\n",
    "принимает data: DataFrame, y: str(имя целевой перемен  ной), valid_size: float, test_size: float\r\n",
    "m  in_sign: int(значение target которых мало)\r\n",
    "возвращает x_train  , x_valid, y_train, y_valid, x_test, y_test\r\n",
    "* Метод \"train_split\" - Разбиение данных на train, test, valid   по умолчанию test_size = 0.2, valid_size=0.2\r\n",
    "принимает data: DataFrame, y: str(имя целевой пер  еменной), valid_size: float, test_size: float\r\n",
    "возвращает x_tr  ain, x_valid, y_train, y_valid, x_test, y_test\r\n",
    "\r\n",
    "# Модели\r\n",
    "* Метод \"catboost_base\" -BaseLine принимает x:DataFrame, x_val:DataF  rame, y: Series, y_val: Series,  regressor = False,\r\n",
    "categorical: list, params:dict\r\n",
    "ес  ли задача регрессии нужно передать regressor   = True\r\n",
    "categorical : None, если есть нуж  но передать\r\n",
    "параметры catboost:   None, можно передать\r\n",
    "возвращает модель, rocauc_score\r\n",
    "* Метод \"xgb_base_classifier\" -BaseLine принимает x:DataFrame  , x_val:DataFrame, y: Series, y_val: Ser  ies,params:dict\r\n",
    "п  араметры xgboost: None, можно передать\r\n",
    "возвращает модель\r\n",
    "* Метод \"forest_base_classifier\" -BaseLine принимает x:DataFra  me, x_val:DataFram  e, y: Series, y_val: Series, params:dict\r\n",
    "возвращает модель"
   ]
  },
  {
   "cell_type": "code",
   "execution_count": 8,
   "id": "5b5c7cb2",
   "metadata": {},
   "outputs": [],
   "source": [
    "train = pd.read_csv('data/train.csv')\n",
    "test = pd.read_csv('data/test.csv')\n",
    "# sub = pd.read_csv('data/sample_submission.csv')\n",
    "\n",
    "target = train['Credit Default']"
   ]
  },
  {
   "cell_type": "code",
   "execution_count": 9,
   "id": "6e1e80d5",
   "metadata": {},
   "outputs": [
    {
     "name": "stdout",
     "output_type": "stream",
     "text": [
      "1\n",
      "rows: 7500, cols: 17\n",
      "Всего категориальных признаков: 4\n",
      "Index(['Home Ownership', 'Years in current job', 'Purpose', 'Term'], dtype='object')\n",
      "Всего числовых признаков: 13\n",
      "['Annual Income', 'Tax Liens', 'Bankruptcies', 'Years of Credit History', 'Maximum Open Credit', 'Number of Credit Problems', 'Credit Default', 'Months since last delinquent', 'Current Loan Amount', 'Monthly Debt', 'Credit Score', 'Number of Open Accounts', 'Current Credit Balance']\n",
      "В колонке Annual Income пропущенно 1557 значений\n",
      "В колонке Years in current job пропущенно 371 значений\n",
      "В колонке Months since last delinquent пропущенно 4081 значений\n",
      "В колонке Bankruptcies пропущенно 14 значений\n",
      "В колонке Credit Score пропущенно 1557 значений\n",
      "1\n",
      "rows: 2500, cols: 16\n",
      "Всего категориальных признаков: 4\n",
      "Index(['Home Ownership', 'Years in current job', 'Purpose', 'Term'], dtype='object')\n",
      "Всего числовых признаков: 12\n",
      "['Annual Income', 'Tax Liens', 'Bankruptcies', 'Years of Credit History', 'Maximum Open Credit', 'Number of Credit Problems', 'Months since last delinquent', 'Current Loan Amount', 'Monthly Debt', 'Credit Score', 'Number of Open Accounts', 'Current Credit Balance']\n",
      "В колонке Annual Income пропущенно 513 значений\n",
      "В колонке Years in current job пропущенно 86 значений\n",
      "В колонке Months since last delinquent пропущенно 1358 значений\n",
      "В колонке Bankruptcies пропущенно 3 значений\n",
      "В колонке Credit Score пропущенно 513 значений\n"
     ]
    }
   ],
   "source": [
    "cat, num = mc.view_csv(train)\n",
    "cat_t, num_t = mc.view_csv(test)"
   ]
  },
  {
   "cell_type": "code",
   "execution_count": 10,
   "id": "f98c51ad",
   "metadata": {},
   "outputs": [],
   "source": [
    "train_cat = train[cat]\n",
    "test_cat = test[cat_t]"
   ]
  },
  {
   "cell_type": "code",
   "execution_count": 11,
   "id": "9e6a7b93",
   "metadata": {},
   "outputs": [],
   "source": [
    "train = pd.read_csv('data/train_kmeans.csv')\n",
    "test = pd.read_csv('data/test_kmeans.csv')\n",
    "sub = pd.read_csv('data/sample_submission.csv')"
   ]
  },
  {
   "cell_type": "code",
   "execution_count": null,
   "id": "3f794836",
   "metadata": {},
   "outputs": [],
   "source": []
  },
  {
   "cell_type": "code",
   "execution_count": 12,
   "id": "c892d550",
   "metadata": {},
   "outputs": [],
   "source": [
    "train['target'] = target"
   ]
  },
  {
   "cell_type": "code",
   "execution_count": 13,
   "id": "f4a9327c",
   "metadata": {},
   "outputs": [],
   "source": [
    "Random_seed = 1234123"
   ]
  },
  {
   "cell_type": "code",
   "execution_count": 14,
   "id": "b8151235",
   "metadata": {},
   "outputs": [
    {
     "data": {
      "text/html": [
       "<div>\n",
       "<style scoped>\n",
       "    .dataframe tbody tr th:only-of-type {\n",
       "        vertical-align: middle;\n",
       "    }\n",
       "\n",
       "    .dataframe tbody tr th {\n",
       "        vertical-align: top;\n",
       "    }\n",
       "\n",
       "    .dataframe thead th {\n",
       "        text-align: right;\n",
       "    }\n",
       "</style>\n",
       "<table border=\"1\" class=\"dataframe\">\n",
       "  <thead>\n",
       "    <tr style=\"text-align: right;\">\n",
       "      <th></th>\n",
       "      <th>annual income</th>\n",
       "      <th>tax liens</th>\n",
       "      <th>number of open accounts</th>\n",
       "      <th>years of credit history</th>\n",
       "      <th>maximum open credit</th>\n",
       "      <th>number of credit problems</th>\n",
       "      <th>months since last delinquent</th>\n",
       "      <th>bankruptcies</th>\n",
       "      <th>current loan amount</th>\n",
       "      <th>current credit balance</th>\n",
       "      <th>monthly debt</th>\n",
       "      <th>credit score</th>\n",
       "      <th>credit default</th>\n",
       "      <th>home ownership_freq</th>\n",
       "      <th>years in current job_freq</th>\n",
       "      <th>purpose_freq</th>\n",
       "      <th>term_freq</th>\n",
       "      <th>target</th>\n",
       "    </tr>\n",
       "  </thead>\n",
       "  <tbody>\n",
       "    <tr>\n",
       "      <th>0</th>\n",
       "      <td>482087.0</td>\n",
       "      <td>0.0</td>\n",
       "      <td>11.0</td>\n",
       "      <td>26.3</td>\n",
       "      <td>685960.0</td>\n",
       "      <td>1.0</td>\n",
       "      <td>38.906</td>\n",
       "      <td>1.0</td>\n",
       "      <td>99999999.0</td>\n",
       "      <td>47386.0</td>\n",
       "      <td>7914.0</td>\n",
       "      <td>749.0</td>\n",
       "      <td>0</td>\n",
       "      <td>0.086267</td>\n",
       "      <td>0.091000</td>\n",
       "      <td>0.792533</td>\n",
       "      <td>0.7408</td>\n",
       "      <td>0</td>\n",
       "    </tr>\n",
       "    <tr>\n",
       "      <th>1</th>\n",
       "      <td>1025487.0</td>\n",
       "      <td>0.0</td>\n",
       "      <td>15.0</td>\n",
       "      <td>15.3</td>\n",
       "      <td>1181730.0</td>\n",
       "      <td>0.0</td>\n",
       "      <td>34.160</td>\n",
       "      <td>0.0</td>\n",
       "      <td>264968.0</td>\n",
       "      <td>394972.0</td>\n",
       "      <td>18373.0</td>\n",
       "      <td>737.0</td>\n",
       "      <td>1</td>\n",
       "      <td>0.086267</td>\n",
       "      <td>0.327115</td>\n",
       "      <td>0.792533</td>\n",
       "      <td>0.2592</td>\n",
       "      <td>1</td>\n",
       "    </tr>\n",
       "    <tr>\n",
       "      <th>2</th>\n",
       "      <td>751412.0</td>\n",
       "      <td>0.0</td>\n",
       "      <td>11.0</td>\n",
       "      <td>35.0</td>\n",
       "      <td>1182434.0</td>\n",
       "      <td>0.0</td>\n",
       "      <td>31.643</td>\n",
       "      <td>0.0</td>\n",
       "      <td>99999999.0</td>\n",
       "      <td>308389.0</td>\n",
       "      <td>13651.0</td>\n",
       "      <td>742.0</td>\n",
       "      <td>0</td>\n",
       "      <td>0.484933</td>\n",
       "      <td>0.047552</td>\n",
       "      <td>0.792533</td>\n",
       "      <td>0.7408</td>\n",
       "      <td>0</td>\n",
       "    </tr>\n",
       "    <tr>\n",
       "      <th>3</th>\n",
       "      <td>805068.0</td>\n",
       "      <td>0.0</td>\n",
       "      <td>8.0</td>\n",
       "      <td>22.5</td>\n",
       "      <td>147400.0</td>\n",
       "      <td>1.0</td>\n",
       "      <td>40.789</td>\n",
       "      <td>1.0</td>\n",
       "      <td>121396.0</td>\n",
       "      <td>95855.0</td>\n",
       "      <td>11338.0</td>\n",
       "      <td>694.0</td>\n",
       "      <td>0</td>\n",
       "      <td>0.086267</td>\n",
       "      <td>0.059756</td>\n",
       "      <td>0.792533</td>\n",
       "      <td>0.7408</td>\n",
       "      <td>0</td>\n",
       "    </tr>\n",
       "    <tr>\n",
       "      <th>4</th>\n",
       "      <td>776264.0</td>\n",
       "      <td>0.0</td>\n",
       "      <td>13.0</td>\n",
       "      <td>13.6</td>\n",
       "      <td>385836.0</td>\n",
       "      <td>1.0</td>\n",
       "      <td>40.789</td>\n",
       "      <td>0.0</td>\n",
       "      <td>125840.0</td>\n",
       "      <td>93309.0</td>\n",
       "      <td>7180.0</td>\n",
       "      <td>719.0</td>\n",
       "      <td>0</td>\n",
       "      <td>0.427200</td>\n",
       "      <td>0.047552</td>\n",
       "      <td>0.792533</td>\n",
       "      <td>0.7408</td>\n",
       "      <td>0</td>\n",
       "    </tr>\n",
       "  </tbody>\n",
       "</table>\n",
       "</div>"
      ],
      "text/plain": [
       "   annual income  tax liens  number of open accounts  years of credit history  \\\n",
       "0       482087.0        0.0                     11.0                     26.3   \n",
       "1      1025487.0        0.0                     15.0                     15.3   \n",
       "2       751412.0        0.0                     11.0                     35.0   \n",
       "3       805068.0        0.0                      8.0                     22.5   \n",
       "4       776264.0        0.0                     13.0                     13.6   \n",
       "\n",
       "   maximum open credit  number of credit problems  \\\n",
       "0             685960.0                        1.0   \n",
       "1            1181730.0                        0.0   \n",
       "2            1182434.0                        0.0   \n",
       "3             147400.0                        1.0   \n",
       "4             385836.0                        1.0   \n",
       "\n",
       "   months since last delinquent  bankruptcies  current loan amount  \\\n",
       "0                        38.906           1.0           99999999.0   \n",
       "1                        34.160           0.0             264968.0   \n",
       "2                        31.643           0.0           99999999.0   \n",
       "3                        40.789           1.0             121396.0   \n",
       "4                        40.789           0.0             125840.0   \n",
       "\n",
       "   current credit balance  monthly debt  credit score  credit default  \\\n",
       "0                 47386.0        7914.0         749.0               0   \n",
       "1                394972.0       18373.0         737.0               1   \n",
       "2                308389.0       13651.0         742.0               0   \n",
       "3                 95855.0       11338.0         694.0               0   \n",
       "4                 93309.0        7180.0         719.0               0   \n",
       "\n",
       "   home ownership_freq  years in current job_freq  purpose_freq  term_freq  \\\n",
       "0             0.086267                   0.091000      0.792533     0.7408   \n",
       "1             0.086267                   0.327115      0.792533     0.2592   \n",
       "2             0.484933                   0.047552      0.792533     0.7408   \n",
       "3             0.086267                   0.059756      0.792533     0.7408   \n",
       "4             0.427200                   0.047552      0.792533     0.7408   \n",
       "\n",
       "   target  \n",
       "0       0  \n",
       "1       1  \n",
       "2       0  \n",
       "3       0  \n",
       "4       0  "
      ]
     },
     "execution_count": 14,
     "metadata": {},
     "output_type": "execute_result"
    }
   ],
   "source": [
    "train.head()"
   ]
  },
  {
   "cell_type": "code",
   "execution_count": 15,
   "id": "c620c586",
   "metadata": {},
   "outputs": [
    {
     "data": {
      "text/plain": [
       "((7500, 18), (2500, 16))"
      ]
     },
     "execution_count": 15,
     "metadata": {},
     "output_type": "execute_result"
    }
   ],
   "source": [
    "train.shape, test.shape"
   ]
  },
  {
   "cell_type": "code",
   "execution_count": 16,
   "id": "c10a605d",
   "metadata": {},
   "outputs": [],
   "source": [
    "train = train.drop('credit default', axis=1)"
   ]
  },
  {
   "cell_type": "code",
   "execution_count": 17,
   "id": "dd209093",
   "metadata": {},
   "outputs": [
    {
     "name": "stdout",
     "output_type": "stream",
     "text": [
      "1\n",
      "rows: 7500, cols: 17\n",
      "Всего категориальных признаков: 0\n",
      "Index([], dtype='object')\n",
      "Всего числовых признаков: 17\n",
      "['home ownership_freq', 'monthly debt', 'years in current job_freq', 'years of credit history', 'current credit balance', 'maximum open credit', 'number of credit problems', 'term_freq', 'credit score', 'bankruptcies', 'months since last delinquent', 'number of open accounts', 'purpose_freq', 'tax liens', 'annual income', 'target', 'current loan amount']\n",
      "В колонке annual income пропущенно 1557 значений\n",
      "В колонке months since last delinquent пропущенно 2 значений\n",
      "В колонке credit score пропущенно 1 значений\n",
      "1\n",
      "rows: 2500, cols: 16\n",
      "Всего категориальных признаков: 0\n",
      "Index([], dtype='object')\n",
      "Всего числовых признаков: 16\n",
      "['home ownership_freq', 'monthly debt', 'years in current job_freq', 'years of credit history', 'current credit balance', 'maximum open credit', 'number of credit problems', 'term_freq', 'credit score', 'bankruptcies', 'months since last delinquent', 'number of open accounts', 'purpose_freq', 'tax liens', 'annual income', 'current loan amount']\n",
      "В колонке annual income пропущенно 461 значений\n",
      "В колонке months since last delinquent пропущенно 4 значений\n"
     ]
    }
   ],
   "source": [
    "cat, num = mc.view_csv(train)\n",
    "cat_t, num_t = mc.view_csv(test)"
   ]
  },
  {
   "cell_type": "code",
   "execution_count": 18,
   "id": "7dd1aee4",
   "metadata": {},
   "outputs": [],
   "source": [
    "base_columns = train.drop('credit score', axis=1).columns"
   ]
  },
  {
   "cell_type": "code",
   "execution_count": 19,
   "id": "2e324e4e",
   "metadata": {},
   "outputs": [
    {
     "name": "stdout",
     "output_type": "stream",
     "text": [
      "rows: 2500, cols: 16\n",
      "Всего категориальных признаков: 0\n",
      "Index([], dtype='object')\n",
      "Всего числовых признаков: 16\n",
      "['current loan amount', 'bankruptcies', 'maximum open credit', 'current credit balance', 'tax liens', 'years of credit history', 'annual income', 'years in current job_freq', 'term_freq', 'months since last delinquent', 'number of credit problems', 'credit score', 'number of open accounts', 'home ownership_freq', 'purpose_freq', 'monthly debt']\n",
      "В колонке annual income пропущенно 461 значений, 18.44\n",
      "В колонке months since last delinquent пропущенно 4 значений, 0.16\n"
     ]
    }
   ],
   "source": [
    "test.columns, cat_t, num_t = mc.view_csv(test)"
   ]
  },
  {
   "cell_type": "code",
   "execution_count": 20,
   "id": "25686a2f",
   "metadata": {},
   "outputs": [],
   "source": [
    "# train_cat = train[cat]\n",
    "# test_cat = test[cat_t]"
   ]
  },
  {
   "cell_type": "markdown",
   "id": "1359f75f",
   "metadata": {},
   "source": [
    "# base line"
   ]
  },
  {
   "cell_type": "code",
   "execution_count": 32,
   "id": "266cb6a1",
   "metadata": {},
   "outputs": [],
   "source": [
    "tr = train.copy()\n",
    "ts = test.copy()"
   ]
  },
  {
   "cell_type": "code",
   "execution_count": 33,
   "id": "7804c47c",
   "metadata": {},
   "outputs": [
    {
     "name": "stderr",
     "output_type": "stream",
     "text": [
      "100%|████████████████████████████████████████████████████████████████████████████████| 17/17 [00:00<00:00, 1304.37it/s]\n"
     ]
    },
    {
     "name": "stdout",
     "output_type": "stream",
     "text": [
      "на моду заменены значения в колонках: []\n",
      "на медиану заменены значения в колонках: ['annual income', 'months since last delinquent', 'credit score']\n"
     ]
    },
    {
     "name": "stderr",
     "output_type": "stream",
     "text": [
      "100%|████████████████████████████████████████████████████████████████████████████████| 16/16 [00:00<00:00, 1778.42it/s]"
     ]
    },
    {
     "name": "stdout",
     "output_type": "stream",
     "text": [
      "на моду заменены значения в колонках: []\n",
      "на медиану заменены значения в колонках: ['annual income', 'months since last delinquent']\n"
     ]
    },
    {
     "name": "stderr",
     "output_type": "stream",
     "text": [
      "\n"
     ]
    }
   ],
   "source": [
    "tr = mc.median_mode(tr)\n",
    "ts = mc.median_mode(ts)"
   ]
  },
  {
   "cell_type": "code",
   "execution_count": 34,
   "id": "978c190a",
   "metadata": {},
   "outputs": [],
   "source": [
    "# tr = mc.object_to_freq(tr, cat)\n",
    "# ts = mc.object_to_freq(ts, cat_t)\n",
    "\n",
    "# tr = tr.drop(cat, axis=1)\n",
    "# ts = ts.drop(cat_t, axis=1)"
   ]
  },
  {
   "cell_type": "code",
   "execution_count": 35,
   "id": "5fa5a84a",
   "metadata": {},
   "outputs": [],
   "source": [
    "# tr = tr.drop(cat, axis=1)\n",
    "# ts = ts.drop(cat_t, axis=1)"
   ]
  },
  {
   "cell_type": "code",
   "execution_count": 39,
   "id": "fc497abc",
   "metadata": {},
   "outputs": [],
   "source": []
  },
  {
   "cell_type": "code",
   "execution_count": 40,
   "id": "5f0b85a1",
   "metadata": {},
   "outputs": [
    {
     "name": "stdout",
     "output_type": "stream",
     "text": [
      "Fold 0 ==> CatBoost oof ROC-AUC score is ==> 0.6481548241873225\n",
      "Fold 1 ==> CatBoost oof ROC-AUC score is ==> 0.6379595353867527\n",
      "Fold 2 ==> CatBoost oof ROC-AUC score is ==> 0.639814822956326\n",
      "Fold 3 ==> CatBoost oof ROC-AUC score is ==> 0.6209585945537199\n",
      "Fold 4 ==> CatBoost oof ROC-AUC score is ==> 0.639199324710496\n",
      "Fold 5 ==> CatBoost oof ROC-AUC score is ==> 0.6310527657853318\n",
      "Fold 6 ==> CatBoost oof ROC-AUC score is ==> 0.6086881973814946\n",
      "Fold 7 ==> CatBoost oof ROC-AUC score is ==> 0.6605264080802412\n",
      "Fold 8 ==> CatBoost oof ROC-AUC score is ==> 0.649373991723364\n",
      "Fold 9 ==> CatBoost oof ROC-AUC score is ==> 0.6616661990601108\n",
      "Средняя совокупность оценок ROC-AUC за 10-кратный период составляет 0.639739466382516\n",
      "Признаки для удаления set()\n",
      "Лучших 5  признаков: {'maximum open credit', 'current loan amount', 'annual income', 'term_freq', 'number of open accounts', 'home ownership_freq'}\n"
     ]
    }
   ],
   "source": [
    "model, dict_fold = fit_kfold(tr,threshold=0.41, fold=10)"
   ]
  },
  {
   "cell_type": "markdown",
   "id": "7e1785b9",
   "metadata": {},
   "source": [
    "k_fold = 5  \n",
    "0.4:   0.680280077685978   \n",
    "0.45:  0.6816282460896386  \n",
    "0.46:  0.6797283565019462  \n",
    "0.44:  0.6820252880763314  \n",
    "0.43:  0.6824399133300459  \n",
    "0.42:  0.6836844022855126  \n",
    "0.41:  0.685014344888858  \n",
    "0.409: 0.6850931883486026\n",
    "  \n",
    "k_fold = 10  \n",
    "roc-auc немного меньше, но на тесте выше"
   ]
  },
  {
   "cell_type": "code",
   "execution_count": 65,
   "id": "e7f74526",
   "metadata": {},
   "outputs": [],
   "source": [
    "tr = train.iloc[list(dict_fold['7_train'][0])]"
   ]
  },
  {
   "cell_type": "code",
   "execution_count": 66,
   "id": "e0ce4a9b",
   "metadata": {},
   "outputs": [
    {
     "name": "stdout",
     "output_type": "stream",
     "text": [
      "Fold 0 ==> CatBoost oof ROC-AUC score is ==> 0.6721106890938687\n",
      "Fold 1 ==> CatBoost oof ROC-AUC score is ==> 0.7133206728160607\n",
      "Fold 2 ==> CatBoost oof ROC-AUC score is ==> 0.6842376559956591\n",
      "Fold 3 ==> CatBoost oof ROC-AUC score is ==> 0.6782962561041779\n",
      "Fold 4 ==> CatBoost oof ROC-AUC score is ==> 0.6816060770482907\n",
      "Fold 5 ==> CatBoost oof ROC-AUC score is ==> 0.6714324470971242\n",
      "Fold 6 ==> CatBoost oof ROC-AUC score is ==> 0.6496744438415627\n",
      "Fold 7 ==> CatBoost oof ROC-AUC score is ==> 0.6872219207813348\n",
      "Fold 8 ==> CatBoost oof ROC-AUC score is ==> 0.6547205642973414\n",
      "Fold 9 ==> CatBoost oof ROC-AUC score is ==> 0.6537417247198304\n",
      "Средняя совокупность оценок ROC-AUC за 10-кратный период составляет 0.674636245179525\n",
      "Признаки для удаления set()\n",
      "Лучших 5  признаков: {'credit score', 'maximum open credit', 'current loan amount', 'annual income', 'term_freq'}\n"
     ]
    }
   ],
   "source": [
    "model, dict_fold = fit_kfold(tr,threshold=0.41, fold=10)"
   ]
  },
  {
   "cell_type": "code",
   "execution_count": 67,
   "id": "cea6a857",
   "metadata": {},
   "outputs": [],
   "source": [
    "subb(test, model)"
   ]
  },
  {
   "cell_type": "markdown",
   "id": "fac3f9fb",
   "metadata": {},
   "source": [
    "* буду удалять по одному признаку, может один из них плохой"
   ]
  },
  {
   "cell_type": "code",
   "execution_count": 167,
   "id": "ac198871",
   "metadata": {},
   "outputs": [
    {
     "data": {
      "text/plain": [
       "Index(['annual income', 'tax liens', 'number of open accounts',\n",
       "       'years of credit history', 'maximum open credit',\n",
       "       'number of credit problems', 'months since last delinquent',\n",
       "       'bankruptcies', 'current loan amount', 'current credit balance',\n",
       "       'monthly debt', 'credit score', 'home ownership_freq',\n",
       "       'years in current job_freq', 'purpose_freq', 'term_freq', 'target'],\n",
       "      dtype='object')"
      ]
     },
     "execution_count": 167,
     "metadata": {},
     "output_type": "execute_result"
    }
   ],
   "source": [
    "train.columns"
   ]
  },
  {
   "cell_type": "code",
   "execution_count": 38,
   "id": "a116a8ce",
   "metadata": {},
   "outputs": [
    {
     "name": "stdout",
     "output_type": "stream",
     "text": [
      "shape,  (7500, 16)\n",
      "Удален признак --> annual income\n",
      "Fold 0 ==> CatBoost oof ROC-AUC score is ==> 0.6729066465017718\n",
      "Fold 1 ==> CatBoost oof ROC-AUC score is ==> 0.6843505174581681\n",
      "Fold 2 ==> CatBoost oof ROC-AUC score is ==> 0.6625091225632863\n",
      "Fold 3 ==> CatBoost oof ROC-AUC score is ==> 0.6456092992992113\n",
      "Fold 4 ==> CatBoost oof ROC-AUC score is ==> 0.656529996746652\n",
      "Fold 5 ==> CatBoost oof ROC-AUC score is ==> 0.6739442006875994\n",
      "Fold 6 ==> CatBoost oof ROC-AUC score is ==> 0.6427164575438102\n",
      "Fold 7 ==> CatBoost oof ROC-AUC score is ==> 0.6912744616679526\n",
      "Fold 8 ==> CatBoost oof ROC-AUC score is ==> 0.6781230272848425\n",
      "Fold 9 ==> CatBoost oof ROC-AUC score is ==> 0.6566774216174511\n",
      "Средняя совокупность оценок ROC-AUC за 10-кратный период составляет 0.6664641151370746\n",
      "Признаки для удаления set()\n",
      "Лучших 5  признаков: {'credit score', 'maximum open credit', 'current loan amount', 'term_freq', 'home ownership_freq'}\n",
      "shape,  (7500, 16)\n",
      "Удален признак --> tax liens\n",
      "Fold 0 ==> CatBoost oof ROC-AUC score is ==> 0.6981464709968433\n",
      "Fold 1 ==> CatBoost oof ROC-AUC score is ==> 0.6792990354263204\n",
      "Fold 2 ==> CatBoost oof ROC-AUC score is ==> 0.6719877955490685\n",
      "Fold 3 ==> CatBoost oof ROC-AUC score is ==> 0.6462247975450413\n",
      "Fold 4 ==> CatBoost oof ROC-AUC score is ==> 0.6791979178573627\n",
      "Fold 5 ==> CatBoost oof ROC-AUC score is ==> 0.682284201918596\n",
      "Fold 6 ==> CatBoost oof ROC-AUC score is ==> 0.6659998769003508\n",
      "Fold 7 ==> CatBoost oof ROC-AUC score is ==> 0.7195763484604055\n",
      "Fold 8 ==> CatBoost oof ROC-AUC score is ==> 0.6838395174300343\n",
      "Fold 9 ==> CatBoost oof ROC-AUC score is ==> 0.6683295924808865\n",
      "Средняя совокупность оценок ROC-AUC за 10-кратный период составляет 0.6794885554564909\n",
      "Признаки для удаления set()\n",
      "Лучших 5  признаков: {'credit score', 'maximum open credit', 'current loan amount', 'annual income', 'term_freq'}\n",
      "shape,  (7500, 16)\n",
      "Удален признак --> number of open accounts\n",
      "Fold 0 ==> CatBoost oof ROC-AUC score is ==> 0.6891821786879336\n",
      "Fold 1 ==> CatBoost oof ROC-AUC score is ==> 0.687748947058358\n",
      "Fold 2 ==> CatBoost oof ROC-AUC score is ==> 0.6734298200107273\n",
      "Fold 3 ==> CatBoost oof ROC-AUC score is ==> 0.6472535588987858\n",
      "Fold 4 ==> CatBoost oof ROC-AUC score is ==> 0.6830096105654669\n",
      "Fold 5 ==> CatBoost oof ROC-AUC score is ==> 0.6680661924399229\n",
      "Fold 6 ==> CatBoost oof ROC-AUC score is ==> 0.6689850433926263\n",
      "Fold 7 ==> CatBoost oof ROC-AUC score is ==> 0.706854527600477\n",
      "Fold 8 ==> CatBoost oof ROC-AUC score is ==> 0.6786929227747773\n",
      "Fold 9 ==> CatBoost oof ROC-AUC score is ==> 0.6725468191064038\n",
      "Средняя совокупность оценок ROC-AUC за 10-кратный период составляет 0.6775769620535479\n",
      "Признаки для удаления set()\n",
      "Лучших 5  признаков: {'credit score', 'maximum open credit', 'monthly debt', 'current loan amount', 'annual income', 'term_freq'}\n",
      "shape,  (7500, 16)\n",
      "Удален признак --> years of credit history\n",
      "Fold 0 ==> CatBoost oof ROC-AUC score is ==> 0.6910374662575068\n",
      "Fold 1 ==> CatBoost oof ROC-AUC score is ==> 0.6854803963808703\n",
      "Fold 2 ==> CatBoost oof ROC-AUC score is ==> 0.6715745324411541\n",
      "Fold 3 ==> CatBoost oof ROC-AUC score is ==> 0.6425142224058947\n",
      "Fold 4 ==> CatBoost oof ROC-AUC score is ==> 0.680226679211107\n",
      "Fold 5 ==> CatBoost oof ROC-AUC score is ==> 0.6761028409640462\n",
      "Fold 6 ==> CatBoost oof ROC-AUC score is ==> 0.6661009944693086\n",
      "Fold 7 ==> CatBoost oof ROC-AUC score is ==> 0.7172879988777442\n",
      "Fold 8 ==> CatBoost oof ROC-AUC score is ==> 0.6951322157536649\n",
      "Fold 9 ==> CatBoost oof ROC-AUC score is ==> 0.6701883285403661\n",
      "Средняя совокупность оценок ROC-AUC за 10-кратный период составляет 0.6795645675301663\n",
      "Признаки для удаления set()\n",
      "Лучших 5  признаков: {'credit score', 'maximum open credit', 'current loan amount', 'annual income', 'term_freq'}\n",
      "shape,  (7500, 16)\n",
      "Удален признак --> maximum open credit\n",
      "Fold 0 ==> CatBoost oof ROC-AUC score is ==> 0.6785648339473662\n",
      "Fold 1 ==> CatBoost oof ROC-AUC score is ==> 0.6737331727176006\n",
      "Fold 2 ==> CatBoost oof ROC-AUC score is ==> 0.6867201857046136\n",
      "Fold 3 ==> CatBoost oof ROC-AUC score is ==> 0.6537470653922921\n",
      "Fold 4 ==> CatBoost oof ROC-AUC score is ==> 0.6728055289328139\n",
      "Fold 5 ==> CatBoost oof ROC-AUC score is ==> 0.6709502413632408\n",
      "Fold 6 ==> CatBoost oof ROC-AUC score is ==> 0.645701624036086\n",
      "Fold 7 ==> CatBoost oof ROC-AUC score is ==> 0.723723434102546\n",
      "Fold 8 ==> CatBoost oof ROC-AUC score is ==> 0.6779038367117907\n",
      "Fold 9 ==> CatBoost oof ROC-AUC score is ==> 0.6607543662762152\n",
      "Средняя совокупность оценок ROC-AUC за 10-кратный период составляет 0.6744604289184565\n",
      "Признаки для удаления set()\n",
      "Лучших 5  признаков: {'credit score', 'monthly debt', 'current loan amount', 'annual income', 'term_freq', 'home ownership_freq'}\n",
      "shape,  (7500, 16)\n",
      "Удален признак --> number of credit problems\n",
      "Fold 0 ==> CatBoost oof ROC-AUC score is ==> 0.6886677980110614\n",
      "Fold 1 ==> CatBoost oof ROC-AUC score is ==> 0.6865091577346147\n",
      "Fold 2 ==> CatBoost oof ROC-AUC score is ==> 0.6744585813644718\n",
      "Fold 3 ==> CatBoost oof ROC-AUC score is ==> 0.6480800851146146\n",
      "Fold 4 ==> CatBoost oof ROC-AUC score is ==> 0.678270274072576\n",
      "Fold 5 ==> CatBoost oof ROC-AUC score is ==> 0.6799145336721504\n",
      "Fold 6 ==> CatBoost oof ROC-AUC score is ==> 0.6603328966226732\n",
      "Fold 7 ==> CatBoost oof ROC-AUC score is ==> 0.7158588763414464\n",
      "Fold 8 ==> CatBoost oof ROC-AUC score is ==> 0.6778336957284141\n",
      "Fold 9 ==> CatBoost oof ROC-AUC score is ==> 0.6786929227747773\n",
      "Средняя совокупность оценок ROC-AUC за 10-кратный период составляет 0.67886188214368\n",
      "Признаки для удаления set()\n",
      "Лучших 5  признаков: {'credit score', 'maximum open credit', 'current loan amount', 'annual income', 'term_freq'}\n",
      "shape,  (7500, 16)\n",
      "Удален признак --> months since last delinquent\n",
      "Fold 0 ==> CatBoost oof ROC-AUC score is ==> 0.6824864370565115\n",
      "Fold 1 ==> CatBoost oof ROC-AUC score is ==> 0.6826974650265104\n",
      "Fold 2 ==> CatBoost oof ROC-AUC score is ==> 0.6739442006875994\n",
      "Fold 3 ==> CatBoost oof ROC-AUC score is ==> 0.6410721979442359\n",
      "Fold 4 ==> CatBoost oof ROC-AUC score is ==> 0.6863069225966992\n",
      "Fold 5 ==> CatBoost oof ROC-AUC score is ==> 0.691147376658548\n",
      "Fold 6 ==> CatBoost oof ROC-AUC score is ==> 0.6679562820388819\n",
      "Fold 7 ==> CatBoost oof ROC-AUC score is ==> 0.7055656870309323\n",
      "Fold 8 ==> CatBoost oof ROC-AUC score is ==> 0.6886266395454864\n",
      "Fold 9 ==> CatBoost oof ROC-AUC score is ==> 0.6621834888125131\n",
      "Средняя совокупность оценок ROC-AUC за 10-кратный период составляет 0.6781986697397917\n",
      "Признаки для удаления set()\n",
      "Лучших 5  признаков: {'credit score', 'maximum open credit', 'current loan amount', 'annual income', 'term_freq'}\n",
      "shape,  (7500, 16)\n",
      "Удален признак --> bankruptcies\n",
      "Fold 0 ==> CatBoost oof ROC-AUC score is ==> 0.6989729972126723\n",
      "Fold 1 ==> CatBoost oof ROC-AUC score is ==> 0.6906329959816757\n",
      "Fold 2 ==> CatBoost oof ROC-AUC score is ==> 0.6743574637955139\n",
      "Fold 3 ==> CatBoost oof ROC-AUC score is ==> 0.6485944657914867\n",
      "Fold 4 ==> CatBoost oof ROC-AUC score is ==> 0.6858936594887847\n",
      "Fold 5 ==> CatBoost oof ROC-AUC score is ==> 0.6826974650265104\n",
      "Fold 6 ==> CatBoost oof ROC-AUC score is ==> 0.6636302086539054\n",
      "Fold 7 ==> CatBoost oof ROC-AUC score is ==> 0.7237935750859226\n",
      "Fold 8 ==> CatBoost oof ROC-AUC score is ==> 0.6899154801150312\n",
      "Fold 9 ==> CatBoost oof ROC-AUC score is ==> 0.6758346777021814\n",
      "Средняя совокупность оценок ROC-AUC за 10-кратный период составляет 0.6834322988853685\n",
      "Признаки для удаления set()\n",
      "Лучших 5  признаков: {'credit score', 'maximum open credit', 'current loan amount', 'annual income', 'term_freq'}\n",
      "shape,  (7500, 16)\n",
      "Удален признак --> current loan amount\n",
      "Fold 0 ==> CatBoost oof ROC-AUC score is ==> 0.6686904835178362\n",
      "Fold 1 ==> CatBoost oof ROC-AUC score is ==> 0.6913671974606301\n",
      "Fold 2 ==> CatBoost oof ROC-AUC score is ==> 0.6566399071476932\n",
      "Fold 3 ==> CatBoost oof ROC-AUC score is ==> 0.6381969418530015\n",
      "Fold 4 ==> CatBoost oof ROC-AUC score is ==> 0.6529293320085465\n",
      "Fold 5 ==> CatBoost oof ROC-AUC score is ==> 0.6581830491783098\n",
      "Fold 6 ==> CatBoost oof ROC-AUC score is ==> 0.6456092992992113\n",
      "Fold 7 ==> CatBoost oof ROC-AUC score is ==> 0.7022865960580768\n",
      "Fold 8 ==> CatBoost oof ROC-AUC score is ==> 0.6844181805428912\n",
      "Fold 9 ==> CatBoost oof ROC-AUC score is ==> 0.6501806130321948\n",
      "Средняя совокупность оценок ROC-AUC за 10-кратный период составляет 0.6648501600098391\n",
      "Признаки для удаления set()\n",
      "Лучших 5  признаков: {'credit score', 'maximum open credit', 'monthly debt', 'annual income', 'term_freq', 'home ownership_freq'}\n",
      "shape,  (7500, 16)\n",
      "Удален признак --> current credit balance\n"
     ]
    },
    {
     "name": "stdout",
     "output_type": "stream",
     "text": [
      "Fold 0 ==> CatBoost oof ROC-AUC score is ==> 0.688254534903147\n",
      "Fold 1 ==> CatBoost oof ROC-AUC score is ==> 0.6789868898873638\n",
      "Fold 2 ==> CatBoost oof ROC-AUC score is ==> 0.6777558933957037\n",
      "Fold 3 ==> CatBoost oof ROC-AUC score is ==> 0.6513773971458467\n",
      "Fold 4 ==> CatBoost oof ROC-AUC score is ==> 0.6806399423190215\n",
      "Fold 5 ==> CatBoost oof ROC-AUC score is ==> 0.6771316023177905\n",
      "Fold 6 ==> CatBoost oof ROC-AUC score is ==> 0.6633180631149487\n",
      "Fold 7 ==> CatBoost oof ROC-AUC score is ==> 0.7097127726730729\n",
      "Fold 8 ==> CatBoost oof ROC-AUC score is ==> 0.6861980079960721\n",
      "Fold 9 ==> CatBoost oof ROC-AUC score is ==> 0.6698288560005611\n",
      "Средняя совокупность оценок ROC-AUC за 10-кратный период составляет 0.6783203959753528\n",
      "Признаки для удаления set()\n",
      "Лучших 5  признаков: {'credit score', 'maximum open credit', 'current loan amount', 'annual income', 'term_freq'}\n",
      "shape,  (7500, 16)\n",
      "Удален признак --> monthly debt\n",
      "Fold 0 ==> CatBoost oof ROC-AUC score is ==> 0.6801167688100661\n",
      "Fold 1 ==> CatBoost oof ROC-AUC score is ==> 0.6887777084121025\n",
      "Fold 2 ==> CatBoost oof ROC-AUC score is ==> 0.6823941123196371\n",
      "Fold 3 ==> CatBoost oof ROC-AUC score is ==> 0.6434418661906813\n",
      "Fold 4 ==> CatBoost oof ROC-AUC score is ==> 0.6839372543502538\n",
      "Fold 5 ==> CatBoost oof ROC-AUC score is ==> 0.6746608165023872\n",
      "Fold 6 ==> CatBoost oof ROC-AUC score is ==> 0.6616738035153742\n",
      "Fold 7 ==> CatBoost oof ROC-AUC score is ==> 0.7215052255032616\n",
      "Fold 8 ==> CatBoost oof ROC-AUC score is ==> 0.6843392719365926\n",
      "Fold 9 ==> CatBoost oof ROC-AUC score is ==> 0.6735463281195201\n",
      "Средняя совокупность оценок ROC-AUC за 10-кратный период составляет 0.6794393155659877\n",
      "Признаки для удаления set()\n",
      "Лучших 5  признаков: {'credit score', 'maximum open credit', 'current loan amount', 'annual income', 'term_freq'}\n",
      "shape,  (7500, 16)\n",
      "Удален признак --> credit score\n",
      "Fold 0 ==> CatBoost oof ROC-AUC score is ==> 0.6418635528317316\n",
      "Fold 1 ==> CatBoost oof ROC-AUC score is ==> 0.6340379322776073\n",
      "Fold 2 ==> CatBoost oof ROC-AUC score is ==> 0.6382628880936261\n",
      "Fold 3 ==> CatBoost oof ROC-AUC score is ==> 0.6174502545524888\n",
      "Fold 4 ==> CatBoost oof ROC-AUC score is ==> 0.6304372675395018\n",
      "Fold 5 ==> CatBoost oof ROC-AUC score is ==> 0.6345523129544794\n",
      "Fold 6 ==> CatBoost oof ROC-AUC score is ==> 0.6112601007658557\n"
     ]
    },
    {
     "ename": "KeyboardInterrupt",
     "evalue": "",
     "output_type": "error",
     "traceback": [
      "\u001b[1;31m---------------------------------------------------------------------------\u001b[0m",
      "\u001b[1;31mKeyboardInterrupt\u001b[0m                         Traceback (most recent call last)",
      "\u001b[1;32mC:\\Temp/ipykernel_7044/2321115060.py\u001b[0m in \u001b[0;36m<module>\u001b[1;34m\u001b[0m\n\u001b[0;32m      6\u001b[0m     \u001b[0mprint\u001b[0m\u001b[1;33m(\u001b[0m\u001b[1;34m\"shape, \"\u001b[0m\u001b[1;33m,\u001b[0m \u001b[0mtr\u001b[0m\u001b[1;33m.\u001b[0m\u001b[0mshape\u001b[0m\u001b[1;33m)\u001b[0m\u001b[1;33m\u001b[0m\u001b[1;33m\u001b[0m\u001b[0m\n\u001b[0;32m      7\u001b[0m     \u001b[0mprint\u001b[0m\u001b[1;33m(\u001b[0m\u001b[1;34mf\"Удален признак --> {i}\"\u001b[0m\u001b[1;33m)\u001b[0m\u001b[1;33m\u001b[0m\u001b[1;33m\u001b[0m\u001b[0m\n\u001b[1;32m----> 8\u001b[1;33m     \u001b[0mmodel\u001b[0m \u001b[1;33m=\u001b[0m \u001b[0mfit_kfold\u001b[0m\u001b[1;33m(\u001b[0m\u001b[0mtr\u001b[0m\u001b[1;33m,\u001b[0m\u001b[0mthreshold\u001b[0m\u001b[1;33m=\u001b[0m\u001b[1;36m0.4\u001b[0m\u001b[1;33m,\u001b[0m \u001b[0mfold\u001b[0m\u001b[1;33m=\u001b[0m\u001b[1;36m10\u001b[0m\u001b[1;33m)\u001b[0m\u001b[1;33m\u001b[0m\u001b[1;33m\u001b[0m\u001b[0m\n\u001b[0m",
      "\u001b[1;32mC:\\Temp/ipykernel_7044/1826977645.py\u001b[0m in \u001b[0;36mfit_kfold\u001b[1;34m(data, cat_features, threshold, fold, best_sign)\u001b[0m\n\u001b[0;32m     36\u001b[0m \u001b[1;33m\u001b[0m\u001b[0m\n\u001b[0;32m     37\u001b[0m \u001b[1;31m#         Cat_md.fit(X_train, Y_train, eval_set=[(X_valid, Y_valid)])\u001b[0m\u001b[1;33m\u001b[0m\u001b[1;33m\u001b[0m\u001b[1;33m\u001b[0m\u001b[0m\n\u001b[1;32m---> 38\u001b[1;33m         \u001b[0mCat_md\u001b[0m\u001b[1;33m.\u001b[0m\u001b[0mfit\u001b[0m\u001b[1;33m(\u001b[0m\u001b[0mX_train\u001b[0m\u001b[1;33m,\u001b[0m \u001b[0mY_train\u001b[0m\u001b[1;33m)\u001b[0m\u001b[1;33m\u001b[0m\u001b[1;33m\u001b[0m\u001b[0m\n\u001b[0m\u001b[0;32m     39\u001b[0m \u001b[1;33m\u001b[0m\u001b[0m\n\u001b[0;32m     40\u001b[0m \u001b[1;31m#         cat_pred = Cat_md.predict(X_test)\u001b[0m\u001b[1;33m\u001b[0m\u001b[1;33m\u001b[0m\u001b[1;33m\u001b[0m\u001b[0m\n",
      "\u001b[1;32mc:\\program files\\python37\\lib\\site-packages\\catboost\\core.py\u001b[0m in \u001b[0;36mfit\u001b[1;34m(self, X, y, cat_features, text_features, embedding_features, sample_weight, baseline, use_best_model, eval_set, verbose, logging_level, plot, plot_file, column_description, verbose_eval, metric_period, silent, early_stopping_rounds, save_snapshot, snapshot_file, snapshot_interval, init_model, callbacks, log_cout, log_cerr)\u001b[0m\n\u001b[0;32m   5128\u001b[0m         self._fit(X, y, cat_features, text_features, embedding_features, None, sample_weight, None, None, None, None, baseline, use_best_model,\n\u001b[0;32m   5129\u001b[0m                   \u001b[0meval_set\u001b[0m\u001b[1;33m,\u001b[0m \u001b[0mverbose\u001b[0m\u001b[1;33m,\u001b[0m \u001b[0mlogging_level\u001b[0m\u001b[1;33m,\u001b[0m \u001b[0mplot\u001b[0m\u001b[1;33m,\u001b[0m \u001b[0mplot_file\u001b[0m\u001b[1;33m,\u001b[0m \u001b[0mcolumn_description\u001b[0m\u001b[1;33m,\u001b[0m \u001b[0mverbose_eval\u001b[0m\u001b[1;33m,\u001b[0m \u001b[0mmetric_period\u001b[0m\u001b[1;33m,\u001b[0m\u001b[1;33m\u001b[0m\u001b[1;33m\u001b[0m\u001b[0m\n\u001b[1;32m-> 5130\u001b[1;33m                   silent, early_stopping_rounds, save_snapshot, snapshot_file, snapshot_interval, init_model, callbacks, log_cout, log_cerr)\n\u001b[0m\u001b[0;32m   5131\u001b[0m         \u001b[1;32mreturn\u001b[0m \u001b[0mself\u001b[0m\u001b[1;33m\u001b[0m\u001b[1;33m\u001b[0m\u001b[0m\n\u001b[0;32m   5132\u001b[0m \u001b[1;33m\u001b[0m\u001b[0m\n",
      "\u001b[1;32mc:\\program files\\python37\\lib\\site-packages\\catboost\\core.py\u001b[0m in \u001b[0;36m_fit\u001b[1;34m(self, X, y, cat_features, text_features, embedding_features, pairs, sample_weight, group_id, group_weight, subgroup_id, pairs_weight, baseline, use_best_model, eval_set, verbose, logging_level, plot, plot_file, column_description, verbose_eval, metric_period, silent, early_stopping_rounds, save_snapshot, snapshot_file, snapshot_interval, init_model, callbacks, log_cout, log_cerr)\u001b[0m\n\u001b[0;32m   2358\u001b[0m                 \u001b[0mparams\u001b[0m\u001b[1;33m,\u001b[0m\u001b[1;33m\u001b[0m\u001b[1;33m\u001b[0m\u001b[0m\n\u001b[0;32m   2359\u001b[0m                 \u001b[0mallow_clear_pool\u001b[0m\u001b[1;33m,\u001b[0m\u001b[1;33m\u001b[0m\u001b[1;33m\u001b[0m\u001b[0m\n\u001b[1;32m-> 2360\u001b[1;33m                 \u001b[0mtrain_params\u001b[0m\u001b[1;33m[\u001b[0m\u001b[1;34m\"init_model\"\u001b[0m\u001b[1;33m]\u001b[0m\u001b[1;33m\u001b[0m\u001b[1;33m\u001b[0m\u001b[0m\n\u001b[0m\u001b[0;32m   2361\u001b[0m             )\n\u001b[0;32m   2362\u001b[0m \u001b[1;33m\u001b[0m\u001b[0m\n",
      "\u001b[1;32mc:\\program files\\python37\\lib\\site-packages\\catboost\\core.py\u001b[0m in \u001b[0;36m_train\u001b[1;34m(self, train_pool, test_pool, params, allow_clear_pool, init_model)\u001b[0m\n\u001b[0;32m   1757\u001b[0m \u001b[1;33m\u001b[0m\u001b[0m\n\u001b[0;32m   1758\u001b[0m     \u001b[1;32mdef\u001b[0m \u001b[0m_train\u001b[0m\u001b[1;33m(\u001b[0m\u001b[0mself\u001b[0m\u001b[1;33m,\u001b[0m \u001b[0mtrain_pool\u001b[0m\u001b[1;33m,\u001b[0m \u001b[0mtest_pool\u001b[0m\u001b[1;33m,\u001b[0m \u001b[0mparams\u001b[0m\u001b[1;33m,\u001b[0m \u001b[0mallow_clear_pool\u001b[0m\u001b[1;33m,\u001b[0m \u001b[0minit_model\u001b[0m\u001b[1;33m)\u001b[0m\u001b[1;33m:\u001b[0m\u001b[1;33m\u001b[0m\u001b[1;33m\u001b[0m\u001b[0m\n\u001b[1;32m-> 1759\u001b[1;33m         \u001b[0mself\u001b[0m\u001b[1;33m.\u001b[0m\u001b[0m_object\u001b[0m\u001b[1;33m.\u001b[0m\u001b[0m_train\u001b[0m\u001b[1;33m(\u001b[0m\u001b[0mtrain_pool\u001b[0m\u001b[1;33m,\u001b[0m \u001b[0mtest_pool\u001b[0m\u001b[1;33m,\u001b[0m \u001b[0mparams\u001b[0m\u001b[1;33m,\u001b[0m \u001b[0mallow_clear_pool\u001b[0m\u001b[1;33m,\u001b[0m \u001b[0minit_model\u001b[0m\u001b[1;33m.\u001b[0m\u001b[0m_object\u001b[0m \u001b[1;32mif\u001b[0m \u001b[0minit_model\u001b[0m \u001b[1;32melse\u001b[0m \u001b[1;32mNone\u001b[0m\u001b[1;33m)\u001b[0m\u001b[1;33m\u001b[0m\u001b[1;33m\u001b[0m\u001b[0m\n\u001b[0m\u001b[0;32m   1760\u001b[0m         \u001b[0mself\u001b[0m\u001b[1;33m.\u001b[0m\u001b[0m_set_trained_model_attributes\u001b[0m\u001b[1;33m(\u001b[0m\u001b[1;33m)\u001b[0m\u001b[1;33m\u001b[0m\u001b[1;33m\u001b[0m\u001b[0m\n\u001b[0;32m   1761\u001b[0m \u001b[1;33m\u001b[0m\u001b[0m\n",
      "\u001b[1;32m_catboost.pyx\u001b[0m in \u001b[0;36m_catboost._CatBoost._train\u001b[1;34m()\u001b[0m\n",
      "\u001b[1;32m_catboost.pyx\u001b[0m in \u001b[0;36m_catboost._CatBoost._train\u001b[1;34m()\u001b[0m\n",
      "\u001b[1;31mKeyboardInterrupt\u001b[0m: "
     ]
    }
   ],
   "source": [
    "for i in train.columns:\n",
    "#     tr = train.copy()\n",
    "    if i == \"target\" :\n",
    "        continue\n",
    "    tr = train.drop(i, axis=1)\n",
    "    print(\"shape, \", tr.shape)\n",
    "    print(f\"Удален признак --> {i}\")\n",
    "    model = fit_kfold(tr,threshold=0.4, fold=10)"
   ]
  },
  {
   "cell_type": "markdown",
   "id": "b7b20c8c",
   "metadata": {},
   "source": [
    "0.6798367202921227"
   ]
  },
  {
   "cell_type": "markdown",
   "id": "a68da283",
   "metadata": {},
   "source": [
    "# работа с пропусками"
   ]
  },
  {
   "cell_type": "markdown",
   "id": "f3fecd79",
   "metadata": {},
   "source": [
    "* Home Ownership - домовладение  \n",
    "* Annual Income - годовой доход  \n",
    "* Years in current job - количество лет на текущем месте работы  \n",
    "* Tax Liens - налоговые обременения  \n",
    "* Number of Open Accounts - количество открытых счетов  \n",
    "* Years of Credit History - количество лет кредитной истории  \n",
    "* Maximum Open Credit - наибольший открытый кредит (максимальная сумма, которая когда-либо была доступна клиенту)  \n",
    "* Number of Credit Problems - количество проблем с кредитом  \n",
    "* Months since last delinquent - количество месяцев с последней просрочки платежа  \n",
    "* Bankruptcies - банкротства  \n",
    "* Purpose - цель кредита  \n",
    "* Term - срок кредита  \n",
    "* Current Loan Amount - текущая сумма кредита (сумма, которую еще предстоит выплатить клиенту)  \n",
    "* Current Credit Balance - текущий кредитный баланс (сумма, которую может тратить клиент с кредитного счета)  \n",
    "* Monthly Debt - ежемесячный долг  \n",
    "* Credit Score - баллы кредитного рейтинга  \n",
    "* Credit Default - факт невыполнения кредитных обязательств (0 - погашен вовремя, 1 - просрочка)"
   ]
  },
  {
   "cell_type": "code",
   "execution_count": 69,
   "id": "f5aad1dc",
   "metadata": {},
   "outputs": [],
   "source": [
    "tr = train.copy()\n",
    "ts = test.copy()"
   ]
  },
  {
   "cell_type": "code",
   "execution_count": null,
   "id": "50e819a0",
   "metadata": {},
   "outputs": [],
   "source": []
  },
  {
   "cell_type": "code",
   "execution_count": 70,
   "id": "11f0022a",
   "metadata": {},
   "outputs": [
    {
     "name": "stdout",
     "output_type": "stream",
     "text": [
      "annual income\n",
      "nunique 5478\n",
      "value_counts \n",
      " 1338113.0    4\n",
      "969475.0     4\n",
      "1161660.0    4\n",
      "1043651.0    4\n",
      "1058376.0    4\n",
      "            ..\n",
      "1272316.0    1\n",
      "712082.0     1\n",
      "695476.0     1\n",
      "678889.0     1\n",
      "402192.0     1\n",
      "Name: annual income, Length: 5478, dtype: int64\n",
      "NAN:  1557\n",
      "**************************************************\n",
      "months since last delinquent\n",
      "nunique 151\n",
      "value_counts \n",
      " 40.789     233\n",
      "38.000     223\n",
      "40.162     183\n",
      "38.633     171\n",
      "40.176     168\n",
      "          ... \n",
      "86.000       1\n",
      "118.000      1\n",
      "84.000       1\n",
      "91.000       1\n",
      "92.000       1\n",
      "Name: months since last delinquent, Length: 151, dtype: int64\n",
      "NAN:  2\n",
      "**************************************************\n",
      "credit score\n",
      "nunique 270\n",
      "value_counts \n",
      " 739.0     1399\n",
      "746.0      324\n",
      "740.0      169\n",
      "747.0      169\n",
      "748.0      157\n",
      "          ... \n",
      "616.0        1\n",
      "6600.0       1\n",
      "629.0        1\n",
      "6820.0       1\n",
      "6060.0       1\n",
      "Name: credit score, Length: 270, dtype: int64\n",
      "NAN:  1\n",
      "**************************************************\n"
     ]
    }
   ],
   "source": [
    "for i in train.columns:\n",
    "    if train[i].isna().sum() > 0:\n",
    "        print(i)\n",
    "        print(\"nunique\",train[i].nunique())\n",
    "        print(\"value_counts \\n\",train[i].value_counts())\n",
    "        print(\"NAN: \", train[i].isna().sum())\n",
    "        print(\"*\"*50)"
   ]
  },
  {
   "cell_type": "code",
   "execution_count": 71,
   "id": "40ed778b",
   "metadata": {},
   "outputs": [],
   "source": [
    "tr['months since last delinquent'] = tr['months since last delinquent'].fillna(40.789)"
   ]
  },
  {
   "cell_type": "code",
   "execution_count": 72,
   "id": "f687e609",
   "metadata": {},
   "outputs": [],
   "source": [
    "tr['annual income'] = tr['annual income'].fillna(999999)"
   ]
  },
  {
   "cell_type": "code",
   "execution_count": 73,
   "id": "ed88367a",
   "metadata": {},
   "outputs": [],
   "source": [
    "tr['credit score'] = tr['credit score'].fillna(739.0)"
   ]
  },
  {
   "cell_type": "code",
   "execution_count": 74,
   "id": "2f59c54a",
   "metadata": {},
   "outputs": [
    {
     "name": "stdout",
     "output_type": "stream",
     "text": [
      "annual income\n",
      "nunique 1930\n",
      "value_counts \n",
      " 184556.5     52\n",
      "1025145.0     3\n",
      "1214993.0     3\n",
      "1237109.0     3\n",
      "1328803.0     3\n",
      "             ..\n",
      "763838.0      1\n",
      "1221168.0     1\n",
      "651377.0      1\n",
      "1735479.0     1\n",
      "1694439.0     1\n",
      "Name: annual income, Length: 1930, dtype: int64\n",
      "NAN:  461\n",
      "**************************************************\n",
      "months since last delinquent\n",
      "nunique 136\n",
      "value_counts \n",
      " 39.500    104\n",
      "39.029     70\n",
      "34.812     60\n",
      "32.238     53\n",
      "38.576     52\n",
      "         ... \n",
      "43.219      2\n",
      "7.667       1\n",
      "14.500      1\n",
      "21.667      1\n",
      "32.667      1\n",
      "Name: months since last delinquent, Length: 136, dtype: int64\n",
      "NAN:  4\n",
      "**************************************************\n"
     ]
    }
   ],
   "source": [
    "for i in test.columns:\n",
    "    if test[i].isna().sum() > 0:\n",
    "        print(i)\n",
    "        print(\"nunique\",test[i].nunique())\n",
    "        print(\"value_counts \\n\",test[i].value_counts())\n",
    "        print(\"NAN: \", test[i].isna().sum())\n",
    "        print(\"*\"*50)"
   ]
  },
  {
   "cell_type": "code",
   "execution_count": 75,
   "id": "24fb1659",
   "metadata": {},
   "outputs": [],
   "source": [
    "ts['annual income'] = ts['annual income'].fillna(999999)\n",
    "ts['months since last delinquent'] = ts['months since last delinquent'].fillna(39.500)"
   ]
  },
  {
   "cell_type": "code",
   "execution_count": 76,
   "id": "9f877408",
   "metadata": {},
   "outputs": [
    {
     "data": {
      "image/png": "[encoded data removed]",
      "text/plain": [
       "<Figure size 1296x936 with 2 Axes>"
      ]
     },
     "metadata": {},
     "output_type": "display_data"
    }
   ],
   "source": [
    "mc.corr_sign(tr, 'target')"
   ]
  },
  {
   "cell_type": "code",
   "execution_count": 77,
   "id": "d5d8456a",
   "metadata": {},
   "outputs": [
    {
     "data": {
      "text/plain": [
       "0    5387\n",
       "1    2113\n",
       "Name: target, dtype: int64"
      ]
     },
     "execution_count": 77,
     "metadata": {},
     "output_type": "execute_result"
    }
   ],
   "source": [
    "tr['target'].value_counts()"
   ]
  },
  {
   "cell_type": "code",
   "execution_count": 28,
   "id": "e0fce201",
   "metadata": {},
   "outputs": [],
   "source": [
    "model = fit_kfold(tr,threshold=0.4, fold=10)"
   ]
  },
  {
   "cell_type": "markdown",
   "id": "49af0564",
   "metadata": {},
   "source": [
    "0.6798367202921227"
   ]
  },
  {
   "cell_type": "code",
   "execution_count": 62,
   "id": "81db32b9",
   "metadata": {},
   "outputs": [],
   "source": [
    "subb(test, model)"
   ]
  },
  {
   "cell_type": "code",
   "execution_count": 78,
   "id": "b5fbfeb2",
   "metadata": {},
   "outputs": [],
   "source": [
    "train = tr\n",
    "test = ts"
   ]
  },
  {
   "cell_type": "code",
   "execution_count": 79,
   "id": "028125ec",
   "metadata": {},
   "outputs": [
    {
     "data": {
      "text/html": [
       "<div>\n",
       "<style scoped>\n",
       "    .dataframe tbody tr th:only-of-type {\n",
       "        vertical-align: middle;\n",
       "    }\n",
       "\n",
       "    .dataframe tbody tr th {\n",
       "        vertical-align: top;\n",
       "    }\n",
       "\n",
       "    .dataframe thead th {\n",
       "        text-align: right;\n",
       "    }\n",
       "</style>\n",
       "<table border=\"1\" class=\"dataframe\">\n",
       "  <thead>\n",
       "    <tr style=\"text-align: right;\">\n",
       "      <th></th>\n",
       "      <th>count</th>\n",
       "      <th>max</th>\n",
       "      <th>quantile_99</th>\n",
       "      <th>max_vs_quantile_99</th>\n",
       "      <th>min</th>\n",
       "      <th>quantile_1</th>\n",
       "      <th>min_vs_quantile_1</th>\n",
       "      <th>nunique</th>\n",
       "      <th>isna_sum</th>\n",
       "      <th>dtype</th>\n",
       "    </tr>\n",
       "  </thead>\n",
       "  <tbody>\n",
       "    <tr>\n",
       "      <th>annual income</th>\n",
       "      <td>7500</td>\n",
       "      <td>10149344.0</td>\n",
       "      <td>4225966.7</td>\n",
       "      <td>75</td>\n",
       "      <td>164597.0</td>\n",
       "      <td>364466.17</td>\n",
       "      <td>75</td>\n",
       "      <td>5479</td>\n",
       "      <td>0</td>\n",
       "      <td>float64</td>\n",
       "    </tr>\n",
       "    <tr>\n",
       "      <th>tax liens</th>\n",
       "      <td>7500</td>\n",
       "      <td>7.0</td>\n",
       "      <td>1.0</td>\n",
       "      <td>51</td>\n",
       "      <td>0.0</td>\n",
       "      <td>0.0</td>\n",
       "      <td>0</td>\n",
       "      <td>8</td>\n",
       "      <td>0</td>\n",
       "      <td>float64</td>\n",
       "    </tr>\n",
       "    <tr>\n",
       "      <th>number of open accounts</th>\n",
       "      <td>7500</td>\n",
       "      <td>43.0</td>\n",
       "      <td>27.0</td>\n",
       "      <td>62</td>\n",
       "      <td>2.0</td>\n",
       "      <td>3.0</td>\n",
       "      <td>28</td>\n",
       "      <td>39</td>\n",
       "      <td>0</td>\n",
       "      <td>float64</td>\n",
       "    </tr>\n",
       "    <tr>\n",
       "      <th>years of credit history</th>\n",
       "      <td>7500</td>\n",
       "      <td>57.7</td>\n",
       "      <td>40.401</td>\n",
       "      <td>75</td>\n",
       "      <td>4.0</td>\n",
       "      <td>6.5</td>\n",
       "      <td>70</td>\n",
       "      <td>408</td>\n",
       "      <td>0</td>\n",
       "      <td>float64</td>\n",
       "    </tr>\n",
       "    <tr>\n",
       "      <th>maximum open credit</th>\n",
       "      <td>7500</td>\n",
       "      <td>1304726170.0</td>\n",
       "      <td>3568459.4</td>\n",
       "      <td>75</td>\n",
       "      <td>0.0</td>\n",
       "      <td>17269.78</td>\n",
       "      <td>75</td>\n",
       "      <td>6963</td>\n",
       "      <td>0</td>\n",
       "      <td>float64</td>\n",
       "    </tr>\n",
       "    <tr>\n",
       "      <th>number of credit problems</th>\n",
       "      <td>7500</td>\n",
       "      <td>7.0</td>\n",
       "      <td>2.0</td>\n",
       "      <td>56</td>\n",
       "      <td>0.0</td>\n",
       "      <td>0.0</td>\n",
       "      <td>0</td>\n",
       "      <td>8</td>\n",
       "      <td>0</td>\n",
       "      <td>float64</td>\n",
       "    </tr>\n",
       "    <tr>\n",
       "      <th>months since last delinquent</th>\n",
       "      <td>7500</td>\n",
       "      <td>118.0</td>\n",
       "      <td>79.0</td>\n",
       "      <td>59</td>\n",
       "      <td>0.0</td>\n",
       "      <td>2.0</td>\n",
       "      <td>45</td>\n",
       "      <td>151</td>\n",
       "      <td>0</td>\n",
       "      <td>float64</td>\n",
       "    </tr>\n",
       "    <tr>\n",
       "      <th>bankruptcies</th>\n",
       "      <td>7500</td>\n",
       "      <td>4.0</td>\n",
       "      <td>1.0</td>\n",
       "      <td>54</td>\n",
       "      <td>0.0</td>\n",
       "      <td>0.0</td>\n",
       "      <td>0</td>\n",
       "      <td>6</td>\n",
       "      <td>0</td>\n",
       "      <td>float64</td>\n",
       "    </tr>\n",
       "    <tr>\n",
       "      <th>current loan amount</th>\n",
       "      <td>7500</td>\n",
       "      <td>99999999.0</td>\n",
       "      <td>99999999.0</td>\n",
       "      <td>0</td>\n",
       "      <td>11242.0</td>\n",
       "      <td>43185.56</td>\n",
       "      <td>75</td>\n",
       "      <td>5386</td>\n",
       "      <td>0</td>\n",
       "      <td>float64</td>\n",
       "    </tr>\n",
       "    <tr>\n",
       "      <th>current credit balance</th>\n",
       "      <td>7500</td>\n",
       "      <td>6506797.0</td>\n",
       "      <td>1483079.39</td>\n",
       "      <td>75</td>\n",
       "      <td>0.0</td>\n",
       "      <td>1443.81</td>\n",
       "      <td>75</td>\n",
       "      <td>6592</td>\n",
       "      <td>0</td>\n",
       "      <td>float64</td>\n",
       "    </tr>\n",
       "    <tr>\n",
       "      <th>monthly debt</th>\n",
       "      <td>7500</td>\n",
       "      <td>136679.0</td>\n",
       "      <td>58113.13</td>\n",
       "      <td>75</td>\n",
       "      <td>0.0</td>\n",
       "      <td>1320.95</td>\n",
       "      <td>75</td>\n",
       "      <td>6716</td>\n",
       "      <td>0</td>\n",
       "      <td>float64</td>\n",
       "    </tr>\n",
       "    <tr>\n",
       "      <th>credit score</th>\n",
       "      <td>7500</td>\n",
       "      <td>7510.0</td>\n",
       "      <td>7370.0</td>\n",
       "      <td>69</td>\n",
       "      <td>585.0</td>\n",
       "      <td>632.99</td>\n",
       "      <td>75</td>\n",
       "      <td>270</td>\n",
       "      <td>0</td>\n",
       "      <td>float64</td>\n",
       "    </tr>\n",
       "    <tr>\n",
       "      <th>home ownership_freq</th>\n",
       "      <td>7500</td>\n",
       "      <td>0.484933</td>\n",
       "      <td>0.484933</td>\n",
       "      <td>0</td>\n",
       "      <td>0.0016</td>\n",
       "      <td>0.086267</td>\n",
       "      <td>12</td>\n",
       "      <td>4</td>\n",
       "      <td>0</td>\n",
       "      <td>float64</td>\n",
       "    </tr>\n",
       "    <tr>\n",
       "      <th>years in current job_freq</th>\n",
       "      <td>7500</td>\n",
       "      <td>0.327115</td>\n",
       "      <td>0.327115</td>\n",
       "      <td>0</td>\n",
       "      <td>0.03633</td>\n",
       "      <td>0.03633</td>\n",
       "      <td>0</td>\n",
       "      <td>13</td>\n",
       "      <td>0</td>\n",
       "      <td>float64</td>\n",
       "    </tr>\n",
       "    <tr>\n",
       "      <th>purpose_freq</th>\n",
       "      <td>7500</td>\n",
       "      <td>0.792533</td>\n",
       "      <td>0.792533</td>\n",
       "      <td>0</td>\n",
       "      <td>0.000267</td>\n",
       "      <td>0.004533</td>\n",
       "      <td>72</td>\n",
       "      <td>15</td>\n",
       "      <td>0</td>\n",
       "      <td>float64</td>\n",
       "    </tr>\n",
       "    <tr>\n",
       "      <th>term_freq</th>\n",
       "      <td>7500</td>\n",
       "      <td>0.7408</td>\n",
       "      <td>0.7408</td>\n",
       "      <td>0</td>\n",
       "      <td>0.2592</td>\n",
       "      <td>0.2592</td>\n",
       "      <td>0</td>\n",
       "      <td>2</td>\n",
       "      <td>0</td>\n",
       "      <td>float64</td>\n",
       "    </tr>\n",
       "    <tr>\n",
       "      <th>target</th>\n",
       "      <td>7500</td>\n",
       "      <td>1</td>\n",
       "      <td>1.0</td>\n",
       "      <td>0</td>\n",
       "      <td>0</td>\n",
       "      <td>0.0</td>\n",
       "      <td>0</td>\n",
       "      <td>2</td>\n",
       "      <td>0</td>\n",
       "      <td>int64</td>\n",
       "    </tr>\n",
       "  </tbody>\n",
       "</table>\n",
       "</div>"
      ],
      "text/plain": [
       "                             count           max quantile_99  \\\n",
       "annual income                 7500    10149344.0   4225966.7   \n",
       "tax liens                     7500           7.0         1.0   \n",
       "number of open accounts       7500          43.0        27.0   \n",
       "years of credit history       7500          57.7      40.401   \n",
       "maximum open credit           7500  1304726170.0   3568459.4   \n",
       "number of credit problems     7500           7.0         2.0   \n",
       "months since last delinquent  7500         118.0        79.0   \n",
       "bankruptcies                  7500           4.0         1.0   \n",
       "current loan amount           7500    99999999.0  99999999.0   \n",
       "current credit balance        7500     6506797.0  1483079.39   \n",
       "monthly debt                  7500      136679.0    58113.13   \n",
       "credit score                  7500        7510.0      7370.0   \n",
       "home ownership_freq           7500      0.484933    0.484933   \n",
       "years in current job_freq     7500      0.327115    0.327115   \n",
       "purpose_freq                  7500      0.792533    0.792533   \n",
       "term_freq                     7500        0.7408      0.7408   \n",
       "target                        7500             1         1.0   \n",
       "\n",
       "                             max_vs_quantile_99       min quantile_1  \\\n",
       "annual income                                75  164597.0  364466.17   \n",
       "tax liens                                    51       0.0        0.0   \n",
       "number of open accounts                      62       2.0        3.0   \n",
       "years of credit history                      75       4.0        6.5   \n",
       "maximum open credit                          75       0.0   17269.78   \n",
       "number of credit problems                    56       0.0        0.0   \n",
       "months since last delinquent                 59       0.0        2.0   \n",
       "bankruptcies                                 54       0.0        0.0   \n",
       "current loan amount                           0   11242.0   43185.56   \n",
       "current credit balance                       75       0.0    1443.81   \n",
       "monthly debt                                 75       0.0    1320.95   \n",
       "credit score                                 69     585.0     632.99   \n",
       "home ownership_freq                           0    0.0016   0.086267   \n",
       "years in current job_freq                     0   0.03633    0.03633   \n",
       "purpose_freq                                  0  0.000267   0.004533   \n",
       "term_freq                                     0    0.2592     0.2592   \n",
       "target                                        0         0        0.0   \n",
       "\n",
       "                             min_vs_quantile_1 nunique isna_sum    dtype  \n",
       "annual income                               75    5479        0  float64  \n",
       "tax liens                                    0       8        0  float64  \n",
       "number of open accounts                     28      39        0  float64  \n",
       "years of credit history                     70     408        0  float64  \n",
       "maximum open credit                         75    6963        0  float64  \n",
       "number of credit problems                    0       8        0  float64  \n",
       "months since last delinquent                45     151        0  float64  \n",
       "bankruptcies                                 0       6        0  float64  \n",
       "current loan amount                         75    5386        0  float64  \n",
       "current credit balance                      75    6592        0  float64  \n",
       "monthly debt                                75    6716        0  float64  \n",
       "credit score                                75     270        0  float64  \n",
       "home ownership_freq                         12       4        0  float64  \n",
       "years in current job_freq                    0      13        0  float64  \n",
       "purpose_freq                                72      15        0  float64  \n",
       "term_freq                                    0       2        0  float64  \n",
       "target                                       0       2        0    int64  "
      ]
     },
     "execution_count": 79,
     "metadata": {},
     "output_type": "execute_result"
    }
   ],
   "source": [
    "stat_train = mc.stat_frame(tr)\n",
    "stat_train.head(n=tr.shape[1])"
   ]
  },
  {
   "cell_type": "code",
   "execution_count": 80,
   "id": "eac5e37a",
   "metadata": {},
   "outputs": [],
   "source": [
    "# stat_test = mc.stat_frame(ts)"
   ]
  },
  {
   "cell_type": "code",
   "execution_count": 81,
   "id": "e094ed32",
   "metadata": {},
   "outputs": [],
   "source": [
    "tr = mc.percentile_99_1(tr, flag=True)\n",
    "ts = mc.percentile_99_1(ts, flag=True)"
   ]
  },
  {
   "cell_type": "code",
   "execution_count": 67,
   "id": "9fc72fe4",
   "metadata": {},
   "outputs": [
    {
     "name": "stdout",
     "output_type": "stream",
     "text": [
      "Fold 0 ==> CatBoost oof ROC-AUC score is ==> 0.6932048993660368\n",
      "Fold 1 ==> CatBoost oof ROC-AUC score is ==> 0.6859947770577426\n",
      "Fold 2 ==> CatBoost oof ROC-AUC score is ==> 0.661994741886414\n",
      "Fold 3 ==> CatBoost oof ROC-AUC score is ==> 0.6545735916081209\n",
      "Fold 4 ==> CatBoost oof ROC-AUC score is ==> 0.6819808492117228\n",
      "Fold 5 ==> CatBoost oof ROC-AUC score is ==> 0.6792990354263204\n",
      "Fold 6 ==> CatBoost oof ROC-AUC score is ==> 0.6606450421616299\n",
      "Fold 7 ==> CatBoost oof ROC-AUC score is ==> 0.7087132636599566\n",
      "Fold 8 ==> CatBoost oof ROC-AUC score is ==> 0.6946324612471066\n",
      "Fold 9 ==> CatBoost oof ROC-AUC score is ==> 0.6719769236164691\n",
      "Средняя совокупность оценок ROC-AUC за 10-кратный период составляет 0.679301558524152\n",
      "Признаки для удаления set()\n"
     ]
    }
   ],
   "source": [
    "model = fit_kfold(tr,threshold=0.4, fold=10)"
   ]
  },
  {
   "cell_type": "code",
   "execution_count": 68,
   "id": "4182c7c9",
   "metadata": {},
   "outputs": [],
   "source": [
    "subb(test, model)"
   ]
  },
  {
   "cell_type": "markdown",
   "id": "e504c48b",
   "metadata": {},
   "source": [
    "0.6801269553695585"
   ]
  },
  {
   "cell_type": "code",
   "execution_count": 82,
   "id": "c2026faf",
   "metadata": {},
   "outputs": [],
   "source": [
    "train = tr\n",
    "test = ts"
   ]
  },
  {
   "cell_type": "code",
   "execution_count": 83,
   "id": "a68f1a97",
   "metadata": {},
   "outputs": [
    {
     "data": {
      "text/plain": [
       "((7500, 17), (2500, 16))"
      ]
     },
     "execution_count": 83,
     "metadata": {},
     "output_type": "execute_result"
    }
   ],
   "source": [
    "train.shape, test.shape"
   ]
  },
  {
   "cell_type": "markdown",
   "id": "1db631fd",
   "metadata": {},
   "source": [
    "# new features"
   ]
  },
  {
   "cell_type": "code",
   "execution_count": 84,
   "id": "16d7f165",
   "metadata": {},
   "outputs": [
    {
     "data": {
      "text/html": [
       "<div>\n",
       "<style scoped>\n",
       "    .dataframe tbody tr th:only-of-type {\n",
       "        vertical-align: middle;\n",
       "    }\n",
       "\n",
       "    .dataframe tbody tr th {\n",
       "        vertical-align: top;\n",
       "    }\n",
       "\n",
       "    .dataframe thead th {\n",
       "        text-align: right;\n",
       "    }\n",
       "</style>\n",
       "<table border=\"1\" class=\"dataframe\">\n",
       "  <thead>\n",
       "    <tr style=\"text-align: right;\">\n",
       "      <th></th>\n",
       "      <th>annual income</th>\n",
       "      <th>tax liens</th>\n",
       "      <th>number of open accounts</th>\n",
       "      <th>years of credit history</th>\n",
       "      <th>maximum open credit</th>\n",
       "      <th>number of credit problems</th>\n",
       "      <th>months since last delinquent</th>\n",
       "      <th>bankruptcies</th>\n",
       "      <th>current loan amount</th>\n",
       "      <th>current credit balance</th>\n",
       "      <th>monthly debt</th>\n",
       "      <th>credit score</th>\n",
       "      <th>home ownership_freq</th>\n",
       "      <th>years in current job_freq</th>\n",
       "      <th>purpose_freq</th>\n",
       "      <th>term_freq</th>\n",
       "      <th>target</th>\n",
       "    </tr>\n",
       "  </thead>\n",
       "  <tbody>\n",
       "    <tr>\n",
       "      <th>0</th>\n",
       "      <td>482087.0</td>\n",
       "      <td>0.0</td>\n",
       "      <td>11.0</td>\n",
       "      <td>26.3</td>\n",
       "      <td>685960.0</td>\n",
       "      <td>1.0</td>\n",
       "      <td>38.906</td>\n",
       "      <td>1.0</td>\n",
       "      <td>99999999.0</td>\n",
       "      <td>47386.0</td>\n",
       "      <td>7914.0</td>\n",
       "      <td>749.0</td>\n",
       "      <td>0.086267</td>\n",
       "      <td>0.091000</td>\n",
       "      <td>0.792533</td>\n",
       "      <td>0.7408</td>\n",
       "      <td>0</td>\n",
       "    </tr>\n",
       "    <tr>\n",
       "      <th>1</th>\n",
       "      <td>1025487.0</td>\n",
       "      <td>0.0</td>\n",
       "      <td>15.0</td>\n",
       "      <td>15.3</td>\n",
       "      <td>1181730.0</td>\n",
       "      <td>0.0</td>\n",
       "      <td>34.160</td>\n",
       "      <td>0.0</td>\n",
       "      <td>264968.0</td>\n",
       "      <td>394972.0</td>\n",
       "      <td>18373.0</td>\n",
       "      <td>737.0</td>\n",
       "      <td>0.086267</td>\n",
       "      <td>0.327115</td>\n",
       "      <td>0.792533</td>\n",
       "      <td>0.2592</td>\n",
       "      <td>1</td>\n",
       "    </tr>\n",
       "    <tr>\n",
       "      <th>2</th>\n",
       "      <td>751412.0</td>\n",
       "      <td>0.0</td>\n",
       "      <td>11.0</td>\n",
       "      <td>35.0</td>\n",
       "      <td>1182434.0</td>\n",
       "      <td>0.0</td>\n",
       "      <td>31.643</td>\n",
       "      <td>0.0</td>\n",
       "      <td>99999999.0</td>\n",
       "      <td>308389.0</td>\n",
       "      <td>13651.0</td>\n",
       "      <td>742.0</td>\n",
       "      <td>0.484933</td>\n",
       "      <td>0.047552</td>\n",
       "      <td>0.792533</td>\n",
       "      <td>0.7408</td>\n",
       "      <td>0</td>\n",
       "    </tr>\n",
       "    <tr>\n",
       "      <th>3</th>\n",
       "      <td>805068.0</td>\n",
       "      <td>0.0</td>\n",
       "      <td>8.0</td>\n",
       "      <td>22.5</td>\n",
       "      <td>147400.0</td>\n",
       "      <td>1.0</td>\n",
       "      <td>40.789</td>\n",
       "      <td>1.0</td>\n",
       "      <td>121396.0</td>\n",
       "      <td>95855.0</td>\n",
       "      <td>11338.0</td>\n",
       "      <td>694.0</td>\n",
       "      <td>0.086267</td>\n",
       "      <td>0.059756</td>\n",
       "      <td>0.792533</td>\n",
       "      <td>0.7408</td>\n",
       "      <td>0</td>\n",
       "    </tr>\n",
       "    <tr>\n",
       "      <th>4</th>\n",
       "      <td>776264.0</td>\n",
       "      <td>0.0</td>\n",
       "      <td>13.0</td>\n",
       "      <td>13.6</td>\n",
       "      <td>385836.0</td>\n",
       "      <td>1.0</td>\n",
       "      <td>40.789</td>\n",
       "      <td>0.0</td>\n",
       "      <td>125840.0</td>\n",
       "      <td>93309.0</td>\n",
       "      <td>7180.0</td>\n",
       "      <td>719.0</td>\n",
       "      <td>0.427200</td>\n",
       "      <td>0.047552</td>\n",
       "      <td>0.792533</td>\n",
       "      <td>0.7408</td>\n",
       "      <td>0</td>\n",
       "    </tr>\n",
       "  </tbody>\n",
       "</table>\n",
       "</div>"
      ],
      "text/plain": [
       "   annual income  tax liens  number of open accounts  years of credit history  \\\n",
       "0       482087.0        0.0                     11.0                     26.3   \n",
       "1      1025487.0        0.0                     15.0                     15.3   \n",
       "2       751412.0        0.0                     11.0                     35.0   \n",
       "3       805068.0        0.0                      8.0                     22.5   \n",
       "4       776264.0        0.0                     13.0                     13.6   \n",
       "\n",
       "   maximum open credit  number of credit problems  \\\n",
       "0             685960.0                        1.0   \n",
       "1            1181730.0                        0.0   \n",
       "2            1182434.0                        0.0   \n",
       "3             147400.0                        1.0   \n",
       "4             385836.0                        1.0   \n",
       "\n",
       "   months since last delinquent  bankruptcies  current loan amount  \\\n",
       "0                        38.906           1.0           99999999.0   \n",
       "1                        34.160           0.0             264968.0   \n",
       "2                        31.643           0.0           99999999.0   \n",
       "3                        40.789           1.0             121396.0   \n",
       "4                        40.789           0.0             125840.0   \n",
       "\n",
       "   current credit balance  monthly debt  credit score  home ownership_freq  \\\n",
       "0                 47386.0        7914.0         749.0             0.086267   \n",
       "1                394972.0       18373.0         737.0             0.086267   \n",
       "2                308389.0       13651.0         742.0             0.484933   \n",
       "3                 95855.0       11338.0         694.0             0.086267   \n",
       "4                 93309.0        7180.0         719.0             0.427200   \n",
       "\n",
       "   years in current job_freq  purpose_freq  term_freq  target  \n",
       "0                   0.091000      0.792533     0.7408       0  \n",
       "1                   0.327115      0.792533     0.2592       1  \n",
       "2                   0.047552      0.792533     0.7408       0  \n",
       "3                   0.059756      0.792533     0.7408       0  \n",
       "4                   0.047552      0.792533     0.7408       0  "
      ]
     },
     "execution_count": 84,
     "metadata": {},
     "output_type": "execute_result"
    }
   ],
   "source": [
    "train.head()"
   ]
  },
  {
   "cell_type": "code",
   "execution_count": 85,
   "id": "5d987b6a",
   "metadata": {},
   "outputs": [
    {
     "data": {
      "text/html": [
       "<div>\n",
       "<style scoped>\n",
       "    .dataframe tbody tr th:only-of-type {\n",
       "        vertical-align: middle;\n",
       "    }\n",
       "\n",
       "    .dataframe tbody tr th {\n",
       "        vertical-align: top;\n",
       "    }\n",
       "\n",
       "    .dataframe thead th {\n",
       "        text-align: right;\n",
       "    }\n",
       "</style>\n",
       "<table border=\"1\" class=\"dataframe\">\n",
       "  <thead>\n",
       "    <tr style=\"text-align: right;\">\n",
       "      <th></th>\n",
       "      <th>home ownership</th>\n",
       "      <th>years in current job</th>\n",
       "      <th>purpose</th>\n",
       "      <th>term</th>\n",
       "    </tr>\n",
       "  </thead>\n",
       "  <tbody>\n",
       "    <tr>\n",
       "      <th>0</th>\n",
       "      <td>Own Home</td>\n",
       "      <td>NaN</td>\n",
       "      <td>debt consolidation</td>\n",
       "      <td>Short Term</td>\n",
       "    </tr>\n",
       "    <tr>\n",
       "      <th>1</th>\n",
       "      <td>Own Home</td>\n",
       "      <td>10+ years</td>\n",
       "      <td>debt consolidation</td>\n",
       "      <td>Long Term</td>\n",
       "    </tr>\n",
       "    <tr>\n",
       "      <th>2</th>\n",
       "      <td>Home Mortgage</td>\n",
       "      <td>8 years</td>\n",
       "      <td>debt consolidation</td>\n",
       "      <td>Short Term</td>\n",
       "    </tr>\n",
       "    <tr>\n",
       "      <th>3</th>\n",
       "      <td>Own Home</td>\n",
       "      <td>6 years</td>\n",
       "      <td>debt consolidation</td>\n",
       "      <td>Short Term</td>\n",
       "    </tr>\n",
       "    <tr>\n",
       "      <th>4</th>\n",
       "      <td>Rent</td>\n",
       "      <td>8 years</td>\n",
       "      <td>debt consolidation</td>\n",
       "      <td>Short Term</td>\n",
       "    </tr>\n",
       "    <tr>\n",
       "      <th>...</th>\n",
       "      <td>...</td>\n",
       "      <td>...</td>\n",
       "      <td>...</td>\n",
       "      <td>...</td>\n",
       "    </tr>\n",
       "    <tr>\n",
       "      <th>7495</th>\n",
       "      <td>Rent</td>\n",
       "      <td>&lt; 1 year</td>\n",
       "      <td>other</td>\n",
       "      <td>Short Term</td>\n",
       "    </tr>\n",
       "    <tr>\n",
       "      <th>7496</th>\n",
       "      <td>Home Mortgage</td>\n",
       "      <td>1 year</td>\n",
       "      <td>debt consolidation</td>\n",
       "      <td>Long Term</td>\n",
       "    </tr>\n",
       "    <tr>\n",
       "      <th>7497</th>\n",
       "      <td>Rent</td>\n",
       "      <td>6 years</td>\n",
       "      <td>buy a car</td>\n",
       "      <td>Short Term</td>\n",
       "    </tr>\n",
       "    <tr>\n",
       "      <th>7498</th>\n",
       "      <td>Home Mortgage</td>\n",
       "      <td>NaN</td>\n",
       "      <td>debt consolidation</td>\n",
       "      <td>Short Term</td>\n",
       "    </tr>\n",
       "    <tr>\n",
       "      <th>7499</th>\n",
       "      <td>Rent</td>\n",
       "      <td>4 years</td>\n",
       "      <td>debt consolidation</td>\n",
       "      <td>Short Term</td>\n",
       "    </tr>\n",
       "  </tbody>\n",
       "</table>\n",
       "<p>7500 rows × 4 columns</p>\n",
       "</div>"
      ],
      "text/plain": [
       "     home ownership years in current job             purpose        term\n",
       "0          Own Home                  NaN  debt consolidation  Short Term\n",
       "1          Own Home            10+ years  debt consolidation   Long Term\n",
       "2     Home Mortgage              8 years  debt consolidation  Short Term\n",
       "3          Own Home              6 years  debt consolidation  Short Term\n",
       "4              Rent              8 years  debt consolidation  Short Term\n",
       "...             ...                  ...                 ...         ...\n",
       "7495           Rent             < 1 year               other  Short Term\n",
       "7496  Home Mortgage               1 year  debt consolidation   Long Term\n",
       "7497           Rent              6 years           buy a car  Short Term\n",
       "7498  Home Mortgage                  NaN  debt consolidation  Short Term\n",
       "7499           Rent              4 years  debt consolidation  Short Term\n",
       "\n",
       "[7500 rows x 4 columns]"
      ]
     },
     "execution_count": 85,
     "metadata": {},
     "output_type": "execute_result"
    }
   ],
   "source": [
    "train_cat"
   ]
  },
  {
   "cell_type": "code",
   "execution_count": 86,
   "id": "398447a6",
   "metadata": {},
   "outputs": [
    {
     "data": {
      "text/plain": [
       "10+ years    2332\n",
       "2 years       705\n",
       "3 years       620\n",
       "< 1 year      563\n",
       "5 years       516\n",
       "1 year        504\n",
       "4 years       469\n",
       "6 years       426\n",
       "7 years       396\n",
       "8 years       339\n",
       "9 years       259\n",
       "Name: years in current job, dtype: int64"
      ]
     },
     "execution_count": 86,
     "metadata": {},
     "output_type": "execute_result"
    }
   ],
   "source": [
    "train_cat['years in current job'].value_counts()"
   ]
  },
  {
   "cell_type": "markdown",
   "id": "3ba81160",
   "metadata": {},
   "source": [
    "### если человек больше года на работе это хорошо"
   ]
  },
  {
   "cell_type": "code",
   "execution_count": 87,
   "id": "73e41c23",
   "metadata": {},
   "outputs": [
    {
     "data": {
      "text/plain": [
       "371"
      ]
     },
     "execution_count": 87,
     "metadata": {},
     "output_type": "execute_result"
    }
   ],
   "source": [
    "train_cat['years in current job'].isna().sum()"
   ]
  },
  {
   "cell_type": "code",
   "execution_count": 88,
   "id": "aade2a2e",
   "metadata": {},
   "outputs": [],
   "source": [
    "train['years in current job'] = train_cat['years in current job']\n",
    "test['years in current job'] = test_cat['years in current job']"
   ]
  },
  {
   "cell_type": "code",
   "execution_count": 89,
   "id": "788d8249",
   "metadata": {},
   "outputs": [],
   "source": [
    "train['flag_good_job'] = np.where(train['years in current job'] != \"< 1 year\", 1, 0)\n",
    "test['flag_good_job'] = np.where(test['years in current job'] != \"< 1 year\", 1, 0)"
   ]
  },
  {
   "cell_type": "code",
   "execution_count": 90,
   "id": "c371c494",
   "metadata": {},
   "outputs": [],
   "source": [
    "train = train.drop('years in current job', axis=1)\n",
    "test = test.drop('years in current job', axis=1)"
   ]
  },
  {
   "cell_type": "code",
   "execution_count": 91,
   "id": "5a415b46",
   "metadata": {},
   "outputs": [
    {
     "data": {
      "text/plain": [
       "Index(['annual income', 'tax liens', 'number of open accounts',\n",
       "       'years of credit history', 'maximum open credit',\n",
       "       'number of credit problems', 'months since last delinquent',\n",
       "       'bankruptcies', 'current loan amount', 'current credit balance',\n",
       "       'monthly debt', 'credit score', 'home ownership_freq',\n",
       "       'years in current job_freq', 'purpose_freq', 'term_freq', 'target',\n",
       "       'flag_good_job'],\n",
       "      dtype='object')"
      ]
     },
     "execution_count": 91,
     "metadata": {},
     "output_type": "execute_result"
    }
   ],
   "source": [
    "train.columns"
   ]
  },
  {
   "cell_type": "markdown",
   "id": "a0ade824",
   "metadata": {},
   "source": [
    "### ипотека на дом и имеет ипотеку это одно и тоже"
   ]
  },
  {
   "cell_type": "code",
   "execution_count": 92,
   "id": "0394b33b",
   "metadata": {},
   "outputs": [],
   "source": [
    "train = train.drop('home ownership_freq', axis=1)\n",
    "test = test.drop('home ownership_freq', axis=1)"
   ]
  },
  {
   "cell_type": "code",
   "execution_count": 93,
   "id": "4ee1b6d9",
   "metadata": {},
   "outputs": [],
   "source": [
    "train['home ownership'] = train_cat['home ownership']\n",
    "test['home ownership'] = test_cat['home ownership']"
   ]
  },
  {
   "cell_type": "code",
   "execution_count": 94,
   "id": "14526d9b",
   "metadata": {},
   "outputs": [],
   "source": [
    "tr = train.copy()\n",
    "ts = test.copy()"
   ]
  },
  {
   "cell_type": "code",
   "execution_count": 95,
   "id": "d3c06152",
   "metadata": {},
   "outputs": [],
   "source": [
    "d = {'Home Mortgage':'Home Mortgage', 'Rent':'Rent', 'Own Home': 'Own Home', 'Have Mortgage': 'Home Mortgage'}\n",
    "tr['home ownership'] = tr['home ownership'].apply(lambda x: d[x])\n",
    "ts['home ownership'] = ts['home ownership'].apply(lambda x: d[x])"
   ]
  },
  {
   "cell_type": "code",
   "execution_count": 96,
   "id": "3bcbfd51",
   "metadata": {},
   "outputs": [
    {
     "data": {
      "text/plain": [
       "Home Mortgage    1225\n",
       "Rent             1020\n",
       "Own Home          248\n",
       "Have Mortgage       7\n",
       "Name: home ownership, dtype: int64"
      ]
     },
     "execution_count": 96,
     "metadata": {},
     "output_type": "execute_result"
    }
   ],
   "source": [
    "test_cat['home ownership'].value_counts()"
   ]
  },
  {
   "cell_type": "code",
   "execution_count": 97,
   "id": "62b94f25",
   "metadata": {},
   "outputs": [
    {
     "data": {
      "text/plain": [
       "Home Mortgage    1232\n",
       "Rent             1020\n",
       "Own Home          248\n",
       "Name: home ownership, dtype: int64"
      ]
     },
     "execution_count": 97,
     "metadata": {},
     "output_type": "execute_result"
    }
   ],
   "source": [
    "ts['home ownership'].value_counts()"
   ]
  },
  {
   "cell_type": "code",
   "execution_count": 98,
   "id": "01b950d3",
   "metadata": {},
   "outputs": [],
   "source": [
    "train = tr\n",
    "test = ts"
   ]
  },
  {
   "cell_type": "code",
   "execution_count": 99,
   "id": "1a56637b",
   "metadata": {},
   "outputs": [
    {
     "name": "stderr",
     "output_type": "stream",
     "text": [
      "100%|███████████████████████████████████████████████████████████████████████████████████| 1/1 [00:00<00:00, 200.19it/s]\n",
      "100%|███████████████████████████████████████████████████████████████████████████████████| 1/1 [00:00<00:00, 333.15it/s]\n"
     ]
    }
   ],
   "source": [
    "train = mc.object_to_freq(train, ['home ownership'])\n",
    "test = mc.object_to_freq(test, ['home ownership'])\n",
    "\n",
    "train = train.drop('home ownership', axis=1)\n",
    "test = test.drop('home ownership', axis=1)"
   ]
  },
  {
   "cell_type": "code",
   "execution_count": 100,
   "id": "792304d0",
   "metadata": {},
   "outputs": [],
   "source": [
    "train['years_since_last_delinquent'] = train['months since last delinquent'] / 365\n",
    "test['years_since_last_delinquent'] = test['months since last delinquent'] / 365\n"
   ]
  },
  {
   "cell_type": "code",
   "execution_count": 112,
   "id": "b93c2f65",
   "metadata": {},
   "outputs": [],
   "source": []
  },
  {
   "cell_type": "code",
   "execution_count": 113,
   "id": "6c633856",
   "metadata": {},
   "outputs": [
    {
     "data": {
      "text/plain": [
       "((7500, 19), (2500, 18))"
      ]
     },
     "execution_count": 113,
     "metadata": {},
     "output_type": "execute_result"
    }
   ],
   "source": [
    "train.shape, test.shape"
   ]
  },
  {
   "cell_type": "code",
   "execution_count": 114,
   "id": "ccbc2647",
   "metadata": {},
   "outputs": [
    {
     "name": "stdout",
     "output_type": "stream",
     "text": [
      "Fold 0 ==> CatBoost oof ROC-AUC score is ==> 0.6807498527200626\n",
      "Fold 1 ==> CatBoost oof ROC-AUC score is ==> 0.6815763789358915\n",
      "Fold 2 ==> CatBoost oof ROC-AUC score is ==> 0.6716932356742783\n",
      "Fold 3 ==> CatBoost oof ROC-AUC score is ==> 0.6572641982256064\n",
      "Fold 4 ==> CatBoost oof ROC-AUC score is ==> 0.6662284905345163\n",
      "Fold 5 ==> CatBoost oof ROC-AUC score is ==> 0.6951788901687345\n",
      "Fold 6 ==> CatBoost oof ROC-AUC score is ==> 0.6613792436405843\n",
      "Fold 7 ==> CatBoost oof ROC-AUC score is ==> 0.6875657571719155\n",
      "Fold 8 ==> CatBoost oof ROC-AUC score is ==> 0.6744143227888055\n",
      "Fold 9 ==> CatBoost oof ROC-AUC score is ==> 0.6623325384021885\n",
      "Средняя совокупность оценок ROC-AUC за 10-кратный период составляет 0.6738382908262583\n",
      "Признаки для удаления set()\n",
      "Лучших 5  признаков: {'credit score', 'term_freq', 'maximum open credit', 'annual income', 'current loan amount'}\n"
     ]
    }
   ],
   "source": [
    "model = fit_kfold(train,threshold=0.41, fold=10)"
   ]
  },
  {
   "cell_type": "code",
   "execution_count": 254,
   "id": "d9fdd552",
   "metadata": {},
   "outputs": [
    {
     "data": {
      "text/plain": [
       "((7500, 19), (2500, 18))"
      ]
     },
     "execution_count": 254,
     "metadata": {},
     "output_type": "execute_result"
    }
   ],
   "source": [
    "train.shape, test.shape"
   ]
  },
  {
   "cell_type": "code",
   "execution_count": 115,
   "id": "07967ebb",
   "metadata": {},
   "outputs": [],
   "source": [
    "subb(test, model)"
   ]
  },
  {
   "cell_type": "code",
   "execution_count": 105,
   "id": "96cd0db8",
   "metadata": {},
   "outputs": [],
   "source": [
    "train.to_csv(\"data/train_best.csv\", index=False)\n",
    "test.to_csv(\"data/test_best.csv\", index=False)"
   ]
  },
  {
   "cell_type": "markdown",
   "id": "17cabdfb",
   "metadata": {},
   "source": [
    "* на данном этапе score 0.63843 на liderboard, при старых параметрах catboost"
   ]
  },
  {
   "cell_type": "markdown",
   "id": "e17de0fe",
   "metadata": {},
   "source": [
    "* Home Ownership - домовладение  \n",
    "* Annual Income - годовой доход  \n",
    "* Years in current job - количество лет на текущем месте работы  \n",
    "* Tax Liens - налоговые обременения  \n",
    "* Number of Open Accounts - количество открытых счетов  \n",
    "* Years of Credit History - количество лет кредитной истории  \n",
    "* Maximum Open Credit - наибольший открытый кредит (максимальная сумма, которая когда-либо была доступна клиенту)  \n",
    "* Number of Credit Problems - количество проблем с кредитом  \n",
    "* Months since last delinquent - количество месяцев с последней просрочки платежа  \n",
    "* Bankruptcies - банкротства  \n",
    "* Purpose - цель кредита  \n",
    "* Term - срок кредита  \n",
    "* Current Loan Amount - текущая сумма кредита (сумма, которую еще предстоит выплатить клиенту)  \n",
    "* Current Credit Balance - текущий кредитный баланс (сумма, которую может тратить клиент с кредитного счета)  \n",
    "* Monthly Debt - ежемесячный долг  \n",
    "* Credit Score - баллы кредитного рейтинга  \n",
    "* Credit Default - факт невыполнения кредитных обязательств (0 - погашен вовремя, 1 - просрочка)"
   ]
  },
  {
   "cell_type": "code",
   "execution_count": 18,
   "id": "9321b239",
   "metadata": {},
   "outputs": [
    {
     "data": {
      "text/plain": [
       "['data_kmeans.csv',\n",
       " 'sample_submission.csv',\n",
       " 'test.csv',\n",
       " 'test_best.csv',\n",
       " 'test_dr_f.csv',\n",
       " 'test_kmeans.csv',\n",
       " 'test_max_sign.csv',\n",
       " 'test_new.csv',\n",
       " 'train.csv',\n",
       " 'train_best.csv',\n",
       " 'train_dr_f.csv',\n",
       " 'train_kmeans.csv',\n",
       " 'train_max_sign.csv',\n",
       " 'train_new.csv']"
      ]
     },
     "execution_count": 18,
     "metadata": {},
     "output_type": "execute_result"
    }
   ],
   "source": [
    "os.listdir(\"data\")"
   ]
  },
  {
   "cell_type": "code",
   "execution_count": 8,
   "id": "4d8f611b",
   "metadata": {},
   "outputs": [
    {
     "data": {
      "text/plain": [
       "((7500, 19), (2500, 18))"
      ]
     },
     "execution_count": 8,
     "metadata": {},
     "output_type": "execute_result"
    }
   ],
   "source": [
    "train = pd.read_csv(\"data/train_best.csv\")\n",
    "test = pd.read_csv(\"data/test_best.csv\")\n",
    "sub = pd.read_csv(\"data/sample_submission.csv\")\n",
    "\n",
    "train.shape, test.shape"
   ]
  },
  {
   "cell_type": "code",
   "execution_count": 13,
   "id": "6bccf85f",
   "metadata": {},
   "outputs": [
    {
     "ename": "TypeError",
     "evalue": "CatBoostClassifier.__init__() got an unexpected keyword argument 'random state'",
     "output_type": "error",
     "traceback": [
      "\u001b[1;31m---------------------------------------------------------------------------\u001b[0m",
      "\u001b[1;31mTypeError\u001b[0m                                 Traceback (most recent call last)",
      "Cell \u001b[1;32mIn[13], line 1\u001b[0m\n\u001b[1;32m----> 1\u001b[0m model, dict_fold \u001b[38;5;241m=\u001b[39m \u001b[43mfit_kfold\u001b[49m\u001b[43m(\u001b[49m\u001b[43mtrain\u001b[49m\u001b[43m,\u001b[49m\u001b[43mthreshold\u001b[49m\u001b[38;5;241;43m=\u001b[39;49m\u001b[38;5;241;43m0.4\u001b[39;49m\u001b[43m,\u001b[49m\u001b[43m \u001b[49m\u001b[43mfold\u001b[49m\u001b[38;5;241;43m=\u001b[39;49m\u001b[38;5;241;43m10\u001b[39;49m\u001b[43m)\u001b[49m\n",
      "Cell \u001b[1;32mIn[4], line 40\u001b[0m, in \u001b[0;36mfit_kfold\u001b[1;34m(data, cat_features, threshold, fold, best_sign)\u001b[0m\n\u001b[0;32m     38\u001b[0m             Cat_md \u001b[38;5;241m=\u001b[39m cb\u001b[38;5;241m.\u001b[39mCatBoostClassifier(\u001b[38;5;241m*\u001b[39m\u001b[38;5;241m*\u001b[39mparams, cat_features\u001b[38;5;241m=\u001b[39mcat_features)\n\u001b[0;32m     39\u001b[0m         \u001b[38;5;28;01melse\u001b[39;00m:\n\u001b[1;32m---> 40\u001b[0m             Cat_md \u001b[38;5;241m=\u001b[39m \u001b[43mcb\u001b[49m\u001b[38;5;241;43m.\u001b[39;49m\u001b[43mCatBoostClassifier\u001b[49m\u001b[43m(\u001b[49m\u001b[38;5;241;43m*\u001b[39;49m\u001b[38;5;241;43m*\u001b[39;49m\u001b[43mparams\u001b[49m\u001b[43m)\u001b[49m\n\u001b[0;32m     42\u001b[0m \u001b[38;5;66;03m#         Cat_md.fit(X_train, Y_train, eval_set=[(X_valid, Y_valid)])\u001b[39;00m\n\u001b[0;32m     43\u001b[0m         Cat_md\u001b[38;5;241m.\u001b[39mfit(X_train, Y_train)\n",
      "\u001b[1;31mTypeError\u001b[0m: CatBoostClassifier.__init__() got an unexpected keyword argument 'random state'"
     ]
    }
   ],
   "source": [
    "model, dict_fold = fit_kfold(train,threshold=0.4, fold=10)"
   ]
  },
  {
   "cell_type": "markdown",
   "id": "424b10f6",
   "metadata": {},
   "source": [
    "0.679"
   ]
  },
  {
   "cell_type": "code",
   "execution_count": 56,
   "id": "d2f90956",
   "metadata": {},
   "outputs": [],
   "source": [
    "subb(test, model)"
   ]
  },
  {
   "cell_type": "code",
   "execution_count": 52,
   "id": "4ff1c008",
   "metadata": {},
   "outputs": [],
   "source": [
    "# tr['ratio_income_to_tax_liens'] = tr['tax liens'] / tr['annual income'] \n",
    "# ts['ratio_income_to_tax_liens'] =  ts['tax liens'] / ts['annual income']"
   ]
  },
  {
   "cell_type": "code",
   "execution_count": 53,
   "id": "75b1223b",
   "metadata": {},
   "outputs": [],
   "source": [
    "# tr[\"ratio_income_to_loan\"] = tr['current loan amount'] / tr['annual income'] \n",
    "# ts[\"ratio_income_to_loan\"] = ts['current loan amount'] / ts['annual income'] "
   ]
  },
  {
   "cell_type": "code",
   "execution_count": 55,
   "id": "524c13bd",
   "metadata": {},
   "outputs": [],
   "source": [
    "# model = fit_kfold(tr,threshold=0.4, fold=10)"
   ]
  },
  {
   "cell_type": "code",
   "execution_count": null,
   "id": "ec7e0a80",
   "metadata": {},
   "outputs": [],
   "source": []
  },
  {
   "cell_type": "code",
   "execution_count": 32,
   "id": "146e414a",
   "metadata": {},
   "outputs": [],
   "source": [
    "def create_client_profile_features(X: pd.DataFrame, copy: bool = True) -> pd.DataFrame:\n",
    "    \"\"\"\n",
    "    Создание признаков на основе профиля клиентов.\n",
    "\n",
    "    Parameters\n",
    "    ----------\n",
    "    X: pandas.core.frame.DataFrame\n",
    "        Матрица признаков с исходным профилем клиента.\n",
    "\n",
    "    copy: bool, optional, default = True\n",
    "        Флаг использования копии датафрейма X.\n",
    "        Опциональный параметр, по умолчанию, равен True.\n",
    "\n",
    "    Returns\n",
    "    -------\n",
    "    X_transformed: pandas.core.frame.DataFrame\n",
    "        Расширенная матрица признаков с профилем клиентов.\n",
    "\n",
    "    \"\"\"\n",
    "    if copy:\n",
    "        X = X.copy()\n",
    "\n",
    "\n",
    "    # Отношение между основными фин. показателями\n",
    "    X['ratio_income_to_tax_liens'] = X['annual income'] * X['tax liens']\n",
    "    X[\"ratio_income_to_loan\"] = X['annual income'] / X['current loan amount']\n",
    "#     X[\"total_salary_annuity\"] = X[\"total_salary\"] - X[\"amount_annuity\"]\n",
    "\n",
    "    # Отношение фин. показателей к возрасту и временным фичам\n",
    "    X['ratio_credit_to_salary'] = X['current loan amount'] / X['annual income']\n",
    "    X[\"ratio_loan_amount_to_monthly_debt\"] = X[\"current loan amount\"] / X[\"monthly debt\"]\n",
    "    X[\"ratio_loan_amount_to_months_since_last_delinquent\"] = X[\"current loan amount\"] / X[\"months since last delinquent\"]\n",
    "    X[\"ratio_loan_amount_to_number_of_open_accounts\"] = X[\"current loan amount\"] / X[\"number of open accounts\"]\n",
    "    X[\"ratio_loan_amount_to_years_in_current_job\"] = X[\"current loan amount\"] / X[\"years in current job_freq\"]\n",
    "    X[\"ratio_loan_amount_to_home_ownership\"] = X[\"current loan amount\"] / X[\"home ownership_freq\"]\n",
    "    X[\"ratio_loan_amount_to_number_of_credit_problems\"] = X[\"current loan amount\"] / X[\"number of credit problems\"]\n",
    "\n",
    "    # Отношение врменных признаков\n",
    "    X[\"ratio_annual_income_to_experience\"] = X[\"annual income\"] / X[\"years_since_last_delinquent\"]\n",
    "    X[\"ratio_current_loan_amount_to_region_population\"] = X[\"current loan amount\"] * X[\"years_since_last_delinquent\"]\n",
    "    X[\"ratio_number_of_open_accounts_to_years_since_last_delinquent\"] = X[\"number of open accounts\"] / X[\"years_since_last_delinquent\"]\n",
    "#     X[\"ratio_car_to_age\"] = X[\"own_car_age\"] / X[\"age\"]\n",
    "\n",
    "    # Произведение фин. показателей кредита на вероятность дефолта\n",
    "    # Такая штука называется математическим ожиданием дефолта или ожидаемыми потерями\n",
    "    X[\"expected_total_loss_1\"] = X[\"credit score\"] * X[\"current loan amount\"]\n",
    "\n",
    "\n",
    "    return X\n"
   ]
  },
  {
   "cell_type": "code",
   "execution_count": 33,
   "id": "29edfcc5",
   "metadata": {},
   "outputs": [],
   "source": [
    "train = create_client_profile_features(train)\n",
    "test = create_client_profile_features(test)"
   ]
  },
  {
   "cell_type": "code",
   "execution_count": 34,
   "id": "aa3a3057",
   "metadata": {},
   "outputs": [
    {
     "data": {
      "text/plain": [
       "((7500, 32), (2500, 31))"
      ]
     },
     "execution_count": 34,
     "metadata": {},
     "output_type": "execute_result"
    }
   ],
   "source": [
    "train.shape, test.shape"
   ]
  },
  {
   "cell_type": "code",
   "execution_count": 35,
   "id": "219cf1de",
   "metadata": {},
   "outputs": [],
   "source": [
    "# model = fit_kfold(train,threshold=0.4, fold=10)"
   ]
  },
  {
   "cell_type": "code",
   "execution_count": 36,
   "id": "3730f896",
   "metadata": {},
   "outputs": [],
   "source": [
    "# subb(test)"
   ]
  },
  {
   "cell_type": "markdown",
   "id": "f60e4f84",
   "metadata": {},
   "source": [
    "# group"
   ]
  },
  {
   "cell_type": "code",
   "execution_count": 37,
   "id": "bc2faab3",
   "metadata": {},
   "outputs": [],
   "source": [
    "tr = train.copy()\n",
    "ts = test.copy()"
   ]
  },
  {
   "cell_type": "code",
   "execution_count": 38,
   "id": "f04ac9de",
   "metadata": {},
   "outputs": [],
   "source": [
    "def split_data_group(features: List, data):\n",
    "    features_dict = dict()\n",
    "    for i in tqdm(features):\n",
    "        len_feature = data[i].nunique()\n",
    "        list_feture = np.sort(data[i].unique())\n",
    "        perc_02 = int(len_feature * 0.2)\n",
    "        perc_04 = int(len_feature * 0.4)\n",
    "        perc_06 = int(len_feature * 0.6)\n",
    "        perc_08 = int(len_feature * 0.8)\n",
    "        pp = -2\n",
    "        for perc in [perc_02, perc_04, perc_06, perc_08, pp]:\n",
    "            if perc == perc_02:\n",
    "                list_f = list_feture[:perc]\n",
    "            elif perc == perc_04:\n",
    "                list_f = list_feture[perc_02:perc]\n",
    "            elif perc == perc_06:\n",
    "                list_f = list_feture[perc_04:perc]\n",
    "            elif perc == perc_08:\n",
    "                list_f = list_feture[perc_06:perc]\n",
    "            elif perc == pp:\n",
    "                list_f = list_feture[perc_08:]\n",
    "            for p in list_f:\n",
    "                features_dict[p] = np.sum(list_f)\n",
    "        data[f'group_{i}'] = data[i].apply(lambda x: features_dict[x])\n",
    "    return data"
   ]
  },
  {
   "cell_type": "code",
   "execution_count": null,
   "id": "ac04f0f7",
   "metadata": {},
   "outputs": [],
   "source": []
  },
  {
   "cell_type": "code",
   "execution_count": null,
   "id": "9100f8b0",
   "metadata": {},
   "outputs": [],
   "source": []
  },
  {
   "cell_type": "code",
   "execution_count": 39,
   "id": "ad3f2320",
   "metadata": {},
   "outputs": [
    {
     "data": {
      "application/vnd.jupyter.widget-view+json": {
       "model_id": "6a2f0cbef2a949c8ad0484d6730d0948",
       "version_major": 2,
       "version_minor": 0
      },
      "text/plain": [
       "  0%|          | 0/3 [00:00<?, ?it/s]"
      ]
     },
     "metadata": {},
     "output_type": "display_data"
    },
    {
     "data": {
      "application/vnd.jupyter.widget-view+json": {
       "model_id": "acf244e400df43f3b61f7dbe0711ee42",
       "version_major": 2,
       "version_minor": 0
      },
      "text/plain": [
       "  0%|          | 0/3 [00:00<?, ?it/s]"
      ]
     },
     "metadata": {},
     "output_type": "display_data"
    }
   ],
   "source": [
    "tr = split_data_group(tr.drop('target', axis=1)[['credit score', 'annual income', 'term_freq']].columns, tr)\n",
    "ts = split_data_group(ts[['credit score', 'annual income', 'term_freq']].columns, ts)"
   ]
  },
  {
   "cell_type": "code",
   "execution_count": 40,
   "id": "111f6fbb",
   "metadata": {},
   "outputs": [
    {
     "data": {
      "text/plain": [
       "((7500, 35), (2500, 34))"
      ]
     },
     "execution_count": 40,
     "metadata": {},
     "output_type": "execute_result"
    }
   ],
   "source": [
    "tr.shape, ts.shape"
   ]
  },
  {
   "cell_type": "code",
   "execution_count": 67,
   "id": "5eed70e0",
   "metadata": {},
   "outputs": [
    {
     "name": "stdout",
     "output_type": "stream",
     "text": [
      "Fold 0 ==> CatBoost oof ROC-AUC score is ==> 0.6918639924733359\n",
      "Fold 1 ==> CatBoost oof ROC-AUC score is ==> 0.6760017233950882\n",
      "Fold 2 ==> CatBoost oof ROC-AUC score is ==> 0.6601394543168408\n",
      "Fold 3 ==> CatBoost oof ROC-AUC score is ==> 0.65323268471542\n",
      "Fold 4 ==> CatBoost oof ROC-AUC score is ==> 0.685691424350869\n",
      "Fold 5 ==> CatBoost oof ROC-AUC score is ==> 0.7000105513985\n",
      "Fold 6 ==> CatBoost oof ROC-AUC score is ==> 0.6511663691758478\n",
      "Fold 7 ==> CatBoost oof ROC-AUC score is ==> 0.7110016132426177\n",
      "Fold 8 ==> CatBoost oof ROC-AUC score is ==> 0.6893455846250963\n",
      "Fold 9 ==> CatBoost oof ROC-AUC score is ==> 0.670048046573613\n",
      "Средняя совокупность оценок ROC-AUC за 10-кратный период составляет 0.6788501444267229\n",
      "Признаки для удаления set()\n",
      "Лучших 10  признаков: {'maximum open credit', 'ratio_income_to_loan', 'annual income', 'credit score', 'group_credit score', 'current loan amount', 'group_annual income', 'number of open accounts', 'term_freq', 'monthly debt', 'home ownership_freq', 'group_term_freq'}\n"
     ]
    }
   ],
   "source": [
    "model = fit_kfold(tr,threshold=0.4, fold=10, best_sign=10)"
   ]
  },
  {
   "cell_type": "code",
   "execution_count": 134,
   "id": "42270cd9",
   "metadata": {},
   "outputs": [],
   "source": [
    "# subb(ts, model)"
   ]
  },
  {
   "cell_type": "code",
   "execution_count": 41,
   "id": "5e7c52d9",
   "metadata": {},
   "outputs": [],
   "source": [
    "train = tr\n",
    "test = ts"
   ]
  },
  {
   "cell_type": "markdown",
   "id": "910f4e2b",
   "metadata": {},
   "source": [
    "# kmeans"
   ]
  },
  {
   "cell_type": "markdown",
   "id": "907c8fb7",
   "metadata": {},
   "source": [
    "## cdist"
   ]
  },
  {
   "cell_type": "code",
   "execution_count": 135,
   "id": "91829a57",
   "metadata": {},
   "outputs": [
    {
     "data": {
      "text/html": [
       "<div>\n",
       "<style scoped>\n",
       "    .dataframe tbody tr th:only-of-type {\n",
       "        vertical-align: middle;\n",
       "    }\n",
       "\n",
       "    .dataframe tbody tr th {\n",
       "        vertical-align: top;\n",
       "    }\n",
       "\n",
       "    .dataframe thead th {\n",
       "        text-align: right;\n",
       "    }\n",
       "</style>\n",
       "<table border=\"1\" class=\"dataframe\">\n",
       "  <thead>\n",
       "    <tr style=\"text-align: right;\">\n",
       "      <th></th>\n",
       "      <th>annual income</th>\n",
       "      <th>tax liens</th>\n",
       "      <th>number of open accounts</th>\n",
       "      <th>years of credit history</th>\n",
       "      <th>maximum open credit</th>\n",
       "      <th>number of credit problems</th>\n",
       "      <th>months since last delinquent</th>\n",
       "      <th>bankruptcies</th>\n",
       "      <th>current loan amount</th>\n",
       "      <th>current credit balance</th>\n",
       "      <th>monthly debt</th>\n",
       "      <th>credit score</th>\n",
       "      <th>years in current job_freq</th>\n",
       "      <th>purpose_freq</th>\n",
       "      <th>term_freq</th>\n",
       "      <th>target</th>\n",
       "      <th>flag_good_job</th>\n",
       "      <th>home ownership_freq</th>\n",
       "      <th>years_since_last_delinquent</th>\n",
       "    </tr>\n",
       "  </thead>\n",
       "  <tbody>\n",
       "    <tr>\n",
       "      <th>0</th>\n",
       "      <td>482087.0</td>\n",
       "      <td>0.0</td>\n",
       "      <td>11.0</td>\n",
       "      <td>26.3</td>\n",
       "      <td>685960.0</td>\n",
       "      <td>1.0</td>\n",
       "      <td>38.906</td>\n",
       "      <td>1.0</td>\n",
       "      <td>99999999.0</td>\n",
       "      <td>47386.0</td>\n",
       "      <td>7914.0</td>\n",
       "      <td>749.0</td>\n",
       "      <td>0.091000</td>\n",
       "      <td>0.792533</td>\n",
       "      <td>0.7408</td>\n",
       "      <td>0</td>\n",
       "      <td>1</td>\n",
       "      <td>0.086267</td>\n",
       "      <td>0.106592</td>\n",
       "    </tr>\n",
       "    <tr>\n",
       "      <th>1</th>\n",
       "      <td>1025487.0</td>\n",
       "      <td>0.0</td>\n",
       "      <td>15.0</td>\n",
       "      <td>15.3</td>\n",
       "      <td>1181730.0</td>\n",
       "      <td>0.0</td>\n",
       "      <td>34.160</td>\n",
       "      <td>0.0</td>\n",
       "      <td>264968.0</td>\n",
       "      <td>394972.0</td>\n",
       "      <td>18373.0</td>\n",
       "      <td>737.0</td>\n",
       "      <td>0.327115</td>\n",
       "      <td>0.792533</td>\n",
       "      <td>0.2592</td>\n",
       "      <td>1</td>\n",
       "      <td>1</td>\n",
       "      <td>0.086267</td>\n",
       "      <td>0.093589</td>\n",
       "    </tr>\n",
       "    <tr>\n",
       "      <th>2</th>\n",
       "      <td>751412.0</td>\n",
       "      <td>0.0</td>\n",
       "      <td>11.0</td>\n",
       "      <td>35.0</td>\n",
       "      <td>1182434.0</td>\n",
       "      <td>0.0</td>\n",
       "      <td>31.643</td>\n",
       "      <td>0.0</td>\n",
       "      <td>99999999.0</td>\n",
       "      <td>308389.0</td>\n",
       "      <td>13651.0</td>\n",
       "      <td>742.0</td>\n",
       "      <td>0.047552</td>\n",
       "      <td>0.792533</td>\n",
       "      <td>0.7408</td>\n",
       "      <td>0</td>\n",
       "      <td>1</td>\n",
       "      <td>0.486533</td>\n",
       "      <td>0.086693</td>\n",
       "    </tr>\n",
       "    <tr>\n",
       "      <th>3</th>\n",
       "      <td>805068.0</td>\n",
       "      <td>0.0</td>\n",
       "      <td>8.0</td>\n",
       "      <td>22.5</td>\n",
       "      <td>147400.0</td>\n",
       "      <td>1.0</td>\n",
       "      <td>40.789</td>\n",
       "      <td>1.0</td>\n",
       "      <td>121396.0</td>\n",
       "      <td>95855.0</td>\n",
       "      <td>11338.0</td>\n",
       "      <td>694.0</td>\n",
       "      <td>0.059756</td>\n",
       "      <td>0.792533</td>\n",
       "      <td>0.7408</td>\n",
       "      <td>0</td>\n",
       "      <td>1</td>\n",
       "      <td>0.086267</td>\n",
       "      <td>0.111751</td>\n",
       "    </tr>\n",
       "    <tr>\n",
       "      <th>4</th>\n",
       "      <td>776264.0</td>\n",
       "      <td>0.0</td>\n",
       "      <td>13.0</td>\n",
       "      <td>13.6</td>\n",
       "      <td>385836.0</td>\n",
       "      <td>1.0</td>\n",
       "      <td>40.789</td>\n",
       "      <td>0.0</td>\n",
       "      <td>125840.0</td>\n",
       "      <td>93309.0</td>\n",
       "      <td>7180.0</td>\n",
       "      <td>719.0</td>\n",
       "      <td>0.047552</td>\n",
       "      <td>0.792533</td>\n",
       "      <td>0.7408</td>\n",
       "      <td>0</td>\n",
       "      <td>1</td>\n",
       "      <td>0.427200</td>\n",
       "      <td>0.111751</td>\n",
       "    </tr>\n",
       "  </tbody>\n",
       "</table>\n",
       "</div>"
      ],
      "text/plain": [
       "   annual income  tax liens  number of open accounts  years of credit history  \\\n",
       "0       482087.0        0.0                     11.0                     26.3   \n",
       "1      1025487.0        0.0                     15.0                     15.3   \n",
       "2       751412.0        0.0                     11.0                     35.0   \n",
       "3       805068.0        0.0                      8.0                     22.5   \n",
       "4       776264.0        0.0                     13.0                     13.6   \n",
       "\n",
       "   maximum open credit  number of credit problems  \\\n",
       "0             685960.0                        1.0   \n",
       "1            1181730.0                        0.0   \n",
       "2            1182434.0                        0.0   \n",
       "3             147400.0                        1.0   \n",
       "4             385836.0                        1.0   \n",
       "\n",
       "   months since last delinquent  bankruptcies  current loan amount  \\\n",
       "0                        38.906           1.0           99999999.0   \n",
       "1                        34.160           0.0             264968.0   \n",
       "2                        31.643           0.0           99999999.0   \n",
       "3                        40.789           1.0             121396.0   \n",
       "4                        40.789           0.0             125840.0   \n",
       "\n",
       "   current credit balance  monthly debt  credit score  \\\n",
       "0                 47386.0        7914.0         749.0   \n",
       "1                394972.0       18373.0         737.0   \n",
       "2                308389.0       13651.0         742.0   \n",
       "3                 95855.0       11338.0         694.0   \n",
       "4                 93309.0        7180.0         719.0   \n",
       "\n",
       "   years in current job_freq  purpose_freq  term_freq  target  flag_good_job  \\\n",
       "0                   0.091000      0.792533     0.7408       0              1   \n",
       "1                   0.327115      0.792533     0.2592       1              1   \n",
       "2                   0.047552      0.792533     0.7408       0              1   \n",
       "3                   0.059756      0.792533     0.7408       0              1   \n",
       "4                   0.047552      0.792533     0.7408       0              1   \n",
       "\n",
       "   home ownership_freq  years_since_last_delinquent  \n",
       "0             0.086267                     0.106592  \n",
       "1             0.086267                     0.093589  \n",
       "2             0.486533                     0.086693  \n",
       "3             0.086267                     0.111751  \n",
       "4             0.427200                     0.111751  "
      ]
     },
     "execution_count": 135,
     "metadata": {},
     "output_type": "execute_result"
    }
   ],
   "source": [
    "# train.head()"
   ]
  },
  {
   "cell_type": "code",
   "execution_count": 198,
   "id": "6d2f4669",
   "metadata": {},
   "outputs": [],
   "source": [
    "# mc.dist_kmeans(tr[['maximum open credit', 'ratio_income_to_loan', 'annual income', 'credit score', 'group_credit score', 'current loan amount', 'group_annual income', 'number of open accounts', 'term_freq', 'monthly debt', 'home ownership_freq', 'group_term_freq']], 10)"
   ]
  },
  {
   "cell_type": "code",
   "execution_count": 199,
   "id": "8c7b1c75",
   "metadata": {},
   "outputs": [],
   "source": [
    "# tr = train.copy()\n",
    "# ts = test.copy()"
   ]
  },
  {
   "cell_type": "code",
   "execution_count": 70,
   "id": "04df9daf",
   "metadata": {},
   "outputs": [],
   "source": [
    "# best = ['maximum open credit', 'ratio_income_to_loan', 'annual income', 'credit score', 'group_credit score', 'current loan amount', 'group_annual income', 'number of open accounts', 'term_freq', 'monthly debt', 'home ownership_freq', 'group_term_freq']\n",
    "# for i in best:\n",
    "#     kmeans = KMeans(n_clusters=5, random_state=42).fit(tr[best])\n",
    "#     tr[f'kmeans_{i}'] = kmeans.labels_\n"
   ]
  },
  {
   "cell_type": "code",
   "execution_count": 71,
   "id": "f5f1d1f6",
   "metadata": {},
   "outputs": [],
   "source": [
    "# for i in best:\n",
    "#     kmeans = KMeans(n_clusters=4, random_state=42).fit(ts[best])\n",
    "#     ts[f'kmeans_{i}'] = kmeans.labels_"
   ]
  },
  {
   "cell_type": "code",
   "execution_count": 72,
   "id": "a5924303",
   "metadata": {},
   "outputs": [
    {
     "data": {
      "text/plain": [
       "((7500, 36), (2500, 35))"
      ]
     },
     "execution_count": 72,
     "metadata": {},
     "output_type": "execute_result"
    }
   ],
   "source": [
    "# tr.shape, ts.shape"
   ]
  },
  {
   "cell_type": "code",
   "execution_count": 200,
   "id": "2e88612e",
   "metadata": {},
   "outputs": [],
   "source": [
    "# model = fit_kfold(tr,threshold=0.4, fold=10, best_sign=10)"
   ]
  },
  {
   "cell_type": "code",
   "execution_count": 201,
   "id": "8e4f74bf",
   "metadata": {},
   "outputs": [],
   "source": [
    "# subb(ts, model)"
   ]
  },
  {
   "cell_type": "markdown",
   "id": "5b11d866",
   "metadata": {},
   "source": [
    "# categorical"
   ]
  },
  {
   "cell_type": "code",
   "execution_count": 265,
   "id": "4d9aa6e5",
   "metadata": {},
   "outputs": [
    {
     "data": {
      "text/plain": [
       "Index(['annual income', 'tax liens', 'number of open accounts',\n",
       "       'years of credit history', 'maximum open credit',\n",
       "       'number of credit problems', 'months since last delinquent',\n",
       "       'bankruptcies', 'current loan amount', 'current credit balance',\n",
       "       'monthly debt', 'credit score', 'years in current job_freq',\n",
       "       'purpose_freq', 'term_freq', 'target', 'flag_good_job',\n",
       "       'home ownership_freq', 'years_since_last_delinquent',\n",
       "       'ratio_income_to_tax_liens', 'ratio_income_to_loan',\n",
       "       'ratio_credit_to_salary', 'ratio_loan_amount_to_monthly_debt',\n",
       "       'ratio_loan_amount_to_months_since_last_delinquent',\n",
       "       'ratio_loan_amount_to_number_of_open_accounts',\n",
       "       'ratio_loan_amount_to_years_in_current_job',\n",
       "       'ratio_loan_amount_to_home_ownership',\n",
       "       'ratio_loan_amount_to_number_of_credit_problems',\n",
       "       'ratio_annual_income_to_experience',\n",
       "       'ratio_current_loan_amount_to_region_population',\n",
       "       'ratio_number_of_open_accounts_to_years_since_last_delinquent',\n",
       "       'expected_total_loss_1', 'group_credit score', 'group_annual income',\n",
       "       'group_term_freq'],\n",
       "      dtype='object')"
      ]
     },
     "execution_count": 265,
     "metadata": {},
     "output_type": "execute_result"
    }
   ],
   "source": [
    "train.columns"
   ]
  },
  {
   "cell_type": "code",
   "execution_count": 266,
   "id": "802372c7",
   "metadata": {},
   "outputs": [
    {
     "data": {
      "text/plain": [
       "Index(['annual income', 'tax liens', 'number of open accounts',\n",
       "       'years of credit history', 'maximum open credit',\n",
       "       'number of credit problems', 'months since last delinquent',\n",
       "       'bankruptcies', 'current loan amount', 'current credit balance',\n",
       "       'monthly debt', 'home ownership_freq', 'years in current job_freq',\n",
       "       'purpose_freq', 'term_freq', 'target'],\n",
       "      dtype='object')"
      ]
     },
     "execution_count": 266,
     "metadata": {},
     "output_type": "execute_result"
    }
   ],
   "source": [
    "base_columns"
   ]
  },
  {
   "cell_type": "code",
   "execution_count": 267,
   "id": "a5413405",
   "metadata": {},
   "outputs": [
    {
     "name": "stdout",
     "output_type": "stream",
     "text": [
      "7\n",
      "********************\n",
      "tax liens\n",
      "train :  2\n",
      "[0. 1.]\n",
      "test :  2\n",
      "[0. 1.]\n",
      "[ True  True]\n",
      "********************\n",
      "number of credit problems\n",
      "train :  3\n",
      "[1. 0. 2.]\n",
      "test :  3\n",
      "[0. 1. 2.]\n",
      "[ True  True  True]\n",
      "********************\n",
      "bankruptcies\n",
      "train :  2\n",
      "[1. 0.]\n",
      "test :  2\n",
      "[0. 1.]\n",
      "[ True  True]\n",
      "********************\n",
      "home ownership_freq\n",
      "train :  3\n",
      "[0.08626667 0.48653333 0.4272    ]\n",
      "test :  3\n",
      "[0.408  0.4928 0.0992]\n",
      "[False False False]\n",
      "********************\n",
      "years in current job_freq\n",
      "train :  13\n",
      "[0.091      0.3271146  0.04755225 0.05975593 0.05554776 0.07238042\n",
      " 0.07069715 0.07897321 0.06578763 0.08696872 0.09889185 0.03633048\n",
      " 0.103     ]\n",
      "test :  12\n",
      "[0.06296603 0.06338028 0.09444905 0.33554267 0.05675228 0.07000829\n",
      " 0.08574979 0.08782104 0.04101077 0.04432477 0.05799503 0.091     ]\n",
      "False\n",
      "********************\n",
      "purpose_freq\n",
      "train :  9\n",
      "[0.79253333 0.08866667 0.05493333 0.00493333 0.0128     0.00453333\n",
      " 0.0172     0.00946667 0.00533333]\n",
      "test :  8\n",
      "[0.7892 0.0056 0.056  0.096  0.0136 0.0108 0.0076 0.012 ]\n",
      "False\n",
      "********************\n",
      "term_freq\n",
      "train :  2\n",
      "[0.7408 0.2592]\n",
      "test :  2\n",
      "[0.7444 0.2556]\n",
      "[False False]\n"
     ]
    },
    {
     "name": "stderr",
     "output_type": "stream",
     "text": [
      "elementwise comparison failed; this will raise an error in the future.\n"
     ]
    }
   ],
   "source": [
    "aggs = []\n",
    "for i in train[base_columns].columns:\n",
    "    if i == \"target\":\n",
    "        continue\n",
    "    if type(i) == int:\n",
    "        continue\n",
    "    if train[i].nunique() < 15:\n",
    "        aggs.append(i)\n",
    "aggs\n",
    "print(len(aggs))\n",
    "for i in aggs:\n",
    "    \n",
    "    print(\"*\"*20)\n",
    "    print(i)\n",
    "    print(\"train : \", train[i].nunique())\n",
    "    print(train[i].unique())\n",
    "    \n",
    "    print(\"test : \", test[i].nunique())\n",
    "    print(test[i].unique())\n",
    "    print(np.sort(train[i].unique()) == np.sort(test[i].unique()))"
   ]
  },
  {
   "cell_type": "code",
   "execution_count": 268,
   "id": "38375fae",
   "metadata": {},
   "outputs": [
    {
     "name": "stdout",
     "output_type": "stream",
     "text": [
      "home ownership 0\n",
      "Home Mortgage    1225\n",
      "Rent             1020\n",
      "Own Home          248\n",
      "Have Mortgage       7\n",
      "Name: home ownership, dtype: int64\n",
      "years in current job 86\n",
      "10+ years    810\n",
      "3 years      228\n",
      "2 years      212\n",
      "< 1 year     207\n",
      "5 years      169\n",
      "1 year       153\n",
      "4 years      152\n",
      "7 years      140\n",
      "6 years      137\n",
      "8 years      107\n",
      "9 years       99\n",
      "Name: years in current job, dtype: int64\n",
      "purpose 0\n",
      "debt consolidation      1973\n",
      "other                    240\n",
      "home improvements        140\n",
      "buy a car                 34\n",
      "business loan             30\n",
      "medical bills             27\n",
      "buy house                 19\n",
      "take a trip               14\n",
      "major purchase             9\n",
      "small business             5\n",
      "educational expenses       3\n",
      "vacation                   3\n",
      "wedding                    2\n",
      "moving                     1\n",
      "Name: purpose, dtype: int64\n",
      "term 0\n",
      "Short Term    1861\n",
      "Long Term      639\n",
      "Name: term, dtype: int64\n"
     ]
    }
   ],
   "source": [
    "for i in test_cat.columns:\n",
    "    print(i, test_cat[i].isna().sum())\n",
    "    print(test_cat[i].value_counts())"
   ]
  },
  {
   "cell_type": "code",
   "execution_count": 42,
   "id": "ae336757",
   "metadata": {},
   "outputs": [],
   "source": [
    "train_cat['years in current job'] = train_cat['years in current job'].fillna('10+ years')\n",
    "test_cat['years in current job'] = test_cat['years in current job'].fillna('10+ years')"
   ]
  },
  {
   "cell_type": "code",
   "execution_count": 43,
   "id": "fab90980",
   "metadata": {},
   "outputs": [
    {
     "name": "stdout",
     "output_type": "stream",
     "text": [
      "3\n",
      "********************\n",
      "home ownership\n",
      "train :  4\n",
      "['Own Home' 'Home Mortgage' 'Rent' 'Have Mortgage']\n",
      "test :  4\n",
      "['Rent' 'Home Mortgage' 'Own Home' 'Have Mortgage']\n",
      "[ True  True  True  True]\n",
      "********************\n",
      "years in current job\n",
      "train :  11\n",
      "['10+ years' '8 years' '6 years' '7 years' '5 years' '1 year' '< 1 year'\n",
      " '4 years' '3 years' '2 years' '9 years']\n",
      "test :  11\n",
      "['4 years' '1 year' '3 years' '10+ years' '6 years' '5 years' '< 1 year'\n",
      " '2 years' '9 years' '8 years' '7 years']\n",
      "[ True  True  True  True  True  True  True  True  True  True  True]\n",
      "********************\n",
      "term\n",
      "train :  2\n",
      "['Short Term' 'Long Term']\n",
      "test :  2\n",
      "['Short Term' 'Long Term']\n",
      "[ True  True]\n"
     ]
    }
   ],
   "source": [
    "aggs = []\n",
    "for i in train_cat.columns:\n",
    "    if i == \"target\":\n",
    "        continue\n",
    "    if type(i) == int:\n",
    "        continue\n",
    "    if train_cat[i].nunique() < 15:\n",
    "        aggs.append(i)\n",
    "aggs\n",
    "print(len(aggs))\n",
    "for i in aggs:\n",
    "    \n",
    "    print(\"*\"*20)\n",
    "    print(i)\n",
    "    print(\"train : \", train_cat[i].nunique())\n",
    "    print(train_cat[i].unique())\n",
    "    \n",
    "    print(\"test : \", test_cat[i].nunique())\n",
    "    print(test_cat[i].unique())\n",
    "    print(np.sort(train_cat[i].unique()) == np.sort(test_cat[i].unique()))"
   ]
  },
  {
   "cell_type": "code",
   "execution_count": 44,
   "id": "b43475c8",
   "metadata": {},
   "outputs": [],
   "source": [
    "train[train_cat.columns] = train_cat\n",
    "test[test_cat.columns] = test_cat"
   ]
  },
  {
   "cell_type": "code",
   "execution_count": 45,
   "id": "e378e508",
   "metadata": {},
   "outputs": [],
   "source": [
    "aggs = ['number of credit problems', 'term', 'years in current job', 'home ownership']"
   ]
  },
  {
   "cell_type": "code",
   "execution_count": 46,
   "id": "6e89f44b",
   "metadata": {},
   "outputs": [],
   "source": [
    "train[aggs] = train[aggs].astype(\"str\")\n",
    "test[aggs] = test[aggs].astype(\"str\")"
   ]
  },
  {
   "cell_type": "code",
   "execution_count": null,
   "id": "0410ba4d",
   "metadata": {},
   "outputs": [],
   "source": []
  },
  {
   "cell_type": "code",
   "execution_count": 274,
   "id": "6fd4f698",
   "metadata": {},
   "outputs": [
    {
     "name": "stderr",
     "output_type": "stream",
     "text": [
      "100%|███████████████████████████████████████████████████████████████████████████████████| 4/4 [00:00<00:00, 249.56it/s]\n",
      "100%|███████████████████████████████████████████████████████████████████████████████████| 4/4 [00:00<00:00, 333.23it/s]\n"
     ]
    }
   ],
   "source": [
    "# transformer = CategoricalFrequencyTransformer(use_cols=aggs)\n",
    "train = mc.object_to_freq(train, aggs)\n",
    "test = mc.object_to_freq(test, aggs)"
   ]
  },
  {
   "cell_type": "code",
   "execution_count": 275,
   "id": "66d14451",
   "metadata": {},
   "outputs": [
    {
     "data": {
      "text/plain": [
       "((7500, 40), (2500, 39))"
      ]
     },
     "execution_count": 275,
     "metadata": {},
     "output_type": "execute_result"
    }
   ],
   "source": [
    "train.shape, test.shape"
   ]
  },
  {
   "cell_type": "code",
   "execution_count": 47,
   "id": "1d94d52f",
   "metadata": {},
   "outputs": [],
   "source": [
    "from sklearn.preprocessing import OneHotEncoder, LabelEncoder\n"
   ]
  },
  {
   "cell_type": "code",
   "execution_count": 48,
   "id": "84cbc8c4",
   "metadata": {},
   "outputs": [],
   "source": [
    "onehotencoder = OneHotEncoder()"
   ]
  },
  {
   "cell_type": "code",
   "execution_count": 49,
   "id": "373e5bdb",
   "metadata": {},
   "outputs": [],
   "source": [
    "data_new = onehotencoder.fit_transform(train[aggs])\n",
    "data_new = pd.DataFrame(data_new.toarray())\n",
    "train[data_new.columns] = data_new"
   ]
  },
  {
   "cell_type": "code",
   "execution_count": 50,
   "id": "f31108ed",
   "metadata": {},
   "outputs": [],
   "source": [
    "data_new_t = onehotencoder.fit_transform(test[aggs])\n",
    "data_new_t = pd.DataFrame(data_new_t.toarray())\n",
    "test[data_new_t.columns] = data_new_t"
   ]
  },
  {
   "cell_type": "code",
   "execution_count": 51,
   "id": "f8bdcd7a",
   "metadata": {},
   "outputs": [
    {
     "data": {
      "text/plain": [
       "((7500, 59), (2500, 58))"
      ]
     },
     "execution_count": 51,
     "metadata": {},
     "output_type": "execute_result"
    }
   ],
   "source": [
    "train.shape, test.shape"
   ]
  },
  {
   "cell_type": "code",
   "execution_count": 52,
   "id": "4c415c9c",
   "metadata": {},
   "outputs": [],
   "source": [
    "le = dict()\n",
    "labelencoder = LabelEncoder()\n",
    "for col in train[aggs].columns:\n",
    "    data_new = labelencoder.fit_transform(train[col].values)\n",
    "    le = {k: v for k, v in zip(labelencoder.classes_, np.arange(len(labelencoder.classes_)))}\n",
    "    train[f'le_{col}'] = train[col].apply(lambda x: le[x])"
   ]
  },
  {
   "cell_type": "code",
   "execution_count": 53,
   "id": "a2f0edc7",
   "metadata": {},
   "outputs": [],
   "source": [
    "le = dict()\n",
    "labelencoder = LabelEncoder()\n",
    "for col in test[aggs].columns:\n",
    "    data_new = labelencoder.fit_transform(test[col].values)\n",
    "    le = {k: v for k, v in zip(labelencoder.classes_, np.arange(len(labelencoder.classes_)))}\n",
    "    test[f'le_{col}'] = test[col].apply(lambda x: le[x])"
   ]
  },
  {
   "cell_type": "code",
   "execution_count": 54,
   "id": "6e75675a",
   "metadata": {},
   "outputs": [
    {
     "data": {
      "text/plain": [
       "((7500, 63), (2500, 62))"
      ]
     },
     "execution_count": 54,
     "metadata": {},
     "output_type": "execute_result"
    }
   ],
   "source": [
    "train.shape, test.shape"
   ]
  },
  {
   "cell_type": "code",
   "execution_count": 284,
   "id": "b9e23cfe",
   "metadata": {},
   "outputs": [],
   "source": [
    "# train.head()"
   ]
  },
  {
   "cell_type": "code",
   "execution_count": 285,
   "id": "f670f8fd",
   "metadata": {},
   "outputs": [],
   "source": [
    "# train.info()"
   ]
  },
  {
   "cell_type": "code",
   "execution_count": 55,
   "id": "679eb0fb",
   "metadata": {},
   "outputs": [],
   "source": [
    "train = train.drop(['term', 'years in current job', 'home ownership'], axis=1)\n",
    "test = test.drop(['term', 'years in current job', 'home ownership'], axis=1)\n",
    "\n",
    "\n",
    "train = train.drop(\"purpose\", axis=1)\n",
    "test = test.drop(\"purpose\", axis=1)"
   ]
  },
  {
   "cell_type": "code",
   "execution_count": 56,
   "id": "4c8a1086",
   "metadata": {},
   "outputs": [],
   "source": [
    "train['number of credit problems'] = train['number of credit problems'].astype(\"float32\")\n",
    "test['number of credit problems'] = test['number of credit problems'].astype(\"float32\")"
   ]
  },
  {
   "cell_type": "code",
   "execution_count": 57,
   "id": "e89e9e50",
   "metadata": {},
   "outputs": [
    {
     "data": {
      "text/plain": [
       "((7500, 59), (2500, 58))"
      ]
     },
     "execution_count": 57,
     "metadata": {},
     "output_type": "execute_result"
    }
   ],
   "source": [
    "train.shape, test.shape"
   ]
  },
  {
   "cell_type": "code",
   "execution_count": 290,
   "id": "5acf9ffd",
   "metadata": {},
   "outputs": [
    {
     "name": "stdout",
     "output_type": "stream",
     "text": [
      "Fold 0 ==> CatBoost oof ROC-AUC score is ==> 0.694950276534569\n",
      "Fold 1 ==> CatBoost oof ROC-AUC score is ==> 0.6651821435166052\n",
      "Fold 2 ==> CatBoost oof ROC-AUC score is ==> 0.6728143217648973\n",
      "Fold 3 ==> CatBoost oof ROC-AUC score is ==> 0.6533338022843778\n",
      "Fold 4 ==> CatBoost oof ROC-AUC score is ==> 0.6890898539510592\n",
      "Fold 5 ==> CatBoost oof ROC-AUC score is ==> 0.6950601869356101\n",
      "Fold 6 ==> CatBoost oof ROC-AUC score is ==> 0.6657976417624353\n",
      "Fold 7 ==> CatBoost oof ROC-AUC score is ==> 0.7097829136564494\n",
      "Fold 8 ==> CatBoost oof ROC-AUC score is ==> 0.6993494423791823\n",
      "Fold 9 ==> CatBoost oof ROC-AUC score is ==> 0.669688574033808\n",
      "Средняя совокупность оценок ROC-AUC за 10-кратный период составляет 0.6815049156818993\n",
      "Признаки для удаления set()\n",
      "Лучших 5  признаков: {'ratio_loan_amount_to_monthly_debt', 'group_credit score', 'group_annual income', 'annual income', 'credit score', 'maximum open credit', 'ratio_loan_amount_to_number_of_open_accounts'}\n"
     ]
    }
   ],
   "source": [
    "model = fit_kfold(train,threshold=0.4, fold=10, best_sign=5)"
   ]
  },
  {
   "cell_type": "code",
   "execution_count": 228,
   "id": "f69984fe",
   "metadata": {
    "collapsed": true,
    "jupyter": {
     "outputs_hidden": true
    }
   },
   "outputs": [
    {
     "ename": "CatBoostError",
     "evalue": "C:/Program Files (x86)/Go Agent/pipelines/BuildMaster/catboost.git/catboost/libs/data/model_dataset_compatibility.cpp:81: At position 31 should be feature with name group_credit score (found tax liens_freq).",
     "output_type": "error",
     "traceback": [
      "\u001b[1;31m---------------------------------------------------------------------------\u001b[0m",
      "\u001b[1;31mCatBoostError\u001b[0m                             Traceback (most recent call last)",
      "\u001b[1;32mC:\\Temp/ipykernel_12448/992617652.py\u001b[0m in \u001b[0;36m<module>\u001b[1;34m\u001b[0m\n\u001b[1;32m----> 1\u001b[1;33m \u001b[0msubb\u001b[0m\u001b[1;33m(\u001b[0m\u001b[0mtest\u001b[0m\u001b[1;33m,\u001b[0m \u001b[0mmodel\u001b[0m\u001b[1;33m)\u001b[0m\u001b[1;33m\u001b[0m\u001b[1;33m\u001b[0m\u001b[0m\n\u001b[0m",
      "\u001b[1;32mC:\\Temp/ipykernel_12448/3821601406.py\u001b[0m in \u001b[0;36msubb\u001b[1;34m(test, model)\u001b[0m\n\u001b[0;32m      1\u001b[0m \u001b[1;32mdef\u001b[0m \u001b[0msubb\u001b[0m\u001b[1;33m(\u001b[0m\u001b[0mtest\u001b[0m\u001b[1;33m,\u001b[0m \u001b[0mmodel\u001b[0m\u001b[1;33m)\u001b[0m\u001b[1;33m:\u001b[0m\u001b[1;33m\u001b[0m\u001b[1;33m\u001b[0m\u001b[0m\n\u001b[1;32m----> 2\u001b[1;33m     \u001b[0mpred\u001b[0m \u001b[1;33m=\u001b[0m \u001b[0mmodel\u001b[0m\u001b[1;33m.\u001b[0m\u001b[0mpredict_proba\u001b[0m\u001b[1;33m(\u001b[0m\u001b[0mtest\u001b[0m\u001b[1;33m)\u001b[0m\u001b[1;33m\u001b[0m\u001b[1;33m\u001b[0m\u001b[0m\n\u001b[0m\u001b[0;32m      3\u001b[0m \u001b[1;33m\u001b[0m\u001b[0m\n\u001b[0;32m      4\u001b[0m     \u001b[0mpred\u001b[0m \u001b[1;33m=\u001b[0m \u001b[0mpred\u001b[0m\u001b[1;33m[\u001b[0m\u001b[1;33m:\u001b[0m\u001b[1;33m,\u001b[0m\u001b[1;36m1\u001b[0m\u001b[1;33m]\u001b[0m\u001b[1;33m\u001b[0m\u001b[1;33m\u001b[0m\u001b[0m\n\u001b[0;32m      5\u001b[0m     \u001b[0mpred\u001b[0m \u001b[1;33m=\u001b[0m \u001b[0mnp\u001b[0m\u001b[1;33m.\u001b[0m\u001b[0mwhere\u001b[0m\u001b[1;33m(\u001b[0m\u001b[0mpred\u001b[0m\u001b[1;33m>\u001b[0m\u001b[1;36m0.4\u001b[0m\u001b[1;33m,\u001b[0m \u001b[1;36m1\u001b[0m\u001b[1;33m,\u001b[0m \u001b[1;36m0\u001b[0m\u001b[1;33m)\u001b[0m\u001b[1;33m\u001b[0m\u001b[1;33m\u001b[0m\u001b[0m\n",
      "\u001b[1;32mc:\\program files\\python37\\lib\\site-packages\\catboost\\core.py\u001b[0m in \u001b[0;36mpredict_proba\u001b[1;34m(self, X, ntree_start, ntree_end, thread_count, verbose, task_type)\u001b[0m\n\u001b[0;32m   5220\u001b[0m                 \u001b[1;32mwith\u001b[0m \u001b[0mprobability\u001b[0m \u001b[1;32mfor\u001b[0m \u001b[0mevery\u001b[0m \u001b[1;32mclass\u001b[0m \u001b[1;32mfor\u001b[0m \u001b[0meach\u001b[0m \u001b[0mobject\u001b[0m\u001b[1;33m.\u001b[0m\u001b[1;33m\u001b[0m\u001b[1;33m\u001b[0m\u001b[0m\n\u001b[0;32m   5221\u001b[0m         \"\"\"\n\u001b[1;32m-> 5222\u001b[1;33m         \u001b[1;32mreturn\u001b[0m \u001b[0mself\u001b[0m\u001b[1;33m.\u001b[0m\u001b[0m_predict\u001b[0m\u001b[1;33m(\u001b[0m\u001b[0mX\u001b[0m\u001b[1;33m,\u001b[0m \u001b[1;34m'Probability'\u001b[0m\u001b[1;33m,\u001b[0m \u001b[0mntree_start\u001b[0m\u001b[1;33m,\u001b[0m \u001b[0mntree_end\u001b[0m\u001b[1;33m,\u001b[0m \u001b[0mthread_count\u001b[0m\u001b[1;33m,\u001b[0m \u001b[0mverbose\u001b[0m\u001b[1;33m,\u001b[0m \u001b[1;34m'predict_proba'\u001b[0m\u001b[1;33m,\u001b[0m \u001b[0mtask_type\u001b[0m\u001b[1;33m)\u001b[0m\u001b[1;33m\u001b[0m\u001b[1;33m\u001b[0m\u001b[0m\n\u001b[0m\u001b[0;32m   5223\u001b[0m \u001b[1;33m\u001b[0m\u001b[0m\n\u001b[0;32m   5224\u001b[0m \u001b[1;33m\u001b[0m\u001b[0m\n",
      "\u001b[1;32mc:\\program files\\python37\\lib\\site-packages\\catboost\\core.py\u001b[0m in \u001b[0;36m_predict\u001b[1;34m(self, data, prediction_type, ntree_start, ntree_end, thread_count, verbose, parent_method_name, task_type)\u001b[0m\n\u001b[0;32m   2542\u001b[0m         \u001b[0mself\u001b[0m\u001b[1;33m.\u001b[0m\u001b[0m_validate_prediction_type\u001b[0m\u001b[1;33m(\u001b[0m\u001b[0mprediction_type\u001b[0m\u001b[1;33m)\u001b[0m\u001b[1;33m\u001b[0m\u001b[1;33m\u001b[0m\u001b[0m\n\u001b[0;32m   2543\u001b[0m \u001b[1;33m\u001b[0m\u001b[0m\n\u001b[1;32m-> 2544\u001b[1;33m         \u001b[0mpredictions\u001b[0m \u001b[1;33m=\u001b[0m \u001b[0mself\u001b[0m\u001b[1;33m.\u001b[0m\u001b[0m_base_predict\u001b[0m\u001b[1;33m(\u001b[0m\u001b[0mdata\u001b[0m\u001b[1;33m,\u001b[0m \u001b[0mprediction_type\u001b[0m\u001b[1;33m,\u001b[0m \u001b[0mntree_start\u001b[0m\u001b[1;33m,\u001b[0m \u001b[0mntree_end\u001b[0m\u001b[1;33m,\u001b[0m \u001b[0mthread_count\u001b[0m\u001b[1;33m,\u001b[0m \u001b[0mverbose\u001b[0m\u001b[1;33m,\u001b[0m \u001b[0mtask_type\u001b[0m\u001b[1;33m)\u001b[0m\u001b[1;33m\u001b[0m\u001b[1;33m\u001b[0m\u001b[0m\n\u001b[0m\u001b[0;32m   2545\u001b[0m         \u001b[1;32mreturn\u001b[0m \u001b[0mpredictions\u001b[0m\u001b[1;33m[\u001b[0m\u001b[1;36m0\u001b[0m\u001b[1;33m]\u001b[0m \u001b[1;32mif\u001b[0m \u001b[0mdata_is_single_object\u001b[0m \u001b[1;32melse\u001b[0m \u001b[0mpredictions\u001b[0m\u001b[1;33m\u001b[0m\u001b[1;33m\u001b[0m\u001b[0m\n\u001b[0;32m   2546\u001b[0m \u001b[1;33m\u001b[0m\u001b[0m\n",
      "\u001b[1;32mc:\\program files\\python37\\lib\\site-packages\\catboost\\core.py\u001b[0m in \u001b[0;36m_base_predict\u001b[1;34m(self, pool, prediction_type, ntree_start, ntree_end, thread_count, verbose, task_type)\u001b[0m\n\u001b[0;32m   1809\u001b[0m \u001b[1;33m\u001b[0m\u001b[0m\n\u001b[0;32m   1810\u001b[0m     \u001b[1;32mdef\u001b[0m \u001b[0m_base_predict\u001b[0m\u001b[1;33m(\u001b[0m\u001b[0mself\u001b[0m\u001b[1;33m,\u001b[0m \u001b[0mpool\u001b[0m\u001b[1;33m,\u001b[0m \u001b[0mprediction_type\u001b[0m\u001b[1;33m,\u001b[0m \u001b[0mntree_start\u001b[0m\u001b[1;33m,\u001b[0m \u001b[0mntree_end\u001b[0m\u001b[1;33m,\u001b[0m \u001b[0mthread_count\u001b[0m\u001b[1;33m,\u001b[0m \u001b[0mverbose\u001b[0m\u001b[1;33m,\u001b[0m \u001b[0mtask_type\u001b[0m\u001b[1;33m)\u001b[0m\u001b[1;33m:\u001b[0m\u001b[1;33m\u001b[0m\u001b[1;33m\u001b[0m\u001b[0m\n\u001b[1;32m-> 1811\u001b[1;33m         \u001b[1;32mreturn\u001b[0m \u001b[0mself\u001b[0m\u001b[1;33m.\u001b[0m\u001b[0m_object\u001b[0m\u001b[1;33m.\u001b[0m\u001b[0m_base_predict\u001b[0m\u001b[1;33m(\u001b[0m\u001b[0mpool\u001b[0m\u001b[1;33m,\u001b[0m \u001b[0mprediction_type\u001b[0m\u001b[1;33m,\u001b[0m \u001b[0mntree_start\u001b[0m\u001b[1;33m,\u001b[0m \u001b[0mntree_end\u001b[0m\u001b[1;33m,\u001b[0m \u001b[0mthread_count\u001b[0m\u001b[1;33m,\u001b[0m \u001b[0mverbose\u001b[0m\u001b[1;33m,\u001b[0m \u001b[0mtask_type\u001b[0m\u001b[1;33m)\u001b[0m\u001b[1;33m\u001b[0m\u001b[1;33m\u001b[0m\u001b[0m\n\u001b[0m\u001b[0;32m   1812\u001b[0m \u001b[1;33m\u001b[0m\u001b[0m\n\u001b[0;32m   1813\u001b[0m     \u001b[1;32mdef\u001b[0m \u001b[0m_base_virtual_ensembles_predict\u001b[0m\u001b[1;33m(\u001b[0m\u001b[0mself\u001b[0m\u001b[1;33m,\u001b[0m \u001b[0mpool\u001b[0m\u001b[1;33m,\u001b[0m \u001b[0mprediction_type\u001b[0m\u001b[1;33m,\u001b[0m \u001b[0mntree_end\u001b[0m\u001b[1;33m,\u001b[0m \u001b[0mvirtual_ensembles_count\u001b[0m\u001b[1;33m,\u001b[0m \u001b[0mthread_count\u001b[0m\u001b[1;33m,\u001b[0m \u001b[0mverbose\u001b[0m\u001b[1;33m)\u001b[0m\u001b[1;33m:\u001b[0m\u001b[1;33m\u001b[0m\u001b[1;33m\u001b[0m\u001b[0m\n",
      "\u001b[1;32m_catboost.pyx\u001b[0m in \u001b[0;36m_catboost._CatBoost._base_predict\u001b[1;34m()\u001b[0m\n",
      "\u001b[1;32m_catboost.pyx\u001b[0m in \u001b[0;36m_catboost._CatBoost._base_predict\u001b[1;34m()\u001b[0m\n",
      "\u001b[1;31mCatBoostError\u001b[0m: C:/Program Files (x86)/Go Agent/pipelines/BuildMaster/catboost.git/catboost/libs/data/model_dataset_compatibility.cpp:81: At position 31 should be feature with name group_credit score (found tax liens_freq)."
     ]
    }
   ],
   "source": [
    "subb(test, model)"
   ]
  },
  {
   "cell_type": "markdown",
   "id": "95d8e737",
   "metadata": {},
   "source": [
    "## stat features"
   ]
  },
  {
   "cell_type": "code",
   "execution_count": 291,
   "id": "3477dd82",
   "metadata": {},
   "outputs": [],
   "source": [
    "train.to_csv('data/train_new.csv', index=False)\n",
    "test.to_csv('data/test_new.csv', index=False)"
   ]
  },
  {
   "cell_type": "code",
   "execution_count": 207,
   "id": "f0e2c55a",
   "metadata": {},
   "outputs": [],
   "source": [
    "train = pd.read_csv(\"data/train_new.csv\")\n",
    "test = pd.read_csv(\"data/test_new.csv\")"
   ]
  },
  {
   "cell_type": "code",
   "execution_count": 58,
   "id": "a7f3a2fa",
   "metadata": {},
   "outputs": [
    {
     "data": {
      "text/plain": [
       "((7500, 59), (2500, 58))"
      ]
     },
     "execution_count": 58,
     "metadata": {},
     "output_type": "execute_result"
    }
   ],
   "source": [
    "train.shape, test.shape"
   ]
  },
  {
   "cell_type": "code",
   "execution_count": 59,
   "id": "7b28e217",
   "metadata": {},
   "outputs": [
    {
     "data": {
      "text/plain": [
       "['ratio_loan_amount_to_monthly_debt',\n",
       " 'group_credit score',\n",
       " 'group_annual income']"
      ]
     },
     "execution_count": 59,
     "metadata": {},
     "output_type": "execute_result"
    }
   ],
   "source": [
    "best = ['ratio_loan_amount_to_monthly_debt', 'group_credit score', 'group_annual income', 'annual income', 'credit score', 'maximum open credit', 'ratio_loan_amount_to_number_of_open_accounts']\n",
    "# best = list(dict_f.keys())[:5]\n",
    "best = best[:3]\n",
    "best"
   ]
  },
  {
   "cell_type": "code",
   "execution_count": 60,
   "id": "4ef9ce68",
   "metadata": {},
   "outputs": [
    {
     "data": {
      "application/vnd.jupyter.widget-view+json": {
       "model_id": "f97f7030b54049dda853ed1222366a21",
       "version_major": 2,
       "version_minor": 0
      },
      "text/plain": [
       "  0%|          | 0/3 [00:00<?, ?it/s]"
      ]
     },
     "metadata": {},
     "output_type": "display_data"
    },
    {
     "name": "stdout",
     "output_type": "stream",
     "text": [
      "(7500, 465)\n",
      "test...\n"
     ]
    },
    {
     "data": {
      "application/vnd.jupyter.widget-view+json": {
       "model_id": "f3207f4441024876bc777e1cb08aeaba",
       "version_major": 2,
       "version_minor": 0
      },
      "text/plain": [
       "  0%|          | 0/3 [00:00<?, ?it/s]"
      ]
     },
     "metadata": {},
     "output_type": "display_data"
    },
    {
     "name": "stdout",
     "output_type": "stream",
     "text": [
      "(2500, 457)\n",
      "Wall time: 933 ms\n"
     ]
    }
   ],
   "source": [
    "%%time\n",
    "funk = 'mean'\n",
    "j = 0\n",
    "for feature in tqdm(best):\n",
    "\n",
    "    data_grouped = train.groupby(train[feature])\n",
    "    stats = data_grouped.agg(funk)\n",
    "\n",
    "    stats.columns = [f\"{j}_{i}_{funk}\".upper() for i in stats]\n",
    "    stats = stats.reset_index()\n",
    "    \n",
    "    train = train.merge(stats, how=\"left\", on=feature)\n",
    "    j += 1\n",
    "print(train.shape)\n",
    "print(\"test...\")\n",
    "j = 0\n",
    "for feature in tqdm(best):\n",
    "\n",
    "    data_grouped = test.groupby(test[feature])\n",
    "    stats = data_grouped.agg(funk)\n",
    "\n",
    "    stats.columns = [f\"{j}_{i}_{funk}\".upper() for i in stats]\n",
    "    stats = stats.reset_index()\n",
    "    \n",
    "    test = test.merge(stats, how=\"left\", on=feature)\n",
    "    j += 1\n",
    "print(test.shape)\n"
   ]
  },
  {
   "cell_type": "code",
   "execution_count": 61,
   "id": "f2527cbd",
   "metadata": {},
   "outputs": [],
   "source": [
    "cols1, cols2 = train.columns, test.columns"
   ]
  },
  {
   "cell_type": "code",
   "execution_count": 62,
   "id": "22211802",
   "metadata": {},
   "outputs": [
    {
     "name": "stdout",
     "output_type": "stream",
     "text": [
      "457\n"
     ]
    }
   ],
   "source": [
    "cols3 = [i for i in cols1 if i in cols2]\n",
    "target = train['target']\n",
    "print(len(cols3))"
   ]
  },
  {
   "cell_type": "code",
   "execution_count": 63,
   "id": "7a68776e",
   "metadata": {},
   "outputs": [],
   "source": [
    "train = train[cols3]\n",
    "test = test[cols3]\n",
    "train['target'] = target"
   ]
  },
  {
   "cell_type": "code",
   "execution_count": 64,
   "id": "cc76a3a3",
   "metadata": {},
   "outputs": [
    {
     "data": {
      "text/plain": [
       "((7500, 458), (2500, 457))"
      ]
     },
     "execution_count": 64,
     "metadata": {},
     "output_type": "execute_result"
    }
   ],
   "source": [
    "train.shape, test.shape"
   ]
  },
  {
   "cell_type": "code",
   "execution_count": 65,
   "id": "74261d8e",
   "metadata": {},
   "outputs": [],
   "source": [
    "train.to_csv(\"data/train_max_sign.csv\", index=False)\n",
    "test.to_csv(\"data/test_max_sign.csv\", index=False)"
   ]
  },
  {
   "cell_type": "code",
   "execution_count": 70,
   "id": "944aad0b",
   "metadata": {},
   "outputs": [],
   "source": []
  },
  {
   "cell_type": "code",
   "execution_count": 69,
   "id": "509a6e5d",
   "metadata": {},
   "outputs": [
    {
     "name": "stdout",
     "output_type": "stream",
     "text": [
      "[1, 2, 3, 4, 5]\n"
     ]
    }
   ],
   "source": [
    "a = [1,2,3,4,5,5,5,5]\n",
    "print(list(set(a)))"
   ]
  },
  {
   "cell_type": "code",
   "execution_count": 71,
   "id": "6ef47def",
   "metadata": {},
   "outputs": [
    {
     "name": "stdout",
     "output_type": "stream",
     "text": [
      "Fold 0 ==> CatBoost oof ROC-AUC score is ==> 0.7109752130063572\n",
      "Fold 1 ==> CatBoost oof ROC-AUC score is ==> 0.6693499459240827\n",
      "Fold 2 ==> CatBoost oof ROC-AUC score is ==> 0.6688355652472104\n",
      "Fold 3 ==> CatBoost oof ROC-AUC score is ==> 0.6568861064460252\n",
      "Fold 4 ==> CatBoost oof ROC-AUC score is ==> 0.6465809072444145\n",
      "Fold 5 ==> CatBoost oof ROC-AUC score is ==> 0.667907921462424\n"
     ]
    },
    {
     "ename": "KeyboardInterrupt",
     "evalue": "",
     "output_type": "error",
     "traceback": [
      "\u001b[1;31m---------------------------------------------------------------------------\u001b[0m",
      "\u001b[1;31mKeyboardInterrupt\u001b[0m                         Traceback (most recent call last)",
      "\u001b[1;32m<timed exec>\u001b[0m in \u001b[0;36m<module>\u001b[1;34m\u001b[0m\n",
      "\u001b[1;32mC:\\Temp/ipykernel_7016/2387036993.py\u001b[0m in \u001b[0;36mfit_kfold\u001b[1;34m(data, cat_features, threshold, fold, best_sign)\u001b[0m\n\u001b[0;32m     61\u001b[0m         \u001b[0mcat_preds\u001b[0m\u001b[1;33m.\u001b[0m\u001b[0mappend\u001b[0m\u001b[1;33m(\u001b[0m\u001b[0mcat_score\u001b[0m\u001b[1;33m)\u001b[0m\u001b[1;33m\u001b[0m\u001b[1;33m\u001b[0m\u001b[0m\n\u001b[0;32m     62\u001b[0m         \u001b[0mprint\u001b[0m\u001b[1;33m(\u001b[0m\u001b[1;34m'Fold'\u001b[0m\u001b[1;33m,\u001b[0m \u001b[0mi\u001b[0m\u001b[1;33m,\u001b[0m \u001b[1;34m'==> CatBoost oof ROC-AUC score is ==>'\u001b[0m\u001b[1;33m,\u001b[0m \u001b[0mcat_score\u001b[0m\u001b[1;33m)\u001b[0m\u001b[1;33m\u001b[0m\u001b[1;33m\u001b[0m\u001b[0m\n\u001b[1;32m---> 63\u001b[1;33m         \u001b[0mbad\u001b[0m\u001b[1;33m,\u001b[0m \u001b[0mdict_\u001b[0m \u001b[1;33m=\u001b[0m \u001b[0mshap_shap\u001b[0m\u001b[1;33m(\u001b[0m\u001b[0mX_train\u001b[0m\u001b[1;33m,\u001b[0m \u001b[0mCat_md\u001b[0m\u001b[1;33m)\u001b[0m\u001b[1;33m\u001b[0m\u001b[1;33m\u001b[0m\u001b[0m\n\u001b[0m\u001b[0;32m     64\u001b[0m \u001b[1;31m#         print(dict_)\u001b[0m\u001b[1;33m\u001b[0m\u001b[1;33m\u001b[0m\u001b[1;33m\u001b[0m\u001b[0m\n\u001b[0;32m     65\u001b[0m         \u001b[0mbad_features\u001b[0m\u001b[1;33m.\u001b[0m\u001b[0mappend\u001b[0m\u001b[1;33m(\u001b[0m\u001b[0mbad\u001b[0m\u001b[1;33m)\u001b[0m\u001b[1;33m\u001b[0m\u001b[1;33m\u001b[0m\u001b[0m\n",
      "\u001b[1;32mC:\\Temp/ipykernel_7016/3627884021.py\u001b[0m in \u001b[0;36mshap_shap\u001b[1;34m(X_train, model, shap_limit)\u001b[0m\n\u001b[0;32m      2\u001b[0m     \u001b[0mnp\u001b[0m\u001b[1;33m.\u001b[0m\u001b[0mrandom\u001b[0m\u001b[1;33m.\u001b[0m\u001b[0mseed\u001b[0m\u001b[1;33m(\u001b[0m\u001b[1;36m10\u001b[0m\u001b[1;33m)\u001b[0m\u001b[1;33m\u001b[0m\u001b[1;33m\u001b[0m\u001b[0m\n\u001b[0;32m      3\u001b[0m     \u001b[0mexplainer\u001b[0m \u001b[1;33m=\u001b[0m \u001b[0mshap\u001b[0m\u001b[1;33m.\u001b[0m\u001b[0mTreeExplainer\u001b[0m\u001b[1;33m(\u001b[0m\u001b[0mmodel\u001b[0m\u001b[1;33m)\u001b[0m\u001b[1;33m\u001b[0m\u001b[1;33m\u001b[0m\u001b[0m\n\u001b[1;32m----> 4\u001b[1;33m     \u001b[0mshap_values\u001b[0m \u001b[1;33m=\u001b[0m \u001b[0mexplainer\u001b[0m\u001b[1;33m.\u001b[0m\u001b[0mshap_values\u001b[0m\u001b[1;33m(\u001b[0m\u001b[0mX_train\u001b[0m\u001b[1;33m)\u001b[0m\u001b[1;33m\u001b[0m\u001b[1;33m\u001b[0m\u001b[0m\n\u001b[0m\u001b[0;32m      5\u001b[0m \u001b[1;33m\u001b[0m\u001b[0m\n\u001b[0;32m      6\u001b[0m     \u001b[1;31m# Суммированная важность признаков\u001b[0m\u001b[1;33m\u001b[0m\u001b[1;33m\u001b[0m\u001b[1;33m\u001b[0m\u001b[0m\n",
      "\u001b[1;32mc:\\program files\\python37\\lib\\site-packages\\shap\\explainers\\_tree.py\u001b[0m in \u001b[0;36mshap_values\u001b[1;34m(self, X, y, tree_limit, approximate, check_additivity, from_call)\u001b[0m\n\u001b[0;32m    366\u001b[0m                 \u001b[1;32mif\u001b[0m \u001b[0mtype\u001b[0m\u001b[1;33m(\u001b[0m\u001b[0mX\u001b[0m\u001b[1;33m)\u001b[0m \u001b[1;33m!=\u001b[0m \u001b[0mcatboost\u001b[0m\u001b[1;33m.\u001b[0m\u001b[0mPool\u001b[0m\u001b[1;33m:\u001b[0m\u001b[1;33m\u001b[0m\u001b[1;33m\u001b[0m\u001b[0m\n\u001b[0;32m    367\u001b[0m                     \u001b[0mX\u001b[0m \u001b[1;33m=\u001b[0m \u001b[0mcatboost\u001b[0m\u001b[1;33m.\u001b[0m\u001b[0mPool\u001b[0m\u001b[1;33m(\u001b[0m\u001b[0mX\u001b[0m\u001b[1;33m,\u001b[0m \u001b[0mcat_features\u001b[0m\u001b[1;33m=\u001b[0m\u001b[0mself\u001b[0m\u001b[1;33m.\u001b[0m\u001b[0mmodel\u001b[0m\u001b[1;33m.\u001b[0m\u001b[0mcat_feature_indices\u001b[0m\u001b[1;33m)\u001b[0m\u001b[1;33m\u001b[0m\u001b[1;33m\u001b[0m\u001b[0m\n\u001b[1;32m--> 368\u001b[1;33m                 \u001b[0mphi\u001b[0m \u001b[1;33m=\u001b[0m \u001b[0mself\u001b[0m\u001b[1;33m.\u001b[0m\u001b[0mmodel\u001b[0m\u001b[1;33m.\u001b[0m\u001b[0moriginal_model\u001b[0m\u001b[1;33m.\u001b[0m\u001b[0mget_feature_importance\u001b[0m\u001b[1;33m(\u001b[0m\u001b[0mdata\u001b[0m\u001b[1;33m=\u001b[0m\u001b[0mX\u001b[0m\u001b[1;33m,\u001b[0m \u001b[0mfstr_type\u001b[0m\u001b[1;33m=\u001b[0m\u001b[1;34m'ShapValues'\u001b[0m\u001b[1;33m)\u001b[0m\u001b[1;33m\u001b[0m\u001b[1;33m\u001b[0m\u001b[0m\n\u001b[0m\u001b[0;32m    369\u001b[0m \u001b[1;33m\u001b[0m\u001b[0m\n\u001b[0;32m    370\u001b[0m             \u001b[1;31m# note we pull off the last column and keep it as our expected_value\u001b[0m\u001b[1;33m\u001b[0m\u001b[1;33m\u001b[0m\u001b[1;33m\u001b[0m\u001b[0m\n",
      "\u001b[1;32mc:\\program files\\python37\\lib\\site-packages\\catboost\\core.py\u001b[0m in \u001b[0;36mget_feature_importance\u001b[1;34m(self, data, type, prettified, thread_count, verbose, fstr_type, shap_mode, model_output, interaction_indices, shap_calc_type, reference_data, sage_n_samples, sage_batch_size, sage_detect_convergence, log_cout, log_cerr)\u001b[0m\n\u001b[0;32m   3159\u001b[0m             \u001b[0mshap_calc_type\u001b[0m \u001b[1;33m=\u001b[0m \u001b[0menum_from_enum_or_str\u001b[0m\u001b[1;33m(\u001b[0m\u001b[0mEShapCalcType\u001b[0m\u001b[1;33m,\u001b[0m \u001b[0mshap_calc_type\u001b[0m\u001b[1;33m)\u001b[0m\u001b[1;33m.\u001b[0m\u001b[0mvalue\u001b[0m\u001b[1;33m\u001b[0m\u001b[1;33m\u001b[0m\u001b[0m\n\u001b[0;32m   3160\u001b[0m             fstr, feature_names = self._calc_fstr(type, data, reference_data, thread_count, verbose, model_output, shap_mode, interaction_indices,\n\u001b[1;32m-> 3161\u001b[1;33m                                                   shap_calc_type, sage_n_samples, sage_batch_size, sage_detect_convergence)\n\u001b[0m\u001b[0;32m   3162\u001b[0m         if type in (EFstrType.PredictionValuesChange, EFstrType.LossFunctionChange,\n\u001b[0;32m   3163\u001b[0m                     EFstrType.PredictionDiff, EFstrType.SageValues):\n",
      "\u001b[1;31mKeyboardInterrupt\u001b[0m: "
     ]
    }
   ],
   "source": [
    "%%time\n",
    "model = fit_kfold(train,threshold=0.4, fold=10, best_sign=5)"
   ]
  },
  {
   "cell_type": "code",
   "execution_count": 66,
   "id": "d3dd685a",
   "metadata": {},
   "outputs": [
    {
     "name": "stdout",
     "output_type": "stream",
     "text": [
      "Fold 0 ==> CatBoost oof ROC-AUC score is ==> 0.697733207888929\n",
      "Fold 1 ==> CatBoost oof ROC-AUC score is ==> 0.661159422838502\n",
      "Fold 2 ==> CatBoost oof ROC-AUC score is ==> 0.6659075521634763\n",
      "Fold 3 ==> CatBoost oof ROC-AUC score is ==> 0.6409710803752782\n",
      "Fold 4 ==> CatBoost oof ROC-AUC score is ==> 0.6915606397664624\n",
      "Fold 5 ==> CatBoost oof ROC-AUC score is ==> 0.696502211397269\n",
      "Fold 6 ==> CatBoost oof ROC-AUC score is ==> 0.6315847321263706\n",
      "Fold 7 ==> CatBoost oof ROC-AUC score is ==> 0.7078540366135933\n",
      "Fold 8 ==> CatBoost oof ROC-AUC score is ==> 0.6914147436347058\n",
      "Fold 9 ==> CatBoost oof ROC-AUC score is ==> 0.662753384302448\n"
     ]
    },
    {
     "name": "stderr",
     "output_type": "stream",
     "text": [
      "Creating an ndarray from ragged nested sequences (which is a list-or-tuple of lists-or-tuples-or ndarrays with different lengths or shapes) is deprecated. If you meant to do this, you must specify 'dtype=object' when creating the ndarray.\n"
     ]
    },
    {
     "ename": "TypeError",
     "evalue": "unhashable type: 'list'",
     "output_type": "error",
     "traceback": [
      "\u001b[1;31m---------------------------------------------------------------------------\u001b[0m",
      "\u001b[1;31mTypeError\u001b[0m                                 Traceback (most recent call last)",
      "\u001b[1;32m<timed exec>\u001b[0m in \u001b[0;36m<module>\u001b[1;34m\u001b[0m\n",
      "\u001b[1;32mC:\\Temp/ipykernel_7016/1826977645.py\u001b[0m in \u001b[0;36mfit_kfold\u001b[1;34m(data, cat_features, threshold, fold, best_sign)\u001b[0m\n\u001b[0;32m     48\u001b[0m         \u001b[0mbad_features\u001b[0m\u001b[1;33m.\u001b[0m\u001b[0mappend\u001b[0m\u001b[1;33m(\u001b[0m\u001b[0mbad\u001b[0m\u001b[1;33m)\u001b[0m\u001b[1;33m\u001b[0m\u001b[1;33m\u001b[0m\u001b[0m\n\u001b[0;32m     49\u001b[0m         \u001b[0mbest_features\u001b[0m\u001b[1;33m.\u001b[0m\u001b[0mappend\u001b[0m\u001b[1;33m(\u001b[0m\u001b[0mlist\u001b[0m\u001b[1;33m(\u001b[0m\u001b[0mdict_\u001b[0m\u001b[1;33m.\u001b[0m\u001b[0mkeys\u001b[0m\u001b[1;33m(\u001b[0m\u001b[1;33m)\u001b[0m\u001b[1;33m)\u001b[0m\u001b[1;33m[\u001b[0m\u001b[1;33m:\u001b[0m\u001b[0mbest_sign\u001b[0m\u001b[1;33m]\u001b[0m\u001b[1;33m)\u001b[0m\u001b[1;33m\u001b[0m\u001b[1;33m\u001b[0m\u001b[0m\n\u001b[1;32m---> 50\u001b[1;33m     \u001b[0mbad_features\u001b[0m \u001b[1;33m=\u001b[0m \u001b[0mset\u001b[0m\u001b[1;33m(\u001b[0m\u001b[0mlist\u001b[0m\u001b[1;33m(\u001b[0m\u001b[0mnp\u001b[0m\u001b[1;33m.\u001b[0m\u001b[0marray\u001b[0m\u001b[1;33m(\u001b[0m\u001b[0mbad_features\u001b[0m\u001b[1;33m)\u001b[0m\u001b[1;33m.\u001b[0m\u001b[0mflat\u001b[0m\u001b[1;33m)\u001b[0m\u001b[1;33m)\u001b[0m\u001b[1;33m\u001b[0m\u001b[1;33m\u001b[0m\u001b[0m\n\u001b[0m\u001b[0;32m     51\u001b[0m     \u001b[0mbest_features\u001b[0m \u001b[1;33m=\u001b[0m \u001b[0mset\u001b[0m\u001b[1;33m(\u001b[0m\u001b[0mlist\u001b[0m\u001b[1;33m(\u001b[0m\u001b[0mnp\u001b[0m\u001b[1;33m.\u001b[0m\u001b[0marray\u001b[0m\u001b[1;33m(\u001b[0m\u001b[0mbest_features\u001b[0m\u001b[1;33m)\u001b[0m\u001b[1;33m.\u001b[0m\u001b[0mflat\u001b[0m\u001b[1;33m)\u001b[0m\u001b[1;33m)\u001b[0m\u001b[1;33m\u001b[0m\u001b[1;33m\u001b[0m\u001b[0m\n\u001b[0;32m     52\u001b[0m     \u001b[0mprint\u001b[0m\u001b[1;33m(\u001b[0m\u001b[1;34mf'Средняя совокупность оценок ROC-AUC за {fold}-кратный период составляет'\u001b[0m\u001b[1;33m,\u001b[0m \u001b[0mnp\u001b[0m\u001b[1;33m.\u001b[0m\u001b[0mmean\u001b[0m\u001b[1;33m(\u001b[0m\u001b[0mcat_preds\u001b[0m\u001b[1;33m)\u001b[0m\u001b[1;33m)\u001b[0m\u001b[1;33m\u001b[0m\u001b[1;33m\u001b[0m\u001b[0m\n",
      "\u001b[1;31mTypeError\u001b[0m: unhashable type: 'list'"
     ]
    }
   ],
   "source": [
    "%%time\n",
    "model = fit_kfold(train,threshold=0.4, fold=10, best_sign=5)"
   ]
  },
  {
   "cell_type": "code",
   "execution_count": null,
   "id": "5a21d807",
   "metadata": {},
   "outputs": [],
   "source": [
    "subb(test, model)"
   ]
  },
  {
   "cell_type": "code",
   "execution_count": null,
   "id": "6b614b57",
   "metadata": {},
   "outputs": [],
   "source": [
    "def shap_shap(X_train, model, shap_limit=0):\n",
    "    np.random.seed(10)\n",
    "    explainer = shap.TreeExplainer(model)\n",
    "    shap_values = explainer.shap_values(X_train)\n",
    "    \n",
    "    # Суммированная важность признаков\n",
    "    shap.summary_plot(\n",
    "        shap_values, X_train, plot_type=\"bar\", max_display=50)\n",
    "    \n",
    "    shap_values_importance = pd.DataFrame({\n",
    "    \"importance\": np.abs(shap_values).mean(axis=0),\n",
    "    \"feature\": X_train.columns\n",
    "        })\n",
    "    shap_values_importance = shap_values_importance.sort_values(\n",
    "        by=\"importance\", ascending=False\n",
    "        )\n",
    "    shap_values_importance = shap_values_importance.reset_index(drop=True) \n",
    "    \n",
    "    \n",
    "#     print(shap_values_importance)\n",
    "    # Набор топ признаков\n",
    "    best_feature = shap_values_importance.feature.to_list()\n",
    "    dict_features = dict(zip(best_feature, shap_values_importance[\"importance\"]))\n",
    "    # Набор признаков для удаления\n",
    "    features_to_drop = shap_values_importance[shap_values_importance[\"importance\"] <= shap_limit]\n",
    "    features_to_drop = features_to_drop.feature.to_list()\n",
    "    \n",
    "    return features_to_drop, dict_features"
   ]
  },
  {
   "cell_type": "code",
   "execution_count": 15,
   "id": "b4fc4866",
   "metadata": {},
   "outputs": [
    {
     "data": {
      "image/png": "[encoded data removed]",
      "text/plain": [
       "<Figure size 576x1548 with 1 Axes>"
      ]
     },
     "metadata": {},
     "output_type": "display_data"
    }
   ],
   "source": [
    "bad_sign, dict_f = shap_shap(X_train, model)"
   ]
  },
  {
   "cell_type": "code",
   "execution_count": 18,
   "id": "fa28c974",
   "metadata": {},
   "outputs": [],
   "source": [
    "train.to_csv(\"data/train_new_all.csv\", index=False)\n",
    "test.to_csv(\"data/test_new_all.csv\", index=False)"
   ]
  },
  {
   "cell_type": "code",
   "execution_count": 19,
   "id": "fd9bbcfd",
   "metadata": {},
   "outputs": [],
   "source": [
    "import json\n",
    "with open('dict_features.json', 'w') as fp:\n",
    "    json.dump(dict_f, fp)"
   ]
  },
  {
   "cell_type": "code",
   "execution_count": 6,
   "id": "55497d9f",
   "metadata": {},
   "outputs": [
    {
     "data": {
      "text/plain": [
       "['sample_submission.csv',\n",
       " 'test.csv',\n",
       " 'test_new.csv',\n",
       " 'test_new.zip',\n",
       " 'test_new_1.csv',\n",
       " 'test_new_all.csv',\n",
       " 'train.csv',\n",
       " 'train_new.csv',\n",
       " 'train_new_1.csv',\n",
       " 'train_new_all.csv']"
      ]
     },
     "execution_count": 6,
     "metadata": {},
     "output_type": "execute_result"
    }
   ],
   "source": [
    "os.listdir(\"data\")"
   ]
  },
  {
   "cell_type": "code",
   "execution_count": 8,
   "id": "ac68faf4",
   "metadata": {},
   "outputs": [],
   "source": [
    "train = pd.read_csv(\"data/train_new_all.csv\")\n",
    "test = pd.read_csv(\"data/test_new_all.csv\")"
   ]
  },
  {
   "cell_type": "code",
   "execution_count": 9,
   "id": "1e464b0d",
   "metadata": {},
   "outputs": [
    {
     "data": {
      "text/plain": [
       "((159256, 2434), (106171, 2433))"
      ]
     },
     "execution_count": 9,
     "metadata": {},
     "output_type": "execute_result"
    }
   ],
   "source": [
    "train.shape, test.shape"
   ]
  },
  {
   "cell_type": "code",
   "execution_count": 11,
   "id": "8eb390a3",
   "metadata": {},
   "outputs": [],
   "source": [
    "dict_features = pd.read_json(\"dict_features.json\", orient='index')\n",
    "dict_features = dict_features.reset_index()\n",
    "dict_f = dict(zip(dict_features['index'], dict_features[0]))\n",
    "# dict_f"
   ]
  },
  {
   "cell_type": "code",
   "execution_count": 17,
   "id": "92f90141",
   "metadata": {},
   "outputs": [
    {
     "data": {
      "text/plain": [
       "False"
      ]
     },
     "execution_count": 17,
     "metadata": {},
     "output_type": "execute_result"
    }
   ],
   "source": [
    "dict_f.values() "
   ]
  },
  {
   "cell_type": "code",
   "execution_count": 22,
   "id": "bdbdde54",
   "metadata": {},
   "outputs": [],
   "source": [
    "features = [k for k, v in dict_f.items() if v != 0]"
   ]
  },
  {
   "cell_type": "code",
   "execution_count": 25,
   "id": "8bf50019",
   "metadata": {},
   "outputs": [],
   "source": [
    "t = train[features].copy()\n",
    "t['smoking'] = train['smoking']"
   ]
  },
  {
   "cell_type": "code",
   "execution_count": 26,
   "id": "2804342d",
   "metadata": {},
   "outputs": [
    {
     "data": {
      "text/plain": [
       "(159256, 1667)"
      ]
     },
     "execution_count": 26,
     "metadata": {},
     "output_type": "execute_result"
    }
   ],
   "source": [
    "t.shape"
   ]
  },
  {
   "cell_type": "code",
   "execution_count": 28,
   "id": "34337d54",
   "metadata": {},
   "outputs": [
    {
     "name": "stdout",
     "output_type": "stream",
     "text": [
      "x_train.shape: (101923, 1666) x_valid.shape:  (31852, 1666) y_train.shape:  (101923,) y_valid.shape:  (31852,) x_test.shape:  (25481, 1666) y_test.shape:  (25481,)\n",
      "0:\ttotal: 326ms\tremaining: 27m 10s\n",
      "500:\ttotal: 2m 15s\tremaining: 20m 15s\n",
      "1000:\ttotal: 4m 22s\tremaining: 17m 29s\n",
      "1500:\ttotal: 6m 28s\tremaining: 15m 5s\n",
      "2000:\ttotal: 8m 30s\tremaining: 12m 45s\n",
      "2500:\ttotal: 10m 32s\tremaining: 10m 32s\n",
      "3000:\ttotal: 12m 33s\tremaining: 8m 22s\n",
      "3500:\ttotal: 14m 36s\tremaining: 6m 15s\n",
      "4000:\ttotal: 16m 38s\tremaining: 4m 9s\n",
      "4500:\ttotal: 18m 40s\tremaining: 2m 4s\n",
      "4999:\ttotal: 20m 43s\tremaining: 0us\n",
      "roc_auc_score:  0.7833167239584812\n",
      "confusion_matrix:  [[13584  4199]\n",
      " [ 2775 11294]]\n",
      "accuracy_score:  0.7810498555820671\n",
      "test score:  0.78264\n",
      "Wall time: 21min 7s\n"
     ]
    }
   ],
   "source": [
    "%%time\n",
    "model, X_train = fit_score(t)"
   ]
  },
  {
   "cell_type": "markdown",
   "id": "5692a88e",
   "metadata": {},
   "source": [
    "0.78076"
   ]
  },
  {
   "cell_type": "code",
   "execution_count": 29,
   "id": "ff51a91a",
   "metadata": {},
   "outputs": [],
   "source": [
    "target = train['smoking']\n",
    "train = train[features]\n",
    "train['smoking'] = target\n",
    "test = test[features]"
   ]
  },
  {
   "cell_type": "code",
   "execution_count": 30,
   "id": "c1d84368",
   "metadata": {},
   "outputs": [
    {
     "data": {
      "text/plain": [
       "((159256, 1667), (106171, 1666))"
      ]
     },
     "execution_count": 30,
     "metadata": {},
     "output_type": "execute_result"
    }
   ],
   "source": [
    "train.shape, test.shape"
   ]
  },
  {
   "cell_type": "code",
   "execution_count": 31,
   "id": "27802c58",
   "metadata": {},
   "outputs": [],
   "source": [
    "train.to_csv(\"data/train_new_all.csv\", index=False)\n",
    "test.to_csv(\"data/test_new_all.csv\", index=False)"
   ]
  },
  {
   "cell_type": "code",
   "execution_count": null,
   "id": "eaa5f3dc",
   "metadata": {},
   "outputs": [],
   "source": [
    "bad, dict_features = shapr_shap(model, X_train)"
   ]
  },
  {
   "cell_type": "markdown",
   "id": "d7c1ca76",
   "metadata": {},
   "source": [
    "### test"
   ]
  },
  {
   "cell_type": "code",
   "execution_count": 16,
   "id": "13120eee",
   "metadata": {},
   "outputs": [],
   "source": [
    "def fit_score(X):\n",
    "    x_train, x_valid, y_train, y_valid, x_test, y_test = mc.train_split(X, \"smoking\")\n",
    "\n",
    "    params = {\n",
    "        \"n_estimators\": 5000,\n",
    "        \"learning_rate\": 0.01,\n",
    "        \"loss_function\": \"Logloss\",\n",
    "        \"eval_metric\": \"AUC\",\n",
    "        \"task_type\": \"CPU\",\n",
    "        #\"max_bin\": 20,\n",
    "        \"verbose\": 500,\n",
    "        \"max_depth\": 6,\n",
    "        \"l2_leaf_reg\": 10,\n",
    "        \"early_stopping_rounds\": 50,\n",
    "        \"thread_count\": 6,\n",
    "        \"random_seed\": 42\n",
    "        }\n",
    "    model, rocauc_score = mc.catboost_base(x_train, x_valid, y_train, y_valid, params=params)\n",
    "    pred = model.predict_proba(x_test)[:,1]\n",
    "    pred = np.where(pred > 0.5, 1, 0)\n",
    "    print(\"test score: \", round(roc_auc_score(pred, y_test), 5))\n",
    "    return model, x_train, rocauc_score"
   ]
  },
  {
   "cell_type": "code",
   "execution_count": 17,
   "id": "4ace29a5",
   "metadata": {},
   "outputs": [
    {
     "ename": "AttributeError",
     "evalue": "'list' object has no attribute 'reverce'",
     "output_type": "error",
     "traceback": [
      "\u001b[1;31m---------------------------------------------------------------------------\u001b[0m",
      "\u001b[1;31mAttributeError\u001b[0m                            Traceback (most recent call last)",
      "\u001b[1;32mC:\\Temp/ipykernel_12564/2334601782.py\u001b[0m in \u001b[0;36m<module>\u001b[1;34m\u001b[0m\n\u001b[0;32m      1\u001b[0m \u001b[0mdata_scoring\u001b[0m \u001b[1;33m=\u001b[0m \u001b[0mpd\u001b[0m\u001b[1;33m.\u001b[0m\u001b[0mDataFrame\u001b[0m\u001b[1;33m(\u001b[0m\u001b[0mcolumns\u001b[0m\u001b[1;33m=\u001b[0m\u001b[1;33m[\u001b[0m\u001b[1;34m\"del_sign\"\u001b[0m\u001b[1;33m,\u001b[0m \u001b[1;34m\"scoreAUC\"\u001b[0m\u001b[1;33m,\u001b[0m \u001b[1;34m\"check_best\"\u001b[0m\u001b[1;33m]\u001b[0m\u001b[1;33m)\u001b[0m\u001b[1;33m\u001b[0m\u001b[1;33m\u001b[0m\u001b[0m\n\u001b[0;32m      2\u001b[0m \u001b[0mcheck_cols\u001b[0m \u001b[1;33m=\u001b[0m \u001b[0mlist\u001b[0m\u001b[1;33m(\u001b[0m\u001b[0mdict_f\u001b[0m\u001b[1;33m.\u001b[0m\u001b[0mkeys\u001b[0m\u001b[1;33m(\u001b[0m\u001b[1;33m)\u001b[0m\u001b[1;33m)\u001b[0m\u001b[1;33m\u001b[0m\u001b[1;33m\u001b[0m\u001b[0m\n\u001b[1;32m----> 3\u001b[1;33m \u001b[0mcheck_cols\u001b[0m\u001b[1;33m.\u001b[0m\u001b[0mreverce\u001b[0m\u001b[1;33m(\u001b[0m\u001b[1;33m)\u001b[0m\u001b[1;33m\u001b[0m\u001b[1;33m\u001b[0m\u001b[0m\n\u001b[0m\u001b[0;32m      4\u001b[0m \u001b[0mall_sign_roc\u001b[0m \u001b[1;33m=\u001b[0m \u001b[1;36m0.77874\u001b[0m\u001b[1;33m\u001b[0m\u001b[1;33m\u001b[0m\u001b[0m\n\u001b[0;32m      5\u001b[0m \u001b[1;32mfor\u001b[0m \u001b[0mcol\u001b[0m \u001b[1;32min\u001b[0m \u001b[0mtqdm\u001b[0m\u001b[1;33m(\u001b[0m\u001b[0mrange\u001b[0m\u001b[1;33m(\u001b[0m\u001b[0mcheck_cols\u001b[0m\u001b[1;33m)\u001b[0m\u001b[1;33m)\u001b[0m\u001b[1;33m:\u001b[0m\u001b[1;33m\u001b[0m\u001b[1;33m\u001b[0m\u001b[0m\n",
      "\u001b[1;31mAttributeError\u001b[0m: 'list' object has no attribute 'reverce'"
     ]
    }
   ],
   "source": [
    "data_scoring = pd.DataFrame(columns=[\"del_sign\", \"scoreAUC\", \"check_best\"])\n",
    "check_cols = list(dict_f.keys())\n",
    "check_cols.reverse()\n",
    "all_sign_roc = 0.77874\n",
    "for col in tqdm(range(check_cols)):\n",
    "    t = train.copy()\n",
    "    t = t.drop(col, axis=1)\n",
    "    model, x_train, rocauc_score = fit_score(t)\n",
    "    d = dict()\n",
    "    d[\"del_sign\"] = col\n",
    "    d[\"scoreAUC\"] = rocauc_score\n",
    "    d[\"check_best\"] = 1 if rocauc_score > all_sign_roc else 0\n",
    "    if rocauc_score > all_sign_roc:\n",
    "        print(\"на признаке {}, auc: {}, он больше на {}\".format(col, rocauc_score, rocauc_score-all_sign_roc))\n",
    "    data_scoring  = data_scoring.append(d)\n",
    "        "
   ]
  },
  {
   "cell_type": "code",
   "execution_count": null,
   "id": "61f285b9",
   "metadata": {},
   "outputs": [],
   "source": [
    "data_scoring.to_csv(\"data/data_scoring.csv\")"
   ]
  },
  {
   "cell_type": "code",
   "execution_count": null,
   "id": "526eb62d",
   "metadata": {},
   "outputs": [],
   "source": []
  },
  {
   "cell_type": "markdown",
   "id": "7b6de6a2",
   "metadata": {},
   "source": [
    "## transformer"
   ]
  },
  {
   "cell_type": "code",
   "execution_count": 56,
   "id": "cc004719",
   "metadata": {},
   "outputs": [],
   "source": [
    "def transformer(train, test, cont_cols, target):\n",
    "    '''\n",
    "    Алгоритм применяет множественные преобразования к выбранным столбцам и \n",
    "    находит наилучшее преобразование, используя одну переменную производительности модели  \n",
    "    '''\n",
    "    train_copy = train.copy()\n",
    "    test_copy = test.copy()\n",
    "    for col in cont_cols:\n",
    "                \n",
    "        # Log Transformation after MinMax Scaling (keeps data between 0 and 1)\n",
    "        train_copy[\"log_\"+col] = np.log1p(train_copy[col])\n",
    "        test_copy[\"log_\"+col] = np.log1p(test_copy[col])\n",
    "        \n",
    "        # Square Root Transformation\n",
    "        train_copy[\"sqrt_\"+col] = np.sqrt(train_copy[col])\n",
    "        test_copy[\"sqrt_\"+col] = np.sqrt(test_copy[col])\n",
    "        \n",
    "        # Box-Cox transformation\n",
    "        epsilon = 1e-5\n",
    "        transformer = PowerTransformer(method='box-cox')\n",
    "\n",
    "        train_copy[\"bx_cx_\" + col] = transformer.fit_transform(train_copy[[col]] + epsilon)\n",
    "        test_copy[\"bx_cx_\" + col] = transformer.fit_transform(test_copy[[col]] + epsilon)\n",
    "        \n",
    "        # Yeo-Johnson transformation\n",
    "        transformer = PowerTransformer(method='yeo-johnson')\n",
    "        train_copy[\"y_J_\"+col] = transformer.fit_transform(train_copy[[col]])\n",
    "        test_copy[\"y_J_\"+col] = transformer.transform(test_copy[[col]])\n",
    "        \n",
    "        # Power transformation, 0.25\n",
    "        power_transform = lambda x: np.power(x + 1 - np.min(x), 0.25)\n",
    "        transformer = FunctionTransformer(power_transform)\n",
    "        train_copy[\"pow_\"+col] = transformer.fit_transform(train_copy[[col]])\n",
    "        test_copy[\"pow_\"+col] = transformer.transform(test_copy[[col]])\n",
    "        \n",
    "        # Power transformation, 2\n",
    "        power_transform = lambda x: np.power(x + 1 - np.min(x), 2)\n",
    "        transformer = FunctionTransformer(power_transform)\n",
    "        train_copy[\"pow2_\"+col] = transformer.fit_transform(train_copy[[col]])\n",
    "        test_copy[\"pow2_\"+col] = transformer.transform(test_copy[[col]])\n",
    "        \n",
    "        # Log to power transformation\n",
    "        train_copy[\"log_sqrt\"+col] = np.log1p(train_copy[\"sqrt_\"+col])\n",
    "        test_copy[\"log_sqrt\"+col] = np.log1p(test_copy[\"sqrt_\"+col])\n",
    "        \n",
    "        temp_cols = [col, \"log_\"+col, \"sqrt_\"+col, \"bx_cx_\"+col, \"y_J_\"+col,  \"pow_\"+col , \"pow2_\"+col,\"log_sqrt\"+col]\n",
    "        \n",
    "        pca = TruncatedSVD(n_components=1)\n",
    "        x_pca_train = pca.fit_transform(train_copy[temp_cols])\n",
    "        x_pca_test = pca.transform(test_copy[temp_cols])\n",
    "        x_pca_train = pd.DataFrame(x_pca_train, columns=[col+\"_pca_comb\"])\n",
    "        x_pca_test = pd.DataFrame(x_pca_test, columns=[col+\"_pca_comb\"])\n",
    "        temp_cols.append(col+\"_pca_comb\")\n",
    "        \n",
    "        test_copy = test_copy.reset_index(drop=True)\n",
    "        \n",
    "        train_copy = pd.concat([train_copy, x_pca_train], axis='columns')\n",
    "        test_copy = pd.concat([test_copy, x_pca_test], axis='columns')\n",
    "        \n",
    "    return train_copy, test_copy"
   ]
  },
  {
   "cell_type": "code",
   "execution_count": 57,
   "id": "4ea23e5f",
   "metadata": {},
   "outputs": [
    {
     "data": {
      "text/plain": [
       "((159256, 63), (106171, 62))"
      ]
     },
     "execution_count": 57,
     "metadata": {},
     "output_type": "execute_result"
    }
   ],
   "source": [
    "train.shape, test.shape"
   ]
  },
  {
   "cell_type": "code",
   "execution_count": 59,
   "id": "13857672",
   "metadata": {},
   "outputs": [
    {
     "name": "stderr",
     "output_type": "stream",
     "text": [
      "divide by zero encountered in log\n",
      "divide by zero encountered in log\n",
      "overflow encountered in power\n",
      "overflow encountered in multiply\n",
      "divide by zero encountered in log\n",
      "overflow encountered in power\n",
      "overflow encountered in multiply\n"
     ]
    }
   ],
   "source": [
    "train = mc.transformer(train, aggs, \"smoking\")\n",
    "test = mc.transformer(test, aggs, \"smoking\")"
   ]
  },
  {
   "cell_type": "code",
   "execution_count": 60,
   "id": "02d1594b",
   "metadata": {},
   "outputs": [
    {
     "data": {
      "text/plain": [
       "((159256, 103), (106171, 102))"
      ]
     },
     "execution_count": 60,
     "metadata": {},
     "output_type": "execute_result"
    }
   ],
   "source": [
    "train.shape, test.shape"
   ]
  },
  {
   "cell_type": "code",
   "execution_count": 61,
   "id": "a5e54c26",
   "metadata": {},
   "outputs": [
    {
     "name": "stdout",
     "output_type": "stream",
     "text": [
      "x_train.shape: (101923, 102) x_valid.shape:  (31852, 102) y_train.shape:  (101923,) y_valid.shape:  (31852,) x_test.shape:  (25481, 102) y_test.shape:  (25481,)\n",
      "0:\ttotal: 16.5ms\tremaining: 1m 22s\n",
      "500:\ttotal: 7.99s\tremaining: 1m 11s\n",
      "1000:\ttotal: 15.9s\tremaining: 1m 3s\n",
      "1500:\ttotal: 24.1s\tremaining: 56.2s\n",
      "2000:\ttotal: 32.4s\tremaining: 48.5s\n",
      "2500:\ttotal: 40.5s\tremaining: 40.5s\n",
      "3000:\ttotal: 48.8s\tremaining: 32.5s\n",
      "3500:\ttotal: 57.2s\tremaining: 24.5s\n",
      "4000:\ttotal: 1m 5s\tremaining: 16.4s\n",
      "4500:\ttotal: 1m 13s\tremaining: 8.2s\n",
      "4999:\ttotal: 1m 22s\tremaining: 0us\n",
      "roc_auc_score:  0.7842802689278111\n",
      "confusion_matrix:  [[13538  4300]\n",
      " [ 2668 11346]]\n",
      "accuracy_score:  0.7812382267989452\n",
      "test score:  0.77978\n"
     ]
    }
   ],
   "source": [
    "model, X_train = fit_score(train)"
   ]
  },
  {
   "cell_type": "code",
   "execution_count": 62,
   "id": "c0827a22",
   "metadata": {},
   "outputs": [
    {
     "data": {
      "image/png": "[encoded data removed]",
      "text/plain": [
       "<Figure size 576x1548 with 1 Axes>"
      ]
     },
     "metadata": {},
     "output_type": "display_data"
    }
   ],
   "source": [
    "bad_features, best_features = mc.shap(model, X_train)"
   ]
  },
  {
   "cell_type": "code",
   "execution_count": 63,
   "id": "a8a54351",
   "metadata": {},
   "outputs": [
    {
     "data": {
      "text/plain": [
       "['y_J_hearing(right)', 'bx_cx_hearing(left)', 'y_J_hearing(left)', 7]"
      ]
     },
     "execution_count": 63,
     "metadata": {},
     "output_type": "execute_result"
    }
   ],
   "source": [
    "bad_features"
   ]
  },
  {
   "cell_type": "code",
   "execution_count": null,
   "id": "fe0eca8e",
   "metadata": {},
   "outputs": [],
   "source": [
    "# train_t = train.copy()\n",
    "# test_t = test.copy()"
   ]
  },
  {
   "cell_type": "code",
   "execution_count": 64,
   "id": "a0b9d450",
   "metadata": {},
   "outputs": [],
   "source": [
    "train = train.drop(bad_features, axis=1)\n",
    "test = test.drop(bad_features, axis=1)"
   ]
  },
  {
   "cell_type": "code",
   "execution_count": 65,
   "id": "d78d49e8",
   "metadata": {},
   "outputs": [
    {
     "name": "stdout",
     "output_type": "stream",
     "text": [
      "x_train.shape: (101923, 98) x_valid.shape:  (31852, 98) y_train.shape:  (101923,) y_valid.shape:  (31852,) x_test.shape:  (25481, 98) y_test.shape:  (25481,)\n",
      "0:\ttotal: 19ms\tremaining: 1m 35s\n",
      "500:\ttotal: 8.44s\tremaining: 1m 15s\n",
      "1000:\ttotal: 16.9s\tremaining: 1m 7s\n",
      "1500:\ttotal: 25.7s\tremaining: 59.8s\n",
      "2000:\ttotal: 34.3s\tremaining: 51.5s\n",
      "2500:\ttotal: 42.9s\tremaining: 42.8s\n",
      "3000:\ttotal: 51.5s\tremaining: 34.3s\n",
      "3500:\ttotal: 1m\tremaining: 25.8s\n",
      "4000:\ttotal: 1m 9s\tremaining: 17.2s\n",
      "4500:\ttotal: 1m 17s\tremaining: 8.63s\n",
      "4999:\ttotal: 1m 26s\tremaining: 0us\n",
      "roc_auc_score:  0.7848842410612629\n",
      "confusion_matrix:  [[13543  4295]\n",
      " [ 2655 11359]]\n",
      "accuracy_score:  0.7818033404495793\n",
      "test score:  0.77963\n"
     ]
    }
   ],
   "source": [
    "model, X_train = fit_score(train)"
   ]
  },
  {
   "cell_type": "code",
   "execution_count": 66,
   "id": "9c53b942",
   "metadata": {},
   "outputs": [],
   "source": [
    "train.to_csv(\"data/train_new_1.csv\", index=False)\n",
    "test.to_csv(\"data/test_new_1.csv\", index=False)"
   ]
  },
  {
   "cell_type": "code",
   "execution_count": null,
   "id": "490a5455",
   "metadata": {},
   "outputs": [],
   "source": []
  }
 ],
 "metadata": {
  "kernelspec": {
   "display_name": "Python 3 (ipykernel)",
   "language": "python",
   "name": "python3"
  },
  "language_info": {
   "codemirror_mode": {
    "name": "ipython",
    "version": 3
   },
   "file_extension": ".py",
   "mimetype": "text/x-python",
   "name": "python",
   "nbconvert_exporter": "python",
   "pygments_lexer": "ipython3",
   "version": "3.11.0"
  }
 },
 "nbformat": 4,
 "nbformat_minor": 5
}
